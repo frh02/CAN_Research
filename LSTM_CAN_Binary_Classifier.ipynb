{
  "nbformat": 4,
  "nbformat_minor": 0,
  "metadata": {
    "colab": {
      "name": "LSTM_CAN_Binary_Classifier.ipynb",
      "provenance": [],
      "collapsed_sections": [],
      "toc_visible": true,
      "authorship_tag": "ABX9TyMRs9VefYgcTwRThqjy3//B",
      "include_colab_link": true
    },
    "kernelspec": {
      "name": "python3",
      "display_name": "Python 3"
    },
    "language_info": {
      "name": "python"
    },
    "accelerator": "GPU"
  },
  "cells": [
    {
      "cell_type": "markdown",
      "metadata": {
        "id": "view-in-github",
        "colab_type": "text"
      },
      "source": [
        "<a href=\"https://colab.research.google.com/github/frh02/CAN_Research/blob/main/LSTM_CAN_Binary_Classifier.ipynb\" target=\"_parent\"><img src=\"https://colab.research.google.com/assets/colab-badge.svg\" alt=\"Open In Colab\"/></a>"
      ]
    },
    {
      "cell_type": "markdown",
      "metadata": {
        "id": "J5LlNobKHy-O"
      },
      "source": [
        "# LSTM Model for Binary Classification"
      ]
    },
    {
      "cell_type": "markdown",
      "metadata": {
        "id": "vXjZBzQHICbs"
      },
      "source": [
        "## import libraries "
      ]
    },
    {
      "cell_type": "code",
      "metadata": {
        "id": "XoIiM1h-YNPi"
      },
      "source": [
        "import pandas as pd\n",
        "import tensorflow as tf\n",
        "import keras\n",
        "from sklearn.model_selection import train_test_split\n",
        "import keras.utils\n",
        "from sklearn.metrics import classification_report, confusion_matrix\n",
        "import itertools \n",
        "from keras import utils as np_utils\n",
        "import numpy as np\n",
        "import pandas as pd\n",
        "from tensorflow import keras\n",
        "from tensorflow.keras import layers\n",
        "from datetime import datetime\n",
        "from matplotlib import pyplot as plt\n",
        "from matplotlib import dates as md\n",
        "import pandas as pd\n",
        "import csv\n",
        "%matplotlib inline  \n",
        "from ast import literal_eval \n",
        "import array as array"
      ],
      "execution_count": 19,
      "outputs": []
    },
    {
      "cell_type": "markdown",
      "metadata": {
        "id": "Xmr90uqoIGTs"
      },
      "source": [
        "## load the data"
      ]
    },
    {
      "cell_type": "code",
      "metadata": {
        "colab": {
          "base_uri": "https://localhost:8080/"
        },
        "id": "c6rYE36KcmwL",
        "outputId": "14aac5af-3dbe-4015-dcb8-3e3b44fd1c68"
      },
      "source": [
        "df1 = pd.read_csv('/content/Train.csv')\n",
        "df2= pd.read_csv('/content/Test.csv')\n",
        "frames= [df1,df2]\n",
        "df = pd.concat(frames)\n",
        "df = df.fillna(-1)\n",
        "df.to_csv('input_train.csv')\n",
        "print(df)"
      ],
      "execution_count": 3,
      "outputs": [
        {
          "output_type": "stream",
          "text": [
            "       Unnamed: 0        Time   seconds   ID  Value  ...  D5  D6  D7  D8 Target\n",
            "0               0  Timestamp:  0.000000  ID:    790  ...  20  1a  00  7f      0\n",
            "1               1  Timestamp:  0.000224  ID:    809  ...  11  2f  00  10      0\n",
            "2               2  Timestamp:  0.000462  ID:    128  ...  20  1a  20  43      0\n",
            "3               3  Timestamp:  0.000704  ID:    129  ...  00  00  00  53      0\n",
            "4               4  Timestamp:  0.000878  ID:    288  ...  -1  -1  -1  -1      0\n",
            "...           ...         ...       ...  ...    ...  ...  ..  ..  ..  ..    ...\n",
            "19995       19995  Timestamp:  7.114431  ID:    848  ...  86   0   0  c8      1\n",
            "19996       19996  Timestamp:  7.114927  ID:    880  ...  ff   0   0  ec      1\n",
            "19997       19997  Timestamp:  7.115429  ID:    898  ...   0   0   0   4      1\n",
            "19998       19998  Timestamp:  7.116169  ID:      0  ...   0   0   0   0      1\n",
            "19999       19999  Timestamp:  7.116921  ID:   1201  ...   0   0   0   1      1\n",
            "\n",
            "[90000 rows x 17 columns]\n"
          ],
          "name": "stdout"
        }
      ]
    },
    {
      "cell_type": "markdown",
      "metadata": {
        "id": "bihLMaKSIKUH"
      },
      "source": [
        "## cleaning the data "
      ]
    },
    {
      "cell_type": "code",
      "metadata": {
        "colab": {
          "base_uri": "https://localhost:8080/"
        },
        "id": "CV0GY1goaQeL",
        "outputId": "630fdbd6-69bb-41b0-b695-a02f1d0089a4"
      },
      "source": [
        "properties = list(df.columns.values)\n",
        "properties.remove('Time')\n",
        "properties.remove('seconds')\n",
        "properties.remove('ID')\n",
        "properties.remove('DLC')\n",
        "properties.remove('App')\n",
        "properties.remove('Unnamed: 0')\n",
        "properties.remove('Target')\n",
        "df['D1']=df['D1'].apply(lambda x: int(str(x),16))\n",
        "df['D2']=df['D2'].apply(lambda x: int(str(x),16))\n",
        "df['D3']=df['D3'].apply(lambda x: int(str(x),16))\n",
        "df['D4']=df['D4'].apply(lambda x: int(str(x),16))\n",
        "df['D5']=df['D5'].apply(lambda x: int(str(x),16))\n",
        "df['D6']=df['D6'].apply(lambda x: int(str(x),16))\n",
        "df['D7']=df['D7'].apply(lambda x: int(str(x),16))\n",
        "df['D8']=df['D8'].apply(lambda x: int(str(x),16))\n",
        "X = df[properties]\n",
        "y = df['Target']\n",
        "print(y.shape)\n",
        "X = np.expand_dims(X, axis=2)\n",
        "y = np.expand_dims(y, axis=1)\n",
        "print(X.shape)\n",
        "print(y.shape)\n"
      ],
      "execution_count": 4,
      "outputs": [
        {
          "output_type": "stream",
          "text": [
            "(90000,)\n",
            "(90000, 10, 1)\n",
            "(90000, 1)\n"
          ],
          "name": "stdout"
        }
      ]
    },
    {
      "cell_type": "markdown",
      "metadata": {
        "id": "gkVG0i0kINjb"
      },
      "source": [
        "## 2D To 3D array conversion"
      ]
    },
    {
      "cell_type": "code",
      "metadata": {
        "colab": {
          "base_uri": "https://localhost:8080/"
        },
        "id": "TgfBc0iqvpJg",
        "outputId": "8606df0b-7e04-4b06-e81c-4ece874a5447"
      },
      "source": [
        "TIME_STEPS = 288\n",
        "def create_sequences(values, time_steps=TIME_STEPS):\n",
        "    output = []\n",
        "    for i in range(len(values) - time_steps):\n",
        "        output.append(values[i : (i + time_steps)])\n",
        "    # Convert 2D sequences into 3D as we will be feeding this into\n",
        "    # a convolutional layer.\n",
        "    return np.expand_dims(output, axis=2)\n",
        "\n",
        "training_value = df \n",
        "x_train = create_sequences(training_value)\n",
        "print(\"Training input shape: \", x_train.shape)\n",
        "X_train, X_test, y_train, y_test = train_test_split(X, y, test_size=0.3, random_state=0)"
      ],
      "execution_count": 5,
      "outputs": [
        {
          "output_type": "stream",
          "text": [
            "Training input shape:  (89712, 288, 1, 17)\n"
          ],
          "name": "stdout"
        }
      ]
    },
    {
      "cell_type": "markdown",
      "metadata": {
        "id": "K3I3BkymISSD"
      },
      "source": [
        "## creating the LSTM model "
      ]
    },
    {
      "cell_type": "code",
      "metadata": {
        "colab": {
          "base_uri": "https://localhost:8080/"
        },
        "id": "BxUWO5pOwCL5",
        "outputId": "0dc41e7a-6c36-4ccf-db44-19c04721def4"
      },
      "source": [
        "n_steps = X_train.shape[1]\n",
        "n_features = X_train.shape[2]\n",
        "\n",
        "keras.backend.clear_session()\n",
        "model = keras.Sequential(\n",
        "    [\n",
        "        layers.Input(shape=(n_steps, n_features)),\n",
        "        layers.Conv1D(filters=32, kernel_size=15, padding='same', data_format='channels_last',\n",
        "            dilation_rate=1, activation=\"linear\"),\n",
        "        layers.LSTM(\n",
        "            units=256, activation=\"tanh\", name=\"lstm_1\", return_sequences=False\n",
        "        ),\n",
        "        layers.RepeatVector(n_steps),\n",
        "        layers.LSTM(\n",
        "            units=128, activation=\"tanh\", name=\"lstm_2\", return_sequences=True\n",
        "        ),\n",
        "        layers.LSTM(\n",
        "            units=128, activation=\"tanh\", name=\"lstm_3\", return_sequences=True\n",
        "        ),\n",
        "        layers.LSTM(\n",
        "            units=64, activation=\"tanh\", name=\"lstm_4\", return_sequences=True\n",
        "        ),\n",
        "        layers.Conv1D(filters=32, kernel_size=15, padding='same', data_format='channels_last',\n",
        "            dilation_rate=1, activation=\"linear\"),\n",
        "\n",
        "        layers.TimeDistributed(layers.Dense(1, activation='linear'))\n",
        "    ]\n",
        ")\n",
        "model.compile(optimizer=keras.optimizers.Adam(learning_rate=0.001), loss=\"binary_crossentropy\",metrics=['accuracy'])\n",
        "model.summary()"
      ],
      "execution_count": 6,
      "outputs": [
        {
          "output_type": "stream",
          "text": [
            "Model: \"sequential\"\n",
            "_________________________________________________________________\n",
            "Layer (type)                 Output Shape              Param #   \n",
            "=================================================================\n",
            "conv1d (Conv1D)              (None, 10, 32)            512       \n",
            "_________________________________________________________________\n",
            "lstm_1 (LSTM)                (None, 256)               295936    \n",
            "_________________________________________________________________\n",
            "repeat_vector (RepeatVector) (None, 10, 256)           0         \n",
            "_________________________________________________________________\n",
            "lstm_2 (LSTM)                (None, 10, 128)           197120    \n",
            "_________________________________________________________________\n",
            "lstm_3 (LSTM)                (None, 10, 128)           131584    \n",
            "_________________________________________________________________\n",
            "lstm_4 (LSTM)                (None, 10, 64)            49408     \n",
            "_________________________________________________________________\n",
            "conv1d_1 (Conv1D)            (None, 10, 32)            30752     \n",
            "_________________________________________________________________\n",
            "time_distributed (TimeDistri (None, 10, 1)             33        \n",
            "=================================================================\n",
            "Total params: 705,345\n",
            "Trainable params: 705,345\n",
            "Non-trainable params: 0\n",
            "_________________________________________________________________\n"
          ],
          "name": "stdout"
        }
      ]
    },
    {
      "cell_type": "code",
      "metadata": {
        "colab": {
          "base_uri": "https://localhost:8080/"
        },
        "id": "8yf1RS6iwHGe",
        "outputId": "6847d5b9-371d-47ef-b92f-1fa9bcdff08a"
      },
      "source": [
        "history = model.fit(\n",
        "    X_train,\n",
        "    y_train,\n",
        "    epochs=100,\n",
        "    batch_size=128,\n",
        "    validation_split=0.1,\n",
        "    callbacks=[\n",
        "        keras.callbacks.EarlyStopping(monitor=\"val_loss\", patience=25, mode=\"min\", restore_best_weights=True)\n",
        "    ],\n",
        ")"
      ],
      "execution_count": null,
      "outputs": [
        {
          "output_type": "stream",
          "text": [
            "Epoch 1/100\n",
            "443/443 [==============================] - 10s 13ms/step - loss: 0.4004 - accuracy: 0.8829 - val_loss: 0.2024 - val_accuracy: 0.9366\n",
            "Epoch 2/100\n",
            "443/443 [==============================] - 4s 10ms/step - loss: 0.2275 - accuracy: 0.9363 - val_loss: 0.2162 - val_accuracy: 0.9419\n",
            "Epoch 3/100\n",
            "443/443 [==============================] - 4s 10ms/step - loss: 0.2744 - accuracy: 0.9282 - val_loss: 0.3070 - val_accuracy: 0.9267\n",
            "Epoch 4/100\n",
            "443/443 [==============================] - 5s 10ms/step - loss: 0.4706 - accuracy: 0.8908 - val_loss: 0.2945 - val_accuracy: 0.9025\n",
            "Epoch 5/100\n",
            "443/443 [==============================] - 4s 10ms/step - loss: 0.2704 - accuracy: 0.9114 - val_loss: 0.2892 - val_accuracy: 0.9142\n",
            "Epoch 6/100\n",
            "443/443 [==============================] - 4s 10ms/step - loss: 0.2385 - accuracy: 0.9246 - val_loss: 0.2826 - val_accuracy: 0.9083\n",
            "Epoch 7/100\n",
            "443/443 [==============================] - 5s 10ms/step - loss: 0.2605 - accuracy: 0.9143 - val_loss: 0.2639 - val_accuracy: 0.9129\n",
            "Epoch 8/100\n",
            "443/443 [==============================] - 5s 10ms/step - loss: 0.2236 - accuracy: 0.9223 - val_loss: 0.2816 - val_accuracy: 0.9249\n",
            "Epoch 9/100\n",
            "443/443 [==============================] - 4s 10ms/step - loss: 0.4468 - accuracy: 0.9216 - val_loss: 0.2356 - val_accuracy: 0.9260\n",
            "Epoch 10/100\n",
            "443/443 [==============================] - 4s 10ms/step - loss: 0.2924 - accuracy: 0.9282 - val_loss: 0.2553 - val_accuracy: 0.9132\n",
            "Epoch 11/100\n",
            "443/443 [==============================] - 5s 10ms/step - loss: 0.2290 - accuracy: 0.9231 - val_loss: 0.3471 - val_accuracy: 0.9257\n",
            "Epoch 12/100\n",
            "443/443 [==============================] - 5s 11ms/step - loss: 0.2421 - accuracy: 0.9330 - val_loss: 0.2319 - val_accuracy: 0.9245\n",
            "Epoch 13/100\n",
            "443/443 [==============================] - 4s 10ms/step - loss: 0.2271 - accuracy: 0.9252 - val_loss: 0.1950 - val_accuracy: 0.9333\n",
            "Epoch 14/100\n",
            "443/443 [==============================] - 5s 10ms/step - loss: 0.2156 - accuracy: 0.9326 - val_loss: 0.2144 - val_accuracy: 0.9301\n",
            "Epoch 15/100\n",
            "443/443 [==============================] - 5s 10ms/step - loss: 0.2246 - accuracy: 0.9325 - val_loss: 0.1981 - val_accuracy: 0.9358\n",
            "Epoch 16/100\n",
            "443/443 [==============================] - 5s 10ms/step - loss: 0.2175 - accuracy: 0.9350 - val_loss: 0.1773 - val_accuracy: 0.9446\n",
            "Epoch 17/100\n",
            "443/443 [==============================] - 4s 10ms/step - loss: 0.2686 - accuracy: 0.9379 - val_loss: 0.2689 - val_accuracy: 0.9325\n",
            "Epoch 18/100\n",
            "443/443 [==============================] - 5s 10ms/step - loss: 0.2801 - accuracy: 0.9373 - val_loss: 0.3359 - val_accuracy: 0.9361\n",
            "Epoch 19/100\n",
            "443/443 [==============================] - 4s 10ms/step - loss: 0.3148 - accuracy: 0.9205 - val_loss: 0.1967 - val_accuracy: 0.9360\n",
            "Epoch 20/100\n",
            "443/443 [==============================] - 4s 10ms/step - loss: 0.2274 - accuracy: 0.9374 - val_loss: 0.3432 - val_accuracy: 0.9265\n",
            "Epoch 21/100\n",
            "443/443 [==============================] - 4s 10ms/step - loss: 0.2178 - accuracy: 0.9393 - val_loss: 0.1881 - val_accuracy: 0.9397\n",
            "Epoch 22/100\n",
            "443/443 [==============================] - 5s 10ms/step - loss: 0.2159 - accuracy: 0.9329 - val_loss: 0.1846 - val_accuracy: 0.9315\n",
            "Epoch 23/100\n",
            "443/443 [==============================] - 5s 10ms/step - loss: 0.1866 - accuracy: 0.9415 - val_loss: 0.2878 - val_accuracy: 0.9377\n",
            "Epoch 24/100\n",
            "443/443 [==============================] - 4s 10ms/step - loss: 0.2913 - accuracy: 0.9390 - val_loss: 0.2548 - val_accuracy: 0.9421\n",
            "Epoch 25/100\n",
            "443/443 [==============================] - 5s 10ms/step - loss: 0.2755 - accuracy: 0.9404 - val_loss: 0.2391 - val_accuracy: 0.9442\n",
            "Epoch 26/100\n",
            "443/443 [==============================] - 5s 10ms/step - loss: 0.2256 - accuracy: 0.9473 - val_loss: 0.2288 - val_accuracy: 0.9451\n",
            "Epoch 27/100\n",
            "443/443 [==============================] - 4s 10ms/step - loss: 0.2345 - accuracy: 0.9458 - val_loss: 0.1859 - val_accuracy: 0.9411\n",
            "Epoch 28/100\n",
            "443/443 [==============================] - 4s 10ms/step - loss: 0.1625 - accuracy: 0.9501 - val_loss: 0.1536 - val_accuracy: 0.9489\n",
            "Epoch 29/100\n",
            "443/443 [==============================] - 4s 10ms/step - loss: 0.1823 - accuracy: 0.9434 - val_loss: 0.1638 - val_accuracy: 0.9454\n",
            "Epoch 30/100\n",
            "443/443 [==============================] - 5s 10ms/step - loss: 0.1904 - accuracy: 0.9476 - val_loss: 0.3294 - val_accuracy: 0.9288\n",
            "Epoch 31/100\n",
            "443/443 [==============================] - 4s 10ms/step - loss: 0.1842 - accuracy: 0.9474 - val_loss: 0.1819 - val_accuracy: 0.9411\n",
            "Epoch 32/100\n",
            "443/443 [==============================] - 4s 10ms/step - loss: 0.1622 - accuracy: 0.9496 - val_loss: 0.1550 - val_accuracy: 0.9492\n",
            "Epoch 33/100\n",
            "443/443 [==============================] - 4s 10ms/step - loss: 0.1593 - accuracy: 0.9502 - val_loss: 0.1625 - val_accuracy: 0.9448\n",
            "Epoch 34/100\n",
            "443/443 [==============================] - 4s 10ms/step - loss: 0.1692 - accuracy: 0.9470 - val_loss: 0.1676 - val_accuracy: 0.9461\n",
            "Epoch 35/100\n",
            "443/443 [==============================] - 4s 10ms/step - loss: 0.1846 - accuracy: 0.9433 - val_loss: 0.1828 - val_accuracy: 0.9469\n",
            "Epoch 36/100\n",
            "443/443 [==============================] - 4s 10ms/step - loss: 0.2046 - accuracy: 0.9375 - val_loss: 0.1787 - val_accuracy: 0.9437\n",
            "Epoch 37/100\n",
            "443/443 [==============================] - 5s 10ms/step - loss: 0.1835 - accuracy: 0.9476 - val_loss: 0.1648 - val_accuracy: 0.9480\n",
            "Epoch 38/100\n",
            "443/443 [==============================] - 4s 10ms/step - loss: 0.1817 - accuracy: 0.9442 - val_loss: 0.1810 - val_accuracy: 0.9400\n",
            "Epoch 39/100\n",
            "443/443 [==============================] - 4s 10ms/step - loss: 0.1846 - accuracy: 0.9452 - val_loss: 0.1617 - val_accuracy: 0.9479\n",
            "Epoch 40/100\n",
            "443/443 [==============================] - 4s 10ms/step - loss: 0.1735 - accuracy: 0.9475 - val_loss: 0.1637 - val_accuracy: 0.9465\n",
            "Epoch 41/100\n",
            "443/443 [==============================] - 4s 10ms/step - loss: 0.1659 - accuracy: 0.9490 - val_loss: 0.1731 - val_accuracy: 0.9459\n",
            "Epoch 42/100\n",
            "443/443 [==============================] - 4s 10ms/step - loss: 0.1620 - accuracy: 0.9508 - val_loss: 0.1523 - val_accuracy: 0.9510\n",
            "Epoch 43/100\n",
            "443/443 [==============================] - 4s 10ms/step - loss: 0.1469 - accuracy: 0.9554 - val_loss: 0.1936 - val_accuracy: 0.9384\n",
            "Epoch 44/100\n",
            "443/443 [==============================] - 4s 10ms/step - loss: 0.1778 - accuracy: 0.9452 - val_loss: 0.2122 - val_accuracy: 0.9376\n",
            "Epoch 45/100\n",
            "443/443 [==============================] - 5s 10ms/step - loss: 0.2093 - accuracy: 0.9430 - val_loss: 0.1583 - val_accuracy: 0.9478\n",
            "Epoch 46/100\n",
            "443/443 [==============================] - 4s 10ms/step - loss: 0.1644 - accuracy: 0.9501 - val_loss: 0.1817 - val_accuracy: 0.9453\n",
            "Epoch 47/100\n",
            "443/443 [==============================] - 4s 10ms/step - loss: 0.3382 - accuracy: 0.9355 - val_loss: 0.1565 - val_accuracy: 0.9499\n",
            "Epoch 48/100\n",
            "443/443 [==============================] - 4s 10ms/step - loss: 0.1524 - accuracy: 0.9523 - val_loss: 0.1440 - val_accuracy: 0.9534\n",
            "Epoch 49/100\n",
            "443/443 [==============================] - 4s 10ms/step - loss: 0.1391 - accuracy: 0.9571 - val_loss: 0.1430 - val_accuracy: 0.9533\n",
            "Epoch 50/100\n",
            "443/443 [==============================] - 5s 10ms/step - loss: 0.1925 - accuracy: 0.9470 - val_loss: 0.3447 - val_accuracy: 0.9330\n",
            "Epoch 51/100\n",
            "443/443 [==============================] - 5s 10ms/step - loss: 0.3068 - accuracy: 0.9431 - val_loss: 0.3301 - val_accuracy: 0.9379\n",
            "Epoch 52/100\n",
            "443/443 [==============================] - 5s 10ms/step - loss: 0.3107 - accuracy: 0.9421 - val_loss: 0.2778 - val_accuracy: 0.9435\n",
            "Epoch 53/100\n",
            "443/443 [==============================] - 5s 10ms/step - loss: 0.2292 - accuracy: 0.9494 - val_loss: 0.2708 - val_accuracy: 0.9391\n",
            "Epoch 54/100\n",
            "443/443 [==============================] - 4s 10ms/step - loss: 0.2376 - accuracy: 0.9485 - val_loss: 0.3088 - val_accuracy: 0.9397\n",
            "Epoch 55/100\n",
            "443/443 [==============================] - 4s 10ms/step - loss: 0.2263 - accuracy: 0.9504 - val_loss: 0.2084 - val_accuracy: 0.9456\n",
            "Epoch 56/100\n",
            "443/443 [==============================] - 4s 10ms/step - loss: 0.2178 - accuracy: 0.9481 - val_loss: 0.2310 - val_accuracy: 0.9262\n",
            "Epoch 57/100\n",
            "443/443 [==============================] - 4s 10ms/step - loss: 0.2123 - accuracy: 0.9348 - val_loss: 0.2325 - val_accuracy: 0.9400\n",
            "Epoch 58/100\n",
            "443/443 [==============================] - 4s 10ms/step - loss: 0.3304 - accuracy: 0.9382 - val_loss: 0.4339 - val_accuracy: 0.9208\n",
            "Epoch 59/100\n",
            "443/443 [==============================] - 4s 10ms/step - loss: 0.4252 - accuracy: 0.9298 - val_loss: 0.4053 - val_accuracy: 0.9357\n",
            "Epoch 60/100\n",
            "443/443 [==============================] - 5s 10ms/step - loss: 0.3908 - accuracy: 0.9417 - val_loss: 0.3978 - val_accuracy: 0.9376\n",
            "Epoch 61/100\n",
            "443/443 [==============================] - 5s 10ms/step - loss: 0.4149 - accuracy: 0.9387 - val_loss: 0.4058 - val_accuracy: 0.9356\n",
            "Epoch 62/100\n",
            "443/443 [==============================] - 4s 10ms/step - loss: 0.4017 - accuracy: 0.9406 - val_loss: 0.4222 - val_accuracy: 0.9324\n",
            "Epoch 63/100\n",
            "443/443 [==============================] - 5s 10ms/step - loss: 0.4198 - accuracy: 0.9367 - val_loss: 0.3982 - val_accuracy: 0.9363\n",
            "Epoch 64/100\n",
            "443/443 [==============================] - 5s 10ms/step - loss: 0.4020 - accuracy: 0.9401 - val_loss: 0.2648 - val_accuracy: 0.9449\n",
            "Epoch 65/100\n",
            "443/443 [==============================] - 5s 10ms/step - loss: 0.2572 - accuracy: 0.9491 - val_loss: 0.2553 - val_accuracy: 0.9447\n",
            "Epoch 66/100\n",
            "443/443 [==============================] - 5s 10ms/step - loss: 0.3123 - accuracy: 0.9400 - val_loss: 0.2573 - val_accuracy: 0.9449\n",
            "Epoch 67/100\n",
            "443/443 [==============================] - 5s 10ms/step - loss: 0.3430 - accuracy: 0.9417 - val_loss: 0.2763 - val_accuracy: 0.9397\n",
            "Epoch 68/100\n",
            "443/443 [==============================] - 5s 10ms/step - loss: 0.2654 - accuracy: 0.9445 - val_loss: 0.5236 - val_accuracy: 0.9070\n",
            "Epoch 69/100\n",
            "443/443 [==============================] - 4s 10ms/step - loss: 0.2646 - accuracy: 0.9424 - val_loss: 0.2037 - val_accuracy: 0.9503\n",
            "Epoch 70/100\n",
            "443/443 [==============================] - 4s 10ms/step - loss: 0.2262 - accuracy: 0.9420 - val_loss: 0.4011 - val_accuracy: 0.9145\n",
            "Epoch 71/100\n",
            "443/443 [==============================] - 4s 10ms/step - loss: 0.3857 - accuracy: 0.9318 - val_loss: 0.2217 - val_accuracy: 0.9332\n",
            "Epoch 72/100\n",
            "443/443 [==============================] - 5s 10ms/step - loss: 0.2057 - accuracy: 0.9471 - val_loss: 0.2099 - val_accuracy: 0.9510\n",
            "Epoch 73/100\n",
            "443/443 [==============================] - 4s 10ms/step - loss: 0.2147 - accuracy: 0.9515 - val_loss: 0.1818 - val_accuracy: 0.9517\n",
            "Epoch 74/100\n",
            "443/443 [==============================] - 5s 10ms/step - loss: 0.1825 - accuracy: 0.9534 - val_loss: 0.1807 - val_accuracy: 0.9519\n"
          ],
          "name": "stdout"
        }
      ]
    },
    {
      "cell_type": "code",
      "metadata": {
        "id": "lGueWsYJcTDx"
      },
      "source": [
        "X_train, X_test, y_train, y_test = train_test_split(X, y, test_size=0.3, random_state=0)"
      ],
      "execution_count": null,
      "outputs": []
    },
    {
      "cell_type": "code",
      "metadata": {
        "colab": {
          "base_uri": "https://localhost:8080/",
          "height": 265
        },
        "id": "tJOWHqHEvnSN",
        "outputId": "189a3950-9204-4e43-8e9b-28acb169de90"
      },
      "source": [
        "plt.plot(history.history[\"loss\"], label=\"Training Loss\")\n",
        "plt.plot(history.history[\"val_loss\"], label=\"Validation Loss\")\n",
        "plt.legend()\n",
        "plt.show()"
      ],
      "execution_count": null,
      "outputs": [
        {
          "output_type": "display_data",
          "data": {
            "image/png": "[encoded data removed]",
            "text/plain": [
              "<Figure size 432x288 with 1 Axes>"
            ]
          },
          "metadata": {
            "tags": [],
            "needs_background": "light"
          }
        }
      ]
    },
    {
      "cell_type": "code",
      "metadata": {
        "colab": {
          "base_uri": "https://localhost:8080/",
          "height": 265
        },
        "id": "YnbUifM9Gnr9",
        "outputId": "b50b1b53-364c-48f3-ad95-b0be3d2419fd"
      },
      "source": [
        "plt.plot(history.history[\"accuracy\"],label=\"Training Accuracy\")\n",
        "plt.plot(history.history[\"val_accuracy\"],label=\"Testing Accuracy\")\n",
        "plt.legend()\n",
        "plt.show()"
      ],
      "execution_count": null,
      "outputs": [
        {
          "output_type": "display_data",
          "data": {
            "image/png": "[encoded data removed]",
            "text/plain": [
              "<Figure size 432x288 with 1 Axes>"
            ]
          },
          "metadata": {
            "tags": [],
            "needs_background": "light"
          }
        }
      ]
    },
    {
      "cell_type": "markdown",
      "metadata": {
        "id": "BSkRbSaEIX7v"
      },
      "source": [
        "## Using DNN model for same data "
      ]
    },
    {
      "cell_type": "code",
      "metadata": {
        "id": "tbYGZ4GF-Lea"
      },
      "source": [
        "model = keras.Sequential([\n",
        "    keras.layers.Flatten(input_shape=(10,)),\n",
        "    keras.layers.Dense(256, activation=tf.nn.relu),\n",
        "\t  keras.layers.Dense(256, activation=tf.nn.relu),\n",
        "    keras.layers.Dense(128, activation=tf.nn.relu),\n",
        "    keras.layers.Dense(64, activation=tf.nn.relu),\n",
        "    keras.layers.Dense(1, activation=tf.nn.sigmoid),\n",
        "])"
      ],
      "execution_count": 7,
      "outputs": []
    },
    {
      "cell_type": "code",
      "metadata": {
        "colab": {
          "base_uri": "https://localhost:8080/"
        },
        "id": "_uTlH7rZc8ot",
        "outputId": "81efdb82-2010-4431-bee6-d1262be0b925"
      },
      "source": [
        "model.compile(optimizer=keras.optimizers.Adam(learning_rate=0.001),\n",
        "              \n",
        "              loss='binary_crossentropy',\n",
        "              metrics=['accuracy'],\n",
        "              )\n",
        "\n",
        "history = model.fit(X_train, y_train, epochs=100, batch_size=128, validation_split=0.2)\n",
        "test_loss, test_acc = model.evaluate(X_test, y_test)"
      ],
      "execution_count": 8,
      "outputs": [
        {
          "output_type": "stream",
          "text": [
            "Epoch 1/100\n",
            "394/394 [==============================] - 5s 5ms/step - loss: 0.7256 - accuracy: 0.8620 - val_loss: 0.2653 - val_accuracy: 0.9149\n",
            "Epoch 2/100\n",
            "394/394 [==============================] - 2s 4ms/step - loss: 0.2492 - accuracy: 0.9222 - val_loss: 0.2411 - val_accuracy: 0.9227\n",
            "Epoch 3/100\n",
            "394/394 [==============================] - 2s 4ms/step - loss: 0.2176 - accuracy: 0.9304 - val_loss: 0.1976 - val_accuracy: 0.9361\n",
            "Epoch 4/100\n",
            "394/394 [==============================] - 2s 4ms/step - loss: 0.1990 - accuracy: 0.9397 - val_loss: 0.2157 - val_accuracy: 0.9352\n",
            "Epoch 5/100\n",
            "394/394 [==============================] - 2s 4ms/step - loss: 0.1811 - accuracy: 0.9433 - val_loss: 0.1886 - val_accuracy: 0.9433\n",
            "Epoch 6/100\n",
            "394/394 [==============================] - 2s 4ms/step - loss: 0.1712 - accuracy: 0.9469 - val_loss: 0.1907 - val_accuracy: 0.9418\n",
            "Epoch 7/100\n",
            "394/394 [==============================] - 2s 4ms/step - loss: 0.1672 - accuracy: 0.9482 - val_loss: 0.1778 - val_accuracy: 0.9434\n",
            "Epoch 8/100\n",
            "394/394 [==============================] - 2s 4ms/step - loss: 0.1630 - accuracy: 0.9485 - val_loss: 0.1850 - val_accuracy: 0.9373\n",
            "Epoch 9/100\n",
            "394/394 [==============================] - 2s 4ms/step - loss: 0.1768 - accuracy: 0.9454 - val_loss: 0.1651 - val_accuracy: 0.9463\n",
            "Epoch 10/100\n",
            "394/394 [==============================] - 2s 4ms/step - loss: 0.1536 - accuracy: 0.9511 - val_loss: 0.1659 - val_accuracy: 0.9457\n",
            "Epoch 11/100\n",
            "394/394 [==============================] - 2s 4ms/step - loss: 0.1532 - accuracy: 0.9509 - val_loss: 0.1628 - val_accuracy: 0.9458\n",
            "Epoch 12/100\n",
            "394/394 [==============================] - 2s 4ms/step - loss: 0.1521 - accuracy: 0.9513 - val_loss: 0.1700 - val_accuracy: 0.9431\n",
            "Epoch 13/100\n",
            "394/394 [==============================] - 2s 4ms/step - loss: 0.1591 - accuracy: 0.9482 - val_loss: 0.1530 - val_accuracy: 0.9479\n",
            "Epoch 14/100\n",
            "394/394 [==============================] - 2s 4ms/step - loss: 0.1417 - accuracy: 0.9544 - val_loss: 0.1523 - val_accuracy: 0.9488\n",
            "Epoch 15/100\n",
            "394/394 [==============================] - 2s 4ms/step - loss: 0.1462 - accuracy: 0.9517 - val_loss: 0.1659 - val_accuracy: 0.9448\n",
            "Epoch 16/100\n",
            "394/394 [==============================] - 2s 4ms/step - loss: 0.1496 - accuracy: 0.9508 - val_loss: 0.1531 - val_accuracy: 0.9488\n",
            "Epoch 17/100\n",
            "394/394 [==============================] - 2s 4ms/step - loss: 0.1481 - accuracy: 0.9514 - val_loss: 0.1507 - val_accuracy: 0.9479\n",
            "Epoch 18/100\n",
            "394/394 [==============================] - 2s 4ms/step - loss: 0.1449 - accuracy: 0.9528 - val_loss: 0.1694 - val_accuracy: 0.9356\n",
            "Epoch 19/100\n",
            "394/394 [==============================] - 2s 4ms/step - loss: 0.1517 - accuracy: 0.9489 - val_loss: 0.1523 - val_accuracy: 0.9488\n",
            "Epoch 20/100\n",
            "394/394 [==============================] - 2s 4ms/step - loss: 0.1482 - accuracy: 0.9509 - val_loss: 0.1522 - val_accuracy: 0.9489\n",
            "Epoch 21/100\n",
            "394/394 [==============================] - 2s 4ms/step - loss: 0.1398 - accuracy: 0.9535 - val_loss: 0.1563 - val_accuracy: 0.9466\n",
            "Epoch 22/100\n",
            "394/394 [==============================] - 2s 4ms/step - loss: 0.1449 - accuracy: 0.9520 - val_loss: 0.1503 - val_accuracy: 0.9480\n",
            "Epoch 23/100\n",
            "394/394 [==============================] - 2s 4ms/step - loss: 0.1444 - accuracy: 0.9531 - val_loss: 0.1472 - val_accuracy: 0.9489\n",
            "Epoch 24/100\n",
            "394/394 [==============================] - 2s 4ms/step - loss: 0.1453 - accuracy: 0.9516 - val_loss: 0.1746 - val_accuracy: 0.9389\n",
            "Epoch 25/100\n",
            "394/394 [==============================] - 2s 4ms/step - loss: 0.1503 - accuracy: 0.9505 - val_loss: 0.1490 - val_accuracy: 0.9488\n",
            "Epoch 26/100\n",
            "394/394 [==============================] - 2s 4ms/step - loss: 0.1463 - accuracy: 0.9519 - val_loss: 0.1501 - val_accuracy: 0.9489\n",
            "Epoch 27/100\n",
            "394/394 [==============================] - 2s 4ms/step - loss: 0.1386 - accuracy: 0.9538 - val_loss: 0.1555 - val_accuracy: 0.9464\n",
            "Epoch 28/100\n",
            "394/394 [==============================] - 2s 4ms/step - loss: 0.1420 - accuracy: 0.9523 - val_loss: 0.1487 - val_accuracy: 0.9484\n",
            "Epoch 29/100\n",
            "394/394 [==============================] - 2s 4ms/step - loss: 0.1451 - accuracy: 0.9514 - val_loss: 0.1525 - val_accuracy: 0.9490\n",
            "Epoch 30/100\n",
            "394/394 [==============================] - 2s 4ms/step - loss: 0.1389 - accuracy: 0.9536 - val_loss: 0.1468 - val_accuracy: 0.9494\n",
            "Epoch 31/100\n",
            "394/394 [==============================] - 2s 4ms/step - loss: 0.1391 - accuracy: 0.9543 - val_loss: 0.1762 - val_accuracy: 0.9398\n",
            "Epoch 32/100\n",
            "394/394 [==============================] - 2s 4ms/step - loss: 0.1525 - accuracy: 0.9497 - val_loss: 0.1490 - val_accuracy: 0.9490\n",
            "Epoch 33/100\n",
            "394/394 [==============================] - 2s 4ms/step - loss: 0.1411 - accuracy: 0.9528 - val_loss: 0.1528 - val_accuracy: 0.9491\n",
            "Epoch 34/100\n",
            "394/394 [==============================] - 2s 4ms/step - loss: 0.1393 - accuracy: 0.9538 - val_loss: 0.1507 - val_accuracy: 0.9483\n",
            "Epoch 35/100\n",
            "394/394 [==============================] - 2s 4ms/step - loss: 0.1469 - accuracy: 0.9522 - val_loss: 0.1451 - val_accuracy: 0.9490\n",
            "Epoch 36/100\n",
            "394/394 [==============================] - 2s 4ms/step - loss: 0.1389 - accuracy: 0.9531 - val_loss: 0.1471 - val_accuracy: 0.9494\n",
            "Epoch 37/100\n",
            "394/394 [==============================] - 2s 4ms/step - loss: 0.1386 - accuracy: 0.9533 - val_loss: 0.1452 - val_accuracy: 0.9494\n",
            "Epoch 38/100\n",
            "394/394 [==============================] - 2s 4ms/step - loss: 0.1393 - accuracy: 0.9532 - val_loss: 0.1447 - val_accuracy: 0.9494\n",
            "Epoch 39/100\n",
            "394/394 [==============================] - 2s 4ms/step - loss: 0.1355 - accuracy: 0.9551 - val_loss: 0.1568 - val_accuracy: 0.9471\n",
            "Epoch 40/100\n",
            "394/394 [==============================] - 2s 4ms/step - loss: 0.1459 - accuracy: 0.9509 - val_loss: 0.1570 - val_accuracy: 0.9436\n",
            "Epoch 41/100\n",
            "394/394 [==============================] - 2s 4ms/step - loss: 0.1468 - accuracy: 0.9512 - val_loss: 0.1481 - val_accuracy: 0.9484\n",
            "Epoch 42/100\n",
            "394/394 [==============================] - 2s 4ms/step - loss: 0.1389 - accuracy: 0.9532 - val_loss: 0.1450 - val_accuracy: 0.9494\n",
            "Epoch 43/100\n",
            "394/394 [==============================] - 2s 4ms/step - loss: 0.1375 - accuracy: 0.9532 - val_loss: 0.1460 - val_accuracy: 0.9494\n",
            "Epoch 44/100\n",
            "394/394 [==============================] - 2s 4ms/step - loss: 0.1373 - accuracy: 0.9537 - val_loss: 0.1446 - val_accuracy: 0.9495\n",
            "Epoch 45/100\n",
            "394/394 [==============================] - 2s 4ms/step - loss: 0.1349 - accuracy: 0.9549 - val_loss: 0.1458 - val_accuracy: 0.9491\n",
            "Epoch 46/100\n",
            "394/394 [==============================] - 2s 4ms/step - loss: 0.1390 - accuracy: 0.9538 - val_loss: 0.1624 - val_accuracy: 0.9434\n",
            "Epoch 47/100\n",
            "394/394 [==============================] - 2s 4ms/step - loss: 0.1385 - accuracy: 0.9536 - val_loss: 0.1566 - val_accuracy: 0.9475\n",
            "Epoch 48/100\n",
            "394/394 [==============================] - 2s 4ms/step - loss: 0.1401 - accuracy: 0.9535 - val_loss: 0.1435 - val_accuracy: 0.9494\n",
            "Epoch 49/100\n",
            "394/394 [==============================] - 2s 4ms/step - loss: 0.1341 - accuracy: 0.9551 - val_loss: 0.1473 - val_accuracy: 0.9495\n",
            "Epoch 50/100\n",
            "394/394 [==============================] - 2s 4ms/step - loss: 0.1384 - accuracy: 0.9531 - val_loss: 0.1437 - val_accuracy: 0.9494\n",
            "Epoch 51/100\n",
            "394/394 [==============================] - 2s 4ms/step - loss: 0.1478 - accuracy: 0.9515 - val_loss: 0.1447 - val_accuracy: 0.9496\n",
            "Epoch 52/100\n",
            "394/394 [==============================] - 2s 4ms/step - loss: 0.1419 - accuracy: 0.9523 - val_loss: 0.1439 - val_accuracy: 0.9496\n",
            "Epoch 53/100\n",
            "394/394 [==============================] - 2s 4ms/step - loss: 0.1336 - accuracy: 0.9547 - val_loss: 0.1442 - val_accuracy: 0.9495\n",
            "Epoch 54/100\n",
            "394/394 [==============================] - 2s 4ms/step - loss: 0.1360 - accuracy: 0.9541 - val_loss: 0.1447 - val_accuracy: 0.9496\n",
            "Epoch 55/100\n",
            "394/394 [==============================] - 2s 4ms/step - loss: 0.1393 - accuracy: 0.9534 - val_loss: 0.1447 - val_accuracy: 0.9494\n",
            "Epoch 56/100\n",
            "394/394 [==============================] - 2s 4ms/step - loss: 0.1381 - accuracy: 0.9543 - val_loss: 0.1579 - val_accuracy: 0.9432\n",
            "Epoch 57/100\n",
            "394/394 [==============================] - 2s 4ms/step - loss: 0.1414 - accuracy: 0.9522 - val_loss: 0.1443 - val_accuracy: 0.9495\n",
            "Epoch 58/100\n",
            "394/394 [==============================] - 2s 4ms/step - loss: 0.1435 - accuracy: 0.9513 - val_loss: 0.1481 - val_accuracy: 0.9483\n",
            "Epoch 59/100\n",
            "394/394 [==============================] - 2s 4ms/step - loss: 0.1351 - accuracy: 0.9550 - val_loss: 0.1461 - val_accuracy: 0.9486\n",
            "Epoch 60/100\n",
            "394/394 [==============================] - 2s 4ms/step - loss: 0.1408 - accuracy: 0.9527 - val_loss: 0.1658 - val_accuracy: 0.9436\n",
            "Epoch 61/100\n",
            "394/394 [==============================] - 2s 4ms/step - loss: 0.1492 - accuracy: 0.9488 - val_loss: 0.1484 - val_accuracy: 0.9483\n",
            "Epoch 62/100\n",
            "394/394 [==============================] - 2s 4ms/step - loss: 0.1396 - accuracy: 0.9533 - val_loss: 0.1442 - val_accuracy: 0.9494\n",
            "Epoch 63/100\n",
            "394/394 [==============================] - 2s 4ms/step - loss: 0.1322 - accuracy: 0.9557 - val_loss: 0.1446 - val_accuracy: 0.9497\n",
            "Epoch 64/100\n",
            "394/394 [==============================] - 2s 4ms/step - loss: 0.1356 - accuracy: 0.9541 - val_loss: 0.1466 - val_accuracy: 0.9497\n",
            "Epoch 65/100\n",
            "394/394 [==============================] - 2s 4ms/step - loss: 0.1338 - accuracy: 0.9550 - val_loss: 0.1431 - val_accuracy: 0.9497\n",
            "Epoch 66/100\n",
            "394/394 [==============================] - 2s 4ms/step - loss: 0.1336 - accuracy: 0.9557 - val_loss: 0.1450 - val_accuracy: 0.9489\n",
            "Epoch 67/100\n",
            "394/394 [==============================] - 2s 4ms/step - loss: 0.1351 - accuracy: 0.9550 - val_loss: 0.1483 - val_accuracy: 0.9487\n",
            "Epoch 68/100\n",
            "394/394 [==============================] - 2s 4ms/step - loss: 0.1455 - accuracy: 0.9518 - val_loss: 0.1447 - val_accuracy: 0.9494\n",
            "Epoch 69/100\n",
            "394/394 [==============================] - 2s 4ms/step - loss: 0.1470 - accuracy: 0.9513 - val_loss: 0.1458 - val_accuracy: 0.9495\n",
            "Epoch 70/100\n",
            "394/394 [==============================] - 2s 4ms/step - loss: 0.1396 - accuracy: 0.9527 - val_loss: 0.1465 - val_accuracy: 0.9487\n",
            "Epoch 71/100\n",
            "394/394 [==============================] - 2s 4ms/step - loss: 0.1339 - accuracy: 0.9549 - val_loss: 0.1436 - val_accuracy: 0.9495\n",
            "Epoch 72/100\n",
            "394/394 [==============================] - 2s 4ms/step - loss: 0.1334 - accuracy: 0.9553 - val_loss: 0.1433 - val_accuracy: 0.9495\n",
            "Epoch 73/100\n",
            "394/394 [==============================] - 2s 4ms/step - loss: 0.1339 - accuracy: 0.9556 - val_loss: 0.1737 - val_accuracy: 0.9419\n",
            "Epoch 74/100\n",
            "394/394 [==============================] - 2s 4ms/step - loss: 0.1477 - accuracy: 0.9505 - val_loss: 0.1434 - val_accuracy: 0.9496\n",
            "Epoch 75/100\n",
            "394/394 [==============================] - 2s 4ms/step - loss: 0.1368 - accuracy: 0.9537 - val_loss: 0.1465 - val_accuracy: 0.9496\n",
            "Epoch 76/100\n",
            "394/394 [==============================] - 2s 4ms/step - loss: 0.1338 - accuracy: 0.9543 - val_loss: 0.1426 - val_accuracy: 0.9498\n",
            "Epoch 77/100\n",
            "394/394 [==============================] - 2s 4ms/step - loss: 0.1333 - accuracy: 0.9550 - val_loss: 0.1451 - val_accuracy: 0.9496\n",
            "Epoch 78/100\n",
            "394/394 [==============================] - 2s 4ms/step - loss: 0.1348 - accuracy: 0.9543 - val_loss: 0.1438 - val_accuracy: 0.9497\n",
            "Epoch 79/100\n",
            "394/394 [==============================] - 2s 4ms/step - loss: 0.1320 - accuracy: 0.9553 - val_loss: 0.1442 - val_accuracy: 0.9498\n",
            "Epoch 80/100\n",
            "394/394 [==============================] - 2s 4ms/step - loss: 0.1386 - accuracy: 0.9532 - val_loss: 0.1514 - val_accuracy: 0.9484\n",
            "Epoch 81/100\n",
            "394/394 [==============================] - 2s 4ms/step - loss: 0.1357 - accuracy: 0.9545 - val_loss: 0.1426 - val_accuracy: 0.9497\n",
            "Epoch 82/100\n",
            "394/394 [==============================] - 2s 5ms/step - loss: 0.1323 - accuracy: 0.9553 - val_loss: 0.1428 - val_accuracy: 0.9498\n",
            "Epoch 83/100\n",
            "394/394 [==============================] - 2s 4ms/step - loss: 0.1347 - accuracy: 0.9547 - val_loss: 0.1442 - val_accuracy: 0.9496\n",
            "Epoch 84/100\n",
            "394/394 [==============================] - 2s 4ms/step - loss: 0.1321 - accuracy: 0.9558 - val_loss: 0.1425 - val_accuracy: 0.9498\n",
            "Epoch 85/100\n",
            "394/394 [==============================] - 2s 4ms/step - loss: 0.1311 - accuracy: 0.9558 - val_loss: 0.1433 - val_accuracy: 0.9497\n",
            "Epoch 86/100\n",
            "394/394 [==============================] - 2s 4ms/step - loss: 0.1446 - accuracy: 0.9522 - val_loss: 0.1432 - val_accuracy: 0.9497\n",
            "Epoch 87/100\n",
            "394/394 [==============================] - 2s 4ms/step - loss: 0.1381 - accuracy: 0.9526 - val_loss: 0.1500 - val_accuracy: 0.9488\n",
            "Epoch 88/100\n",
            "394/394 [==============================] - 2s 4ms/step - loss: 0.1338 - accuracy: 0.9549 - val_loss: 0.1446 - val_accuracy: 0.9495\n",
            "Epoch 89/100\n",
            "394/394 [==============================] - 2s 4ms/step - loss: 0.1368 - accuracy: 0.9545 - val_loss: 0.1419 - val_accuracy: 0.9498\n",
            "Epoch 90/100\n",
            "394/394 [==============================] - 2s 4ms/step - loss: 0.1331 - accuracy: 0.9550 - val_loss: 0.1474 - val_accuracy: 0.9498\n",
            "Epoch 91/100\n",
            "394/394 [==============================] - 2s 4ms/step - loss: 0.1323 - accuracy: 0.9554 - val_loss: 0.1516 - val_accuracy: 0.9471\n",
            "Epoch 92/100\n",
            "394/394 [==============================] - 2s 4ms/step - loss: 0.1409 - accuracy: 0.9531 - val_loss: 0.1427 - val_accuracy: 0.9497\n",
            "Epoch 93/100\n",
            "394/394 [==============================] - 2s 4ms/step - loss: 0.1350 - accuracy: 0.9547 - val_loss: 0.1453 - val_accuracy: 0.9484\n",
            "Epoch 94/100\n",
            "394/394 [==============================] - 2s 4ms/step - loss: 0.1344 - accuracy: 0.9545 - val_loss: 0.1432 - val_accuracy: 0.9490\n",
            "Epoch 95/100\n",
            "394/394 [==============================] - 2s 4ms/step - loss: 0.1331 - accuracy: 0.9556 - val_loss: 0.1447 - val_accuracy: 0.9488\n",
            "Epoch 96/100\n",
            "394/394 [==============================] - 2s 4ms/step - loss: 0.1347 - accuracy: 0.9541 - val_loss: 0.1458 - val_accuracy: 0.9493\n",
            "Epoch 97/100\n",
            "394/394 [==============================] - 2s 4ms/step - loss: 0.1318 - accuracy: 0.9557 - val_loss: 0.1449 - val_accuracy: 0.9488\n",
            "Epoch 98/100\n",
            "394/394 [==============================] - 2s 4ms/step - loss: 0.1363 - accuracy: 0.9534 - val_loss: 0.1432 - val_accuracy: 0.9493\n",
            "Epoch 99/100\n",
            "394/394 [==============================] - 2s 4ms/step - loss: 0.1322 - accuracy: 0.9548 - val_loss: 0.1430 - val_accuracy: 0.9498\n",
            "Epoch 100/100\n",
            "394/394 [==============================] - 2s 4ms/step - loss: 0.1332 - accuracy: 0.9544 - val_loss: 0.1433 - val_accuracy: 0.9497\n",
            "844/844 [==============================] - 2s 2ms/step - loss: 0.1396 - accuracy: 0.9521\n"
          ],
          "name": "stdout"
        }
      ]
    },
    {
      "cell_type": "code",
      "metadata": {
        "colab": {
          "base_uri": "https://localhost:8080/",
          "height": 265
        },
        "id": "KpSVbJNwanA9",
        "outputId": "5c927b50-1e63-45f3-9d97-54685b14f0f7"
      },
      "source": [
        "plt.plot(history.history[\"loss\"], label=\"Training Loss\")\n",
        "plt.plot(history.history[\"val_loss\"], label=\"Validation Loss\")\n",
        "plt.legend()\n",
        "plt.show()"
      ],
      "execution_count": 9,
      "outputs": [
        {
          "output_type": "display_data",
          "data": {
            "image/png": "[encoded data removed]",
            "text/plain": [
              "<Figure size 432x288 with 1 Axes>"
            ]
          },
          "metadata": {
            "tags": [],
            "needs_background": "light"
          }
        }
      ]
    },
    {
      "cell_type": "code",
      "metadata": {
        "colab": {
          "base_uri": "https://localhost:8080/",
          "height": 265
        },
        "id": "d5JoyyUJbUAl",
        "outputId": "38a0d2bd-ea48-4190-ac70-fb3b0129c7fb"
      },
      "source": [
        "plt.plot(history.history[\"accuracy\"],label=\"Training Accuracy\")\n",
        "plt.plot(history.history[\"val_accuracy\"],label=\"Testing Accuracy\")\n",
        "plt.legend()\n",
        "plt.show()"
      ],
      "execution_count": 10,
      "outputs": [
        {
          "output_type": "display_data",
          "data": {
            "image/png": "[encoded data removed]",
            "text/plain": [
              "<Figure size 432x288 with 1 Axes>"
            ]
          },
          "metadata": {
            "tags": [],
            "needs_background": "light"
          }
        }
      ]
    },
    {
      "cell_type": "markdown",
      "metadata": {
        "id": "uMh_1eYBW5E8"
      },
      "source": [
        "## Consfusion Matrix "
      ]
    },
    {
      "cell_type": "code",
      "metadata": {
        "id": "Vt1Wg7DBUlyf"
      },
      "source": [
        "y_pred = model.predict(X_test) #prediction\n",
        "y_pred = (y_pred > 0.5)\n"
      ],
      "execution_count": 17,
      "outputs": []
    },
    {
      "cell_type": "code",
      "metadata": {
        "colab": {
          "base_uri": "https://localhost:8080/",
          "height": 348
        },
        "id": "13nYeNxMUYMD",
        "outputId": "7371fdfa-19cc-4ee0-acbd-ecaac796f977"
      },
      "source": [
        "#Evaluation of Model - Confusion Matrix Plot\n",
        "def plot_confusion_matrix(cm, classes,\n",
        "                          normalize=False,\n",
        "                          title='Confusion matrix',\n",
        "                          cmap=plt.cm.Blues):\n",
        "    \"\"\"\n",
        "    This function prints and plots the confusion matrix.\n",
        "    Normalization can be applied by setting `normalize=True`.\n",
        "    \"\"\"\n",
        "    if normalize:\n",
        "        cm = cm.astype('float') / cm.sum(axis=1)[:, np.newaxis]\n",
        "        print(\"Normalized confusion matrix\")\n",
        "    else:\n",
        "        print('Confusion matrix, without normalization')\n",
        "\n",
        "    print(cm)\n",
        "\n",
        "    plt.imshow(cm, interpolation='nearest', cmap=cmap)\n",
        "    plt.title(title)\n",
        "    plt.colorbar()\n",
        "    tick_marks = np.arange(len(classes))\n",
        "    plt.xticks(tick_marks, classes, rotation=45)\n",
        "    plt.yticks(tick_marks, classes)\n",
        "\n",
        "    fmt = '.2f' if normalize else 'd'\n",
        "    thresh = cm.max() / 2.\n",
        "    for i, j in itertools.product(range(cm.shape[0]), range(cm.shape[1])):\n",
        "        plt.text(j, i, format(cm[i, j], fmt),\n",
        "                 horizontalalignment=\"center\",\n",
        "                 color=\"white\" if cm[i, j] > thresh else \"black\")\n",
        "\n",
        "    plt.ylabel('True label')\n",
        "    plt.xlabel('Predicted label')\n",
        "    plt.tight_layout()\n",
        "\n",
        "\n",
        "# Compute confusion matrix\n",
        "cnf_matrix = confusion_matrix(y_test, y_pred)\n",
        "np.set_printoptions(precision=2)\n",
        "\n",
        "# Plot non-normalized confusion matrix\n",
        "plt.figure()\n",
        "plot_confusion_matrix(cnf_matrix, classes=['Normal','Attack'],\n",
        "                      title='Confusion matrix, without normalization')"
      ],
      "execution_count": 20,
      "outputs": [
        {
          "output_type": "stream",
          "text": [
            "Confusion matrix, without normalization\n",
            "[[20957     3]\n",
            " [ 1289  4751]]\n"
          ],
          "name": "stdout"
        },
        {
          "output_type": "display_data",
          "data": {
            "image/png": "[encoded data removed]",
            "text/plain": [
              "<Figure size 432x288 with 2 Axes>"
            ]
          },
          "metadata": {
            "tags": [],
            "needs_background": "light"
          }
        }
      ]
    }
  ]
}