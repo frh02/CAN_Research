{
  "nbformat": 4,
  "nbformat_minor": 0,
  "metadata": {
    "colab": {
      "name": "LSTM_CAN_Multiclass_Classifier.ipynb",
      "provenance": [],
      "collapsed_sections": [],
      "authorship_tag": "ABX9TyMKh/Tcrr5viaJcoqiuF08g",
      "include_colab_link": true
    },
    "kernelspec": {
      "name": "python3",
      "display_name": "Python 3"
    },
    "language_info": {
      "name": "python"
    },
    "accelerator": "GPU"
  },
  "cells": [
    {
      "cell_type": "markdown",
      "metadata": {
        "id": "view-in-github",
        "colab_type": "text"
      },
      "source": [
        "<a href=\"https://colab.research.google.com/github/frh02/CAN_Research/blob/main/LSTM_CAN_Multiclass_Classifier.ipynb\" target=\"_parent\"><img src=\"https://colab.research.google.com/assets/colab-badge.svg\" alt=\"Open In Colab\"/></a>"
      ]
    },
    {
      "cell_type": "markdown",
      "metadata": {
        "id": "B3gXn5_vDXa7"
      },
      "source": [
        "# Importing Libraries "
      ]
    },
    {
      "cell_type": "code",
      "metadata": {
        "id": "XoIiM1h-YNPi"
      },
      "source": [
        "import pandas as pd\n",
        "import tensorflow as tf\n",
        "import keras\n",
        "from sklearn.model_selection import train_test_split\n",
        "import keras.utils\n",
        "from keras import utils as np_utils\n",
        "import numpy as np\n",
        "import pandas as pd\n",
        "from tensorflow import keras\n",
        "from tensorflow.keras import layers\n",
        "from datetime import datetime\n",
        "from matplotlib import pyplot as plt\n",
        "from matplotlib import dates as md\n",
        "from keras.utils.np_utils import to_categorical\n",
        "import csv\n",
        "%matplotlib inline  \n",
        "from ast import literal_eval \n",
        "import array as array\n",
        "from keras.layers import Dense, Embedding, LSTM, Dropout\n",
        "from keras.models import Sequential\n",
        "from keras.utils.np_utils import to_categorical\n",
        "from keras.callbacks import EarlyStopping\n"
      ],
      "execution_count": 76,
      "outputs": []
    },
    {
      "cell_type": "markdown",
      "metadata": {
        "id": "o1GVefTIDdmm"
      },
      "source": [
        "## Reading the file for multi class classification"
      ]
    },
    {
      "cell_type": "code",
      "metadata": {
        "colab": {
          "base_uri": "https://localhost:8080/"
        },
        "id": "c6rYE36KcmwL",
        "outputId": "accb1be0-fa59-4a7b-b127-70c4fa23bbfa"
      },
      "source": [
        "df = pd.read_csv('/content/multi.csv')\n",
        "print(df)"
      ],
      "execution_count": 77,
      "outputs": [
        {
          "output_type": "stream",
          "text": [
            "       Unnamed: 0  Unnamed: 0.1        Time       seconds  ...  D6  D7  D8 Target\n",
            "0               0             0  Timestamp:  0.000000e+00  ...  1a  00  7f      0\n",
            "1               1             1  Timestamp:  2.240000e-04  ...  2f  00  10      0\n",
            "2               2             2  Timestamp:  4.620000e-04  ...  1a  20  43      0\n",
            "3               3             3  Timestamp:  7.040000e-04  ...  00  00  53      0\n",
            "4               4             4  Timestamp:  8.780000e-04  ...  -1  -1  -1      0\n",
            "...           ...           ...         ...           ...  ...  ..  ..  ..    ...\n",
            "35995        7995          7995  Timestamp:  1.481193e+09  ...  00  3b  10      3\n",
            "35996        7996          7996  Timestamp:  1.481193e+09  ...  13  00  7f      3\n",
            "35997        7997          7997  Timestamp:  1.481193e+09  ...  43  00  00      3\n",
            "35998        7998          7998  Timestamp:  1.481193e+09  ...  13  1b  5a      3\n",
            "35999        7999          7999  Timestamp:  1.481193e+09  ...  00  00  7a      3\n",
            "\n",
            "[36000 rows x 18 columns]\n"
          ],
          "name": "stdout"
        }
      ]
    },
    {
      "cell_type": "markdown",
      "metadata": {
        "id": "hHjEguiUDkC5"
      },
      "source": [
        "## Shuffling the data and cleaning the data \n"
      ]
    },
    {
      "cell_type": "code",
      "metadata": {
        "colab": {
          "base_uri": "https://localhost:8080/"
        },
        "id": "CV0GY1goaQeL",
        "outputId": "041a0183-099e-46a3-d097-5257d06a7aff"
      },
      "source": [
        "df = df.reindex(np.random.permutation(df.index))\n",
        "properties = list(df.columns.values)\n",
        "properties.remove('Time')\n",
        "properties.remove('seconds')\n",
        "properties.remove('ID')\n",
        "properties.remove('DLC')\n",
        "properties.remove('App')\n",
        "properties.remove('Unnamed: 0')\n",
        "properties.remove('Unnamed: 0.1')\n",
        "properties.remove('Target')\n",
        "df['Value']= df['Value'].apply(lambda x: int(str(x),16))\n",
        "df['D1']=df['D1'].apply(lambda x: int(str(x),16))\n",
        "df['D2']=df['D2'].apply(lambda x: int(str(x),16))\n",
        "df['D3']=df['D3'].apply(lambda x: int(str(x),16))\n",
        "df['D4']=df['D4'].apply(lambda x: int(str(x),16))\n",
        "df['D5']=df['D5'].apply(lambda x: int(str(x),16))\n",
        "df['D6']=df['D6'].apply(lambda x: int(str(x),16))\n",
        "df['D7']=df['D7'].apply(lambda x: int(str(x),16))\n",
        "df['D8']=df['D8'].apply(lambda x: int(str(x),16))\n",
        "X = df[properties]\n",
        "X = np.asarray(X).astype(np.float32)\n",
        "y = df['Target']\n",
        "X = np.expand_dims(X, axis=2)\n",
        "y = np.expand_dims(y, axis=1)\n",
        "print(X.shape)\n",
        "print(y.shape)"
      ],
      "execution_count": 78,
      "outputs": [
        {
          "output_type": "stream",
          "text": [
            "(36000, 10, 1)\n",
            "(36000, 1)\n"
          ],
          "name": "stdout"
        }
      ]
    },
    {
      "cell_type": "markdown",
      "metadata": {
        "id": "NDfUXg1ADw6l"
      },
      "source": [
        "## One hot encoding for labels"
      ]
    },
    {
      "cell_type": "code",
      "metadata": {
        "id": "DuTavD463ZuB"
      },
      "source": [
        "y = to_categorical(y, num_classes=4)"
      ],
      "execution_count": 79,
      "outputs": []
    },
    {
      "cell_type": "markdown",
      "metadata": {
        "id": "OB3s2L0qD20w"
      },
      "source": [
        "## Converting the 2D array to the 3D array for LSTM analysis "
      ]
    },
    {
      "cell_type": "code",
      "metadata": {
        "colab": {
          "base_uri": "https://localhost:8080/"
        },
        "id": "TgfBc0iqvpJg",
        "outputId": "fdb86120-3a39-4b36-846f-84b21eb8991c"
      },
      "source": [
        "TIME_STEPS = 288\n",
        "def create_sequences(values, time_steps=TIME_STEPS):\n",
        "    output = []\n",
        "    for i in range(len(values) - time_steps):\n",
        "        output.append(values[i : (i + time_steps)])\n",
        "    # Convert 2D sequences into 3D as we will be feeding this into\n",
        "    # a convolutional layer.\n",
        "    return np.expand_dims(output, axis=2)\n",
        "\n",
        "training_value = df \n",
        "x_train = create_sequences(training_value)\n",
        "print(\"Training input shape: \", x_train.shape)\n",
        "X_train, X_test, y_train, y_test = train_test_split(X , y, test_size=0.25, random_state=42)"
      ],
      "execution_count": 80,
      "outputs": [
        {
          "output_type": "stream",
          "text": [
            "Training input shape:  (35712, 288, 1, 18)\n"
          ],
          "name": "stdout"
        }
      ]
    },
    {
      "cell_type": "code",
      "metadata": {
        "colab": {
          "base_uri": "https://localhost:8080/"
        },
        "id": "irC6iM3Y5ntJ",
        "outputId": "7a195b91-c3d6-43b4-b1c7-97e23de150ee"
      },
      "source": [
        "print((X_train.shape, y_train.shape, X_test.shape, y_test.shape))"
      ],
      "execution_count": 81,
      "outputs": [
        {
          "output_type": "stream",
          "text": [
            "((27000, 10, 1), (27000, 4), (9000, 10, 1), (9000, 4))\n"
          ],
          "name": "stdout"
        }
      ]
    },
    {
      "cell_type": "markdown",
      "metadata": {
        "id": "zphUcHCYD-S9"
      },
      "source": [
        "## Loading the LSTM Model"
      ]
    },
    {
      "cell_type": "code",
      "metadata": {
        "id": "afZnjtFb5YDS"
      },
      "source": [
        "epochs = 50\n",
        "#emb_dim = 128\n",
        "batch_size = 128\n",
        "y[:2]\n",
        "n_steps = X_train.shape[1]\n",
        "n_features = X_train.shape[2]"
      ],
      "execution_count": 82,
      "outputs": []
    },
    {
      "cell_type": "code",
      "metadata": {
        "colab": {
          "base_uri": "https://localhost:8080/"
        },
        "id": "87jcwjHI54M6",
        "outputId": "238b0c6c-92e5-4258-cf83-5a8ce9eb6d5c"
      },
      "source": [
        "model = Sequential()\n",
        "\n",
        "model.add(LSTM(256, activation='relu',\n",
        "               input_shape=(n_steps, n_features), return_sequences=True))\n",
        "#model.add(Dropout(0.2))\n",
        "model.add(Dense(256, activation='relu'))\n",
        "#model.add(Dense(256, activation='relu'))\n",
        "#model.add(Dropout(0.2))\n",
        "model.add(LSTM(128, activation='relu'))\n",
        "model.add(Dense(64, activation='relu'))\n",
        "#model.add(Dropout(0.2))\n",
        "model.add(Dense(4, activation='softmax'))\n",
        "\n",
        "opt = tf.keras.optimizers.Adam(lr=1e-3, decay=1e-5)\n",
        "\n",
        "model.compile(optimizer='adam',\n",
        "              loss='categorical_crossentropy',\n",
        "              metrics=['accuracy'])\n",
        "\n",
        "history = model.fit(X_train, y_train, epochs=epochs, batch_size=batch_size,validation_split=0.2,callbacks=[EarlyStopping(monitor='val_loss',patience=7, min_delta=0.0001)])"
      ],
      "execution_count": 83,
      "outputs": [
        {
          "output_type": "stream",
          "text": [
            "WARNING:tensorflow:Layer lstm_35 will not use cuDNN kernel since it doesn't meet the cuDNN kernel criteria. It will use generic GPU kernel as fallback when running on GPU\n",
            "WARNING:tensorflow:Layer lstm_36 will not use cuDNN kernel since it doesn't meet the cuDNN kernel criteria. It will use generic GPU kernel as fallback when running on GPU\n",
            "Epoch 1/50\n",
            "169/169 [==============================] - 8s 37ms/step - loss: 1.3184 - accuracy: 0.5955 - val_loss: 0.5028 - val_accuracy: 0.7869\n",
            "Epoch 2/50\n",
            "169/169 [==============================] - 6s 35ms/step - loss: 0.5099 - accuracy: 0.7832 - val_loss: 0.4447 - val_accuracy: 0.8081\n",
            "Epoch 3/50\n",
            "169/169 [==============================] - 6s 35ms/step - loss: 0.4232 - accuracy: 0.8095 - val_loss: 0.3988 - val_accuracy: 0.8215\n",
            "Epoch 4/50\n",
            "169/169 [==============================] - 6s 35ms/step - loss: 0.3671 - accuracy: 0.8311 - val_loss: 0.4046 - val_accuracy: 0.8280\n",
            "Epoch 5/50\n",
            "169/169 [==============================] - 6s 36ms/step - loss: 0.3600 - accuracy: 0.8371 - val_loss: 0.3774 - val_accuracy: 0.8357\n",
            "Epoch 6/50\n",
            "169/169 [==============================] - 6s 35ms/step - loss: 0.3371 - accuracy: 0.8436 - val_loss: 0.3166 - val_accuracy: 0.8491\n",
            "Epoch 7/50\n",
            "169/169 [==============================] - 6s 34ms/step - loss: 0.3128 - accuracy: 0.8542 - val_loss: 0.3411 - val_accuracy: 0.8467\n",
            "Epoch 8/50\n",
            "169/169 [==============================] - 6s 35ms/step - loss: 0.3200 - accuracy: 0.8496 - val_loss: 0.3209 - val_accuracy: 0.8465\n",
            "Epoch 9/50\n",
            "169/169 [==============================] - 6s 35ms/step - loss: 0.3292 - accuracy: 0.8523 - val_loss: 0.4474 - val_accuracy: 0.8178\n",
            "Epoch 10/50\n",
            "169/169 [==============================] - 6s 36ms/step - loss: 0.4010 - accuracy: 0.8271 - val_loss: 0.3642 - val_accuracy: 0.8396\n",
            "Epoch 11/50\n",
            "169/169 [==============================] - 6s 35ms/step - loss: 0.3780 - accuracy: 0.8337 - val_loss: 0.3659 - val_accuracy: 0.8402\n",
            "Epoch 12/50\n",
            "169/169 [==============================] - 6s 35ms/step - loss: 0.3455 - accuracy: 0.8388 - val_loss: 0.3437 - val_accuracy: 0.8526\n",
            "Epoch 13/50\n",
            "169/169 [==============================] - 6s 35ms/step - loss: 0.3179 - accuracy: 0.8575 - val_loss: 0.3289 - val_accuracy: 0.8509\n"
          ],
          "name": "stdout"
        }
      ]
    },
    {
      "cell_type": "code",
      "metadata": {
        "colab": {
          "base_uri": "https://localhost:8080/",
          "height": 265
        },
        "id": "tJOWHqHEvnSN",
        "outputId": "e2c6f9f4-92b2-40d5-a2c6-46d2b607ff23"
      },
      "source": [
        "plt.plot(history.history[\"loss\"], label=\"Training Loss\")\n",
        "plt.plot(history.history[\"val_loss\"], label=\"Validation Loss\")\n",
        "plt.legend()\n",
        "plt.show()"
      ],
      "execution_count": 84,
      "outputs": [
        {
          "output_type": "display_data",
          "data": {
            "image/png": "[encoded data removed]",
            "text/plain": [
              "<Figure size 432x288 with 1 Axes>"
            ]
          },
          "metadata": {
            "tags": [],
            "needs_background": "light"
          }
        }
      ]
    },
    {
      "cell_type": "code",
      "metadata": {
        "colab": {
          "base_uri": "https://localhost:8080/",
          "height": 266
        },
        "id": "YnbUifM9Gnr9",
        "outputId": "55cd9331-a939-4aed-bc8b-f52d67a20b1c"
      },
      "source": [
        "plt.plot(history.history[\"accuracy\"],label=\"Training Accuracy\")\n",
        "plt.plot(history.history[\"val_accuracy\"],label=\"Testing Accuracy\")\n",
        "plt.legend()\n",
        "plt.show()"
      ],
      "execution_count": 85,
      "outputs": [
        {
          "output_type": "display_data",
          "data": {
            "image/png": "[encoded data removed]",
            "text/plain": [
              "<Figure size 432x288 with 1 Axes>"
            ]
          },
          "metadata": {
            "tags": [],
            "needs_background": "light"
          }
        }
      ]
    },
    {
      "cell_type": "markdown",
      "metadata": {
        "id": "ahp65IjIEDCu"
      },
      "source": [
        "## Using a simple deep learning model for classification data "
      ]
    },
    {
      "cell_type": "code",
      "metadata": {
        "id": "tbYGZ4GF-Lea"
      },
      "source": [
        "model = keras.Sequential([\n",
        "    keras.layers.Flatten(input_shape=(10,)),\n",
        "    keras.layers.Dense(512, activation=tf.nn.relu),\n",
        "\t  keras.layers.Dense(256, activation=tf.nn.relu),\n",
        "    keras.layers.Dense(128, activation=tf.nn.relu),\n",
        "    keras.layers.Dense(128, activation=tf.nn.relu),\n",
        "    keras.layers.Dense(64, activation=tf.nn.relu),\n",
        "    keras.layers.Dense(4, activation=tf.nn.softmax),\n",
        "])"
      ],
      "execution_count": 86,
      "outputs": []
    },
    {
      "cell_type": "code",
      "metadata": {
        "colab": {
          "base_uri": "https://localhost:8080/"
        },
        "id": "_uTlH7rZc8ot",
        "outputId": "97ac5c15-2790-4c80-a141-bc2d3e87d47f"
      },
      "source": [
        "model.compile(optimizer=keras.optimizers.Adam(learning_rate=0.001),\n",
        "              \n",
        "              loss='categorical_crossentropy',\n",
        "              metrics=['accuracy'],\n",
        "              )\n",
        "\n",
        "history = model.fit(X_train, y_train, epochs=100, batch_size=128, validation_split=0.2)\n",
        "test_loss, test_acc = model.evaluate(X_test, y_test)"
      ],
      "execution_count": 87,
      "outputs": [
        {
          "output_type": "stream",
          "text": [
            "Epoch 1/100\n",
            "169/169 [==============================] - 1s 4ms/step - loss: 6.2830 - accuracy: 0.4976 - val_loss: 0.9268 - val_accuracy: 0.5704\n",
            "Epoch 2/100\n",
            "169/169 [==============================] - 1s 3ms/step - loss: 0.7631 - accuracy: 0.7025 - val_loss: 1.2910 - val_accuracy: 0.5959\n",
            "Epoch 3/100\n",
            "169/169 [==============================] - 1s 3ms/step - loss: 0.7834 - accuracy: 0.7141 - val_loss: 0.5436 - val_accuracy: 0.7622\n",
            "Epoch 4/100\n",
            "169/169 [==============================] - 1s 3ms/step - loss: 0.5416 - accuracy: 0.7779 - val_loss: 0.4827 - val_accuracy: 0.8007\n",
            "Epoch 5/100\n",
            "169/169 [==============================] - 1s 3ms/step - loss: 0.4869 - accuracy: 0.7959 - val_loss: 0.4890 - val_accuracy: 0.7806\n",
            "Epoch 6/100\n",
            "169/169 [==============================] - 1s 3ms/step - loss: 0.4624 - accuracy: 0.7975 - val_loss: 0.4921 - val_accuracy: 0.8019\n",
            "Epoch 7/100\n",
            "169/169 [==============================] - 1s 3ms/step - loss: 0.4748 - accuracy: 0.8013 - val_loss: 0.4340 - val_accuracy: 0.8167\n",
            "Epoch 8/100\n",
            "169/169 [==============================] - 1s 3ms/step - loss: 0.4229 - accuracy: 0.8162 - val_loss: 0.4445 - val_accuracy: 0.7715\n",
            "Epoch 9/100\n",
            "169/169 [==============================] - 1s 3ms/step - loss: 0.5171 - accuracy: 0.7920 - val_loss: 0.4720 - val_accuracy: 0.7928\n",
            "Epoch 10/100\n",
            "169/169 [==============================] - 1s 3ms/step - loss: 0.4585 - accuracy: 0.8034 - val_loss: 0.4250 - val_accuracy: 0.8131\n",
            "Epoch 11/100\n",
            "169/169 [==============================] - 1s 3ms/step - loss: 0.4424 - accuracy: 0.8114 - val_loss: 0.4225 - val_accuracy: 0.8180\n",
            "Epoch 12/100\n",
            "169/169 [==============================] - 1s 3ms/step - loss: 0.4009 - accuracy: 0.8251 - val_loss: 0.4041 - val_accuracy: 0.8398\n",
            "Epoch 13/100\n",
            "169/169 [==============================] - 1s 3ms/step - loss: 0.3766 - accuracy: 0.8363 - val_loss: 0.3850 - val_accuracy: 0.8302\n",
            "Epoch 14/100\n",
            "169/169 [==============================] - 1s 3ms/step - loss: 0.3689 - accuracy: 0.8352 - val_loss: 0.3643 - val_accuracy: 0.8298\n",
            "Epoch 15/100\n",
            "169/169 [==============================] - 1s 3ms/step - loss: 0.3519 - accuracy: 0.8395 - val_loss: 0.3781 - val_accuracy: 0.8220\n",
            "Epoch 16/100\n",
            "169/169 [==============================] - 1s 3ms/step - loss: 0.3408 - accuracy: 0.8471 - val_loss: 0.3904 - val_accuracy: 0.8415\n",
            "Epoch 17/100\n",
            "169/169 [==============================] - 1s 3ms/step - loss: 0.3817 - accuracy: 0.8363 - val_loss: 0.3471 - val_accuracy: 0.8444\n",
            "Epoch 18/100\n",
            "169/169 [==============================] - 1s 3ms/step - loss: 0.3530 - accuracy: 0.8385 - val_loss: 0.3532 - val_accuracy: 0.8331\n",
            "Epoch 19/100\n",
            "169/169 [==============================] - 1s 3ms/step - loss: 0.3270 - accuracy: 0.8520 - val_loss: 0.3333 - val_accuracy: 0.8498\n",
            "Epoch 20/100\n",
            "169/169 [==============================] - 1s 3ms/step - loss: 0.3136 - accuracy: 0.8518 - val_loss: 0.3242 - val_accuracy: 0.8554\n",
            "Epoch 21/100\n",
            "169/169 [==============================] - 1s 3ms/step - loss: 0.3108 - accuracy: 0.8561 - val_loss: 0.3180 - val_accuracy: 0.8531\n",
            "Epoch 22/100\n",
            "169/169 [==============================] - 1s 3ms/step - loss: 0.3046 - accuracy: 0.8593 - val_loss: 0.3148 - val_accuracy: 0.8531\n",
            "Epoch 23/100\n",
            "169/169 [==============================] - 1s 3ms/step - loss: 0.3076 - accuracy: 0.8623 - val_loss: 0.3096 - val_accuracy: 0.8676\n",
            "Epoch 24/100\n",
            "169/169 [==============================] - 1s 4ms/step - loss: 0.2955 - accuracy: 0.8636 - val_loss: 0.2983 - val_accuracy: 0.8591\n",
            "Epoch 25/100\n",
            "169/169 [==============================] - 1s 3ms/step - loss: 0.3021 - accuracy: 0.8612 - val_loss: 0.3028 - val_accuracy: 0.8594\n",
            "Epoch 26/100\n",
            "169/169 [==============================] - 1s 3ms/step - loss: 0.2926 - accuracy: 0.8689 - val_loss: 0.2887 - val_accuracy: 0.8604\n",
            "Epoch 27/100\n",
            "169/169 [==============================] - 1s 3ms/step - loss: 0.2897 - accuracy: 0.8680 - val_loss: 0.2928 - val_accuracy: 0.8693\n",
            "Epoch 28/100\n",
            "169/169 [==============================] - 1s 3ms/step - loss: 0.2737 - accuracy: 0.8737 - val_loss: 0.3014 - val_accuracy: 0.8613\n",
            "Epoch 29/100\n",
            "169/169 [==============================] - 1s 3ms/step - loss: 0.2741 - accuracy: 0.8756 - val_loss: 0.2852 - val_accuracy: 0.8669\n",
            "Epoch 30/100\n",
            "169/169 [==============================] - 1s 3ms/step - loss: 0.2728 - accuracy: 0.8751 - val_loss: 0.2881 - val_accuracy: 0.8769\n",
            "Epoch 31/100\n",
            "169/169 [==============================] - 1s 3ms/step - loss: 0.2825 - accuracy: 0.8719 - val_loss: 0.3419 - val_accuracy: 0.8526\n",
            "Epoch 32/100\n",
            "169/169 [==============================] - 1s 3ms/step - loss: 0.2912 - accuracy: 0.8729 - val_loss: 0.2773 - val_accuracy: 0.8720\n",
            "Epoch 33/100\n",
            "169/169 [==============================] - 1s 3ms/step - loss: 0.2623 - accuracy: 0.8836 - val_loss: 0.2596 - val_accuracy: 0.8763\n",
            "Epoch 34/100\n",
            "169/169 [==============================] - 1s 3ms/step - loss: 0.2460 - accuracy: 0.8854 - val_loss: 0.2542 - val_accuracy: 0.8778\n",
            "Epoch 35/100\n",
            "169/169 [==============================] - 1s 3ms/step - loss: 0.2609 - accuracy: 0.8771 - val_loss: 0.2687 - val_accuracy: 0.8770\n",
            "Epoch 36/100\n",
            "169/169 [==============================] - 1s 3ms/step - loss: 0.2590 - accuracy: 0.8793 - val_loss: 0.2524 - val_accuracy: 0.8752\n",
            "Epoch 37/100\n",
            "169/169 [==============================] - 1s 3ms/step - loss: 0.2462 - accuracy: 0.8824 - val_loss: 0.2607 - val_accuracy: 0.8700\n",
            "Epoch 38/100\n",
            "169/169 [==============================] - 1s 3ms/step - loss: 0.2534 - accuracy: 0.8818 - val_loss: 0.2492 - val_accuracy: 0.8859\n",
            "Epoch 39/100\n",
            "169/169 [==============================] - 1s 3ms/step - loss: 0.2457 - accuracy: 0.8896 - val_loss: 0.2559 - val_accuracy: 0.8807\n",
            "Epoch 40/100\n",
            "169/169 [==============================] - 1s 3ms/step - loss: 0.2395 - accuracy: 0.8879 - val_loss: 0.2996 - val_accuracy: 0.8676\n",
            "Epoch 41/100\n",
            "169/169 [==============================] - 1s 3ms/step - loss: 0.2948 - accuracy: 0.8700 - val_loss: 0.2559 - val_accuracy: 0.8820\n",
            "Epoch 42/100\n",
            "169/169 [==============================] - 1s 3ms/step - loss: 0.2560 - accuracy: 0.8820 - val_loss: 0.2621 - val_accuracy: 0.8761\n",
            "Epoch 43/100\n",
            "169/169 [==============================] - 1s 3ms/step - loss: 0.2468 - accuracy: 0.8877 - val_loss: 0.2672 - val_accuracy: 0.8800\n",
            "Epoch 44/100\n",
            "169/169 [==============================] - 1s 3ms/step - loss: 0.2573 - accuracy: 0.8862 - val_loss: 0.2985 - val_accuracy: 0.8656\n",
            "Epoch 45/100\n",
            "169/169 [==============================] - 1s 3ms/step - loss: 0.2484 - accuracy: 0.8841 - val_loss: 0.2512 - val_accuracy: 0.8787\n",
            "Epoch 46/100\n",
            "169/169 [==============================] - 1s 3ms/step - loss: 0.2484 - accuracy: 0.8832 - val_loss: 0.2548 - val_accuracy: 0.8750\n",
            "Epoch 47/100\n",
            "169/169 [==============================] - 1s 3ms/step - loss: 0.2368 - accuracy: 0.8908 - val_loss: 0.2455 - val_accuracy: 0.8867\n",
            "Epoch 48/100\n",
            "169/169 [==============================] - 1s 3ms/step - loss: 0.2381 - accuracy: 0.8882 - val_loss: 0.2421 - val_accuracy: 0.8783\n",
            "Epoch 49/100\n",
            "169/169 [==============================] - 1s 3ms/step - loss: 0.2468 - accuracy: 0.8876 - val_loss: 0.2939 - val_accuracy: 0.8696\n",
            "Epoch 50/100\n",
            "169/169 [==============================] - 1s 3ms/step - loss: 0.2483 - accuracy: 0.8859 - val_loss: 0.2480 - val_accuracy: 0.8800\n",
            "Epoch 51/100\n",
            "169/169 [==============================] - 1s 3ms/step - loss: 0.2406 - accuracy: 0.8886 - val_loss: 0.2425 - val_accuracy: 0.8813\n",
            "Epoch 52/100\n",
            "169/169 [==============================] - 1s 3ms/step - loss: 0.2320 - accuracy: 0.8905 - val_loss: 0.2831 - val_accuracy: 0.8744\n",
            "Epoch 53/100\n",
            "169/169 [==============================] - 1s 3ms/step - loss: 0.2753 - accuracy: 0.8748 - val_loss: 0.2780 - val_accuracy: 0.8676\n",
            "Epoch 54/100\n",
            "169/169 [==============================] - 1s 3ms/step - loss: 0.2433 - accuracy: 0.8908 - val_loss: 0.2562 - val_accuracy: 0.8813\n",
            "Epoch 55/100\n",
            "169/169 [==============================] - 1s 3ms/step - loss: 0.2489 - accuracy: 0.8848 - val_loss: 0.2447 - val_accuracy: 0.8881\n",
            "Epoch 56/100\n",
            "169/169 [==============================] - 1s 3ms/step - loss: 0.2448 - accuracy: 0.8891 - val_loss: 0.2453 - val_accuracy: 0.8787\n",
            "Epoch 57/100\n",
            "169/169 [==============================] - 1s 3ms/step - loss: 0.2348 - accuracy: 0.8879 - val_loss: 0.2631 - val_accuracy: 0.8793\n",
            "Epoch 58/100\n",
            "169/169 [==============================] - 1s 3ms/step - loss: 0.2308 - accuracy: 0.8947 - val_loss: 0.2386 - val_accuracy: 0.8843\n",
            "Epoch 59/100\n",
            "169/169 [==============================] - 1s 3ms/step - loss: 0.2292 - accuracy: 0.8896 - val_loss: 0.2460 - val_accuracy: 0.8870\n",
            "Epoch 60/100\n",
            "169/169 [==============================] - 1s 3ms/step - loss: 0.2337 - accuracy: 0.8931 - val_loss: 0.2426 - val_accuracy: 0.8843\n",
            "Epoch 61/100\n",
            "169/169 [==============================] - 1s 3ms/step - loss: 0.2226 - accuracy: 0.8960 - val_loss: 0.2567 - val_accuracy: 0.8752\n",
            "Epoch 62/100\n",
            "169/169 [==============================] - 1s 3ms/step - loss: 0.2301 - accuracy: 0.8918 - val_loss: 0.2394 - val_accuracy: 0.8820\n",
            "Epoch 63/100\n",
            "169/169 [==============================] - 1s 3ms/step - loss: 0.2265 - accuracy: 0.8929 - val_loss: 0.2464 - val_accuracy: 0.8809\n",
            "Epoch 64/100\n",
            "169/169 [==============================] - 1s 3ms/step - loss: 0.2374 - accuracy: 0.8876 - val_loss: 0.2289 - val_accuracy: 0.8876\n",
            "Epoch 65/100\n",
            "169/169 [==============================] - 1s 3ms/step - loss: 0.2292 - accuracy: 0.8936 - val_loss: 0.2336 - val_accuracy: 0.8781\n",
            "Epoch 66/100\n",
            "169/169 [==============================] - 1s 3ms/step - loss: 0.2300 - accuracy: 0.8908 - val_loss: 0.3114 - val_accuracy: 0.8656\n",
            "Epoch 67/100\n",
            "169/169 [==============================] - 1s 3ms/step - loss: 0.2691 - accuracy: 0.8813 - val_loss: 0.2501 - val_accuracy: 0.8865\n",
            "Epoch 68/100\n",
            "169/169 [==============================] - 1s 3ms/step - loss: 0.2280 - accuracy: 0.8919 - val_loss: 0.2343 - val_accuracy: 0.8841\n",
            "Epoch 69/100\n",
            "169/169 [==============================] - 1s 3ms/step - loss: 0.2273 - accuracy: 0.8942 - val_loss: 0.2335 - val_accuracy: 0.8887\n",
            "Epoch 70/100\n",
            "169/169 [==============================] - 1s 3ms/step - loss: 0.2216 - accuracy: 0.8950 - val_loss: 0.2330 - val_accuracy: 0.8891\n",
            "Epoch 71/100\n",
            "169/169 [==============================] - 1s 3ms/step - loss: 0.2195 - accuracy: 0.8973 - val_loss: 0.2227 - val_accuracy: 0.8870\n",
            "Epoch 72/100\n",
            "169/169 [==============================] - 1s 3ms/step - loss: 0.2303 - accuracy: 0.8937 - val_loss: 0.2455 - val_accuracy: 0.8806\n",
            "Epoch 73/100\n",
            "169/169 [==============================] - 1s 3ms/step - loss: 0.2288 - accuracy: 0.8972 - val_loss: 0.2630 - val_accuracy: 0.8761\n",
            "Epoch 74/100\n",
            "169/169 [==============================] - 1s 4ms/step - loss: 0.2396 - accuracy: 0.8895 - val_loss: 0.2370 - val_accuracy: 0.8867\n",
            "Epoch 75/100\n",
            "169/169 [==============================] - 1s 4ms/step - loss: 0.2187 - accuracy: 0.8978 - val_loss: 0.2305 - val_accuracy: 0.8906\n",
            "Epoch 76/100\n",
            "169/169 [==============================] - 1s 3ms/step - loss: 0.2504 - accuracy: 0.8871 - val_loss: 0.2849 - val_accuracy: 0.8707\n",
            "Epoch 77/100\n",
            "169/169 [==============================] - 1s 4ms/step - loss: 0.2510 - accuracy: 0.8844 - val_loss: 0.2311 - val_accuracy: 0.8863\n",
            "Epoch 78/100\n",
            "169/169 [==============================] - 1s 3ms/step - loss: 0.2234 - accuracy: 0.8965 - val_loss: 0.2284 - val_accuracy: 0.8906\n",
            "Epoch 79/100\n",
            "169/169 [==============================] - 1s 3ms/step - loss: 0.2118 - accuracy: 0.9025 - val_loss: 0.2333 - val_accuracy: 0.8922\n",
            "Epoch 80/100\n",
            "169/169 [==============================] - 1s 3ms/step - loss: 0.2217 - accuracy: 0.8965 - val_loss: 0.2272 - val_accuracy: 0.9035\n",
            "Epoch 81/100\n",
            "169/169 [==============================] - 1s 3ms/step - loss: 0.2217 - accuracy: 0.8963 - val_loss: 0.2287 - val_accuracy: 0.8891\n",
            "Epoch 82/100\n",
            "169/169 [==============================] - 1s 4ms/step - loss: 0.2144 - accuracy: 0.9001 - val_loss: 0.2289 - val_accuracy: 0.8894\n",
            "Epoch 83/100\n",
            "169/169 [==============================] - 1s 4ms/step - loss: 0.2156 - accuracy: 0.8981 - val_loss: 0.2256 - val_accuracy: 0.8898\n",
            "Epoch 84/100\n",
            "169/169 [==============================] - 1s 4ms/step - loss: 0.2095 - accuracy: 0.9029 - val_loss: 0.2622 - val_accuracy: 0.8763\n",
            "Epoch 85/100\n",
            "169/169 [==============================] - 1s 3ms/step - loss: 0.2265 - accuracy: 0.8933 - val_loss: 0.2328 - val_accuracy: 0.8857\n",
            "Epoch 86/100\n",
            "169/169 [==============================] - 1s 3ms/step - loss: 0.2261 - accuracy: 0.8950 - val_loss: 0.2426 - val_accuracy: 0.8883\n",
            "Epoch 87/100\n",
            "169/169 [==============================] - 1s 3ms/step - loss: 0.2274 - accuracy: 0.8949 - val_loss: 0.2275 - val_accuracy: 0.8848\n",
            "Epoch 88/100\n",
            "169/169 [==============================] - 1s 3ms/step - loss: 0.2158 - accuracy: 0.8995 - val_loss: 0.2278 - val_accuracy: 0.8859\n",
            "Epoch 89/100\n",
            "169/169 [==============================] - 1s 3ms/step - loss: 0.2150 - accuracy: 0.8980 - val_loss: 0.2270 - val_accuracy: 0.8920\n",
            "Epoch 90/100\n",
            "169/169 [==============================] - 1s 3ms/step - loss: 0.2089 - accuracy: 0.8990 - val_loss: 0.2195 - val_accuracy: 0.8928\n",
            "Epoch 91/100\n",
            "169/169 [==============================] - 1s 3ms/step - loss: 0.2096 - accuracy: 0.9003 - val_loss: 0.2334 - val_accuracy: 0.8872\n",
            "Epoch 92/100\n",
            "169/169 [==============================] - 1s 3ms/step - loss: 0.2068 - accuracy: 0.9019 - val_loss: 0.2221 - val_accuracy: 0.8911\n",
            "Epoch 93/100\n",
            "169/169 [==============================] - 1s 3ms/step - loss: 0.2032 - accuracy: 0.9040 - val_loss: 0.2205 - val_accuracy: 0.8917\n",
            "Epoch 94/100\n",
            "169/169 [==============================] - 1s 3ms/step - loss: 0.2068 - accuracy: 0.9017 - val_loss: 0.2198 - val_accuracy: 0.8928\n",
            "Epoch 95/100\n",
            "169/169 [==============================] - 1s 3ms/step - loss: 0.2052 - accuracy: 0.9036 - val_loss: 0.2275 - val_accuracy: 0.8870\n",
            "Epoch 96/100\n",
            "169/169 [==============================] - 1s 3ms/step - loss: 0.2095 - accuracy: 0.8980 - val_loss: 0.2249 - val_accuracy: 0.8907\n",
            "Epoch 97/100\n",
            "169/169 [==============================] - 1s 3ms/step - loss: 0.2144 - accuracy: 0.8980 - val_loss: 0.2310 - val_accuracy: 0.8898\n",
            "Epoch 98/100\n",
            "169/169 [==============================] - 1s 3ms/step - loss: 0.2648 - accuracy: 0.8849 - val_loss: 0.2272 - val_accuracy: 0.8987\n",
            "Epoch 99/100\n",
            "169/169 [==============================] - 1s 3ms/step - loss: 0.2136 - accuracy: 0.8991 - val_loss: 0.2670 - val_accuracy: 0.8780\n",
            "Epoch 100/100\n",
            "169/169 [==============================] - 1s 3ms/step - loss: 0.2467 - accuracy: 0.8833 - val_loss: 0.2196 - val_accuracy: 0.8917\n",
            "282/282 [==============================] - 1s 2ms/step - loss: 0.2140 - accuracy: 0.8968\n"
          ],
          "name": "stdout"
        }
      ]
    },
    {
      "cell_type": "code",
      "metadata": {
        "colab": {
          "base_uri": "https://localhost:8080/",
          "height": 265
        },
        "id": "KpSVbJNwanA9",
        "outputId": "b0bc3c9c-6cda-4eb9-cd0f-b84430391526"
      },
      "source": [
        "plt.plot(history.history[\"loss\"], label=\"Training Loss\")\n",
        "plt.plot(history.history[\"val_loss\"], label=\"Validation Loss\")\n",
        "plt.legend()\n",
        "plt.show()"
      ],
      "execution_count": 88,
      "outputs": [
        {
          "output_type": "display_data",
          "data": {
            "image/png": "[encoded data removed]",
            "text/plain": [
              "<Figure size 432x288 with 1 Axes>"
            ]
          },
          "metadata": {
            "tags": [],
            "needs_background": "light"
          }
        }
      ]
    },
    {
      "cell_type": "code",
      "metadata": {
        "colab": {
          "base_uri": "https://localhost:8080/",
          "height": 265
        },
        "id": "d5JoyyUJbUAl",
        "outputId": "d9b54cb3-023f-49ef-8000-0c82c62192b9"
      },
      "source": [
        "plt.plot(history.history[\"accuracy\"],label=\"Training Accuracy\")\n",
        "plt.plot(history.history[\"val_accuracy\"],label=\"Testing Accuracy\")\n",
        "plt.legend()\n",
        "plt.show()"
      ],
      "execution_count": 89,
      "outputs": [
        {
          "output_type": "display_data",
          "data": {
            "image/png": "[encoded data removed]",
            "text/plain": [
              "<Figure size 432x288 with 1 Axes>"
            ]
          },
          "metadata": {
            "tags": [],
            "needs_background": "light"
          }
        }
      ]
    }
  ]
}