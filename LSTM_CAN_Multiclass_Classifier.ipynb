{
  "nbformat": 4,
  "nbformat_minor": 0,
  "metadata": {
    "colab": {
      "name": "LSTM_CAN_Multiclass_Classifier.ipynb",
      "provenance": [],
      "collapsed_sections": [],
      "authorship_tag": "ABX9TyMdOI50jjOyWfginJY4JknQ",
      "include_colab_link": true
    },
    "kernelspec": {
      "name": "python3",
      "display_name": "Python 3"
    },
    "language_info": {
      "name": "python"
    },
    "accelerator": "GPU"
  },
  "cells": [
    {
      "cell_type": "markdown",
      "metadata": {
        "id": "view-in-github",
        "colab_type": "text"
      },
      "source": [
        "<a href=\"https://colab.research.google.com/github/frh02/CAN_Research/blob/main/LSTM_CAN_Multiclass_Classifier.ipynb\" target=\"_parent\"><img src=\"https://colab.research.google.com/assets/colab-badge.svg\" alt=\"Open In Colab\"/></a>"
      ]
    },
    {
      "cell_type": "markdown",
      "metadata": {
        "id": "B3gXn5_vDXa7"
      },
      "source": [
        "# Importing Libraries "
      ]
    },
    {
      "cell_type": "code",
      "metadata": {
        "id": "XoIiM1h-YNPi"
      },
      "source": [
        "import pandas as pd\n",
        "import tensorflow as tf\n",
        "import keras\n",
        "from sklearn.model_selection import train_test_split\n",
        "import keras.utils\n",
        "from keras import utils as np_utils\n",
        "import numpy as np\n",
        "import pandas as pd\n",
        "from tensorflow import keras\n",
        "from tensorflow.keras import layers\n",
        "from datetime import datetime\n",
        "from matplotlib import pyplot as plt\n",
        "from matplotlib import dates as md\n",
        "from keras.utils.np_utils import to_categorical\n",
        "import csv\n",
        "%matplotlib inline  \n",
        "from ast import literal_eval \n",
        "import array as array\n",
        "from keras.layers import Dense, Embedding, LSTM, Dropout\n",
        "from keras.models import Sequential\n",
        "from keras.utils.np_utils import to_categorical\n",
        "from keras.callbacks import EarlyStopping\n"
      ],
      "execution_count": 1,
      "outputs": []
    },
    {
      "cell_type": "markdown",
      "metadata": {
        "id": "o1GVefTIDdmm"
      },
      "source": [
        "## Reading the file for multi class classification"
      ]
    },
    {
      "cell_type": "code",
      "metadata": {
        "colab": {
          "base_uri": "https://localhost:8080/"
        },
        "id": "c6rYE36KcmwL",
        "outputId": "7d9463c7-c3f3-40dc-acda-20575c9ce911"
      },
      "source": [
        "df = pd.read_csv('/content/Multi_class_Attack.csv')\n",
        "print(df)"
      ],
      "execution_count": 2,
      "outputs": [
        {
          "output_type": "stream",
          "name": "stdout",
          "text": [
            "       Unnamed: 0  Unnamed: 0.1        Time       seconds   ID Value  App  \\\n",
            "0               0             0  Timestamp:  0.000000e+00  ID:   790    0   \n",
            "1               1             1  Timestamp:  2.240000e-04  ID:   809    0   \n",
            "2               2             2  Timestamp:  4.620000e-04  ID:   128    0   \n",
            "3               3             3  Timestamp:  7.040000e-04  ID:   129    0   \n",
            "4               4             4  Timestamp:  8.780000e-04  ID:   288    0   \n",
            "...           ...           ...         ...           ...  ...   ...  ...   \n",
            "35995        7995          7995  Timestamp:  1.481193e+09  ID:  0220    0   \n",
            "35996        7996          7996  Timestamp:  1.481193e+09  ID:  0316    0   \n",
            "35997        7997          7997  Timestamp:  1.481193e+09  ID:  018f    0   \n",
            "35998        7998          7998  Timestamp:  1.481193e+09  ID:  0080    0   \n",
            "35999        7999          7999  Timestamp:  1.481193e+09  ID:  0081    0   \n",
            "\n",
            "        DLC  N  D1  D2  D3  D4  D5  D6  D7  D8  Target  \n",
            "0      DLC:  8  05  20  ea  0a  20  1a  00  7f       0  \n",
            "1      DLC:  8  d7  a7  7f  8c  11  2f  00  10       0  \n",
            "2      DLC:  8  00  17  ea  0a  20  1a  20  43       0  \n",
            "3      DLC:  8  7f  84  60  00  00  00  00  53       0  \n",
            "4      DLC:  4  00  00  00  00  -1  -1  -1  -1       0  \n",
            "...     ... ..  ..  ..  ..  ..  ..  ..  ..  ..     ...  \n",
            "35995  DLC:  8  f6  03  02  04  09  00  3b  10       3  \n",
            "35996  DLC:  8  05  1b  7c  0a  1b  13  00  7f       3  \n",
            "35997  DLC:  8  00  21  1b  00  00  43  00  00       3  \n",
            "35998  DLC:  8  00  17  7c  0a  1b  13  1b  5a       3  \n",
            "35999  DLC:  8  4d  84  5d  00  00  00  00  7a       3  \n",
            "\n",
            "[36000 rows x 18 columns]\n"
          ]
        }
      ]
    },
    {
      "cell_type": "markdown",
      "metadata": {
        "id": "hHjEguiUDkC5"
      },
      "source": [
        "## Shuffling the data and cleaning the data \n"
      ]
    },
    {
      "cell_type": "code",
      "metadata": {
        "colab": {
          "base_uri": "https://localhost:8080/"
        },
        "id": "CV0GY1goaQeL",
        "outputId": "3681b35c-76e4-4f2e-fcd0-39c893afad68"
      },
      "source": [
        "df = df.reindex(np.random.permutation(df.index))\n",
        "properties = list(df.columns.values)\n",
        "properties.remove('Time')\n",
        "properties.remove('seconds')\n",
        "properties.remove('ID')\n",
        "properties.remove('DLC')\n",
        "properties.remove('App')\n",
        "properties.remove('Unnamed: 0')\n",
        "properties.remove('Unnamed: 0.1')\n",
        "properties.remove('Target')\n",
        "df['Value']= df['Value'].apply(lambda x: int(str(x),16))\n",
        "df['D1']=df['D1'].apply(lambda x: int(str(x),16))\n",
        "df['D2']=df['D2'].apply(lambda x: int(str(x),16))\n",
        "df['D3']=df['D3'].apply(lambda x: int(str(x),16))\n",
        "df['D4']=df['D4'].apply(lambda x: int(str(x),16))\n",
        "df['D5']=df['D5'].apply(lambda x: int(str(x),16))\n",
        "df['D6']=df['D6'].apply(lambda x: int(str(x),16))\n",
        "df['D7']=df['D7'].apply(lambda x: int(str(x),16))\n",
        "df['D8']=df['D8'].apply(lambda x: int(str(x),16))\n",
        "X = df[properties]\n",
        "X = np.asarray(X).astype(np.float32)\n",
        "y = df['Target']\n",
        "X = np.expand_dims(X, axis=2)\n",
        "y = np.expand_dims(y, axis=1)\n",
        "print(X.shape)\n",
        "print(y.shape)"
      ],
      "execution_count": 3,
      "outputs": [
        {
          "output_type": "stream",
          "name": "stdout",
          "text": [
            "(36000, 10, 1)\n",
            "(36000, 1)\n"
          ]
        }
      ]
    },
    {
      "cell_type": "markdown",
      "metadata": {
        "id": "NDfUXg1ADw6l"
      },
      "source": [
        "## One hot encoding for labels"
      ]
    },
    {
      "cell_type": "code",
      "metadata": {
        "id": "DuTavD463ZuB"
      },
      "source": [
        "y = to_categorical(y, num_classes=4)"
      ],
      "execution_count": 4,
      "outputs": []
    },
    {
      "cell_type": "markdown",
      "metadata": {
        "id": "OB3s2L0qD20w"
      },
      "source": [
        "## Converting the 2D array to the 3D array for LSTM analysis "
      ]
    },
    {
      "cell_type": "code",
      "metadata": {
        "colab": {
          "base_uri": "https://localhost:8080/"
        },
        "id": "TgfBc0iqvpJg",
        "outputId": "e6b14062-f3c8-48ff-b6dc-8400ffbf06f6"
      },
      "source": [
        "TIME_STEPS = 288\n",
        "def create_sequences(values, time_steps=TIME_STEPS):\n",
        "    output = []\n",
        "    for i in range(len(values) - time_steps):\n",
        "        output.append(values[i : (i + time_steps)])\n",
        "    # Convert 2D sequences into 3D as we will be feeding this into\n",
        "    # a convolutional layer.\n",
        "    return np.expand_dims(output, axis=2)\n",
        "\n",
        "training_value = df \n",
        "x_train = create_sequences(training_value)\n",
        "print(\"Training input shape: \", x_train.shape)\n",
        "X_train, X_test, y_train, y_test = train_test_split(X , y, test_size=0.25, random_state=42)"
      ],
      "execution_count": 5,
      "outputs": [
        {
          "output_type": "stream",
          "name": "stdout",
          "text": [
            "Training input shape:  (35712, 288, 1, 18)\n"
          ]
        }
      ]
    },
    {
      "cell_type": "code",
      "metadata": {
        "colab": {
          "base_uri": "https://localhost:8080/"
        },
        "id": "irC6iM3Y5ntJ",
        "outputId": "048d3b51-77ef-4d0d-b6ce-1b3752eec8ee"
      },
      "source": [
        "print((X_train.shape, y_train.shape, X_test.shape, y_test.shape))"
      ],
      "execution_count": 6,
      "outputs": [
        {
          "output_type": "stream",
          "name": "stdout",
          "text": [
            "((27000, 10, 1), (27000, 4), (9000, 10, 1), (9000, 4))\n"
          ]
        }
      ]
    },
    {
      "cell_type": "markdown",
      "metadata": {
        "id": "zphUcHCYD-S9"
      },
      "source": [
        "## Loading the LSTM Model"
      ]
    },
    {
      "cell_type": "code",
      "metadata": {
        "id": "afZnjtFb5YDS"
      },
      "source": [
        "epochs = 50\n",
        "#emb_dim = 128\n",
        "batch_size = 128\n",
        "y[:2]\n",
        "n_steps = X_train.shape[1]\n",
        "n_features = X_train.shape[2]"
      ],
      "execution_count": 7,
      "outputs": []
    },
    {
      "cell_type": "code",
      "metadata": {
        "colab": {
          "base_uri": "https://localhost:8080/",
          "height": 468
        },
        "id": "87jcwjHI54M6",
        "outputId": "769313a0-5fd4-44f9-c216-bbed2a42232d"
      },
      "source": [
        "model = Sequential()\n",
        "\n",
        "model.add(LSTM(256, activation='relu',\n",
        "               input_shape=(n_steps, n_features), return_sequences=True))\n",
        "#model.add(Dropout(0.2))\n",
        "model.add(Dense(256, activation='relu'))\n",
        "#model.add(Dense(256, activation='relu'))\n",
        "#model.add(Dropout(0.2))\n",
        "model.add(LSTM(128, activation='relu'))\n",
        "model.add(Dense(64, activation='relu'))\n",
        "#model.add(Dropout(0.2))\n",
        "model.add(Dense(4, activation='softmax'))\n",
        "\n",
        "opt = tf.keras.optimizers.Adam(lr=1e-3, decay=1e-5)\n",
        "\n",
        "model.compile(optimizer='adam',\n",
        "              loss='categorical_crossentropy',\n",
        "              metrics=['accuracy'])\n",
        "\n",
        "history = model.fit(X_train, y_train, epochs=epochs, batch_size=batch_size,validation_split=0.2,callbacks=[EarlyStopping(monitor='val_loss',patience=7, min_delta=0.0001)])"
      ],
      "execution_count": 8,
      "outputs": [
        {
          "output_type": "stream",
          "name": "stdout",
          "text": [
            "WARNING:tensorflow:Layer lstm will not use cuDNN kernels since it doesn't meet the criteria. It will use a generic GPU kernel as fallback when running on GPU.\n",
            "WARNING:tensorflow:Layer lstm_1 will not use cuDNN kernels since it doesn't meet the criteria. It will use a generic GPU kernel as fallback when running on GPU.\n",
            "Epoch 1/50\n"
          ]
        },
        {
          "output_type": "stream",
          "name": "stderr",
          "text": [
            "/usr/local/lib/python3.7/dist-packages/keras/optimizer_v2/adam.py:105: UserWarning: The `lr` argument is deprecated, use `learning_rate` instead.\n",
            "  super(Adam, self).__init__(name, **kwargs)\n"
          ]
        },
        {
          "output_type": "stream",
          "name": "stdout",
          "text": [
            "124/169 [=====================>........] - ETA: 1s - loss: 1.8272 - accuracy: 0.5629"
          ]
        },
        {
          "output_type": "error",
          "ename": "KeyboardInterrupt",
          "evalue": "ignored",
          "traceback": [
            "\u001b[0;31m---------------------------------------------------------------------------\u001b[0m",
            "\u001b[0;31mKeyboardInterrupt\u001b[0m                         Traceback (most recent call last)",
            "\u001b[0;32m<ipython-input-8-0aeb414f3529>\u001b[0m in \u001b[0;36m<module>\u001b[0;34m()\u001b[0m\n\u001b[1;32m     18\u001b[0m               metrics=['accuracy'])\n\u001b[1;32m     19\u001b[0m \u001b[0;34m\u001b[0m\u001b[0m\n\u001b[0;32m---> 20\u001b[0;31m \u001b[0mhistory\u001b[0m \u001b[0;34m=\u001b[0m \u001b[0mmodel\u001b[0m\u001b[0;34m.\u001b[0m\u001b[0mfit\u001b[0m\u001b[0;34m(\u001b[0m\u001b[0mX_train\u001b[0m\u001b[0;34m,\u001b[0m \u001b[0my_train\u001b[0m\u001b[0;34m,\u001b[0m \u001b[0mepochs\u001b[0m\u001b[0;34m=\u001b[0m\u001b[0mepochs\u001b[0m\u001b[0;34m,\u001b[0m \u001b[0mbatch_size\u001b[0m\u001b[0;34m=\u001b[0m\u001b[0mbatch_size\u001b[0m\u001b[0;34m,\u001b[0m\u001b[0mvalidation_split\u001b[0m\u001b[0;34m=\u001b[0m\u001b[0;36m0.2\u001b[0m\u001b[0;34m,\u001b[0m\u001b[0mcallbacks\u001b[0m\u001b[0;34m=\u001b[0m\u001b[0;34m[\u001b[0m\u001b[0mEarlyStopping\u001b[0m\u001b[0;34m(\u001b[0m\u001b[0mmonitor\u001b[0m\u001b[0;34m=\u001b[0m\u001b[0;34m'val_loss'\u001b[0m\u001b[0;34m,\u001b[0m\u001b[0mpatience\u001b[0m\u001b[0;34m=\u001b[0m\u001b[0;36m7\u001b[0m\u001b[0;34m,\u001b[0m \u001b[0mmin_delta\u001b[0m\u001b[0;34m=\u001b[0m\u001b[0;36m0.0001\u001b[0m\u001b[0;34m)\u001b[0m\u001b[0;34m]\u001b[0m\u001b[0;34m)\u001b[0m\u001b[0;34m\u001b[0m\u001b[0;34m\u001b[0m\u001b[0m\n\u001b[0m",
            "\u001b[0;32m/usr/local/lib/python3.7/dist-packages/keras/utils/traceback_utils.py\u001b[0m in \u001b[0;36merror_handler\u001b[0;34m(*args, **kwargs)\u001b[0m\n\u001b[1;32m     62\u001b[0m     \u001b[0mfiltered_tb\u001b[0m \u001b[0;34m=\u001b[0m \u001b[0;32mNone\u001b[0m\u001b[0;34m\u001b[0m\u001b[0;34m\u001b[0m\u001b[0m\n\u001b[1;32m     63\u001b[0m     \u001b[0;32mtry\u001b[0m\u001b[0;34m:\u001b[0m\u001b[0;34m\u001b[0m\u001b[0;34m\u001b[0m\u001b[0m\n\u001b[0;32m---> 64\u001b[0;31m       \u001b[0;32mreturn\u001b[0m \u001b[0mfn\u001b[0m\u001b[0;34m(\u001b[0m\u001b[0;34m*\u001b[0m\u001b[0margs\u001b[0m\u001b[0;34m,\u001b[0m \u001b[0;34m**\u001b[0m\u001b[0mkwargs\u001b[0m\u001b[0;34m)\u001b[0m\u001b[0;34m\u001b[0m\u001b[0;34m\u001b[0m\u001b[0m\n\u001b[0m\u001b[1;32m     65\u001b[0m     \u001b[0;32mexcept\u001b[0m \u001b[0mException\u001b[0m \u001b[0;32mas\u001b[0m \u001b[0me\u001b[0m\u001b[0;34m:\u001b[0m  \u001b[0;31m# pylint: disable=broad-except\u001b[0m\u001b[0;34m\u001b[0m\u001b[0;34m\u001b[0m\u001b[0m\n\u001b[1;32m     66\u001b[0m       \u001b[0mfiltered_tb\u001b[0m \u001b[0;34m=\u001b[0m \u001b[0m_process_traceback_frames\u001b[0m\u001b[0;34m(\u001b[0m\u001b[0me\u001b[0m\u001b[0;34m.\u001b[0m\u001b[0m__traceback__\u001b[0m\u001b[0;34m)\u001b[0m\u001b[0;34m\u001b[0m\u001b[0;34m\u001b[0m\u001b[0m\n",
            "\u001b[0;32m/usr/local/lib/python3.7/dist-packages/keras/engine/training.py\u001b[0m in \u001b[0;36mfit\u001b[0;34m(self, x, y, batch_size, epochs, verbose, callbacks, validation_split, validation_data, shuffle, class_weight, sample_weight, initial_epoch, steps_per_epoch, validation_steps, validation_batch_size, validation_freq, max_queue_size, workers, use_multiprocessing)\u001b[0m\n\u001b[1;32m   1387\u001b[0m               \u001b[0mlogs\u001b[0m \u001b[0;34m=\u001b[0m \u001b[0mtmp_logs\u001b[0m  \u001b[0;31m# No error, now safe to assign to logs.\u001b[0m\u001b[0;34m\u001b[0m\u001b[0;34m\u001b[0m\u001b[0m\n\u001b[1;32m   1388\u001b[0m               \u001b[0mend_step\u001b[0m \u001b[0;34m=\u001b[0m \u001b[0mstep\u001b[0m \u001b[0;34m+\u001b[0m \u001b[0mdata_handler\u001b[0m\u001b[0;34m.\u001b[0m\u001b[0mstep_increment\u001b[0m\u001b[0;34m\u001b[0m\u001b[0;34m\u001b[0m\u001b[0m\n\u001b[0;32m-> 1389\u001b[0;31m               \u001b[0mcallbacks\u001b[0m\u001b[0;34m.\u001b[0m\u001b[0mon_train_batch_end\u001b[0m\u001b[0;34m(\u001b[0m\u001b[0mend_step\u001b[0m\u001b[0;34m,\u001b[0m \u001b[0mlogs\u001b[0m\u001b[0;34m)\u001b[0m\u001b[0;34m\u001b[0m\u001b[0;34m\u001b[0m\u001b[0m\n\u001b[0m\u001b[1;32m   1390\u001b[0m               \u001b[0;32mif\u001b[0m \u001b[0mself\u001b[0m\u001b[0;34m.\u001b[0m\u001b[0mstop_training\u001b[0m\u001b[0;34m:\u001b[0m\u001b[0;34m\u001b[0m\u001b[0;34m\u001b[0m\u001b[0m\n\u001b[1;32m   1391\u001b[0m                 \u001b[0;32mbreak\u001b[0m\u001b[0;34m\u001b[0m\u001b[0;34m\u001b[0m\u001b[0m\n",
            "\u001b[0;32m/usr/local/lib/python3.7/dist-packages/keras/callbacks.py\u001b[0m in \u001b[0;36mon_train_batch_end\u001b[0;34m(self, batch, logs)\u001b[0m\n\u001b[1;32m    436\u001b[0m     \"\"\"\n\u001b[1;32m    437\u001b[0m     \u001b[0;32mif\u001b[0m \u001b[0mself\u001b[0m\u001b[0;34m.\u001b[0m\u001b[0m_should_call_train_batch_hooks\u001b[0m\u001b[0;34m:\u001b[0m\u001b[0;34m\u001b[0m\u001b[0;34m\u001b[0m\u001b[0m\n\u001b[0;32m--> 438\u001b[0;31m       \u001b[0mself\u001b[0m\u001b[0;34m.\u001b[0m\u001b[0m_call_batch_hook\u001b[0m\u001b[0;34m(\u001b[0m\u001b[0mModeKeys\u001b[0m\u001b[0;34m.\u001b[0m\u001b[0mTRAIN\u001b[0m\u001b[0;34m,\u001b[0m \u001b[0;34m'end'\u001b[0m\u001b[0;34m,\u001b[0m \u001b[0mbatch\u001b[0m\u001b[0;34m,\u001b[0m \u001b[0mlogs\u001b[0m\u001b[0;34m=\u001b[0m\u001b[0mlogs\u001b[0m\u001b[0;34m)\u001b[0m\u001b[0;34m\u001b[0m\u001b[0;34m\u001b[0m\u001b[0m\n\u001b[0m\u001b[1;32m    439\u001b[0m \u001b[0;34m\u001b[0m\u001b[0m\n\u001b[1;32m    440\u001b[0m   \u001b[0;32mdef\u001b[0m \u001b[0mon_test_batch_begin\u001b[0m\u001b[0;34m(\u001b[0m\u001b[0mself\u001b[0m\u001b[0;34m,\u001b[0m \u001b[0mbatch\u001b[0m\u001b[0;34m,\u001b[0m \u001b[0mlogs\u001b[0m\u001b[0;34m=\u001b[0m\u001b[0;32mNone\u001b[0m\u001b[0;34m)\u001b[0m\u001b[0;34m:\u001b[0m\u001b[0;34m\u001b[0m\u001b[0;34m\u001b[0m\u001b[0m\n",
            "\u001b[0;32m/usr/local/lib/python3.7/dist-packages/keras/callbacks.py\u001b[0m in \u001b[0;36m_call_batch_hook\u001b[0;34m(self, mode, hook, batch, logs)\u001b[0m\n\u001b[1;32m    295\u001b[0m       \u001b[0mself\u001b[0m\u001b[0;34m.\u001b[0m\u001b[0m_call_batch_begin_hook\u001b[0m\u001b[0;34m(\u001b[0m\u001b[0mmode\u001b[0m\u001b[0;34m,\u001b[0m \u001b[0mbatch\u001b[0m\u001b[0;34m,\u001b[0m \u001b[0mlogs\u001b[0m\u001b[0;34m)\u001b[0m\u001b[0;34m\u001b[0m\u001b[0;34m\u001b[0m\u001b[0m\n\u001b[1;32m    296\u001b[0m     \u001b[0;32melif\u001b[0m \u001b[0mhook\u001b[0m \u001b[0;34m==\u001b[0m \u001b[0;34m'end'\u001b[0m\u001b[0;34m:\u001b[0m\u001b[0;34m\u001b[0m\u001b[0;34m\u001b[0m\u001b[0m\n\u001b[0;32m--> 297\u001b[0;31m       \u001b[0mself\u001b[0m\u001b[0;34m.\u001b[0m\u001b[0m_call_batch_end_hook\u001b[0m\u001b[0;34m(\u001b[0m\u001b[0mmode\u001b[0m\u001b[0;34m,\u001b[0m \u001b[0mbatch\u001b[0m\u001b[0;34m,\u001b[0m \u001b[0mlogs\u001b[0m\u001b[0;34m)\u001b[0m\u001b[0;34m\u001b[0m\u001b[0;34m\u001b[0m\u001b[0m\n\u001b[0m\u001b[1;32m    298\u001b[0m     \u001b[0;32melse\u001b[0m\u001b[0;34m:\u001b[0m\u001b[0;34m\u001b[0m\u001b[0;34m\u001b[0m\u001b[0m\n\u001b[1;32m    299\u001b[0m       raise ValueError(\n",
            "\u001b[0;32m/usr/local/lib/python3.7/dist-packages/keras/callbacks.py\u001b[0m in \u001b[0;36m_call_batch_end_hook\u001b[0;34m(self, mode, batch, logs)\u001b[0m\n\u001b[1;32m    316\u001b[0m       \u001b[0mself\u001b[0m\u001b[0;34m.\u001b[0m\u001b[0m_batch_times\u001b[0m\u001b[0;34m.\u001b[0m\u001b[0mappend\u001b[0m\u001b[0;34m(\u001b[0m\u001b[0mbatch_time\u001b[0m\u001b[0;34m)\u001b[0m\u001b[0;34m\u001b[0m\u001b[0;34m\u001b[0m\u001b[0m\n\u001b[1;32m    317\u001b[0m \u001b[0;34m\u001b[0m\u001b[0m\n\u001b[0;32m--> 318\u001b[0;31m     \u001b[0mself\u001b[0m\u001b[0;34m.\u001b[0m\u001b[0m_call_batch_hook_helper\u001b[0m\u001b[0;34m(\u001b[0m\u001b[0mhook_name\u001b[0m\u001b[0;34m,\u001b[0m \u001b[0mbatch\u001b[0m\u001b[0;34m,\u001b[0m \u001b[0mlogs\u001b[0m\u001b[0;34m)\u001b[0m\u001b[0;34m\u001b[0m\u001b[0;34m\u001b[0m\u001b[0m\n\u001b[0m\u001b[1;32m    319\u001b[0m \u001b[0;34m\u001b[0m\u001b[0m\n\u001b[1;32m    320\u001b[0m     \u001b[0;32mif\u001b[0m \u001b[0mlen\u001b[0m\u001b[0;34m(\u001b[0m\u001b[0mself\u001b[0m\u001b[0;34m.\u001b[0m\u001b[0m_batch_times\u001b[0m\u001b[0;34m)\u001b[0m \u001b[0;34m>=\u001b[0m \u001b[0mself\u001b[0m\u001b[0;34m.\u001b[0m\u001b[0m_num_batches_for_timing_check\u001b[0m\u001b[0;34m:\u001b[0m\u001b[0;34m\u001b[0m\u001b[0;34m\u001b[0m\u001b[0m\n",
            "\u001b[0;32m/usr/local/lib/python3.7/dist-packages/keras/callbacks.py\u001b[0m in \u001b[0;36m_call_batch_hook_helper\u001b[0;34m(self, hook_name, batch, logs)\u001b[0m\n\u001b[1;32m    354\u001b[0m     \u001b[0;32mfor\u001b[0m \u001b[0mcallback\u001b[0m \u001b[0;32min\u001b[0m \u001b[0mself\u001b[0m\u001b[0;34m.\u001b[0m\u001b[0mcallbacks\u001b[0m\u001b[0;34m:\u001b[0m\u001b[0;34m\u001b[0m\u001b[0;34m\u001b[0m\u001b[0m\n\u001b[1;32m    355\u001b[0m       \u001b[0mhook\u001b[0m \u001b[0;34m=\u001b[0m \u001b[0mgetattr\u001b[0m\u001b[0;34m(\u001b[0m\u001b[0mcallback\u001b[0m\u001b[0;34m,\u001b[0m \u001b[0mhook_name\u001b[0m\u001b[0;34m)\u001b[0m\u001b[0;34m\u001b[0m\u001b[0;34m\u001b[0m\u001b[0m\n\u001b[0;32m--> 356\u001b[0;31m       \u001b[0mhook\u001b[0m\u001b[0;34m(\u001b[0m\u001b[0mbatch\u001b[0m\u001b[0;34m,\u001b[0m \u001b[0mlogs\u001b[0m\u001b[0;34m)\u001b[0m\u001b[0;34m\u001b[0m\u001b[0;34m\u001b[0m\u001b[0m\n\u001b[0m\u001b[1;32m    357\u001b[0m \u001b[0;34m\u001b[0m\u001b[0m\n\u001b[1;32m    358\u001b[0m     \u001b[0;32mif\u001b[0m \u001b[0mself\u001b[0m\u001b[0;34m.\u001b[0m\u001b[0m_check_timing\u001b[0m\u001b[0;34m:\u001b[0m\u001b[0;34m\u001b[0m\u001b[0;34m\u001b[0m\u001b[0m\n",
            "\u001b[0;32m/usr/local/lib/python3.7/dist-packages/keras/callbacks.py\u001b[0m in \u001b[0;36mon_train_batch_end\u001b[0;34m(self, batch, logs)\u001b[0m\n\u001b[1;32m   1032\u001b[0m \u001b[0;34m\u001b[0m\u001b[0m\n\u001b[1;32m   1033\u001b[0m   \u001b[0;32mdef\u001b[0m \u001b[0mon_train_batch_end\u001b[0m\u001b[0;34m(\u001b[0m\u001b[0mself\u001b[0m\u001b[0;34m,\u001b[0m \u001b[0mbatch\u001b[0m\u001b[0;34m,\u001b[0m \u001b[0mlogs\u001b[0m\u001b[0;34m=\u001b[0m\u001b[0;32mNone\u001b[0m\u001b[0;34m)\u001b[0m\u001b[0;34m:\u001b[0m\u001b[0;34m\u001b[0m\u001b[0;34m\u001b[0m\u001b[0m\n\u001b[0;32m-> 1034\u001b[0;31m     \u001b[0mself\u001b[0m\u001b[0;34m.\u001b[0m\u001b[0m_batch_update_progbar\u001b[0m\u001b[0;34m(\u001b[0m\u001b[0mbatch\u001b[0m\u001b[0;34m,\u001b[0m \u001b[0mlogs\u001b[0m\u001b[0;34m)\u001b[0m\u001b[0;34m\u001b[0m\u001b[0;34m\u001b[0m\u001b[0m\n\u001b[0m\u001b[1;32m   1035\u001b[0m \u001b[0;34m\u001b[0m\u001b[0m\n\u001b[1;32m   1036\u001b[0m   \u001b[0;32mdef\u001b[0m \u001b[0mon_test_batch_end\u001b[0m\u001b[0;34m(\u001b[0m\u001b[0mself\u001b[0m\u001b[0;34m,\u001b[0m \u001b[0mbatch\u001b[0m\u001b[0;34m,\u001b[0m \u001b[0mlogs\u001b[0m\u001b[0;34m=\u001b[0m\u001b[0;32mNone\u001b[0m\u001b[0;34m)\u001b[0m\u001b[0;34m:\u001b[0m\u001b[0;34m\u001b[0m\u001b[0;34m\u001b[0m\u001b[0m\n",
            "\u001b[0;32m/usr/local/lib/python3.7/dist-packages/keras/callbacks.py\u001b[0m in \u001b[0;36m_batch_update_progbar\u001b[0;34m(self, batch, logs)\u001b[0m\n\u001b[1;32m   1105\u001b[0m       \u001b[0;31m# Only block async when verbose = 1.\u001b[0m\u001b[0;34m\u001b[0m\u001b[0;34m\u001b[0m\u001b[0;34m\u001b[0m\u001b[0m\n\u001b[1;32m   1106\u001b[0m       \u001b[0mlogs\u001b[0m \u001b[0;34m=\u001b[0m \u001b[0mtf_utils\u001b[0m\u001b[0;34m.\u001b[0m\u001b[0msync_to_numpy_or_python_type\u001b[0m\u001b[0;34m(\u001b[0m\u001b[0mlogs\u001b[0m\u001b[0;34m)\u001b[0m\u001b[0;34m\u001b[0m\u001b[0;34m\u001b[0m\u001b[0m\n\u001b[0;32m-> 1107\u001b[0;31m       \u001b[0mself\u001b[0m\u001b[0;34m.\u001b[0m\u001b[0mprogbar\u001b[0m\u001b[0;34m.\u001b[0m\u001b[0mupdate\u001b[0m\u001b[0;34m(\u001b[0m\u001b[0mself\u001b[0m\u001b[0;34m.\u001b[0m\u001b[0mseen\u001b[0m\u001b[0;34m,\u001b[0m \u001b[0mlist\u001b[0m\u001b[0;34m(\u001b[0m\u001b[0mlogs\u001b[0m\u001b[0;34m.\u001b[0m\u001b[0mitems\u001b[0m\u001b[0;34m(\u001b[0m\u001b[0;34m)\u001b[0m\u001b[0;34m)\u001b[0m\u001b[0;34m,\u001b[0m \u001b[0mfinalize\u001b[0m\u001b[0;34m=\u001b[0m\u001b[0;32mFalse\u001b[0m\u001b[0;34m)\u001b[0m\u001b[0;34m\u001b[0m\u001b[0;34m\u001b[0m\u001b[0m\n\u001b[0m\u001b[1;32m   1108\u001b[0m \u001b[0;34m\u001b[0m\u001b[0m\n\u001b[1;32m   1109\u001b[0m   \u001b[0;32mdef\u001b[0m \u001b[0m_finalize_progbar\u001b[0m\u001b[0;34m(\u001b[0m\u001b[0mself\u001b[0m\u001b[0;34m,\u001b[0m \u001b[0mlogs\u001b[0m\u001b[0;34m,\u001b[0m \u001b[0mcounter\u001b[0m\u001b[0;34m)\u001b[0m\u001b[0;34m:\u001b[0m\u001b[0;34m\u001b[0m\u001b[0;34m\u001b[0m\u001b[0m\n",
            "\u001b[0;32m/usr/local/lib/python3.7/dist-packages/keras/utils/generic_utils.py\u001b[0m in \u001b[0;36mupdate\u001b[0;34m(self, current, values, finalize)\u001b[0m\n\u001b[1;32m    974\u001b[0m \u001b[0;34m\u001b[0m\u001b[0m\n\u001b[1;32m    975\u001b[0m       \u001b[0mmessage\u001b[0m \u001b[0;34m+=\u001b[0m \u001b[0minfo\u001b[0m\u001b[0;34m\u001b[0m\u001b[0;34m\u001b[0m\u001b[0m\n\u001b[0;32m--> 976\u001b[0;31m       \u001b[0mio_utils\u001b[0m\u001b[0;34m.\u001b[0m\u001b[0mprint_msg\u001b[0m\u001b[0;34m(\u001b[0m\u001b[0mmessage\u001b[0m\u001b[0;34m,\u001b[0m \u001b[0mline_break\u001b[0m\u001b[0;34m=\u001b[0m\u001b[0;32mFalse\u001b[0m\u001b[0;34m)\u001b[0m\u001b[0;34m\u001b[0m\u001b[0;34m\u001b[0m\u001b[0m\n\u001b[0m\u001b[1;32m    977\u001b[0m       \u001b[0mmessage\u001b[0m \u001b[0;34m=\u001b[0m \u001b[0;34m''\u001b[0m\u001b[0;34m\u001b[0m\u001b[0;34m\u001b[0m\u001b[0m\n\u001b[1;32m    978\u001b[0m \u001b[0;34m\u001b[0m\u001b[0m\n",
            "\u001b[0;32m/usr/local/lib/python3.7/dist-packages/keras/utils/io_utils.py\u001b[0m in \u001b[0;36mprint_msg\u001b[0;34m(message, line_break)\u001b[0m\n\u001b[1;32m     36\u001b[0m     \u001b[0;32melse\u001b[0m\u001b[0;34m:\u001b[0m\u001b[0;34m\u001b[0m\u001b[0;34m\u001b[0m\u001b[0m\n\u001b[1;32m     37\u001b[0m       \u001b[0msys\u001b[0m\u001b[0;34m.\u001b[0m\u001b[0mstdout\u001b[0m\u001b[0;34m.\u001b[0m\u001b[0mwrite\u001b[0m\u001b[0;34m(\u001b[0m\u001b[0mmessage\u001b[0m\u001b[0;34m)\u001b[0m\u001b[0;34m\u001b[0m\u001b[0;34m\u001b[0m\u001b[0m\n\u001b[0;32m---> 38\u001b[0;31m     \u001b[0msys\u001b[0m\u001b[0;34m.\u001b[0m\u001b[0mstdout\u001b[0m\u001b[0;34m.\u001b[0m\u001b[0mflush\u001b[0m\u001b[0;34m(\u001b[0m\u001b[0;34m)\u001b[0m\u001b[0;34m\u001b[0m\u001b[0;34m\u001b[0m\u001b[0m\n\u001b[0m\u001b[1;32m     39\u001b[0m \u001b[0;34m\u001b[0m\u001b[0m\n\u001b[1;32m     40\u001b[0m \u001b[0;34m\u001b[0m\u001b[0m\n",
            "\u001b[0;32m/usr/local/lib/python3.7/dist-packages/ipykernel/iostream.py\u001b[0m in \u001b[0;36mflush\u001b[0;34m(self)\u001b[0m\n\u001b[1;32m    347\u001b[0m                 \u001b[0mself\u001b[0m\u001b[0;34m.\u001b[0m\u001b[0mpub_thread\u001b[0m\u001b[0;34m.\u001b[0m\u001b[0mschedule\u001b[0m\u001b[0;34m(\u001b[0m\u001b[0mevt\u001b[0m\u001b[0;34m.\u001b[0m\u001b[0mset\u001b[0m\u001b[0;34m)\u001b[0m\u001b[0;34m\u001b[0m\u001b[0;34m\u001b[0m\u001b[0m\n\u001b[1;32m    348\u001b[0m                 \u001b[0;31m# and give a timeout to avoid\u001b[0m\u001b[0;34m\u001b[0m\u001b[0;34m\u001b[0m\u001b[0;34m\u001b[0m\u001b[0m\n\u001b[0;32m--> 349\u001b[0;31m                 \u001b[0;32mif\u001b[0m \u001b[0;32mnot\u001b[0m \u001b[0mevt\u001b[0m\u001b[0;34m.\u001b[0m\u001b[0mwait\u001b[0m\u001b[0;34m(\u001b[0m\u001b[0mself\u001b[0m\u001b[0;34m.\u001b[0m\u001b[0mflush_timeout\u001b[0m\u001b[0;34m)\u001b[0m\u001b[0;34m:\u001b[0m\u001b[0;34m\u001b[0m\u001b[0;34m\u001b[0m\u001b[0m\n\u001b[0m\u001b[1;32m    350\u001b[0m                     \u001b[0;31m# write directly to __stderr__ instead of warning because\u001b[0m\u001b[0;34m\u001b[0m\u001b[0;34m\u001b[0m\u001b[0;34m\u001b[0m\u001b[0m\n\u001b[1;32m    351\u001b[0m                     \u001b[0;31m# if this is happening sys.stderr may be the problem.\u001b[0m\u001b[0;34m\u001b[0m\u001b[0;34m\u001b[0m\u001b[0;34m\u001b[0m\u001b[0m\n",
            "\u001b[0;32m/usr/lib/python3.7/threading.py\u001b[0m in \u001b[0;36mwait\u001b[0;34m(self, timeout)\u001b[0m\n\u001b[1;32m    550\u001b[0m             \u001b[0msignaled\u001b[0m \u001b[0;34m=\u001b[0m \u001b[0mself\u001b[0m\u001b[0;34m.\u001b[0m\u001b[0m_flag\u001b[0m\u001b[0;34m\u001b[0m\u001b[0;34m\u001b[0m\u001b[0m\n\u001b[1;32m    551\u001b[0m             \u001b[0;32mif\u001b[0m \u001b[0;32mnot\u001b[0m \u001b[0msignaled\u001b[0m\u001b[0;34m:\u001b[0m\u001b[0;34m\u001b[0m\u001b[0;34m\u001b[0m\u001b[0m\n\u001b[0;32m--> 552\u001b[0;31m                 \u001b[0msignaled\u001b[0m \u001b[0;34m=\u001b[0m \u001b[0mself\u001b[0m\u001b[0;34m.\u001b[0m\u001b[0m_cond\u001b[0m\u001b[0;34m.\u001b[0m\u001b[0mwait\u001b[0m\u001b[0;34m(\u001b[0m\u001b[0mtimeout\u001b[0m\u001b[0;34m)\u001b[0m\u001b[0;34m\u001b[0m\u001b[0;34m\u001b[0m\u001b[0m\n\u001b[0m\u001b[1;32m    553\u001b[0m             \u001b[0;32mreturn\u001b[0m \u001b[0msignaled\u001b[0m\u001b[0;34m\u001b[0m\u001b[0;34m\u001b[0m\u001b[0m\n\u001b[1;32m    554\u001b[0m \u001b[0;34m\u001b[0m\u001b[0m\n",
            "\u001b[0;32m/usr/lib/python3.7/threading.py\u001b[0m in \u001b[0;36mwait\u001b[0;34m(self, timeout)\u001b[0m\n\u001b[1;32m    298\u001b[0m             \u001b[0;32melse\u001b[0m\u001b[0;34m:\u001b[0m\u001b[0;34m\u001b[0m\u001b[0;34m\u001b[0m\u001b[0m\n\u001b[1;32m    299\u001b[0m                 \u001b[0;32mif\u001b[0m \u001b[0mtimeout\u001b[0m \u001b[0;34m>\u001b[0m \u001b[0;36m0\u001b[0m\u001b[0;34m:\u001b[0m\u001b[0;34m\u001b[0m\u001b[0;34m\u001b[0m\u001b[0m\n\u001b[0;32m--> 300\u001b[0;31m                     \u001b[0mgotit\u001b[0m \u001b[0;34m=\u001b[0m \u001b[0mwaiter\u001b[0m\u001b[0;34m.\u001b[0m\u001b[0macquire\u001b[0m\u001b[0;34m(\u001b[0m\u001b[0;32mTrue\u001b[0m\u001b[0;34m,\u001b[0m \u001b[0mtimeout\u001b[0m\u001b[0;34m)\u001b[0m\u001b[0;34m\u001b[0m\u001b[0;34m\u001b[0m\u001b[0m\n\u001b[0m\u001b[1;32m    301\u001b[0m                 \u001b[0;32melse\u001b[0m\u001b[0;34m:\u001b[0m\u001b[0;34m\u001b[0m\u001b[0;34m\u001b[0m\u001b[0m\n\u001b[1;32m    302\u001b[0m                     \u001b[0mgotit\u001b[0m \u001b[0;34m=\u001b[0m \u001b[0mwaiter\u001b[0m\u001b[0;34m.\u001b[0m\u001b[0macquire\u001b[0m\u001b[0;34m(\u001b[0m\u001b[0;32mFalse\u001b[0m\u001b[0;34m)\u001b[0m\u001b[0;34m\u001b[0m\u001b[0;34m\u001b[0m\u001b[0m\n",
            "\u001b[0;31mKeyboardInterrupt\u001b[0m: "
          ]
        }
      ]
    },
    {
      "cell_type": "code",
      "metadata": {
        "id": "tJOWHqHEvnSN"
      },
      "source": [
        "plt.plot(history.history[\"loss\"], label=\"Training Loss\")\n",
        "plt.plot(history.history[\"val_loss\"], label=\"Validation Loss\")\n",
        "plt.legend()\n",
        "plt.show()"
      ],
      "execution_count": null,
      "outputs": []
    },
    {
      "cell_type": "code",
      "metadata": {
        "id": "YnbUifM9Gnr9"
      },
      "source": [
        "plt.plot(history.history[\"accuracy\"],label=\"Training Accuracy\")\n",
        "plt.plot(history.history[\"val_accuracy\"],label=\"Testing Accuracy\")\n",
        "plt.legend()\n",
        "plt.show()"
      ],
      "execution_count": null,
      "outputs": []
    },
    {
      "cell_type": "markdown",
      "metadata": {
        "id": "ahp65IjIEDCu"
      },
      "source": [
        "## Using a simple deep learning model for classification data "
      ]
    },
    {
      "cell_type": "code",
      "metadata": {
        "id": "tbYGZ4GF-Lea"
      },
      "source": [
        "model = keras.Sequential([\n",
        "    keras.layers.Flatten(input_shape=(10,)),\n",
        "    keras.layers.Dense(512, activation=tf.nn.relu),\n",
        "\t  keras.layers.Dense(256, activation=tf.nn.relu),\n",
        "    keras.layers.Dense(128, activation=tf.nn.relu),\n",
        "    keras.layers.Dense(128, activation=tf.nn.relu),\n",
        "    keras.layers.Dense(64, activation=tf.nn.relu),\n",
        "    keras.layers.Dense(4, activation=tf.nn.softmax),\n",
        "])"
      ],
      "execution_count": 9,
      "outputs": []
    },
    {
      "cell_type": "code",
      "metadata": {
        "colab": {
          "base_uri": "https://localhost:8080/"
        },
        "id": "_uTlH7rZc8ot",
        "outputId": "5f2f5ca7-5b94-4e80-e2a7-8c804918f918"
      },
      "source": [
        "model.compile(optimizer=keras.optimizers.Adam(learning_rate=0.001),\n",
        "              \n",
        "              loss='categorical_crossentropy',\n",
        "              metrics=['accuracy'],\n",
        "              )\n",
        "\n",
        "history = model.fit(X_train, y_train, epochs=100, batch_size=128, validation_split=0.2)\n",
        "test_loss, test_acc = model.evaluate(X_test, y_test)"
      ],
      "execution_count": 10,
      "outputs": [
        {
          "output_type": "stream",
          "name": "stdout",
          "text": [
            "169/169 [==============================] - 3s 9ms/step - loss: 2.5602 - accuracy: 0.5530 - val_loss: 1.0936 - val_accuracy: 0.5154\n",
            "Epoch 2/100\n",
            "169/169 [==============================] - 1s 7ms/step - loss: 0.6889 - accuracy: 0.7265 - val_loss: 0.5619 - val_accuracy: 0.7870\n",
            "Epoch 3/100\n",
            "169/169 [==============================] - 1s 6ms/step - loss: 0.5963 - accuracy: 0.7612 - val_loss: 0.6259 - val_accuracy: 0.6859\n",
            "Epoch 4/100\n",
            "169/169 [==============================] - 1s 4ms/step - loss: 0.5745 - accuracy: 0.7665 - val_loss: 0.4596 - val_accuracy: 0.8341\n",
            "Epoch 5/100\n",
            "169/169 [==============================] - 1s 4ms/step - loss: 0.4951 - accuracy: 0.7931 - val_loss: 0.4330 - val_accuracy: 0.8081\n",
            "Epoch 6/100\n",
            "169/169 [==============================] - 1s 4ms/step - loss: 0.5020 - accuracy: 0.7917 - val_loss: 0.4697 - val_accuracy: 0.7681\n",
            "Epoch 7/100\n",
            "169/169 [==============================] - 1s 4ms/step - loss: 0.4464 - accuracy: 0.8100 - val_loss: 0.3956 - val_accuracy: 0.8387\n",
            "Epoch 8/100\n",
            "169/169 [==============================] - 1s 4ms/step - loss: 0.4557 - accuracy: 0.8146 - val_loss: 0.3963 - val_accuracy: 0.8391\n",
            "Epoch 9/100\n",
            "169/169 [==============================] - 1s 4ms/step - loss: 0.4230 - accuracy: 0.8230 - val_loss: 0.3862 - val_accuracy: 0.8344\n",
            "Epoch 10/100\n",
            "169/169 [==============================] - 1s 4ms/step - loss: 0.4072 - accuracy: 0.8243 - val_loss: 0.5053 - val_accuracy: 0.7578\n",
            "Epoch 11/100\n",
            "169/169 [==============================] - 1s 4ms/step - loss: 0.4060 - accuracy: 0.8254 - val_loss: 0.3676 - val_accuracy: 0.8283\n",
            "Epoch 12/100\n",
            "169/169 [==============================] - 1s 4ms/step - loss: 0.3807 - accuracy: 0.8330 - val_loss: 0.3440 - val_accuracy: 0.8519\n",
            "Epoch 13/100\n",
            "169/169 [==============================] - 1s 4ms/step - loss: 0.3885 - accuracy: 0.8293 - val_loss: 0.3482 - val_accuracy: 0.8550\n",
            "Epoch 14/100\n",
            "169/169 [==============================] - 1s 4ms/step - loss: 0.3623 - accuracy: 0.8362 - val_loss: 0.3387 - val_accuracy: 0.8583\n",
            "Epoch 15/100\n",
            "169/169 [==============================] - 1s 4ms/step - loss: 0.3532 - accuracy: 0.8413 - val_loss: 0.3434 - val_accuracy: 0.8506\n",
            "Epoch 16/100\n",
            "169/169 [==============================] - 1s 4ms/step - loss: 0.3412 - accuracy: 0.8444 - val_loss: 0.3212 - val_accuracy: 0.8578\n",
            "Epoch 17/100\n",
            "169/169 [==============================] - 1s 4ms/step - loss: 0.3349 - accuracy: 0.8489 - val_loss: 0.2954 - val_accuracy: 0.8770\n",
            "Epoch 18/100\n",
            "169/169 [==============================] - 1s 4ms/step - loss: 0.3308 - accuracy: 0.8502 - val_loss: 0.3089 - val_accuracy: 0.8733\n",
            "Epoch 19/100\n",
            "169/169 [==============================] - 1s 4ms/step - loss: 0.3268 - accuracy: 0.8484 - val_loss: 0.3122 - val_accuracy: 0.8659\n",
            "Epoch 20/100\n",
            "169/169 [==============================] - 1s 4ms/step - loss: 0.3138 - accuracy: 0.8566 - val_loss: 0.3027 - val_accuracy: 0.8770\n",
            "Epoch 21/100\n",
            "169/169 [==============================] - 1s 4ms/step - loss: 0.3215 - accuracy: 0.8547 - val_loss: 0.2910 - val_accuracy: 0.8694\n",
            "Epoch 22/100\n",
            "169/169 [==============================] - 1s 4ms/step - loss: 0.2971 - accuracy: 0.8632 - val_loss: 0.3189 - val_accuracy: 0.8604\n",
            "Epoch 23/100\n",
            "169/169 [==============================] - 1s 4ms/step - loss: 0.3036 - accuracy: 0.8614 - val_loss: 0.2831 - val_accuracy: 0.8735\n",
            "Epoch 24/100\n",
            "169/169 [==============================] - 1s 4ms/step - loss: 0.2989 - accuracy: 0.8632 - val_loss: 0.3021 - val_accuracy: 0.8643\n",
            "Epoch 25/100\n",
            "169/169 [==============================] - 1s 4ms/step - loss: 0.2935 - accuracy: 0.8642 - val_loss: 0.2827 - val_accuracy: 0.8780\n",
            "Epoch 26/100\n",
            "169/169 [==============================] - 1s 4ms/step - loss: 0.2818 - accuracy: 0.8715 - val_loss: 0.2770 - val_accuracy: 0.8831\n",
            "Epoch 27/100\n",
            "169/169 [==============================] - 1s 4ms/step - loss: 0.2937 - accuracy: 0.8660 - val_loss: 0.2822 - val_accuracy: 0.8696\n",
            "Epoch 28/100\n",
            "169/169 [==============================] - 1s 4ms/step - loss: 0.2770 - accuracy: 0.8718 - val_loss: 0.2634 - val_accuracy: 0.8789\n",
            "Epoch 29/100\n",
            "169/169 [==============================] - 1s 4ms/step - loss: 0.2701 - accuracy: 0.8759 - val_loss: 0.2647 - val_accuracy: 0.8837\n",
            "Epoch 30/100\n",
            "169/169 [==============================] - 1s 4ms/step - loss: 0.2793 - accuracy: 0.8735 - val_loss: 0.2850 - val_accuracy: 0.8839\n",
            "Epoch 31/100\n",
            "169/169 [==============================] - 1s 4ms/step - loss: 0.2668 - accuracy: 0.8758 - val_loss: 0.2950 - val_accuracy: 0.8715\n",
            "Epoch 32/100\n",
            "169/169 [==============================] - 1s 4ms/step - loss: 0.2757 - accuracy: 0.8728 - val_loss: 0.2409 - val_accuracy: 0.8902\n",
            "Epoch 33/100\n",
            "169/169 [==============================] - 1s 4ms/step - loss: 0.2554 - accuracy: 0.8796 - val_loss: 0.2436 - val_accuracy: 0.8898\n",
            "Epoch 34/100\n",
            "169/169 [==============================] - 1s 4ms/step - loss: 0.2686 - accuracy: 0.8742 - val_loss: 0.2490 - val_accuracy: 0.8889\n",
            "Epoch 35/100\n",
            "169/169 [==============================] - 1s 4ms/step - loss: 0.2603 - accuracy: 0.8773 - val_loss: 0.2583 - val_accuracy: 0.8854\n",
            "Epoch 36/100\n",
            "169/169 [==============================] - 1s 4ms/step - loss: 0.2542 - accuracy: 0.8821 - val_loss: 0.2491 - val_accuracy: 0.8911\n",
            "Epoch 37/100\n",
            "169/169 [==============================] - 1s 4ms/step - loss: 0.2602 - accuracy: 0.8786 - val_loss: 0.2571 - val_accuracy: 0.8881\n",
            "Epoch 38/100\n",
            "169/169 [==============================] - 1s 4ms/step - loss: 0.2821 - accuracy: 0.8729 - val_loss: 0.2825 - val_accuracy: 0.8791\n",
            "Epoch 39/100\n",
            "169/169 [==============================] - 1s 4ms/step - loss: 0.2547 - accuracy: 0.8811 - val_loss: 0.2440 - val_accuracy: 0.8957\n",
            "Epoch 40/100\n",
            "169/169 [==============================] - 1s 4ms/step - loss: 0.2664 - accuracy: 0.8770 - val_loss: 0.2600 - val_accuracy: 0.8819\n",
            "Epoch 41/100\n",
            "169/169 [==============================] - 1s 4ms/step - loss: 0.2589 - accuracy: 0.8794 - val_loss: 0.2613 - val_accuracy: 0.8772\n",
            "Epoch 42/100\n",
            "169/169 [==============================] - 1s 4ms/step - loss: 0.2460 - accuracy: 0.8838 - val_loss: 0.2282 - val_accuracy: 0.8969\n",
            "Epoch 43/100\n",
            "169/169 [==============================] - 1s 4ms/step - loss: 0.2392 - accuracy: 0.8863 - val_loss: 0.2269 - val_accuracy: 0.8926\n",
            "Epoch 44/100\n",
            "169/169 [==============================] - 1s 4ms/step - loss: 0.2485 - accuracy: 0.8850 - val_loss: 0.2417 - val_accuracy: 0.8956\n",
            "Epoch 45/100\n",
            "169/169 [==============================] - 1s 4ms/step - loss: 0.2459 - accuracy: 0.8838 - val_loss: 0.2300 - val_accuracy: 0.8978\n",
            "Epoch 46/100\n",
            "169/169 [==============================] - 1s 4ms/step - loss: 0.2353 - accuracy: 0.8884 - val_loss: 0.2223 - val_accuracy: 0.8972\n",
            "Epoch 47/100\n",
            "169/169 [==============================] - 1s 4ms/step - loss: 0.2494 - accuracy: 0.8828 - val_loss: 0.2386 - val_accuracy: 0.8952\n",
            "Epoch 48/100\n",
            "169/169 [==============================] - 1s 4ms/step - loss: 0.2373 - accuracy: 0.8875 - val_loss: 0.2271 - val_accuracy: 0.8872\n",
            "Epoch 49/100\n",
            "169/169 [==============================] - 1s 4ms/step - loss: 0.2592 - accuracy: 0.8826 - val_loss: 0.2742 - val_accuracy: 0.8837\n",
            "Epoch 50/100\n",
            "169/169 [==============================] - 1s 4ms/step - loss: 0.2678 - accuracy: 0.8750 - val_loss: 0.2457 - val_accuracy: 0.8863\n",
            "Epoch 51/100\n",
            "169/169 [==============================] - 1s 4ms/step - loss: 0.2462 - accuracy: 0.8822 - val_loss: 0.2280 - val_accuracy: 0.8957\n",
            "Epoch 52/100\n",
            "169/169 [==============================] - 1s 4ms/step - loss: 0.2331 - accuracy: 0.8881 - val_loss: 0.2196 - val_accuracy: 0.8954\n",
            "Epoch 53/100\n",
            "169/169 [==============================] - 1s 4ms/step - loss: 0.2367 - accuracy: 0.8851 - val_loss: 0.2255 - val_accuracy: 0.8944\n",
            "Epoch 54/100\n",
            "169/169 [==============================] - 1s 4ms/step - loss: 0.2282 - accuracy: 0.8907 - val_loss: 0.2206 - val_accuracy: 0.9015\n",
            "Epoch 55/100\n",
            "169/169 [==============================] - 1s 4ms/step - loss: 0.2363 - accuracy: 0.8876 - val_loss: 0.2252 - val_accuracy: 0.8935\n",
            "Epoch 56/100\n",
            "169/169 [==============================] - 1s 4ms/step - loss: 0.2342 - accuracy: 0.8886 - val_loss: 0.2252 - val_accuracy: 0.8961\n",
            "Epoch 57/100\n",
            "169/169 [==============================] - 1s 4ms/step - loss: 0.2300 - accuracy: 0.8911 - val_loss: 0.2201 - val_accuracy: 0.8980\n",
            "Epoch 58/100\n",
            "169/169 [==============================] - 1s 4ms/step - loss: 0.2423 - accuracy: 0.8872 - val_loss: 0.2316 - val_accuracy: 0.8974\n",
            "Epoch 59/100\n",
            "169/169 [==============================] - 1s 4ms/step - loss: 0.2439 - accuracy: 0.8853 - val_loss: 0.2156 - val_accuracy: 0.9022\n",
            "Epoch 60/100\n",
            "169/169 [==============================] - 1s 4ms/step - loss: 0.2263 - accuracy: 0.8912 - val_loss: 0.2133 - val_accuracy: 0.9022\n",
            "Epoch 61/100\n",
            "169/169 [==============================] - 1s 4ms/step - loss: 0.2283 - accuracy: 0.8910 - val_loss: 0.2185 - val_accuracy: 0.8972\n",
            "Epoch 62/100\n",
            "169/169 [==============================] - 1s 4ms/step - loss: 0.2340 - accuracy: 0.8896 - val_loss: 0.2444 - val_accuracy: 0.8889\n",
            "Epoch 63/100\n",
            "169/169 [==============================] - 1s 4ms/step - loss: 0.2737 - accuracy: 0.8788 - val_loss: 0.2152 - val_accuracy: 0.9106\n",
            "Epoch 64/100\n",
            "169/169 [==============================] - 1s 4ms/step - loss: 0.2330 - accuracy: 0.8894 - val_loss: 0.2162 - val_accuracy: 0.8972\n",
            "Epoch 65/100\n",
            "169/169 [==============================] - 1s 4ms/step - loss: 0.2184 - accuracy: 0.8936 - val_loss: 0.2122 - val_accuracy: 0.9006\n",
            "Epoch 66/100\n",
            "169/169 [==============================] - 1s 4ms/step - loss: 0.2185 - accuracy: 0.8931 - val_loss: 0.2289 - val_accuracy: 0.8965\n",
            "Epoch 67/100\n",
            "169/169 [==============================] - 1s 6ms/step - loss: 0.2214 - accuracy: 0.8942 - val_loss: 0.2144 - val_accuracy: 0.9039\n",
            "Epoch 68/100\n",
            "169/169 [==============================] - 1s 5ms/step - loss: 0.2350 - accuracy: 0.8893 - val_loss: 0.2337 - val_accuracy: 0.8931\n",
            "Epoch 69/100\n",
            "169/169 [==============================] - 1s 7ms/step - loss: 0.2384 - accuracy: 0.8884 - val_loss: 0.2612 - val_accuracy: 0.8852\n",
            "Epoch 70/100\n",
            "169/169 [==============================] - 1s 7ms/step - loss: 0.2261 - accuracy: 0.8910 - val_loss: 0.2098 - val_accuracy: 0.9048\n",
            "Epoch 71/100\n",
            "169/169 [==============================] - 1s 4ms/step - loss: 0.2190 - accuracy: 0.8931 - val_loss: 0.2079 - val_accuracy: 0.9050\n",
            "Epoch 72/100\n",
            "169/169 [==============================] - 1s 4ms/step - loss: 0.2317 - accuracy: 0.8910 - val_loss: 0.2530 - val_accuracy: 0.8750\n",
            "Epoch 73/100\n",
            "169/169 [==============================] - 1s 4ms/step - loss: 0.2286 - accuracy: 0.8915 - val_loss: 0.2189 - val_accuracy: 0.8993\n",
            "Epoch 74/100\n",
            "169/169 [==============================] - 1s 4ms/step - loss: 0.2356 - accuracy: 0.8894 - val_loss: 0.2366 - val_accuracy: 0.8963\n",
            "Epoch 75/100\n",
            "169/169 [==============================] - 1s 4ms/step - loss: 0.2321 - accuracy: 0.8900 - val_loss: 0.2147 - val_accuracy: 0.9020\n",
            "Epoch 76/100\n",
            "169/169 [==============================] - 1s 4ms/step - loss: 0.2158 - accuracy: 0.8951 - val_loss: 0.2063 - val_accuracy: 0.8959\n",
            "Epoch 77/100\n",
            "169/169 [==============================] - 1s 4ms/step - loss: 0.2152 - accuracy: 0.8961 - val_loss: 0.2036 - val_accuracy: 0.9048\n",
            "Epoch 78/100\n",
            "169/169 [==============================] - 1s 4ms/step - loss: 0.2234 - accuracy: 0.8925 - val_loss: 0.2537 - val_accuracy: 0.8930\n",
            "Epoch 79/100\n",
            "169/169 [==============================] - 1s 4ms/step - loss: 0.2291 - accuracy: 0.8914 - val_loss: 0.2060 - val_accuracy: 0.9087\n",
            "Epoch 80/100\n",
            "169/169 [==============================] - 1s 4ms/step - loss: 0.2173 - accuracy: 0.8950 - val_loss: 0.2058 - val_accuracy: 0.9054\n",
            "Epoch 81/100\n",
            "169/169 [==============================] - 1s 4ms/step - loss: 0.2159 - accuracy: 0.8959 - val_loss: 0.2147 - val_accuracy: 0.9000\n",
            "Epoch 82/100\n",
            "169/169 [==============================] - 1s 4ms/step - loss: 0.2222 - accuracy: 0.8940 - val_loss: 0.2120 - val_accuracy: 0.9046\n",
            "Epoch 83/100\n",
            "169/169 [==============================] - 1s 4ms/step - loss: 0.2319 - accuracy: 0.8915 - val_loss: 0.2456 - val_accuracy: 0.8922\n",
            "Epoch 84/100\n",
            "169/169 [==============================] - 1s 4ms/step - loss: 0.2554 - accuracy: 0.8853 - val_loss: 0.2356 - val_accuracy: 0.8954\n",
            "Epoch 85/100\n",
            "169/169 [==============================] - 1s 4ms/step - loss: 0.2268 - accuracy: 0.8934 - val_loss: 0.2077 - val_accuracy: 0.9067\n",
            "Epoch 86/100\n",
            "169/169 [==============================] - 1s 4ms/step - loss: 0.2138 - accuracy: 0.8956 - val_loss: 0.2017 - val_accuracy: 0.9069\n",
            "Epoch 87/100\n",
            "169/169 [==============================] - 1s 4ms/step - loss: 0.2175 - accuracy: 0.8956 - val_loss: 0.2006 - val_accuracy: 0.9076\n",
            "Epoch 88/100\n",
            "169/169 [==============================] - 1s 4ms/step - loss: 0.2302 - accuracy: 0.8892 - val_loss: 0.2090 - val_accuracy: 0.9026\n",
            "Epoch 89/100\n",
            "169/169 [==============================] - 1s 4ms/step - loss: 0.2312 - accuracy: 0.8902 - val_loss: 0.2091 - val_accuracy: 0.8978\n",
            "Epoch 90/100\n",
            "169/169 [==============================] - 1s 4ms/step - loss: 0.2184 - accuracy: 0.8945 - val_loss: 0.2052 - val_accuracy: 0.9019\n",
            "Epoch 91/100\n",
            "169/169 [==============================] - 1s 4ms/step - loss: 0.2144 - accuracy: 0.8959 - val_loss: 0.2160 - val_accuracy: 0.9011\n",
            "Epoch 92/100\n",
            "169/169 [==============================] - 1s 4ms/step - loss: 0.2187 - accuracy: 0.8947 - val_loss: 0.2175 - val_accuracy: 0.9017\n",
            "Epoch 93/100\n",
            "169/169 [==============================] - 1s 4ms/step - loss: 0.2369 - accuracy: 0.8874 - val_loss: 0.2106 - val_accuracy: 0.9054\n",
            "Epoch 94/100\n",
            "169/169 [==============================] - 1s 4ms/step - loss: 0.2148 - accuracy: 0.8973 - val_loss: 0.2096 - val_accuracy: 0.9048\n",
            "Epoch 95/100\n",
            "169/169 [==============================] - 1s 4ms/step - loss: 0.2143 - accuracy: 0.8965 - val_loss: 0.2042 - val_accuracy: 0.9067\n",
            "Epoch 96/100\n",
            "169/169 [==============================] - 1s 4ms/step - loss: 0.2130 - accuracy: 0.8977 - val_loss: 0.2047 - val_accuracy: 0.9050\n",
            "Epoch 97/100\n",
            "169/169 [==============================] - 1s 4ms/step - loss: 0.2155 - accuracy: 0.8962 - val_loss: 0.2039 - val_accuracy: 0.9057\n",
            "Epoch 98/100\n",
            "169/169 [==============================] - 1s 4ms/step - loss: 0.2111 - accuracy: 0.8967 - val_loss: 0.2003 - val_accuracy: 0.9137\n",
            "Epoch 99/100\n",
            "169/169 [==============================] - 1s 4ms/step - loss: 0.2101 - accuracy: 0.8979 - val_loss: 0.2030 - val_accuracy: 0.9044\n",
            "Epoch 100/100\n",
            "169/169 [==============================] - 1s 4ms/step - loss: 0.2188 - accuracy: 0.8958 - val_loss: 0.2455 - val_accuracy: 0.8874\n",
            "282/282 [==============================] - 1s 3ms/step - loss: 0.2583 - accuracy: 0.8782\n"
          ]
        }
      ]
    },
    {
      "cell_type": "code",
      "metadata": {
        "colab": {
          "base_uri": "https://localhost:8080/",
          "height": 265
        },
        "id": "KpSVbJNwanA9",
        "outputId": "93ceefda-c4ff-4756-e5d4-9d533637c182"
      },
      "source": [
        "plt.plot(history.history[\"loss\"], label=\"Training Loss\")\n",
        "plt.plot(history.history[\"val_loss\"], label=\"Validation Loss\")\n",
        "plt.legend()\n",
        "plt.show()"
      ],
      "execution_count": 11,
      "outputs": [
        {
          "output_type": "display_data",
          "data": {
            "text/plain": [
              "<Figure size 432x288 with 1 Axes>"
            ],
            "image/png": "[encoded data removed]"
          },
          "metadata": {
            "needs_background": "light"
          }
        }
      ]
    },
    {
      "cell_type": "code",
      "metadata": {
        "colab": {
          "base_uri": "https://localhost:8080/",
          "height": 265
        },
        "id": "d5JoyyUJbUAl",
        "outputId": "09b0777e-90e3-4ccc-a08a-e9ccafb25807"
      },
      "source": [
        "plt.plot(history.history[\"accuracy\"],label=\"Training Accuracy\")\n",
        "plt.plot(history.history[\"val_accuracy\"],label=\"Testing Accuracy\")\n",
        "plt.legend()\n",
        "plt.show()"
      ],
      "execution_count": 12,
      "outputs": [
        {
          "output_type": "display_data",
          "data": {
            "text/plain": [
              "<Figure size 432x288 with 1 Axes>"
            ],
            "image/png": "[encoded data removed]"
          },
          "metadata": {
            "needs_background": "light"
          }
        }
      ]
    },
    {
      "cell_type": "code",
      "source": [
        "model_2 = keras.Sequential([\n",
        "    keras.layers.Flatten(input_shape=(10,)),\n",
        "\t  keras.layers.Dense(64, activation=tf.nn.relu),\n",
        "    keras.layers.Dense(32, activation=tf.nn.relu),\n",
        "    keras.layers.Dense(4, activation=tf.nn.softmax),\n",
        "])"
      ],
      "metadata": {
        "id": "iPtswLoFZUtf"
      },
      "execution_count": 16,
      "outputs": []
    },
    {
      "cell_type": "code",
      "source": [
        "model_2.compile(optimizer=keras.optimizers.Adam(learning_rate=0.001),\n",
        "              \n",
        "              loss='categorical_crossentropy',\n",
        "              metrics=['accuracy'],\n",
        "              )\n",
        "\n",
        "history_1 = model_2.fit(X_train, y_train, epochs=100, batch_size=128, validation_split=0.2)\n",
        "test_loss, test_acc = model_2.evaluate(X_test, y_test)"
      ],
      "metadata": {
        "id": "0CuD7PNeZc7a",
        "outputId": "9926074b-9d9b-4347-f435-ace3e709bc96",
        "colab": {
          "base_uri": "https://localhost:8080/"
        }
      },
      "execution_count": 17,
      "outputs": [
        {
          "output_type": "stream",
          "name": "stdout",
          "text": [
            "Epoch 1/100\n",
            "169/169 [==============================] - 1s 4ms/step - loss: 7.9615 - accuracy: 0.5083 - val_loss: 1.9951 - val_accuracy: 0.4839\n",
            "Epoch 2/100\n",
            "169/169 [==============================] - 1s 3ms/step - loss: 1.4200 - accuracy: 0.6543 - val_loss: 0.9852 - val_accuracy: 0.6843\n",
            "Epoch 3/100\n",
            "169/169 [==============================] - 1s 3ms/step - loss: 0.9020 - accuracy: 0.6985 - val_loss: 1.0709 - val_accuracy: 0.5722\n",
            "Epoch 4/100\n",
            "169/169 [==============================] - 1s 4ms/step - loss: 0.9872 - accuracy: 0.7061 - val_loss: 0.6175 - val_accuracy: 0.7559\n",
            "Epoch 5/100\n",
            "169/169 [==============================] - 1s 3ms/step - loss: 0.9217 - accuracy: 0.7234 - val_loss: 1.1756 - val_accuracy: 0.6174\n",
            "Epoch 6/100\n",
            "169/169 [==============================] - 1s 3ms/step - loss: 0.8532 - accuracy: 0.7323 - val_loss: 0.6425 - val_accuracy: 0.6948\n",
            "Epoch 7/100\n",
            "169/169 [==============================] - 1s 4ms/step - loss: 0.8851 - accuracy: 0.7323 - val_loss: 0.6723 - val_accuracy: 0.7737\n",
            "Epoch 8/100\n",
            "169/169 [==============================] - 1s 3ms/step - loss: 0.7285 - accuracy: 0.7454 - val_loss: 0.5351 - val_accuracy: 0.8020\n",
            "Epoch 9/100\n",
            "169/169 [==============================] - 1s 3ms/step - loss: 0.7399 - accuracy: 0.7454 - val_loss: 1.1110 - val_accuracy: 0.6515\n",
            "Epoch 10/100\n",
            "169/169 [==============================] - 1s 3ms/step - loss: 0.8416 - accuracy: 0.7525 - val_loss: 0.9251 - val_accuracy: 0.7606\n",
            "Epoch 11/100\n",
            "169/169 [==============================] - 1s 3ms/step - loss: 0.6641 - accuracy: 0.7565 - val_loss: 0.5728 - val_accuracy: 0.7987\n",
            "Epoch 12/100\n",
            "169/169 [==============================] - 1s 3ms/step - loss: 0.8865 - accuracy: 0.7487 - val_loss: 1.1765 - val_accuracy: 0.7787\n",
            "Epoch 13/100\n",
            "169/169 [==============================] - 1s 3ms/step - loss: 0.6484 - accuracy: 0.7666 - val_loss: 0.6109 - val_accuracy: 0.7026\n",
            "Epoch 14/100\n",
            "169/169 [==============================] - 1s 3ms/step - loss: 0.7585 - accuracy: 0.7593 - val_loss: 0.4800 - val_accuracy: 0.7948\n",
            "Epoch 15/100\n",
            "169/169 [==============================] - 1s 4ms/step - loss: 0.7766 - accuracy: 0.7588 - val_loss: 0.8841 - val_accuracy: 0.7902\n",
            "Epoch 16/100\n",
            "169/169 [==============================] - 1s 3ms/step - loss: 0.8396 - accuracy: 0.7579 - val_loss: 0.7572 - val_accuracy: 0.8109\n",
            "Epoch 17/100\n",
            "169/169 [==============================] - 1s 3ms/step - loss: 0.6453 - accuracy: 0.7788 - val_loss: 0.7025 - val_accuracy: 0.7965\n",
            "Epoch 18/100\n",
            "169/169 [==============================] - 1s 3ms/step - loss: 0.8725 - accuracy: 0.7592 - val_loss: 0.6241 - val_accuracy: 0.7937\n",
            "Epoch 19/100\n",
            "169/169 [==============================] - 1s 3ms/step - loss: 0.8065 - accuracy: 0.7660 - val_loss: 0.6911 - val_accuracy: 0.7713\n",
            "Epoch 20/100\n",
            "169/169 [==============================] - 1s 3ms/step - loss: 0.5630 - accuracy: 0.7896 - val_loss: 0.5749 - val_accuracy: 0.6922\n",
            "Epoch 21/100\n",
            "169/169 [==============================] - 1s 3ms/step - loss: 0.5890 - accuracy: 0.7942 - val_loss: 0.4260 - val_accuracy: 0.7998\n",
            "Epoch 22/100\n",
            "169/169 [==============================] - 1s 3ms/step - loss: 0.6171 - accuracy: 0.7884 - val_loss: 0.8747 - val_accuracy: 0.7976\n",
            "Epoch 23/100\n",
            "169/169 [==============================] - 1s 3ms/step - loss: 0.6230 - accuracy: 0.7890 - val_loss: 0.4590 - val_accuracy: 0.8267\n",
            "Epoch 24/100\n",
            "169/169 [==============================] - 1s 3ms/step - loss: 0.7077 - accuracy: 0.7806 - val_loss: 0.4522 - val_accuracy: 0.8028\n",
            "Epoch 25/100\n",
            "169/169 [==============================] - 1s 3ms/step - loss: 0.5729 - accuracy: 0.7955 - val_loss: 0.5714 - val_accuracy: 0.8326\n",
            "Epoch 26/100\n",
            "169/169 [==============================] - 1s 3ms/step - loss: 0.5584 - accuracy: 0.7998 - val_loss: 0.4503 - val_accuracy: 0.8017\n",
            "Epoch 27/100\n",
            "169/169 [==============================] - 1s 3ms/step - loss: 0.5431 - accuracy: 0.8037 - val_loss: 0.4142 - val_accuracy: 0.8344\n",
            "Epoch 28/100\n",
            "169/169 [==============================] - 1s 4ms/step - loss: 0.5092 - accuracy: 0.8033 - val_loss: 0.4138 - val_accuracy: 0.8535\n",
            "Epoch 29/100\n",
            "169/169 [==============================] - 1s 3ms/step - loss: 0.5860 - accuracy: 0.8033 - val_loss: 0.5427 - val_accuracy: 0.7574\n",
            "Epoch 30/100\n",
            "169/169 [==============================] - 1s 3ms/step - loss: 0.6034 - accuracy: 0.7928 - val_loss: 0.6151 - val_accuracy: 0.8185\n",
            "Epoch 31/100\n",
            "169/169 [==============================] - 1s 3ms/step - loss: 0.5818 - accuracy: 0.8026 - val_loss: 0.4666 - val_accuracy: 0.8326\n",
            "Epoch 32/100\n",
            "169/169 [==============================] - 1s 3ms/step - loss: 0.5813 - accuracy: 0.8035 - val_loss: 0.4045 - val_accuracy: 0.8507\n",
            "Epoch 33/100\n",
            "169/169 [==============================] - 1s 4ms/step - loss: 0.6184 - accuracy: 0.7961 - val_loss: 0.4003 - val_accuracy: 0.8526\n",
            "Epoch 34/100\n",
            "169/169 [==============================] - 1s 3ms/step - loss: 0.5105 - accuracy: 0.8141 - val_loss: 0.5607 - val_accuracy: 0.8391\n",
            "Epoch 35/100\n",
            "169/169 [==============================] - 1s 3ms/step - loss: 0.5482 - accuracy: 0.8061 - val_loss: 0.5161 - val_accuracy: 0.8174\n",
            "Epoch 36/100\n",
            "169/169 [==============================] - 1s 3ms/step - loss: 0.5351 - accuracy: 0.8106 - val_loss: 0.5597 - val_accuracy: 0.8259\n",
            "Epoch 37/100\n",
            "169/169 [==============================] - 1s 3ms/step - loss: 0.5685 - accuracy: 0.8067 - val_loss: 1.2138 - val_accuracy: 0.7780\n",
            "Epoch 38/100\n",
            "169/169 [==============================] - 1s 3ms/step - loss: 0.5645 - accuracy: 0.8132 - val_loss: 0.8271 - val_accuracy: 0.8143\n",
            "Epoch 39/100\n",
            "169/169 [==============================] - 1s 3ms/step - loss: 0.5381 - accuracy: 0.8161 - val_loss: 0.4781 - val_accuracy: 0.8433\n",
            "Epoch 40/100\n",
            "169/169 [==============================] - 1s 3ms/step - loss: 0.6717 - accuracy: 0.8009 - val_loss: 0.8965 - val_accuracy: 0.8324\n",
            "Epoch 41/100\n",
            "169/169 [==============================] - 1s 4ms/step - loss: 0.5504 - accuracy: 0.8127 - val_loss: 0.4720 - val_accuracy: 0.8367\n",
            "Epoch 42/100\n",
            "169/169 [==============================] - 1s 3ms/step - loss: 0.6618 - accuracy: 0.8015 - val_loss: 0.4954 - val_accuracy: 0.8328\n",
            "Epoch 43/100\n",
            "169/169 [==============================] - 1s 3ms/step - loss: 0.5124 - accuracy: 0.8185 - val_loss: 0.3962 - val_accuracy: 0.8220\n",
            "Epoch 44/100\n",
            "169/169 [==============================] - 1s 3ms/step - loss: 0.5456 - accuracy: 0.8143 - val_loss: 0.4475 - val_accuracy: 0.8522\n",
            "Epoch 45/100\n",
            "169/169 [==============================] - 1s 3ms/step - loss: 0.4850 - accuracy: 0.8210 - val_loss: 0.4092 - val_accuracy: 0.8087\n",
            "Epoch 46/100\n",
            "169/169 [==============================] - 1s 3ms/step - loss: 0.5331 - accuracy: 0.8192 - val_loss: 0.4158 - val_accuracy: 0.7967\n",
            "Epoch 47/100\n",
            "169/169 [==============================] - 1s 3ms/step - loss: 0.5267 - accuracy: 0.8155 - val_loss: 0.4254 - val_accuracy: 0.8522\n",
            "Epoch 48/100\n",
            "169/169 [==============================] - 1s 3ms/step - loss: 0.5326 - accuracy: 0.8167 - val_loss: 0.7860 - val_accuracy: 0.7315\n",
            "Epoch 49/100\n",
            "169/169 [==============================] - 1s 4ms/step - loss: 0.5464 - accuracy: 0.8178 - val_loss: 0.4038 - val_accuracy: 0.8102\n",
            "Epoch 50/100\n",
            "169/169 [==============================] - 1s 3ms/step - loss: 0.4598 - accuracy: 0.8302 - val_loss: 0.7216 - val_accuracy: 0.8348\n",
            "Epoch 51/100\n",
            "169/169 [==============================] - 1s 3ms/step - loss: 0.4807 - accuracy: 0.8263 - val_loss: 0.3963 - val_accuracy: 0.8013\n",
            "Epoch 52/100\n",
            "169/169 [==============================] - 1s 3ms/step - loss: 0.4237 - accuracy: 0.8365 - val_loss: 0.3757 - val_accuracy: 0.8550\n",
            "Epoch 53/100\n",
            "169/169 [==============================] - 1s 3ms/step - loss: 0.4165 - accuracy: 0.8381 - val_loss: 0.3575 - val_accuracy: 0.8378\n",
            "Epoch 54/100\n",
            "169/169 [==============================] - 1s 3ms/step - loss: 0.4687 - accuracy: 0.8304 - val_loss: 0.4466 - val_accuracy: 0.8000\n",
            "Epoch 55/100\n",
            "169/169 [==============================] - 1s 3ms/step - loss: 0.4921 - accuracy: 0.8213 - val_loss: 0.4287 - val_accuracy: 0.8646\n",
            "Epoch 56/100\n",
            "169/169 [==============================] - 1s 3ms/step - loss: 0.4118 - accuracy: 0.8391 - val_loss: 0.6954 - val_accuracy: 0.7154\n",
            "Epoch 57/100\n",
            "169/169 [==============================] - 1s 3ms/step - loss: 0.5093 - accuracy: 0.8189 - val_loss: 0.3579 - val_accuracy: 0.8715\n",
            "Epoch 58/100\n",
            "169/169 [==============================] - 1s 3ms/step - loss: 0.5134 - accuracy: 0.8223 - val_loss: 0.4869 - val_accuracy: 0.8531\n",
            "Epoch 59/100\n",
            "169/169 [==============================] - 1s 4ms/step - loss: 0.4131 - accuracy: 0.8400 - val_loss: 0.3458 - val_accuracy: 0.8630\n",
            "Epoch 60/100\n",
            "169/169 [==============================] - 1s 4ms/step - loss: 0.4138 - accuracy: 0.8380 - val_loss: 0.3999 - val_accuracy: 0.8707\n",
            "Epoch 61/100\n",
            "169/169 [==============================] - 1s 3ms/step - loss: 0.4476 - accuracy: 0.8307 - val_loss: 0.3266 - val_accuracy: 0.8807\n",
            "Epoch 62/100\n",
            "169/169 [==============================] - 1s 4ms/step - loss: 0.3992 - accuracy: 0.8430 - val_loss: 0.4377 - val_accuracy: 0.8587\n",
            "Epoch 63/100\n",
            "169/169 [==============================] - 1s 4ms/step - loss: 0.4002 - accuracy: 0.8413 - val_loss: 0.3389 - val_accuracy: 0.8680\n",
            "Epoch 64/100\n",
            "169/169 [==============================] - 1s 3ms/step - loss: 0.4205 - accuracy: 0.8384 - val_loss: 0.3763 - val_accuracy: 0.8491\n",
            "Epoch 65/100\n",
            "169/169 [==============================] - 1s 4ms/step - loss: 0.4204 - accuracy: 0.8383 - val_loss: 0.4074 - val_accuracy: 0.8081\n",
            "Epoch 66/100\n",
            "169/169 [==============================] - 1s 3ms/step - loss: 0.4339 - accuracy: 0.8336 - val_loss: 0.4408 - val_accuracy: 0.8093\n",
            "Epoch 67/100\n",
            "169/169 [==============================] - 1s 4ms/step - loss: 0.3991 - accuracy: 0.8437 - val_loss: 0.4939 - val_accuracy: 0.8557\n",
            "Epoch 68/100\n",
            "169/169 [==============================] - 1s 3ms/step - loss: 0.4323 - accuracy: 0.8397 - val_loss: 0.4273 - val_accuracy: 0.7907\n",
            "Epoch 69/100\n",
            "169/169 [==============================] - 1s 3ms/step - loss: 0.3724 - accuracy: 0.8482 - val_loss: 0.4316 - val_accuracy: 0.8569\n",
            "Epoch 70/100\n",
            "169/169 [==============================] - 1s 3ms/step - loss: 0.4196 - accuracy: 0.8395 - val_loss: 0.3137 - val_accuracy: 0.8731\n",
            "Epoch 71/100\n",
            "169/169 [==============================] - 1s 4ms/step - loss: 0.3769 - accuracy: 0.8469 - val_loss: 0.4190 - val_accuracy: 0.8057\n",
            "Epoch 72/100\n",
            "169/169 [==============================] - 1s 3ms/step - loss: 0.4335 - accuracy: 0.8400 - val_loss: 0.3062 - val_accuracy: 0.8780\n",
            "Epoch 73/100\n",
            "169/169 [==============================] - 1s 3ms/step - loss: 0.3849 - accuracy: 0.8450 - val_loss: 0.3520 - val_accuracy: 0.8607\n",
            "Epoch 74/100\n",
            "169/169 [==============================] - 1s 3ms/step - loss: 0.4990 - accuracy: 0.8240 - val_loss: 0.4585 - val_accuracy: 0.8046\n",
            "Epoch 75/100\n",
            "169/169 [==============================] - 1s 3ms/step - loss: 0.3989 - accuracy: 0.8406 - val_loss: 0.4735 - val_accuracy: 0.8178\n",
            "Epoch 76/100\n",
            "169/169 [==============================] - 1s 3ms/step - loss: 0.3621 - accuracy: 0.8508 - val_loss: 0.3317 - val_accuracy: 0.8743\n",
            "Epoch 77/100\n",
            "169/169 [==============================] - 1s 3ms/step - loss: 0.3475 - accuracy: 0.8537 - val_loss: 0.3263 - val_accuracy: 0.8533\n",
            "Epoch 78/100\n",
            "169/169 [==============================] - 1s 4ms/step - loss: 0.3901 - accuracy: 0.8455 - val_loss: 0.4165 - val_accuracy: 0.8561\n",
            "Epoch 79/100\n",
            "169/169 [==============================] - 1s 4ms/step - loss: 0.3714 - accuracy: 0.8502 - val_loss: 0.3180 - val_accuracy: 0.8611\n",
            "Epoch 80/100\n",
            "169/169 [==============================] - 1s 3ms/step - loss: 0.3476 - accuracy: 0.8530 - val_loss: 0.4452 - val_accuracy: 0.8137\n",
            "Epoch 81/100\n",
            "169/169 [==============================] - 1s 3ms/step - loss: 0.3822 - accuracy: 0.8493 - val_loss: 0.5176 - val_accuracy: 0.7869\n",
            "Epoch 82/100\n",
            "169/169 [==============================] - 1s 4ms/step - loss: 0.3759 - accuracy: 0.8477 - val_loss: 0.3829 - val_accuracy: 0.8769\n",
            "Epoch 83/100\n",
            "169/169 [==============================] - 1s 3ms/step - loss: 0.4004 - accuracy: 0.8449 - val_loss: 0.5257 - val_accuracy: 0.8487\n",
            "Epoch 84/100\n",
            "169/169 [==============================] - 1s 4ms/step - loss: 0.4009 - accuracy: 0.8424 - val_loss: 0.3729 - val_accuracy: 0.8824\n",
            "Epoch 85/100\n",
            "169/169 [==============================] - 1s 3ms/step - loss: 0.4461 - accuracy: 0.8381 - val_loss: 0.3741 - val_accuracy: 0.8707\n",
            "Epoch 86/100\n",
            "169/169 [==============================] - 1s 3ms/step - loss: 0.3843 - accuracy: 0.8475 - val_loss: 0.3055 - val_accuracy: 0.8706\n",
            "Epoch 87/100\n",
            "169/169 [==============================] - 1s 3ms/step - loss: 0.3756 - accuracy: 0.8488 - val_loss: 0.3063 - val_accuracy: 0.8674\n",
            "Epoch 88/100\n",
            "169/169 [==============================] - 1s 4ms/step - loss: 0.3444 - accuracy: 0.8534 - val_loss: 0.3221 - val_accuracy: 0.8820\n",
            "Epoch 89/100\n",
            "169/169 [==============================] - 1s 3ms/step - loss: 0.3727 - accuracy: 0.8477 - val_loss: 0.3725 - val_accuracy: 0.8635\n",
            "Epoch 90/100\n",
            "169/169 [==============================] - 1s 3ms/step - loss: 0.3385 - accuracy: 0.8556 - val_loss: 0.3442 - val_accuracy: 0.8650\n",
            "Epoch 91/100\n",
            "169/169 [==============================] - 1s 4ms/step - loss: 0.4018 - accuracy: 0.8455 - val_loss: 0.4481 - val_accuracy: 0.7550\n",
            "Epoch 92/100\n",
            "169/169 [==============================] - 1s 4ms/step - loss: 0.3594 - accuracy: 0.8517 - val_loss: 0.4093 - val_accuracy: 0.8646\n",
            "Epoch 93/100\n",
            "169/169 [==============================] - 1s 3ms/step - loss: 0.3692 - accuracy: 0.8507 - val_loss: 0.3633 - val_accuracy: 0.8520\n",
            "Epoch 94/100\n",
            "169/169 [==============================] - 1s 3ms/step - loss: 0.3322 - accuracy: 0.8575 - val_loss: 0.3259 - val_accuracy: 0.8400\n",
            "Epoch 95/100\n",
            "169/169 [==============================] - 1s 3ms/step - loss: 0.3535 - accuracy: 0.8547 - val_loss: 0.3302 - val_accuracy: 0.8550\n",
            "Epoch 96/100\n",
            "169/169 [==============================] - 1s 4ms/step - loss: 0.3952 - accuracy: 0.8439 - val_loss: 0.3062 - val_accuracy: 0.8774\n",
            "Epoch 97/100\n",
            "169/169 [==============================] - 1s 4ms/step - loss: 0.3518 - accuracy: 0.8540 - val_loss: 0.3009 - val_accuracy: 0.8804\n",
            "Epoch 98/100\n",
            "169/169 [==============================] - 1s 4ms/step - loss: 0.3409 - accuracy: 0.8556 - val_loss: 0.3265 - val_accuracy: 0.8367\n",
            "Epoch 99/100\n",
            "169/169 [==============================] - 1s 3ms/step - loss: 0.3632 - accuracy: 0.8533 - val_loss: 0.3196 - val_accuracy: 0.8552\n",
            "Epoch 100/100\n",
            "169/169 [==============================] - 1s 4ms/step - loss: 0.3425 - accuracy: 0.8571 - val_loss: 0.4388 - val_accuracy: 0.8087\n",
            "282/282 [==============================] - 1s 2ms/step - loss: 0.4443 - accuracy: 0.8081\n"
          ]
        }
      ]
    },
    {
      "cell_type": "code",
      "source": [
        "#set up plotting area\n",
        "plt.figure(0).clf()\n",
        "plt.plot(history.history[\"val_accuracy\"],label=\"Testing Accuracy\")\n",
        "plt.plot(history_1.history[\"val_accuracy\"],label=\"Testing Accuracy\")\n",
        "\n",
        "\n",
        "#add legend\n",
        "plt.legend()"
      ],
      "metadata": {
        "id": "h9xVrcZEZthz",
        "outputId": "eb8c1919-5411-4024-9cb6-e8e5e1aa8f1b",
        "colab": {
          "base_uri": "https://localhost:8080/",
          "height": 282
        }
      },
      "execution_count": 18,
      "outputs": [
        {
          "output_type": "execute_result",
          "data": {
            "text/plain": [
              "<matplotlib.legend.Legend at 0x7f06bd233e90>"
            ]
          },
          "metadata": {},
          "execution_count": 18
        },
        {
          "output_type": "display_data",
          "data": {
            "text/plain": [
              "<Figure size 432x288 with 1 Axes>"
            ],
            "image/png": "[encoded data removed]"
          },
          "metadata": {
            "needs_background": "light"
          }
        }
      ]
    },
    {
      "cell_type": "code",
      "source": [
        "from sklearn import metrics\n",
        "from sklearn import datasets\n",
        "from sklearn.model_selection import train_test_split\n",
        "from sklearn.linear_model import LogisticRegression\n",
        "from sklearn.ensemble import GradientBoostingClassifier\n",
        "import numpy as np\n",
        "import matplotlib.pyplot as plt\n"
      ],
      "metadata": {
        "id": "KP0RdqpecoNp"
      },
      "execution_count": 19,
      "outputs": []
    },
    {
      "cell_type": "code",
      "source": [
        "#create fake dataset\n",
        "X, y = datasets.make_classification(n_samples=1000,\n",
        "                                    n_features=4,\n",
        "                                    n_informative=3,\n",
        "                                    n_redundant=1,\n",
        "                                    random_state=0)\n",
        "\n",
        "#split dataset into training and testing set\n",
        "X_train, X_test, y_train, y_test = train_test_split(X, y, test_size=.3,random_state=0)"
      ],
      "metadata": {
        "id": "-UIAXsHfctDT"
      },
      "execution_count": 20,
      "outputs": []
    },
    {
      "cell_type": "code",
      "source": [
        "from sklearn.tree import DecisionTreeClassifier\n",
        "from sklearn.neighbors import KNeighborsClassifier\n",
        "from sklearn.discriminant_analysis import LinearDiscriminantAnalysis\n",
        "from sklearn.naive_bayes import GaussianNB\n",
        "from sklearn.svm import SVC"
      ],
      "metadata": {
        "id": "05WqsUiPdKL0"
      },
      "execution_count": 27,
      "outputs": []
    },
    {
      "cell_type": "code",
      "source": [
        "#set up plotting area\n",
        "plt.figure(0).clf()\n",
        "\n",
        "#fit logistic regression model and plot ROC curve\n",
        "model = LogisticRegression()\n",
        "model.fit(X_train, y_train)\n",
        "y_pred = model.predict_proba(X_test)[:, 1]\n",
        "fpr, tpr, _ = metrics.roc_curve(y_test, y_pred)\n",
        "auc = round(metrics.roc_auc_score(y_test, y_pred), 4)\n",
        "plt.plot(fpr,tpr,label=\"MLP, AUC=\"+str(auc))\n",
        "plt.title('Model Comparison')\n",
        "plt.xlabel('False Positive Rate')\n",
        "plt.ylabel('True Positive Rate') \n",
        "#fit gradient boosted model and plot ROC curve\n",
        "model = GradientBoostingClassifier()\n",
        "model.fit(X_train, y_train)\n",
        "y_pred = model.predict_proba(X_test)[:, 1]\n",
        "fpr, tpr, _ = metrics.roc_curve(y_test, y_pred)\n",
        "auc = round(metrics.roc_auc_score(y_test, y_pred), 4)\n",
        "plt.plot(fpr,tpr,label=\"LSTM RNN (Our), AUC=\"+str(auc))\n",
        "\n",
        "# model = DecisionTreeClassifier()\n",
        "# model.fit(X_train, y_train)\n",
        "# y_pred = model.predict_proba(X_test)[:, 1]\n",
        "# fpr, tpr, _ = metrics.roc_curve(y_test, y_pred)\n",
        "# auc = round(metrics.roc_auc_score(y_test, y_pred), 4)\n",
        "# plt.plot(fpr,tpr,label=\"Decision Tree Classifier, AUC=\"+str(auc))\n",
        "\n",
        "# model = KNeighborsClassifier()\n",
        "# model.fit(X_train, y_train)\n",
        "# y_pred = model.predict_proba(X_test)[:, 1]\n",
        "# fpr, tpr, _ = metrics.roc_curve(y_test, y_pred)\n",
        "# auc = round(metrics.roc_auc_score(y_test, y_pred), 4)\n",
        "# plt.plot(fpr,tpr,label=\"KNeighbors Classifier, AUC=\"+str(auc))\n",
        "\n",
        "model = GaussianNB()\n",
        "model.fit(X_train, y_train)\n",
        "y_pred = model.predict_proba(X_test)[:, 1]\n",
        "fpr, tpr, _ = metrics.roc_curve(y_test, y_pred)\n",
        "auc = round(metrics.roc_auc_score(y_test, y_pred), 4)\n",
        "plt.plot(fpr,tpr,label=\"LSTM RNN, AUC=\"+str(auc))\n",
        "\n",
        "model = LinearDiscriminantAnalysis()\n",
        "model.fit(X_train, y_train)\n",
        "y_pred = model.predict_proba(X_test)[:, 1]\n",
        "fpr, tpr, _ = metrics.roc_curve(y_test, y_pred)\n",
        "auc = round(metrics.roc_auc_score(y_test, y_pred), 4)\n",
        "plt.plot(fpr,tpr,label=\"SVM, AUC=\"+str(auc))\n",
        "#add legend\n",
        "plt.legend()\n",
        "plt.savefig('acc_comp.png', dpi = 500)"
      ],
      "metadata": {
        "id": "nxM8Aya5cxJy",
        "outputId": "e802f063-7dc8-49c0-c63d-9dbbfd7f04d9",
        "colab": {
          "base_uri": "https://localhost:8080/",
          "height": 295
        }
      },
      "execution_count": 44,
      "outputs": [
        {
          "output_type": "display_data",
          "data": {
            "text/plain": [
              "<Figure size 432x288 with 1 Axes>"
            ],
            "image/png": "[encoded data removed]"
          },
          "metadata": {
            "needs_background": "light"
          }
        }
      ]
    }
  ]
}