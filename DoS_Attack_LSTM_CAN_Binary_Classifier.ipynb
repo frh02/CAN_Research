{
  "nbformat": 4,
  "nbformat_minor": 0,
  "metadata": {
    "colab": {
      "name": "DoS_Attack_LSTM_CAN_Binary_Classifier.ipynb",
      "provenance": [],
      "collapsed_sections": [],
      "toc_visible": true,
      "authorship_tag": "ABX9TyPbeC7Rok98TUVvSAENoAEG",
      "include_colab_link": true
    },
    "kernelspec": {
      "name": "python3",
      "display_name": "Python 3"
    },
    "language_info": {
      "name": "python"
    },
    "accelerator": "GPU"
  },
  "cells": [
    {
      "cell_type": "markdown",
      "metadata": {
        "id": "view-in-github",
        "colab_type": "text"
      },
      "source": [
        "<a href=\"https://colab.research.google.com/github/frh02/CAN_Research/blob/main/DoS_Attack_LSTM_CAN_Binary_Classifier.ipynb\" target=\"_parent\"><img src=\"https://colab.research.google.com/assets/colab-badge.svg\" alt=\"Open In Colab\"/></a>"
      ]
    },
    {
      "cell_type": "markdown",
      "metadata": {
        "id": "J5LlNobKHy-O"
      },
      "source": [
        "# LSTM Model for Binary Classification"
      ]
    },
    {
      "cell_type": "markdown",
      "metadata": {
        "id": "vXjZBzQHICbs"
      },
      "source": [
        "## import libraries "
      ]
    },
    {
      "cell_type": "code",
      "metadata": {
        "id": "XoIiM1h-YNPi"
      },
      "source": [
        "import pandas as pd\n",
        "import tensorflow as tf\n",
        "import keras\n",
        "from sklearn.model_selection import train_test_split\n",
        "import keras.utils\n",
        "from keras import utils as np_utils\n",
        "import numpy as np\n",
        "import pandas as pd\n",
        "from tensorflow import keras\n",
        "from tensorflow.keras import layers\n",
        "from datetime import datetime\n",
        "from matplotlib import pyplot as plt\n",
        "from matplotlib import dates as md\n",
        "import pandas as pd\n",
        "import csv\n",
        "%matplotlib inline  \n",
        "from ast import literal_eval \n",
        "import array as array"
      ],
      "execution_count": 1,
      "outputs": []
    },
    {
      "cell_type": "markdown",
      "metadata": {
        "id": "Xmr90uqoIGTs"
      },
      "source": [
        "## load the data"
      ]
    },
    {
      "cell_type": "code",
      "metadata": {
        "colab": {
          "base_uri": "https://localhost:8080/"
        },
        "id": "oj6T6derZ79Z",
        "outputId": "ab1c4577-22a7-498c-c299-d923326dc2ab"
      },
      "source": [
        "df1 = pd.read_fwf('/content/Attack_free_dataset_small.txt')\n",
        "df1[\"Target\"] = 0\n",
        "df1.rename(columns={'Id': 'ID'})\n",
        "print(df1)\n",
        "df1.to_csv('Attack_free.csv')"
      ],
      "execution_count": 2,
      "outputs": [
        {
          "output_type": "stream",
          "text": [
            "             Time   seconds   ID Value  App  ...   D5   D6   D7   D8 Target\n",
            "0      Timestamp:  0.000000  ID:  0316    0  ...   20   1a   00   7f      0\n",
            "1      Timestamp:  0.000224  ID:  0329    0  ...   11   2f   00   10      0\n",
            "2      Timestamp:  0.000462  ID:  0080    0  ...   20   1a   20   43      0\n",
            "3      Timestamp:  0.000704  ID:  0081    0  ...   00   00   00   53      0\n",
            "4      Timestamp:  0.000878  ID:  0120    0  ...  NaN  NaN  NaN  NaN      0\n",
            "...           ...       ...  ...   ...  ...  ...  ...  ...  ...  ...    ...\n",
            "39996  Timestamp:  7.513203  ID:  0545    0  ...   37   00   37   00      0\n",
            "39997  Timestamp:  7.515349  ID:  05a2  100  ...  NaN  NaN  NaN  NaN      0\n",
            "39998  Timestamp:  7.515502  ID:  05a2    0  ...  NaN  NaN  NaN  NaN      0\n",
            "39999  Timestamp:  7.515800  ID:  02b0    0  ...   77  NaN  NaN  NaN      0\n",
            "40000  Timestamp:  7.516036  ID:  0165    0  ...   00   00   07   80      0\n",
            "\n",
            "[40001 rows x 16 columns]\n"
          ],
          "name": "stdout"
        }
      ]
    },
    {
      "cell_type": "code",
      "metadata": {
        "colab": {
          "base_uri": "https://localhost:8080/"
        },
        "id": "2YQdBHZsZ9r-",
        "outputId": "335695d8-09da-49f8-f28f-ffa03db8576e"
      },
      "source": [
        "df2 = pd.read_fwf('/content/DoS_attack_small.txt')\n",
        "df2[\"Target\"] = 1\n",
        "df2.rename(columns={'Id': 'ID'})\n",
        "print(df2)\n",
        "df2.to_csv('DoS_Attack.csv')"
      ],
      "execution_count": 3,
      "outputs": [
        {
          "output_type": "stream",
          "text": [
            "             Time   seconds   ID Value  App   DLC  ...  D4  D5  D6  D7  D8 Target\n",
            "0      Timestamp:  0.000000  ID:  0000    0  DLC:  ...  00  00  00  00  00      1\n",
            "1      Timestamp:  0.000271  ID:  0080    0  DLC:  ...  09  16  11  16  bb      1\n",
            "2      Timestamp:  0.000495  ID:  0000    0  DLC:  ...  00  00  00  00  00      1\n",
            "3      Timestamp:  0.000736  ID:  0081    0  DLC:  ...  00  00  00  00  6b      1\n",
            "4      Timestamp:  0.000983  ID:  0000    0  DLC:  ...  00  00  00  00  00      1\n",
            "...           ...       ...  ...   ...  ...   ...  ...  ..  ..  ..  ..  ..    ...\n",
            "39995  Timestamp:  2.591379  ID:  0165    0  DLC:  ...  00  00  00  03  89      1\n",
            "39996  Timestamp:  2.591614  ID:  0000    0  DLC:  ...  00  00  00  00  00      1\n",
            "39997  Timestamp:  2.591861  ID:  018f    0  DLC:  ...  00  00  3f  00  00      1\n",
            "39998  Timestamp:  2.592106  ID:  0000    0  DLC:  ...  00  00  00  00  00      1\n",
            "39999  Timestamp:  2.592365  ID:  0153    0  DLC:  ...  ff  00  ff  20  ae      1\n",
            "\n",
            "[40000 rows x 16 columns]\n"
          ],
          "name": "stdout"
        }
      ]
    },
    {
      "cell_type": "code",
      "metadata": {
        "colab": {
          "base_uri": "https://localhost:8080/"
        },
        "id": "c6rYE36KcmwL",
        "outputId": "d604e1e0-4fd4-4248-f5db-0032c3d8bbf4"
      },
      "source": [
        "df1_n = pd.read_csv('/content/DoS_Attack.csv')\n",
        "df2_n = pd.read_csv('/content/Attack_free.csv')\n",
        "frames= [df1_n,df2_n]\n",
        "df = pd.concat(frames)\n",
        "df = df.fillna(0)\n",
        "df.to_csv('input_train.csv')\n",
        "print(df)"
      ],
      "execution_count": 4,
      "outputs": [
        {
          "output_type": "stream",
          "text": [
            "       Unnamed: 0        Time   seconds   ID Value  ...  D5  D6  D7  D8 Target\n",
            "0               0  Timestamp:  0.000000  ID:  0000  ...  00  00  00  00      1\n",
            "1               1  Timestamp:  0.000271  ID:  0080  ...  16  11  16  bb      1\n",
            "2               2  Timestamp:  0.000495  ID:  0000  ...  00  00  00  00      1\n",
            "3               3  Timestamp:  0.000736  ID:  0081  ...  00  00  00  6b      1\n",
            "4               4  Timestamp:  0.000983  ID:  0000  ...  00  00  00  00      1\n",
            "...           ...         ...       ...  ...   ...  ...  ..  ..  ..  ..    ...\n",
            "39996       39996  Timestamp:  7.513203  ID:  0545  ...  37  00  37  00      0\n",
            "39997       39997  Timestamp:  7.515349  ID:  05a2  ...   0   0   0   0      0\n",
            "39998       39998  Timestamp:  7.515502  ID:  05a2  ...   0   0   0   0      0\n",
            "39999       39999  Timestamp:  7.515800  ID:  02b0  ...  77   0   0   0      0\n",
            "40000       40000  Timestamp:  7.516036  ID:  0165  ...  00  00  07  80      0\n",
            "\n",
            "[80001 rows x 17 columns]\n"
          ],
          "name": "stdout"
        }
      ]
    },
    {
      "cell_type": "markdown",
      "metadata": {
        "id": "bihLMaKSIKUH"
      },
      "source": [
        "## cleaning the data "
      ]
    },
    {
      "cell_type": "code",
      "metadata": {
        "colab": {
          "base_uri": "https://localhost:8080/"
        },
        "id": "CV0GY1goaQeL",
        "outputId": "78fa0fc4-3c4f-4e4f-bc51-7e24654d97e0"
      },
      "source": [
        "properties = list(df.columns.values)\n",
        "properties.remove('Time')\n",
        "properties.remove('seconds')\n",
        "properties.remove('ID')\n",
        "properties.remove('DLC')\n",
        "properties.remove('App')\n",
        "properties.remove('Unnamed: 0')\n",
        "properties.remove('Target')\n",
        "df['Value']=df['Value'].apply(lambda x: int(str(x),16))\n",
        "df['D1']=df['D1'].apply(lambda x: int(str(x),16))\n",
        "df['D2']=df['D2'].apply(lambda x: int(str(x),16))\n",
        "df['D3']=df['D3'].apply(lambda x: int(str(x),16))\n",
        "df['D4']=df['D4'].apply(lambda x: int(str(x),16))\n",
        "df['D5']=df['D5'].apply(lambda x: int(str(x),16))\n",
        "df['D6']=df['D6'].apply(lambda x: int(str(x),16))\n",
        "df['D7']=df['D7'].apply(lambda x: int(str(x),16))\n",
        "df['D8']=df['D8'].apply(lambda x: int(str(x),16))\n",
        "X = df[properties]\n",
        "y = df['Target']\n",
        "print(y.shape)\n",
        "print(df)\n",
        "X = np.expand_dims(X, axis=2)\n",
        "y = np.expand_dims(y, axis=1)\n",
        "print(X.shape)\n",
        "print(y.shape)\n"
      ],
      "execution_count": 5,
      "outputs": [
        {
          "output_type": "stream",
          "text": [
            "(80001,)\n",
            "       Unnamed: 0        Time   seconds   ID  Value  ...   D5  D6  D7   D8  Target\n",
            "0               0  Timestamp:  0.000000  ID:      0  ...    0   0   0    0       1\n",
            "1               1  Timestamp:  0.000271  ID:    128  ...   22  17  22  187       1\n",
            "2               2  Timestamp:  0.000495  ID:      0  ...    0   0   0    0       1\n",
            "3               3  Timestamp:  0.000736  ID:    129  ...    0   0   0  107       1\n",
            "4               4  Timestamp:  0.000983  ID:      0  ...    0   0   0    0       1\n",
            "...           ...         ...       ...  ...    ...  ...  ...  ..  ..  ...     ...\n",
            "39996       39996  Timestamp:  7.513203  ID:   1349  ...   55   0  55    0       0\n",
            "39997       39997  Timestamp:  7.515349  ID:   1442  ...    0   0   0    0       0\n",
            "39998       39998  Timestamp:  7.515502  ID:   1442  ...    0   0   0    0       0\n",
            "39999       39999  Timestamp:  7.515800  ID:    688  ...  119   0   0    0       0\n",
            "40000       40000  Timestamp:  7.516036  ID:    357  ...    0   0   7  128       0\n",
            "\n",
            "[80001 rows x 17 columns]\n",
            "(80001, 10, 1)\n",
            "(80001, 1)\n"
          ],
          "name": "stdout"
        }
      ]
    },
    {
      "cell_type": "markdown",
      "metadata": {
        "id": "gkVG0i0kINjb"
      },
      "source": [
        "## 2D To 3D array conversion"
      ]
    },
    {
      "cell_type": "code",
      "metadata": {
        "colab": {
          "base_uri": "https://localhost:8080/"
        },
        "id": "TgfBc0iqvpJg",
        "outputId": "dcbb2ab3-b0de-41c2-ee43-b7763faaa6fd"
      },
      "source": [
        "TIME_STEPS = 288\n",
        "def create_sequences(values, time_steps=TIME_STEPS):\n",
        "    output = []\n",
        "    for i in range(len(values) - time_steps):\n",
        "        output.append(values[i : (i + time_steps)])\n",
        "    # Convert 2D sequences into 3D as we will be feeding this into\n",
        "    # a convolutional layer.\n",
        "    return np.expand_dims(output, axis=2)\n",
        "\n",
        "training_value = df \n",
        "x_train = create_sequences(training_value)\n",
        "print(\"Training input shape: \", x_train.shape)\n",
        "X_train, X_test, y_train, y_test = train_test_split(X, y, test_size=0.3, random_state=0)"
      ],
      "execution_count": 6,
      "outputs": [
        {
          "output_type": "stream",
          "text": [
            "Training input shape:  (79713, 288, 1, 17)\n"
          ],
          "name": "stdout"
        }
      ]
    },
    {
      "cell_type": "markdown",
      "metadata": {
        "id": "K3I3BkymISSD"
      },
      "source": [
        "## creating the LSTM model "
      ]
    },
    {
      "cell_type": "code",
      "metadata": {
        "colab": {
          "base_uri": "https://localhost:8080/"
        },
        "id": "BxUWO5pOwCL5",
        "outputId": "c309e7bd-1c89-4521-a0ba-4dcf91e2a13b"
      },
      "source": [
        "n_steps = X_train.shape[1]\n",
        "n_features = X_train.shape[2]\n",
        "\n",
        "keras.backend.clear_session()\n",
        "model = keras.Sequential(\n",
        "    [\n",
        "        layers.Input(shape=(n_steps, n_features)),\n",
        "        layers.Conv1D(filters=32, kernel_size=15, padding='same', data_format='channels_last',\n",
        "            dilation_rate=1, activation=\"linear\"),\n",
        "        layers.LSTM(\n",
        "            units=512, activation=\"tanh\", name=\"lstm_1\", return_sequences=False\n",
        "        ),\n",
        "        layers.RepeatVector(n_steps),\n",
        "        layers.LSTM(\n",
        "            units=128, activation=\"tanh\", name=\"lstm_2\", return_sequences=True\n",
        "        ),\n",
        "        \n",
        "        layers.LSTM(\n",
        "            units=64, activation=\"tanh\", name=\"lstm_3\", return_sequences=True\n",
        "        ),\n",
        "        layers.LSTM(\n",
        "            units=128, activation=\"tanh\", name=\"lstm_4\", return_sequences=True\n",
        "        ),\n",
        "        layers.Conv1D(filters=32, kernel_size=15, padding='same', data_format='channels_last',\n",
        "            dilation_rate=1, activation=\"linear\"),\n",
        "\n",
        "        layers.TimeDistributed(layers.Dense(1, activation='linear'))\n",
        "    ]\n",
        ")\n",
        "model.compile(optimizer=keras.optimizers.Adam(learning_rate=0.001), loss=\"binary_crossentropy\",metrics=['accuracy'])\n",
        "model.summary()"
      ],
      "execution_count": 11,
      "outputs": [
        {
          "output_type": "stream",
          "text": [
            "Model: \"sequential\"\n",
            "_________________________________________________________________\n",
            "Layer (type)                 Output Shape              Param #   \n",
            "=================================================================\n",
            "conv1d (Conv1D)              (None, 10, 32)            512       \n",
            "_________________________________________________________________\n",
            "lstm_1 (LSTM)                (None, 512)               1116160   \n",
            "_________________________________________________________________\n",
            "repeat_vector (RepeatVector) (None, 10, 512)           0         \n",
            "_________________________________________________________________\n",
            "lstm_2 (LSTM)                (None, 10, 128)           328192    \n",
            "_________________________________________________________________\n",
            "lstm_3 (LSTM)                (None, 10, 64)            49408     \n",
            "_________________________________________________________________\n",
            "lstm_4 (LSTM)                (None, 10, 128)           98816     \n",
            "_________________________________________________________________\n",
            "conv1d_1 (Conv1D)            (None, 10, 32)            61472     \n",
            "_________________________________________________________________\n",
            "time_distributed (TimeDistri (None, 10, 1)             33        \n",
            "=================================================================\n",
            "Total params: 1,654,593\n",
            "Trainable params: 1,654,593\n",
            "Non-trainable params: 0\n",
            "_________________________________________________________________\n"
          ],
          "name": "stdout"
        }
      ]
    },
    {
      "cell_type": "code",
      "metadata": {
        "colab": {
          "base_uri": "https://localhost:8080/",
          "height": 1000
        },
        "id": "8yf1RS6iwHGe",
        "outputId": "d8b5247e-51e5-427e-ddc6-80be5dd67834"
      },
      "source": [
        "history = model.fit(\n",
        "    X_train,\n",
        "    y_train,\n",
        "    epochs=100,\n",
        "    batch_size=256,\n",
        "    validation_split=0.1,\n",
        "    #callbacks=[\n",
        "    #    keras.callbacks.EarlyStopping(monitor=\"val_loss\", patience=25, mode=\"min\", restore_best_weights=True)\n",
        "    #],\n",
        ")"
      ],
      "execution_count": 16,
      "outputs": [
        {
          "output_type": "stream",
          "text": [
            "Epoch 1/100\n",
            "197/197 [==============================] - 3s 15ms/step - loss: 0.2131 - accuracy: 0.8967 - val_loss: 0.2122 - val_accuracy: 0.9000\n",
            "Epoch 2/100\n",
            "197/197 [==============================] - 3s 14ms/step - loss: 0.2997 - accuracy: 0.8852 - val_loss: 0.2129 - val_accuracy: 0.8987\n",
            "Epoch 3/100\n",
            "197/197 [==============================] - 3s 15ms/step - loss: 0.2133 - accuracy: 0.8965 - val_loss: 0.2188 - val_accuracy: 0.8988\n",
            "Epoch 4/100\n",
            "197/197 [==============================] - 3s 15ms/step - loss: 0.2393 - accuracy: 0.8883 - val_loss: 0.2245 - val_accuracy: 0.8903\n",
            "Epoch 5/100\n",
            "197/197 [==============================] - 3s 14ms/step - loss: 0.7434 - accuracy: 0.8539 - val_loss: 5.1729 - val_accuracy: 0.5254\n",
            "Epoch 6/100\n",
            "197/197 [==============================] - 3s 14ms/step - loss: 4.4651 - accuracy: 0.6948 - val_loss: 4.1804 - val_accuracy: 0.7277\n",
            "Epoch 7/100\n",
            "197/197 [==============================] - 3s 15ms/step - loss: 3.9600 - accuracy: 0.7385 - val_loss: 3.9711 - val_accuracy: 0.7371\n",
            "Epoch 8/100\n",
            "197/197 [==============================] - 3s 15ms/step - loss: 3.8911 - accuracy: 0.7421 - val_loss: 3.8459 - val_accuracy: 0.7448\n",
            "Epoch 9/100\n",
            "197/197 [==============================] - 3s 14ms/step - loss: 3.5208 - accuracy: 0.7658 - val_loss: 3.4438 - val_accuracy: 0.7721\n",
            "Epoch 10/100\n",
            "197/197 [==============================] - 3s 15ms/step - loss: 3.3727 - accuracy: 0.7758 - val_loss: 3.4006 - val_accuracy: 0.7723\n",
            "Epoch 11/100\n",
            "197/197 [==============================] - 3s 15ms/step - loss: 3.4192 - accuracy: 0.7747 - val_loss: 3.5009 - val_accuracy: 0.7730\n",
            "Epoch 12/100\n",
            "197/197 [==============================] - 3s 15ms/step - loss: 3.4388 - accuracy: 0.7770 - val_loss: 3.4926 - val_accuracy: 0.7736\n",
            "Epoch 13/100\n",
            "197/197 [==============================] - 3s 15ms/step - loss: 3.4527 - accuracy: 0.7761 - val_loss: 3.5225 - val_accuracy: 0.7716\n",
            "Epoch 14/100\n",
            "197/197 [==============================] - 3s 15ms/step - loss: 3.4535 - accuracy: 0.7761 - val_loss: 3.5225 - val_accuracy: 0.7716\n",
            "Epoch 15/100\n",
            "197/197 [==============================] - 3s 15ms/step - loss: 3.4535 - accuracy: 0.7761 - val_loss: 3.5225 - val_accuracy: 0.7716\n",
            "Epoch 16/100\n",
            "197/197 [==============================] - 3s 15ms/step - loss: 3.4535 - accuracy: 0.7761 - val_loss: 3.5225 - val_accuracy: 0.7716\n",
            "Epoch 17/100\n",
            "197/197 [==============================] - 3s 15ms/step - loss: 3.4535 - accuracy: 0.7761 - val_loss: 3.5225 - val_accuracy: 0.7716\n",
            "Epoch 18/100\n",
            "197/197 [==============================] - 3s 15ms/step - loss: 3.4535 - accuracy: 0.7761 - val_loss: 3.5225 - val_accuracy: 0.7716\n",
            "Epoch 19/100\n",
            "197/197 [==============================] - 3s 15ms/step - loss: 3.4535 - accuracy: 0.7761 - val_loss: 3.5225 - val_accuracy: 0.7716\n",
            "Epoch 20/100\n",
            "197/197 [==============================] - 3s 15ms/step - loss: 3.4535 - accuracy: 0.7761 - val_loss: 3.5225 - val_accuracy: 0.7716\n",
            "Epoch 21/100\n",
            "197/197 [==============================] - 3s 15ms/step - loss: 3.4535 - accuracy: 0.7761 - val_loss: 3.5225 - val_accuracy: 0.7716\n",
            "Epoch 22/100\n",
            "197/197 [==============================] - 3s 15ms/step - loss: 3.4535 - accuracy: 0.7761 - val_loss: 3.5225 - val_accuracy: 0.7716\n",
            "Epoch 23/100\n",
            "197/197 [==============================] - 3s 15ms/step - loss: 3.4535 - accuracy: 0.7761 - val_loss: 3.5225 - val_accuracy: 0.7716\n",
            "Epoch 24/100\n",
            "197/197 [==============================] - 3s 15ms/step - loss: 3.4535 - accuracy: 0.7761 - val_loss: 3.5225 - val_accuracy: 0.7716\n",
            "Epoch 25/100\n",
            "197/197 [==============================] - 3s 15ms/step - loss: 3.4535 - accuracy: 0.7761 - val_loss: 3.5225 - val_accuracy: 0.7716\n",
            "Epoch 26/100\n",
            "197/197 [==============================] - 3s 15ms/step - loss: 3.4535 - accuracy: 0.7761 - val_loss: 3.5225 - val_accuracy: 0.7716\n",
            "Epoch 27/100\n",
            "197/197 [==============================] - 3s 14ms/step - loss: 3.4535 - accuracy: 0.7761 - val_loss: 3.5225 - val_accuracy: 0.7716\n",
            "Epoch 28/100\n",
            "197/197 [==============================] - 3s 14ms/step - loss: 3.4535 - accuracy: 0.7761 - val_loss: 3.5225 - val_accuracy: 0.7716\n",
            "Epoch 29/100\n",
            "197/197 [==============================] - 3s 14ms/step - loss: 3.4535 - accuracy: 0.7761 - val_loss: 3.5225 - val_accuracy: 0.7716\n",
            "Epoch 30/100\n",
            "197/197 [==============================] - 3s 15ms/step - loss: 3.4535 - accuracy: 0.7761 - val_loss: 3.5225 - val_accuracy: 0.7716\n",
            "Epoch 31/100\n",
            "197/197 [==============================] - 3s 15ms/step - loss: 3.4535 - accuracy: 0.7761 - val_loss: 3.5225 - val_accuracy: 0.7716\n",
            "Epoch 32/100\n",
            "197/197 [==============================] - 3s 14ms/step - loss: 3.4535 - accuracy: 0.7761 - val_loss: 3.5225 - val_accuracy: 0.7716\n",
            "Epoch 33/100\n",
            "197/197 [==============================] - 3s 15ms/step - loss: 3.4535 - accuracy: 0.7761 - val_loss: 3.5225 - val_accuracy: 0.7716\n",
            "Epoch 34/100\n",
            "197/197 [==============================] - 3s 14ms/step - loss: 3.4535 - accuracy: 0.7761 - val_loss: 3.5225 - val_accuracy: 0.7716\n",
            "Epoch 35/100\n",
            "197/197 [==============================] - 3s 15ms/step - loss: 3.4535 - accuracy: 0.7761 - val_loss: 3.5225 - val_accuracy: 0.7716\n",
            "Epoch 36/100\n",
            "197/197 [==============================] - 3s 14ms/step - loss: 3.4535 - accuracy: 0.7761 - val_loss: 3.5225 - val_accuracy: 0.7716\n",
            "Epoch 37/100\n",
            "197/197 [==============================] - 3s 14ms/step - loss: 3.4535 - accuracy: 0.7761 - val_loss: 3.5225 - val_accuracy: 0.7716\n",
            "Epoch 38/100\n",
            "197/197 [==============================] - 3s 15ms/step - loss: 3.4535 - accuracy: 0.7761 - val_loss: 3.5225 - val_accuracy: 0.7716\n",
            "Epoch 39/100\n",
            "197/197 [==============================] - 3s 14ms/step - loss: 3.4535 - accuracy: 0.7761 - val_loss: 3.5225 - val_accuracy: 0.7716\n",
            "Epoch 40/100\n",
            "197/197 [==============================] - 3s 14ms/step - loss: 3.4535 - accuracy: 0.7761 - val_loss: 3.5225 - val_accuracy: 0.7716\n",
            "Epoch 41/100\n",
            "197/197 [==============================] - 3s 14ms/step - loss: 3.4535 - accuracy: 0.7761 - val_loss: 3.5225 - val_accuracy: 0.7716\n",
            "Epoch 42/100\n",
            "197/197 [==============================] - 3s 15ms/step - loss: 3.4535 - accuracy: 0.7761 - val_loss: 3.5225 - val_accuracy: 0.7716\n",
            "Epoch 43/100\n",
            "197/197 [==============================] - 3s 15ms/step - loss: 3.4535 - accuracy: 0.7761 - val_loss: 3.5225 - val_accuracy: 0.7716\n",
            "Epoch 44/100\n",
            "197/197 [==============================] - 3s 14ms/step - loss: 3.4535 - accuracy: 0.7761 - val_loss: 3.5225 - val_accuracy: 0.7716\n",
            "Epoch 45/100\n",
            "197/197 [==============================] - 3s 14ms/step - loss: 3.4535 - accuracy: 0.7761 - val_loss: 3.5225 - val_accuracy: 0.7716\n",
            "Epoch 46/100\n",
            "197/197 [==============================] - 3s 15ms/step - loss: 3.4535 - accuracy: 0.7761 - val_loss: 3.5225 - val_accuracy: 0.7716\n",
            "Epoch 47/100\n",
            "197/197 [==============================] - 3s 14ms/step - loss: 3.4535 - accuracy: 0.7761 - val_loss: 3.5225 - val_accuracy: 0.7716\n",
            "Epoch 48/100\n",
            "197/197 [==============================] - 3s 15ms/step - loss: 3.4535 - accuracy: 0.7761 - val_loss: 3.5225 - val_accuracy: 0.7716\n",
            "Epoch 49/100\n",
            "197/197 [==============================] - 3s 14ms/step - loss: 3.4535 - accuracy: 0.7761 - val_loss: 3.5225 - val_accuracy: 0.7716\n",
            "Epoch 50/100\n",
            "197/197 [==============================] - 3s 15ms/step - loss: 3.4535 - accuracy: 0.7761 - val_loss: 3.5225 - val_accuracy: 0.7716\n",
            "Epoch 51/100\n",
            "197/197 [==============================] - 3s 15ms/step - loss: 3.4535 - accuracy: 0.7761 - val_loss: 3.5225 - val_accuracy: 0.7716\n",
            "Epoch 52/100\n",
            "197/197 [==============================] - 3s 14ms/step - loss: 3.4535 - accuracy: 0.7761 - val_loss: 3.5225 - val_accuracy: 0.7716\n",
            "Epoch 53/100\n",
            "197/197 [==============================] - 3s 14ms/step - loss: 3.4535 - accuracy: 0.7761 - val_loss: 3.5225 - val_accuracy: 0.7716\n",
            "Epoch 54/100\n",
            "197/197 [==============================] - 3s 14ms/step - loss: 3.4535 - accuracy: 0.7761 - val_loss: 3.5225 - val_accuracy: 0.7716\n",
            "Epoch 55/100\n",
            "197/197 [==============================] - 3s 14ms/step - loss: 3.4535 - accuracy: 0.7761 - val_loss: 3.5225 - val_accuracy: 0.7716\n",
            "Epoch 56/100\n",
            "197/197 [==============================] - 3s 14ms/step - loss: 3.4535 - accuracy: 0.7761 - val_loss: 3.5225 - val_accuracy: 0.7716\n",
            "Epoch 57/100\n",
            "197/197 [==============================] - 3s 14ms/step - loss: 3.4535 - accuracy: 0.7761 - val_loss: 3.5225 - val_accuracy: 0.7716\n",
            "Epoch 58/100\n",
            "197/197 [==============================] - 3s 14ms/step - loss: 3.4535 - accuracy: 0.7761 - val_loss: 3.5225 - val_accuracy: 0.7716\n",
            "Epoch 59/100\n",
            "197/197 [==============================] - 3s 14ms/step - loss: 3.4535 - accuracy: 0.7761 - val_loss: 3.5225 - val_accuracy: 0.7716\n",
            "Epoch 60/100\n",
            "197/197 [==============================] - 3s 14ms/step - loss: 3.4535 - accuracy: 0.7761 - val_loss: 3.5225 - val_accuracy: 0.7716\n",
            "Epoch 61/100\n",
            "197/197 [==============================] - 3s 14ms/step - loss: 3.4535 - accuracy: 0.7761 - val_loss: 3.5225 - val_accuracy: 0.7716\n",
            "Epoch 62/100\n",
            "197/197 [==============================] - 3s 14ms/step - loss: 3.4535 - accuracy: 0.7761 - val_loss: 3.5225 - val_accuracy: 0.7716\n",
            "Epoch 63/100\n",
            "197/197 [==============================] - 3s 14ms/step - loss: 3.4535 - accuracy: 0.7761 - val_loss: 3.5225 - val_accuracy: 0.7716\n",
            "Epoch 64/100\n",
            "197/197 [==============================] - 3s 14ms/step - loss: 3.4535 - accuracy: 0.7761 - val_loss: 3.5225 - val_accuracy: 0.7716\n",
            "Epoch 65/100\n",
            "197/197 [==============================] - 3s 15ms/step - loss: 3.4535 - accuracy: 0.7761 - val_loss: 3.5225 - val_accuracy: 0.7716\n",
            "Epoch 66/100\n",
            "197/197 [==============================] - 3s 14ms/step - loss: 3.4535 - accuracy: 0.7761 - val_loss: 3.5225 - val_accuracy: 0.7716\n",
            "Epoch 67/100\n",
            "197/197 [==============================] - 3s 14ms/step - loss: 3.4535 - accuracy: 0.7761 - val_loss: 3.5225 - val_accuracy: 0.7716\n",
            "Epoch 68/100\n",
            "197/197 [==============================] - 3s 14ms/step - loss: 3.4535 - accuracy: 0.7761 - val_loss: 3.5225 - val_accuracy: 0.7716\n",
            "Epoch 69/100\n",
            "197/197 [==============================] - 3s 14ms/step - loss: 3.4535 - accuracy: 0.7761 - val_loss: 3.5225 - val_accuracy: 0.7716\n",
            "Epoch 70/100\n",
            "197/197 [==============================] - 3s 14ms/step - loss: 3.4535 - accuracy: 0.7761 - val_loss: 3.5225 - val_accuracy: 0.7716\n",
            "Epoch 71/100\n",
            "197/197 [==============================] - 3s 15ms/step - loss: 3.4535 - accuracy: 0.7761 - val_loss: 3.5225 - val_accuracy: 0.7716\n",
            "Epoch 72/100\n",
            "197/197 [==============================] - 3s 14ms/step - loss: 3.4535 - accuracy: 0.7761 - val_loss: 3.5225 - val_accuracy: 0.7716\n",
            "Epoch 73/100\n",
            "197/197 [==============================] - 3s 14ms/step - loss: 3.4535 - accuracy: 0.7761 - val_loss: 3.5225 - val_accuracy: 0.7716\n",
            "Epoch 74/100\n",
            "197/197 [==============================] - 3s 15ms/step - loss: 3.4535 - accuracy: 0.7761 - val_loss: 3.5225 - val_accuracy: 0.7716\n",
            "Epoch 75/100\n",
            "197/197 [==============================] - 3s 15ms/step - loss: 3.4535 - accuracy: 0.7761 - val_loss: 3.5225 - val_accuracy: 0.7716\n",
            "Epoch 76/100\n",
            "113/197 [================>.............] - ETA: 1s - loss: 3.4475 - accuracy: 0.7765"
          ],
          "name": "stdout"
        },
        {
          "output_type": "error",
          "ename": "KeyboardInterrupt",
          "evalue": "ignored",
          "traceback": [
            "\u001b[0;31m---------------------------------------------------------------------------\u001b[0m",
            "\u001b[0;31mKeyboardInterrupt\u001b[0m                         Traceback (most recent call last)",
            "\u001b[0;32m<ipython-input-16-aeac6bbd0150>\u001b[0m in \u001b[0;36m<module>\u001b[0;34m()\u001b[0m\n\u001b[1;32m      4\u001b[0m     \u001b[0mepochs\u001b[0m\u001b[0;34m=\u001b[0m\u001b[0;36m100\u001b[0m\u001b[0;34m,\u001b[0m\u001b[0;34m\u001b[0m\u001b[0;34m\u001b[0m\u001b[0m\n\u001b[1;32m      5\u001b[0m     \u001b[0mbatch_size\u001b[0m\u001b[0;34m=\u001b[0m\u001b[0;36m256\u001b[0m\u001b[0;34m,\u001b[0m\u001b[0;34m\u001b[0m\u001b[0;34m\u001b[0m\u001b[0m\n\u001b[0;32m----> 6\u001b[0;31m     \u001b[0mvalidation_split\u001b[0m\u001b[0;34m=\u001b[0m\u001b[0;36m0.1\u001b[0m\u001b[0;34m,\u001b[0m\u001b[0;34m\u001b[0m\u001b[0;34m\u001b[0m\u001b[0m\n\u001b[0m\u001b[1;32m      7\u001b[0m     \u001b[0;31m#callbacks=[\u001b[0m\u001b[0;34m\u001b[0m\u001b[0;34m\u001b[0m\u001b[0;34m\u001b[0m\u001b[0m\n\u001b[1;32m      8\u001b[0m     \u001b[0;31m#    keras.callbacks.EarlyStopping(monitor=\"val_loss\", patience=25, mode=\"min\", restore_best_weights=True)\u001b[0m\u001b[0;34m\u001b[0m\u001b[0;34m\u001b[0m\u001b[0;34m\u001b[0m\u001b[0m\n",
            "\u001b[0;32m/usr/local/lib/python3.7/dist-packages/tensorflow/python/keras/engine/training.py\u001b[0m in \u001b[0;36mfit\u001b[0;34m(self, x, y, batch_size, epochs, verbose, callbacks, validation_split, validation_data, shuffle, class_weight, sample_weight, initial_epoch, steps_per_epoch, validation_steps, validation_batch_size, validation_freq, max_queue_size, workers, use_multiprocessing)\u001b[0m\n\u001b[1;32m   1098\u001b[0m                 _r=1):\n\u001b[1;32m   1099\u001b[0m               \u001b[0mcallbacks\u001b[0m\u001b[0;34m.\u001b[0m\u001b[0mon_train_batch_begin\u001b[0m\u001b[0;34m(\u001b[0m\u001b[0mstep\u001b[0m\u001b[0;34m)\u001b[0m\u001b[0;34m\u001b[0m\u001b[0;34m\u001b[0m\u001b[0m\n\u001b[0;32m-> 1100\u001b[0;31m               \u001b[0mtmp_logs\u001b[0m \u001b[0;34m=\u001b[0m \u001b[0mself\u001b[0m\u001b[0;34m.\u001b[0m\u001b[0mtrain_function\u001b[0m\u001b[0;34m(\u001b[0m\u001b[0miterator\u001b[0m\u001b[0;34m)\u001b[0m\u001b[0;34m\u001b[0m\u001b[0;34m\u001b[0m\u001b[0m\n\u001b[0m\u001b[1;32m   1101\u001b[0m               \u001b[0;32mif\u001b[0m \u001b[0mdata_handler\u001b[0m\u001b[0;34m.\u001b[0m\u001b[0mshould_sync\u001b[0m\u001b[0;34m:\u001b[0m\u001b[0;34m\u001b[0m\u001b[0;34m\u001b[0m\u001b[0m\n\u001b[1;32m   1102\u001b[0m                 \u001b[0mcontext\u001b[0m\u001b[0;34m.\u001b[0m\u001b[0masync_wait\u001b[0m\u001b[0;34m(\u001b[0m\u001b[0;34m)\u001b[0m\u001b[0;34m\u001b[0m\u001b[0;34m\u001b[0m\u001b[0m\n",
            "\u001b[0;32m/usr/local/lib/python3.7/dist-packages/tensorflow/python/eager/def_function.py\u001b[0m in \u001b[0;36m__call__\u001b[0;34m(self, *args, **kwds)\u001b[0m\n\u001b[1;32m    826\u001b[0m     \u001b[0mtracing_count\u001b[0m \u001b[0;34m=\u001b[0m \u001b[0mself\u001b[0m\u001b[0;34m.\u001b[0m\u001b[0mexperimental_get_tracing_count\u001b[0m\u001b[0;34m(\u001b[0m\u001b[0;34m)\u001b[0m\u001b[0;34m\u001b[0m\u001b[0;34m\u001b[0m\u001b[0m\n\u001b[1;32m    827\u001b[0m     \u001b[0;32mwith\u001b[0m \u001b[0mtrace\u001b[0m\u001b[0;34m.\u001b[0m\u001b[0mTrace\u001b[0m\u001b[0;34m(\u001b[0m\u001b[0mself\u001b[0m\u001b[0;34m.\u001b[0m\u001b[0m_name\u001b[0m\u001b[0;34m)\u001b[0m \u001b[0;32mas\u001b[0m \u001b[0mtm\u001b[0m\u001b[0;34m:\u001b[0m\u001b[0;34m\u001b[0m\u001b[0;34m\u001b[0m\u001b[0m\n\u001b[0;32m--> 828\u001b[0;31m       \u001b[0mresult\u001b[0m \u001b[0;34m=\u001b[0m \u001b[0mself\u001b[0m\u001b[0;34m.\u001b[0m\u001b[0m_call\u001b[0m\u001b[0;34m(\u001b[0m\u001b[0;34m*\u001b[0m\u001b[0margs\u001b[0m\u001b[0;34m,\u001b[0m \u001b[0;34m**\u001b[0m\u001b[0mkwds\u001b[0m\u001b[0;34m)\u001b[0m\u001b[0;34m\u001b[0m\u001b[0;34m\u001b[0m\u001b[0m\n\u001b[0m\u001b[1;32m    829\u001b[0m       \u001b[0mcompiler\u001b[0m \u001b[0;34m=\u001b[0m \u001b[0;34m\"xla\"\u001b[0m \u001b[0;32mif\u001b[0m \u001b[0mself\u001b[0m\u001b[0;34m.\u001b[0m\u001b[0m_experimental_compile\u001b[0m \u001b[0;32melse\u001b[0m \u001b[0;34m\"nonXla\"\u001b[0m\u001b[0;34m\u001b[0m\u001b[0;34m\u001b[0m\u001b[0m\n\u001b[1;32m    830\u001b[0m       \u001b[0mnew_tracing_count\u001b[0m \u001b[0;34m=\u001b[0m \u001b[0mself\u001b[0m\u001b[0;34m.\u001b[0m\u001b[0mexperimental_get_tracing_count\u001b[0m\u001b[0;34m(\u001b[0m\u001b[0;34m)\u001b[0m\u001b[0;34m\u001b[0m\u001b[0;34m\u001b[0m\u001b[0m\n",
            "\u001b[0;32m/usr/local/lib/python3.7/dist-packages/tensorflow/python/eager/def_function.py\u001b[0m in \u001b[0;36m_call\u001b[0;34m(self, *args, **kwds)\u001b[0m\n\u001b[1;32m    853\u001b[0m       \u001b[0;31m# In this case we have created variables on the first call, so we run the\u001b[0m\u001b[0;34m\u001b[0m\u001b[0;34m\u001b[0m\u001b[0;34m\u001b[0m\u001b[0m\n\u001b[1;32m    854\u001b[0m       \u001b[0;31m# defunned version which is guaranteed to never create variables.\u001b[0m\u001b[0;34m\u001b[0m\u001b[0;34m\u001b[0m\u001b[0;34m\u001b[0m\u001b[0m\n\u001b[0;32m--> 855\u001b[0;31m       \u001b[0;32mreturn\u001b[0m \u001b[0mself\u001b[0m\u001b[0;34m.\u001b[0m\u001b[0m_stateless_fn\u001b[0m\u001b[0;34m(\u001b[0m\u001b[0;34m*\u001b[0m\u001b[0margs\u001b[0m\u001b[0;34m,\u001b[0m \u001b[0;34m**\u001b[0m\u001b[0mkwds\u001b[0m\u001b[0;34m)\u001b[0m  \u001b[0;31m# pylint: disable=not-callable\u001b[0m\u001b[0;34m\u001b[0m\u001b[0;34m\u001b[0m\u001b[0m\n\u001b[0m\u001b[1;32m    856\u001b[0m     \u001b[0;32melif\u001b[0m \u001b[0mself\u001b[0m\u001b[0;34m.\u001b[0m\u001b[0m_stateful_fn\u001b[0m \u001b[0;32mis\u001b[0m \u001b[0;32mnot\u001b[0m \u001b[0;32mNone\u001b[0m\u001b[0;34m:\u001b[0m\u001b[0;34m\u001b[0m\u001b[0;34m\u001b[0m\u001b[0m\n\u001b[1;32m    857\u001b[0m       \u001b[0;31m# Release the lock early so that multiple threads can perform the call\u001b[0m\u001b[0;34m\u001b[0m\u001b[0;34m\u001b[0m\u001b[0;34m\u001b[0m\u001b[0m\n",
            "\u001b[0;32m/usr/local/lib/python3.7/dist-packages/tensorflow/python/eager/function.py\u001b[0m in \u001b[0;36m__call__\u001b[0;34m(self, *args, **kwargs)\u001b[0m\n\u001b[1;32m   2941\u001b[0m        filtered_flat_args) = self._maybe_define_function(args, kwargs)\n\u001b[1;32m   2942\u001b[0m     return graph_function._call_flat(\n\u001b[0;32m-> 2943\u001b[0;31m         filtered_flat_args, captured_inputs=graph_function.captured_inputs)  # pylint: disable=protected-access\n\u001b[0m\u001b[1;32m   2944\u001b[0m \u001b[0;34m\u001b[0m\u001b[0m\n\u001b[1;32m   2945\u001b[0m   \u001b[0;34m@\u001b[0m\u001b[0mproperty\u001b[0m\u001b[0;34m\u001b[0m\u001b[0;34m\u001b[0m\u001b[0m\n",
            "\u001b[0;32m/usr/local/lib/python3.7/dist-packages/tensorflow/python/eager/function.py\u001b[0m in \u001b[0;36m_call_flat\u001b[0;34m(self, args, captured_inputs, cancellation_manager)\u001b[0m\n\u001b[1;32m   1917\u001b[0m       \u001b[0;31m# No tape is watching; skip to running the function.\u001b[0m\u001b[0;34m\u001b[0m\u001b[0;34m\u001b[0m\u001b[0;34m\u001b[0m\u001b[0m\n\u001b[1;32m   1918\u001b[0m       return self._build_call_outputs(self._inference_function.call(\n\u001b[0;32m-> 1919\u001b[0;31m           ctx, args, cancellation_manager=cancellation_manager))\n\u001b[0m\u001b[1;32m   1920\u001b[0m     forward_backward = self._select_forward_and_backward_functions(\n\u001b[1;32m   1921\u001b[0m         \u001b[0margs\u001b[0m\u001b[0;34m,\u001b[0m\u001b[0;34m\u001b[0m\u001b[0;34m\u001b[0m\u001b[0m\n",
            "\u001b[0;32m/usr/local/lib/python3.7/dist-packages/tensorflow/python/eager/function.py\u001b[0m in \u001b[0;36mcall\u001b[0;34m(self, ctx, args, cancellation_manager)\u001b[0m\n\u001b[1;32m    558\u001b[0m               \u001b[0minputs\u001b[0m\u001b[0;34m=\u001b[0m\u001b[0margs\u001b[0m\u001b[0;34m,\u001b[0m\u001b[0;34m\u001b[0m\u001b[0;34m\u001b[0m\u001b[0m\n\u001b[1;32m    559\u001b[0m               \u001b[0mattrs\u001b[0m\u001b[0;34m=\u001b[0m\u001b[0mattrs\u001b[0m\u001b[0;34m,\u001b[0m\u001b[0;34m\u001b[0m\u001b[0;34m\u001b[0m\u001b[0m\n\u001b[0;32m--> 560\u001b[0;31m               ctx=ctx)\n\u001b[0m\u001b[1;32m    561\u001b[0m         \u001b[0;32melse\u001b[0m\u001b[0;34m:\u001b[0m\u001b[0;34m\u001b[0m\u001b[0;34m\u001b[0m\u001b[0m\n\u001b[1;32m    562\u001b[0m           outputs = execute.execute_with_cancellation(\n",
            "\u001b[0;32m/usr/local/lib/python3.7/dist-packages/tensorflow/python/eager/execute.py\u001b[0m in \u001b[0;36mquick_execute\u001b[0;34m(op_name, num_outputs, inputs, attrs, ctx, name)\u001b[0m\n\u001b[1;32m     58\u001b[0m     \u001b[0mctx\u001b[0m\u001b[0;34m.\u001b[0m\u001b[0mensure_initialized\u001b[0m\u001b[0;34m(\u001b[0m\u001b[0;34m)\u001b[0m\u001b[0;34m\u001b[0m\u001b[0;34m\u001b[0m\u001b[0m\n\u001b[1;32m     59\u001b[0m     tensors = pywrap_tfe.TFE_Py_Execute(ctx._handle, device_name, op_name,\n\u001b[0;32m---> 60\u001b[0;31m                                         inputs, attrs, num_outputs)\n\u001b[0m\u001b[1;32m     61\u001b[0m   \u001b[0;32mexcept\u001b[0m \u001b[0mcore\u001b[0m\u001b[0;34m.\u001b[0m\u001b[0m_NotOkStatusException\u001b[0m \u001b[0;32mas\u001b[0m \u001b[0me\u001b[0m\u001b[0;34m:\u001b[0m\u001b[0;34m\u001b[0m\u001b[0;34m\u001b[0m\u001b[0m\n\u001b[1;32m     62\u001b[0m     \u001b[0;32mif\u001b[0m \u001b[0mname\u001b[0m \u001b[0;32mis\u001b[0m \u001b[0;32mnot\u001b[0m \u001b[0;32mNone\u001b[0m\u001b[0;34m:\u001b[0m\u001b[0;34m\u001b[0m\u001b[0;34m\u001b[0m\u001b[0m\n",
            "\u001b[0;31mKeyboardInterrupt\u001b[0m: "
          ]
        }
      ]
    },
    {
      "cell_type": "code",
      "metadata": {
        "id": "lGueWsYJcTDx"
      },
      "source": [
        "X_train, X_test, y_train, y_test = train_test_split(X, y, test_size=0.3, random_state=0)"
      ],
      "execution_count": 17,
      "outputs": []
    },
    {
      "cell_type": "code",
      "metadata": {
        "colab": {
          "base_uri": "https://localhost:8080/",
          "height": 265
        },
        "id": "tJOWHqHEvnSN",
        "outputId": "f16b2096-7446-4497-fcff-d33c8c8d808b"
      },
      "source": [
        "plt.plot(history.history[\"loss\"], label=\"Training Loss\")\n",
        "plt.plot(history.history[\"val_loss\"], label=\"Validation Loss\")\n",
        "plt.legend()\n",
        "plt.show()"
      ],
      "execution_count": 18,
      "outputs": [
        {
          "output_type": "display_data",
          "data": {
            "image/png": "[encoded data removed]",
            "text/plain": [
              "<Figure size 432x288 with 1 Axes>"
            ]
          },
          "metadata": {
            "tags": [],
            "needs_background": "light"
          }
        }
      ]
    },
    {
      "cell_type": "code",
      "metadata": {
        "colab": {
          "base_uri": "https://localhost:8080/",
          "height": 265
        },
        "id": "YnbUifM9Gnr9",
        "outputId": "233e558a-8f5e-4222-cac6-35f6651083c7"
      },
      "source": [
        "plt.plot(history.history[\"accuracy\"],label=\"Training Accuracy\")\n",
        "plt.plot(history.history[\"val_accuracy\"],label=\"Testing Accuracy\")\n",
        "plt.legend()\n",
        "plt.show()"
      ],
      "execution_count": 19,
      "outputs": [
        {
          "output_type": "display_data",
          "data": {
            "image/png": "[encoded data removed]",
            "text/plain": [
              "<Figure size 432x288 with 1 Axes>"
            ]
          },
          "metadata": {
            "tags": [],
            "needs_background": "light"
          }
        }
      ]
    },
    {
      "cell_type": "markdown",
      "metadata": {
        "id": "BSkRbSaEIX7v"
      },
      "source": [
        "## Using DNN model for same data "
      ]
    },
    {
      "cell_type": "code",
      "metadata": {
        "id": "tbYGZ4GF-Lea"
      },
      "source": [
        "model = keras.Sequential([\n",
        "    keras.layers.Flatten(input_shape=(10,)),\n",
        "    keras.layers.Dense(512, activation=tf.nn.relu),\n",
        "    keras.layers.Dense(256, activation=tf.nn.relu),\n",
        "\t  #keras.layers.Dense(256, activation=tf.nn.relu),\n",
        "    keras.layers.Dense(128, activation=tf.nn.relu),\n",
        "    #keras.layers.Dense(128, activation=tf.nn.relu),\n",
        "    keras.layers.Dense(64, activation=tf.nn.relu),\n",
        "    keras.layers.Dense(1, activation=tf.nn.sigmoid),\n",
        "])"
      ],
      "execution_count": 22,
      "outputs": []
    },
    {
      "cell_type": "code",
      "metadata": {
        "colab": {
          "base_uri": "https://localhost:8080/"
        },
        "id": "_uTlH7rZc8ot",
        "outputId": "56f582fc-9367-4eba-997a-d8fd23caab43"
      },
      "source": [
        "model.compile(optimizer=keras.optimizers.Adam(learning_rate=0.001),\n",
        "              \n",
        "              loss='binary_crossentropy',\n",
        "              metrics=['accuracy'],\n",
        "              )\n",
        "\n",
        "history = model.fit(X_train, y_train, epochs=70, batch_size=128, validation_split=0.2)\n",
        "test_loss, test_acc = model.evaluate(X_test, y_test)"
      ],
      "execution_count": 23,
      "outputs": [
        {
          "output_type": "stream",
          "text": [
            "Epoch 1/70\n",
            "350/350 [==============================] - 1s 3ms/step - loss: 1.5577 - accuracy: 0.7376 - val_loss: 0.3122 - val_accuracy: 0.8661\n",
            "Epoch 2/70\n",
            "350/350 [==============================] - 1s 3ms/step - loss: 0.3244 - accuracy: 0.8417 - val_loss: 0.2690 - val_accuracy: 0.8674\n",
            "Epoch 3/70\n",
            "350/350 [==============================] - 1s 3ms/step - loss: 0.2842 - accuracy: 0.8640 - val_loss: 0.2443 - val_accuracy: 0.8831\n",
            "Epoch 4/70\n",
            "350/350 [==============================] - 1s 3ms/step - loss: 0.2481 - accuracy: 0.8764 - val_loss: 0.2429 - val_accuracy: 0.8454\n",
            "Epoch 5/70\n",
            "350/350 [==============================] - 1s 3ms/step - loss: 0.2321 - accuracy: 0.8822 - val_loss: 0.2161 - val_accuracy: 0.8838\n",
            "Epoch 6/70\n",
            "350/350 [==============================] - 1s 3ms/step - loss: 0.2223 - accuracy: 0.8888 - val_loss: 0.2103 - val_accuracy: 0.8988\n",
            "Epoch 7/70\n",
            "350/350 [==============================] - 1s 3ms/step - loss: 0.2296 - accuracy: 0.8859 - val_loss: 0.2225 - val_accuracy: 0.8973\n",
            "Epoch 8/70\n",
            "350/350 [==============================] - 1s 3ms/step - loss: 0.2182 - accuracy: 0.8894 - val_loss: 0.2076 - val_accuracy: 0.8992\n",
            "Epoch 9/70\n",
            "350/350 [==============================] - 1s 3ms/step - loss: 0.2202 - accuracy: 0.8931 - val_loss: 0.2083 - val_accuracy: 0.8996\n",
            "Epoch 10/70\n",
            "350/350 [==============================] - 1s 3ms/step - loss: 0.2090 - accuracy: 0.8933 - val_loss: 0.1985 - val_accuracy: 0.9011\n",
            "Epoch 11/70\n",
            "350/350 [==============================] - 1s 3ms/step - loss: 0.2030 - accuracy: 0.8973 - val_loss: 0.1962 - val_accuracy: 0.9021\n",
            "Epoch 12/70\n",
            "350/350 [==============================] - 1s 3ms/step - loss: 0.2058 - accuracy: 0.8944 - val_loss: 0.1986 - val_accuracy: 0.9016\n",
            "Epoch 13/70\n",
            "350/350 [==============================] - 1s 3ms/step - loss: 0.2017 - accuracy: 0.8984 - val_loss: 0.2030 - val_accuracy: 0.8989\n",
            "Epoch 14/70\n",
            "350/350 [==============================] - 1s 3ms/step - loss: 0.2100 - accuracy: 0.8949 - val_loss: 0.2265 - val_accuracy: 0.8835\n",
            "Epoch 15/70\n",
            "350/350 [==============================] - 1s 3ms/step - loss: 0.2101 - accuracy: 0.8928 - val_loss: 0.1938 - val_accuracy: 0.9034\n",
            "Epoch 16/70\n",
            "350/350 [==============================] - 1s 3ms/step - loss: 0.2130 - accuracy: 0.8944 - val_loss: 0.2043 - val_accuracy: 0.9009\n",
            "Epoch 17/70\n",
            "350/350 [==============================] - 1s 3ms/step - loss: 0.2041 - accuracy: 0.9000 - val_loss: 0.1991 - val_accuracy: 0.8992\n",
            "Epoch 18/70\n",
            "350/350 [==============================] - 1s 3ms/step - loss: 0.2041 - accuracy: 0.8984 - val_loss: 0.1947 - val_accuracy: 0.9021\n",
            "Epoch 19/70\n",
            "350/350 [==============================] - 1s 3ms/step - loss: 0.2063 - accuracy: 0.8980 - val_loss: 0.1983 - val_accuracy: 0.9008\n",
            "Epoch 20/70\n",
            "350/350 [==============================] - 1s 2ms/step - loss: 0.2007 - accuracy: 0.8974 - val_loss: 0.2045 - val_accuracy: 0.9004\n",
            "Epoch 21/70\n",
            "350/350 [==============================] - 1s 3ms/step - loss: 0.2026 - accuracy: 0.8962 - val_loss: 0.1935 - val_accuracy: 0.9030\n",
            "Epoch 22/70\n",
            "350/350 [==============================] - 1s 2ms/step - loss: 0.2029 - accuracy: 0.8968 - val_loss: 0.1934 - val_accuracy: 0.9026\n",
            "Epoch 23/70\n",
            "350/350 [==============================] - 1s 3ms/step - loss: 0.2057 - accuracy: 0.8971 - val_loss: 0.1934 - val_accuracy: 0.9020\n",
            "Epoch 24/70\n",
            "350/350 [==============================] - 1s 3ms/step - loss: 0.2023 - accuracy: 0.8969 - val_loss: 0.1933 - val_accuracy: 0.9037\n",
            "Epoch 25/70\n",
            "350/350 [==============================] - 1s 3ms/step - loss: 0.1983 - accuracy: 0.8991 - val_loss: 0.1918 - val_accuracy: 0.9029\n",
            "Epoch 26/70\n",
            "350/350 [==============================] - 1s 3ms/step - loss: 0.1964 - accuracy: 0.9014 - val_loss: 0.1914 - val_accuracy: 0.9033\n",
            "Epoch 27/70\n",
            "350/350 [==============================] - 1s 3ms/step - loss: 0.1972 - accuracy: 0.9014 - val_loss: 0.1970 - val_accuracy: 0.9024\n",
            "Epoch 28/70\n",
            "350/350 [==============================] - 1s 3ms/step - loss: 0.2005 - accuracy: 0.8958 - val_loss: 0.1924 - val_accuracy: 0.9037\n",
            "Epoch 29/70\n",
            "350/350 [==============================] - 1s 3ms/step - loss: 0.1994 - accuracy: 0.8950 - val_loss: 0.1891 - val_accuracy: 0.9034\n",
            "Epoch 30/70\n",
            "350/350 [==============================] - 1s 3ms/step - loss: 0.1994 - accuracy: 0.8971 - val_loss: 0.2375 - val_accuracy: 0.8893\n",
            "Epoch 31/70\n",
            "350/350 [==============================] - 1s 3ms/step - loss: 0.2258 - accuracy: 0.8896 - val_loss: 0.1912 - val_accuracy: 0.9034\n",
            "Epoch 32/70\n",
            "350/350 [==============================] - 1s 3ms/step - loss: 0.1980 - accuracy: 0.8993 - val_loss: 0.1904 - val_accuracy: 0.9036\n",
            "Epoch 33/70\n",
            "350/350 [==============================] - 1s 3ms/step - loss: 0.1955 - accuracy: 0.8991 - val_loss: 0.1891 - val_accuracy: 0.9033\n",
            "Epoch 34/70\n",
            "350/350 [==============================] - 1s 3ms/step - loss: 0.2003 - accuracy: 0.8976 - val_loss: 0.1900 - val_accuracy: 0.9036\n",
            "Epoch 35/70\n",
            "350/350 [==============================] - 1s 3ms/step - loss: 0.1959 - accuracy: 0.8991 - val_loss: 0.1907 - val_accuracy: 0.9021\n",
            "Epoch 36/70\n",
            "350/350 [==============================] - 1s 3ms/step - loss: 0.1956 - accuracy: 0.8982 - val_loss: 0.1931 - val_accuracy: 0.9001\n",
            "Epoch 37/70\n",
            "350/350 [==============================] - 1s 3ms/step - loss: 0.1947 - accuracy: 0.8982 - val_loss: 0.1954 - val_accuracy: 0.9007\n",
            "Epoch 38/70\n",
            "350/350 [==============================] - 1s 3ms/step - loss: 0.1926 - accuracy: 0.9016 - val_loss: 0.1885 - val_accuracy: 0.9027\n",
            "Epoch 39/70\n",
            "350/350 [==============================] - 1s 3ms/step - loss: 0.1925 - accuracy: 0.9005 - val_loss: 0.1884 - val_accuracy: 0.9032\n",
            "Epoch 40/70\n",
            "350/350 [==============================] - 1s 3ms/step - loss: 0.1971 - accuracy: 0.8989 - val_loss: 0.2077 - val_accuracy: 0.9010\n",
            "Epoch 41/70\n",
            "350/350 [==============================] - 1s 3ms/step - loss: 0.2145 - accuracy: 0.8957 - val_loss: 0.1919 - val_accuracy: 0.9030\n",
            "Epoch 42/70\n",
            "350/350 [==============================] - 1s 3ms/step - loss: 0.1932 - accuracy: 0.9014 - val_loss: 0.1882 - val_accuracy: 0.9032\n",
            "Epoch 43/70\n",
            "350/350 [==============================] - 1s 3ms/step - loss: 0.1915 - accuracy: 0.9012 - val_loss: 0.1877 - val_accuracy: 0.9037\n",
            "Epoch 44/70\n",
            "350/350 [==============================] - 1s 3ms/step - loss: 0.1933 - accuracy: 0.9007 - val_loss: 0.1881 - val_accuracy: 0.9026\n",
            "Epoch 45/70\n",
            "350/350 [==============================] - 1s 3ms/step - loss: 0.1923 - accuracy: 0.9014 - val_loss: 0.1917 - val_accuracy: 0.9029\n",
            "Epoch 46/70\n",
            "350/350 [==============================] - 1s 3ms/step - loss: 0.1906 - accuracy: 0.9011 - val_loss: 0.1889 - val_accuracy: 0.9036\n",
            "Epoch 47/70\n",
            "350/350 [==============================] - 1s 3ms/step - loss: 0.1950 - accuracy: 0.8997 - val_loss: 0.1894 - val_accuracy: 0.9035\n",
            "Epoch 48/70\n",
            "350/350 [==============================] - 1s 3ms/step - loss: 0.1934 - accuracy: 0.8995 - val_loss: 0.1877 - val_accuracy: 0.9035\n",
            "Epoch 49/70\n",
            "350/350 [==============================] - 1s 3ms/step - loss: 0.1933 - accuracy: 0.9006 - val_loss: 0.1875 - val_accuracy: 0.9037\n",
            "Epoch 50/70\n",
            "350/350 [==============================] - 1s 3ms/step - loss: 0.1948 - accuracy: 0.8982 - val_loss: 0.1873 - val_accuracy: 0.9032\n",
            "Epoch 51/70\n",
            "350/350 [==============================] - 1s 2ms/step - loss: 0.1971 - accuracy: 0.8971 - val_loss: 0.1926 - val_accuracy: 0.9019\n",
            "Epoch 52/70\n",
            "350/350 [==============================] - 1s 3ms/step - loss: 0.1943 - accuracy: 0.9013 - val_loss: 0.1899 - val_accuracy: 0.9036\n",
            "Epoch 53/70\n",
            "350/350 [==============================] - 1s 3ms/step - loss: 0.2013 - accuracy: 0.8954 - val_loss: 0.1887 - val_accuracy: 0.9034\n",
            "Epoch 54/70\n",
            "350/350 [==============================] - 1s 3ms/step - loss: 0.1953 - accuracy: 0.8987 - val_loss: 0.1891 - val_accuracy: 0.9033\n",
            "Epoch 55/70\n",
            "350/350 [==============================] - 1s 3ms/step - loss: 0.1950 - accuracy: 0.8976 - val_loss: 0.1895 - val_accuracy: 0.9039\n",
            "Epoch 56/70\n",
            "350/350 [==============================] - 1s 3ms/step - loss: 0.1940 - accuracy: 0.8989 - val_loss: 0.1892 - val_accuracy: 0.9020\n",
            "Epoch 57/70\n",
            "350/350 [==============================] - 1s 3ms/step - loss: 0.1931 - accuracy: 0.9003 - val_loss: 0.2027 - val_accuracy: 0.8979\n",
            "Epoch 58/70\n",
            "350/350 [==============================] - 1s 3ms/step - loss: 0.2105 - accuracy: 0.8937 - val_loss: 0.1896 - val_accuracy: 0.9026\n",
            "Epoch 59/70\n",
            "350/350 [==============================] - 1s 3ms/step - loss: 0.1947 - accuracy: 0.8988 - val_loss: 0.1868 - val_accuracy: 0.9036\n",
            "Epoch 60/70\n",
            "350/350 [==============================] - 1s 3ms/step - loss: 0.1911 - accuracy: 0.9013 - val_loss: 0.1877 - val_accuracy: 0.9037\n",
            "Epoch 61/70\n",
            "350/350 [==============================] - 1s 3ms/step - loss: 0.1912 - accuracy: 0.9000 - val_loss: 0.1902 - val_accuracy: 0.9035\n",
            "Epoch 62/70\n",
            "350/350 [==============================] - 1s 3ms/step - loss: 0.1951 - accuracy: 0.8985 - val_loss: 0.1868 - val_accuracy: 0.9042\n",
            "Epoch 63/70\n",
            "350/350 [==============================] - 1s 3ms/step - loss: 0.1915 - accuracy: 0.9003 - val_loss: 0.1871 - val_accuracy: 0.9039\n",
            "Epoch 64/70\n",
            "350/350 [==============================] - 1s 3ms/step - loss: 0.1929 - accuracy: 0.9005 - val_loss: 0.1858 - val_accuracy: 0.9044\n",
            "Epoch 65/70\n",
            "350/350 [==============================] - 1s 3ms/step - loss: 0.1941 - accuracy: 0.9001 - val_loss: 0.1878 - val_accuracy: 0.9032\n",
            "Epoch 66/70\n",
            "350/350 [==============================] - 1s 3ms/step - loss: 0.1946 - accuracy: 0.8996 - val_loss: 0.2161 - val_accuracy: 0.8954\n",
            "Epoch 67/70\n",
            "350/350 [==============================] - 1s 3ms/step - loss: 0.2000 - accuracy: 0.8974 - val_loss: 0.1872 - val_accuracy: 0.9037\n",
            "Epoch 68/70\n",
            "350/350 [==============================] - 1s 3ms/step - loss: 0.1907 - accuracy: 0.9008 - val_loss: 0.1881 - val_accuracy: 0.9033\n",
            "Epoch 69/70\n",
            "350/350 [==============================] - 1s 3ms/step - loss: 0.1905 - accuracy: 0.8999 - val_loss: 0.1883 - val_accuracy: 0.9032\n",
            "Epoch 70/70\n",
            "350/350 [==============================] - 1s 3ms/step - loss: 0.1930 - accuracy: 0.8996 - val_loss: 0.1867 - val_accuracy: 0.9040\n",
            "751/751 [==============================] - 1s 2ms/step - loss: 0.1941 - accuracy: 0.8986\n"
          ],
          "name": "stdout"
        }
      ]
    },
    {
      "cell_type": "code",
      "metadata": {
        "colab": {
          "base_uri": "https://localhost:8080/",
          "height": 265
        },
        "id": "KpSVbJNwanA9",
        "outputId": "75cbc920-5f8c-4f14-b92e-8cca5d6c6163"
      },
      "source": [
        "plt.plot(history.history[\"loss\"], label=\"Training Loss\")\n",
        "plt.plot(history.history[\"val_loss\"], label=\"Validation Loss\")\n",
        "plt.legend()\n",
        "plt.show()"
      ],
      "execution_count": 24,
      "outputs": [
        {
          "output_type": "display_data",
          "data": {
            "image/png": "[encoded data removed]",
            "text/plain": [
              "<Figure size 432x288 with 1 Axes>"
            ]
          },
          "metadata": {
            "tags": [],
            "needs_background": "light"
          }
        }
      ]
    },
    {
      "cell_type": "code",
      "metadata": {
        "colab": {
          "base_uri": "https://localhost:8080/",
          "height": 265
        },
        "id": "d5JoyyUJbUAl",
        "outputId": "3a95ff47-3257-4117-8e00-9e228c90bea1"
      },
      "source": [
        "plt.plot(history.history[\"accuracy\"],label=\"Training Accuracy\")\n",
        "plt.plot(history.history[\"val_accuracy\"],label=\"Testing Accuracy\")\n",
        "plt.legend()\n",
        "plt.show()"
      ],
      "execution_count": 25,
      "outputs": [
        {
          "output_type": "display_data",
          "data": {
            "image/png": "[encoded data removed]",
            "text/plain": [
              "<Figure size 432x288 with 1 Axes>"
            ]
          },
          "metadata": {
            "tags": [],
            "needs_background": "light"
          }
        }
      ]
    }
  ]
}