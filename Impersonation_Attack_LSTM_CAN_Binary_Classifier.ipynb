{
  "nbformat": 4,
  "nbformat_minor": 0,
  "metadata": {
    "colab": {
      "name": "Impersonation_Attack_LSTM_CAN_Binary_Classifier.ipynb",
      "provenance": [],
      "collapsed_sections": [],
      "authorship_tag": "ABX9TyPibKxKQDaz5M2fmvdWEg+p",
      "include_colab_link": true
    },
    "kernelspec": {
      "name": "python3",
      "display_name": "Python 3"
    },
    "language_info": {
      "name": "python"
    },
    "accelerator": "GPU"
  },
  "cells": [
    {
      "cell_type": "markdown",
      "metadata": {
        "id": "view-in-github",
        "colab_type": "text"
      },
      "source": [
        "<a href=\"https://colab.research.google.com/github/frh02/CAN_Research/blob/main/Impersonation_Attack_LSTM_CAN_Binary_Classifier.ipynb\" target=\"_parent\"><img src=\"https://colab.research.google.com/assets/colab-badge.svg\" alt=\"Open In Colab\"/></a>"
      ]
    },
    {
      "cell_type": "markdown",
      "metadata": {
        "id": "J5LlNobKHy-O"
      },
      "source": [
        "# LSTM Model for Binary Classification"
      ]
    },
    {
      "cell_type": "markdown",
      "metadata": {
        "id": "vXjZBzQHICbs"
      },
      "source": [
        "## import libraries "
      ]
    },
    {
      "cell_type": "code",
      "metadata": {
        "id": "XoIiM1h-YNPi"
      },
      "source": [
        "import pandas as pd\n",
        "import tensorflow as tf\n",
        "import keras\n",
        "from sklearn.model_selection import train_test_split\n",
        "import keras.utils\n",
        "from keras import utils as np_utils\n",
        "import numpy as np\n",
        "import pandas as pd\n",
        "from tensorflow import keras\n",
        "from tensorflow.keras import layers\n",
        "from datetime import datetime\n",
        "from matplotlib import pyplot as plt\n",
        "from matplotlib import dates as md\n",
        "import pandas as pd\n",
        "import csv\n",
        "%matplotlib inline  \n",
        "from ast import literal_eval \n",
        "import array as array"
      ],
      "execution_count": 1,
      "outputs": []
    },
    {
      "cell_type": "markdown",
      "metadata": {
        "id": "Xmr90uqoIGTs"
      },
      "source": [
        "## load the data"
      ]
    },
    {
      "cell_type": "code",
      "metadata": {
        "colab": {
          "base_uri": "https://localhost:8080/"
        },
        "id": "oj6T6derZ79Z",
        "outputId": "98d9fa0b-e74d-48ea-d003-e052f27b8b17"
      },
      "source": [
        "df1 = pd.read_fwf('/content/Attack_free_dataset_small.txt')\n",
        "df1[\"Target\"] = 0\n",
        "df1.rename(columns={'Id': 'ID'})\n",
        "print(df1)\n",
        "df1.to_csv('Attack_free.csv')"
      ],
      "execution_count": 2,
      "outputs": [
        {
          "output_type": "stream",
          "text": [
            "             Time   seconds   ID Value  App  ...   D5   D6   D7   D8 Target\n",
            "0      Timestamp:  0.000000  ID:  0316    0  ...   20   1a   00   7f      0\n",
            "1      Timestamp:  0.000224  ID:  0329    0  ...   11   2f   00   10      0\n",
            "2      Timestamp:  0.000462  ID:  0080    0  ...   20   1a   20   43      0\n",
            "3      Timestamp:  0.000704  ID:  0081    0  ...   00   00   00   53      0\n",
            "4      Timestamp:  0.000878  ID:  0120    0  ...  NaN  NaN  NaN  NaN      0\n",
            "...           ...       ...  ...   ...  ...  ...  ...  ...  ...  ...    ...\n",
            "39996  Timestamp:  7.513203  ID:  0545    0  ...   37   00   37   00      0\n",
            "39997  Timestamp:  7.515349  ID:  05a2  100  ...  NaN  NaN  NaN  NaN      0\n",
            "39998  Timestamp:  7.515502  ID:  05a2    0  ...  NaN  NaN  NaN  NaN      0\n",
            "39999  Timestamp:  7.515800  ID:  02b0    0  ...   77  NaN  NaN  NaN      0\n",
            "40000  Timestamp:  7.516036  ID:  0165    0  ...   00   00   07   80      0\n",
            "\n",
            "[40001 rows x 16 columns]\n"
          ],
          "name": "stdout"
        }
      ]
    },
    {
      "cell_type": "code",
      "metadata": {
        "colab": {
          "base_uri": "https://localhost:8080/"
        },
        "id": "2YQdBHZsZ9r-",
        "outputId": "f72bacd7-d447-4b04-99dd-7c9faf6a3135"
      },
      "source": [
        "df2 = pd.read_fwf('/content/impersonation_small.txt')\n",
        "df2[\"Target\"] = 1\n",
        "df2.rename(columns={'Id': 'ID'})\n",
        "print(df2)\n",
        "df2.to_csv('Impersonation_Attack.csv')"
      ],
      "execution_count": 3,
      "outputs": [
        {
          "output_type": "stream",
          "text": [
            "             Time       seconds   ID Value  App  ...  D5  D6  D7  D8 Target\n",
            "0      Timestamp:  1.481193e+09  ID:  0587    0  ...  00  00  00  01      1\n",
            "1      Timestamp:  1.481193e+09  ID:  0316    0  ...  1c  13  00  7f      1\n",
            "2      Timestamp:  1.481193e+09  ID:  018f    0  ...  00  43  00  00      1\n",
            "3      Timestamp:  1.481193e+09  ID:  0260    0  ...  ff  93  63  35      1\n",
            "4      Timestamp:  1.481193e+09  ID:  0080    0  ...  1c  13  1c  1f      1\n",
            "...           ...           ...  ...   ...  ...  ...  ..  ..  ..  ..    ...\n",
            "39995  Timestamp:  1.481193e+09  ID:  0382    0  ...  00  00  00  00      1\n",
            "39996  Timestamp:  1.481193e+09  ID:  0370    0  ...  ff  00  00  ec      1\n",
            "39997  Timestamp:  1.481193e+09  ID:  043f    0  ...  51  4c  09  00      1\n",
            "39998  Timestamp:  1.481193e+09  ID:  0440    0  ...  ff  4c  09  00      1\n",
            "39999  Timestamp:  1.481193e+09  ID:  04f2    0  ...  00  00  00  d5      1\n",
            "\n",
            "[40000 rows x 16 columns]\n"
          ],
          "name": "stdout"
        }
      ]
    },
    {
      "cell_type": "code",
      "metadata": {
        "colab": {
          "base_uri": "https://localhost:8080/"
        },
        "id": "c6rYE36KcmwL",
        "outputId": "e804c08b-9c83-4c47-be30-7c56d7cc1725"
      },
      "source": [
        "df1_n = pd.read_csv('/content/Impersonation_Attack.csv')\n",
        "df2_n = pd.read_csv('/content/Attack_free.csv')\n",
        "frames= [df1_n,df2_n]\n",
        "df = pd.concat(frames)\n",
        "df = df.fillna(0)\n",
        "df.to_csv('input_train.csv')\n",
        "print(df)"
      ],
      "execution_count": 4,
      "outputs": [
        {
          "output_type": "stream",
          "text": [
            "       Unnamed: 0        Time       seconds   ID Value  ...  D5  D6  D7  D8 Target\n",
            "0               0  Timestamp:  1.481193e+09  ID:  0587  ...  00  00  00  01      1\n",
            "1               1  Timestamp:  1.481193e+09  ID:  0316  ...  1c  13  00  7f      1\n",
            "2               2  Timestamp:  1.481193e+09  ID:  018f  ...  00  43  00  00      1\n",
            "3               3  Timestamp:  1.481193e+09  ID:  0260  ...  ff  93  63  35      1\n",
            "4               4  Timestamp:  1.481193e+09  ID:  0080  ...  1c  13  1c  1f      1\n",
            "...           ...         ...           ...  ...   ...  ...  ..  ..  ..  ..    ...\n",
            "39996       39996  Timestamp:  7.513203e+00  ID:  0545  ...  37  00  37  00      0\n",
            "39997       39997  Timestamp:  7.515349e+00  ID:  05a2  ...   0   0   0   0      0\n",
            "39998       39998  Timestamp:  7.515502e+00  ID:  05a2  ...   0   0   0   0      0\n",
            "39999       39999  Timestamp:  7.515800e+00  ID:  02b0  ...  77   0   0   0      0\n",
            "40000       40000  Timestamp:  7.516036e+00  ID:  0165  ...  00  00  07  80      0\n",
            "\n",
            "[80001 rows x 17 columns]\n"
          ],
          "name": "stdout"
        }
      ]
    },
    {
      "cell_type": "markdown",
      "metadata": {
        "id": "bihLMaKSIKUH"
      },
      "source": [
        "## cleaning the data "
      ]
    },
    {
      "cell_type": "code",
      "metadata": {
        "colab": {
          "base_uri": "https://localhost:8080/"
        },
        "id": "CV0GY1goaQeL",
        "outputId": "f58a8e74-89e5-47fe-8267-5a4831109ee2"
      },
      "source": [
        "properties = list(df.columns.values)\n",
        "properties.remove('Time')\n",
        "properties.remove('seconds')\n",
        "properties.remove('ID')\n",
        "properties.remove('DLC')\n",
        "properties.remove('App')\n",
        "properties.remove('Unnamed: 0')\n",
        "properties.remove('Target')\n",
        "df['Value']=df['Value'].apply(lambda x: int(str(x),16))\n",
        "df['D1']=df['D1'].apply(lambda x: int(str(x),16))\n",
        "df['D2']=df['D2'].apply(lambda x: int(str(x),16))\n",
        "df['D3']=df['D3'].apply(lambda x: int(str(x),16))\n",
        "df['D4']=df['D4'].apply(lambda x: int(str(x),16))\n",
        "df['D5']=df['D5'].apply(lambda x: int(str(x),16))\n",
        "df['D6']=df['D6'].apply(lambda x: int(str(x),16))\n",
        "df['D7']=df['D7'].apply(lambda x: int(str(x),16))\n",
        "df['D8']=df['D8'].apply(lambda x: int(str(x),16))\n",
        "X = df[properties]\n",
        "y = df['Target']\n",
        "print(y.shape)\n",
        "print(df)\n",
        "X = np.expand_dims(X, axis=2)\n",
        "y = np.expand_dims(y, axis=1)\n",
        "print(X.shape)\n",
        "print(y.shape)\n"
      ],
      "execution_count": 5,
      "outputs": [
        {
          "output_type": "stream",
          "text": [
            "(80001,)\n",
            "       Unnamed: 0        Time       seconds   ID  ...   D6  D7   D8  Target\n",
            "0               0  Timestamp:  1.481193e+09  ID:  ...    0   0    1       1\n",
            "1               1  Timestamp:  1.481193e+09  ID:  ...   19   0  127       1\n",
            "2               2  Timestamp:  1.481193e+09  ID:  ...   67   0    0       1\n",
            "3               3  Timestamp:  1.481193e+09  ID:  ...  147  99   53       1\n",
            "4               4  Timestamp:  1.481193e+09  ID:  ...   19  28   31       1\n",
            "...           ...         ...           ...  ...  ...  ...  ..  ...     ...\n",
            "39996       39996  Timestamp:  7.513203e+00  ID:  ...    0  55    0       0\n",
            "39997       39997  Timestamp:  7.515349e+00  ID:  ...    0   0    0       0\n",
            "39998       39998  Timestamp:  7.515502e+00  ID:  ...    0   0    0       0\n",
            "39999       39999  Timestamp:  7.515800e+00  ID:  ...    0   0    0       0\n",
            "40000       40000  Timestamp:  7.516036e+00  ID:  ...    0   7  128       0\n",
            "\n",
            "[80001 rows x 17 columns]\n",
            "(80001, 10, 1)\n",
            "(80001, 1)\n"
          ],
          "name": "stdout"
        }
      ]
    },
    {
      "cell_type": "markdown",
      "metadata": {
        "id": "gkVG0i0kINjb"
      },
      "source": [
        "## 2D To 3D array conversion"
      ]
    },
    {
      "cell_type": "code",
      "metadata": {
        "colab": {
          "base_uri": "https://localhost:8080/"
        },
        "id": "TgfBc0iqvpJg",
        "outputId": "4552a433-fe19-458b-8f93-3c7036cb96ee"
      },
      "source": [
        "TIME_STEPS = 288\n",
        "def create_sequences(values, time_steps=TIME_STEPS):\n",
        "    output = []\n",
        "    for i in range(len(values) - time_steps):\n",
        "        output.append(values[i : (i + time_steps)])\n",
        "    # Convert 2D sequences into 3D as we will be feeding this into\n",
        "    # a convolutional layer.\n",
        "    return np.expand_dims(output, axis=2)\n",
        "\n",
        "training_value = df \n",
        "x_train = create_sequences(training_value)\n",
        "print(\"Training input shape: \", x_train.shape)\n",
        "X_train, X_test, y_train, y_test = train_test_split(X, y, test_size=0.3, random_state=0)"
      ],
      "execution_count": 6,
      "outputs": [
        {
          "output_type": "stream",
          "text": [
            "Training input shape:  (79713, 288, 1, 17)\n"
          ],
          "name": "stdout"
        }
      ]
    },
    {
      "cell_type": "markdown",
      "metadata": {
        "id": "K3I3BkymISSD"
      },
      "source": [
        "## creating the LSTM model "
      ]
    },
    {
      "cell_type": "code",
      "metadata": {
        "colab": {
          "base_uri": "https://localhost:8080/"
        },
        "id": "BxUWO5pOwCL5",
        "outputId": "a0db52b7-f4d1-4b72-9c1f-a54c265e7375"
      },
      "source": [
        "n_steps = X_train.shape[1]\n",
        "n_features = X_train.shape[2]\n",
        "\n",
        "keras.backend.clear_session()\n",
        "model = keras.Sequential(\n",
        "    [\n",
        "        layers.Input(shape=(n_steps, n_features)),\n",
        "        layers.Conv1D(filters=32, kernel_size=15, padding='same', data_format='channels_last',\n",
        "            dilation_rate=1, activation=\"linear\"),\n",
        "        layers.LSTM(\n",
        "            units=512, activation=\"tanh\", name=\"lstm_1\", return_sequences=False\n",
        "        ),\n",
        "        layers.RepeatVector(n_steps),\n",
        "        layers.LSTM(\n",
        "            units=128, activation=\"tanh\", name=\"lstm_2\", return_sequences=True\n",
        "        ),\n",
        "        \n",
        "        layers.LSTM(\n",
        "            units=64, activation=\"tanh\", name=\"lstm_3\", return_sequences=True\n",
        "        ),\n",
        "        layers.LSTM(\n",
        "            units=128, activation=\"tanh\", name=\"lstm_4\", return_sequences=True\n",
        "        ),\n",
        "        layers.Conv1D(filters=32, kernel_size=15, padding='same', data_format='channels_last',\n",
        "            dilation_rate=1, activation=\"linear\"),\n",
        "\n",
        "        layers.TimeDistributed(layers.Dense(1, activation='linear'))\n",
        "    ]\n",
        ")\n",
        "model.compile(optimizer=keras.optimizers.Adam(learning_rate=0.001), loss=\"binary_crossentropy\",metrics=['accuracy'])\n",
        "model.summary()"
      ],
      "execution_count": 7,
      "outputs": [
        {
          "output_type": "stream",
          "text": [
            "Model: \"sequential\"\n",
            "_________________________________________________________________\n",
            "Layer (type)                 Output Shape              Param #   \n",
            "=================================================================\n",
            "conv1d (Conv1D)              (None, 10, 32)            512       \n",
            "_________________________________________________________________\n",
            "lstm_1 (LSTM)                (None, 512)               1116160   \n",
            "_________________________________________________________________\n",
            "repeat_vector (RepeatVector) (None, 10, 512)           0         \n",
            "_________________________________________________________________\n",
            "lstm_2 (LSTM)                (None, 10, 128)           328192    \n",
            "_________________________________________________________________\n",
            "lstm_3 (LSTM)                (None, 10, 64)            49408     \n",
            "_________________________________________________________________\n",
            "lstm_4 (LSTM)                (None, 10, 128)           98816     \n",
            "_________________________________________________________________\n",
            "conv1d_1 (Conv1D)            (None, 10, 32)            61472     \n",
            "_________________________________________________________________\n",
            "time_distributed (TimeDistri (None, 10, 1)             33        \n",
            "=================================================================\n",
            "Total params: 1,654,593\n",
            "Trainable params: 1,654,593\n",
            "Non-trainable params: 0\n",
            "_________________________________________________________________\n"
          ],
          "name": "stdout"
        }
      ]
    },
    {
      "cell_type": "code",
      "metadata": {
        "colab": {
          "base_uri": "https://localhost:8080/"
        },
        "id": "8yf1RS6iwHGe",
        "outputId": "1717bf73-387a-4d34-f13f-9b84583b85de"
      },
      "source": [
        "history = model.fit(\n",
        "    X_train,\n",
        "    y_train,\n",
        "    epochs=200,\n",
        "    batch_size=128,\n",
        "    validation_split=0.1,\n",
        "    callbacks=[\n",
        "        keras.callbacks.EarlyStopping(monitor=\"val_loss\", patience=25, mode=\"min\", restore_best_weights=True)\n",
        "    ],\n",
        ")"
      ],
      "execution_count": 8,
      "outputs": [
        {
          "output_type": "stream",
          "text": [
            "Epoch 1/200\n",
            "394/394 [==============================] - 13s 15ms/step - loss: 0.7271 - accuracy: 0.5782 - val_loss: 0.8886 - val_accuracy: 0.6327\n",
            "Epoch 2/200\n",
            "394/394 [==============================] - 4s 11ms/step - loss: 0.7866 - accuracy: 0.6395 - val_loss: 0.5578 - val_accuracy: 0.6708\n",
            "Epoch 3/200\n",
            "394/394 [==============================] - 5s 12ms/step - loss: 0.5706 - accuracy: 0.6592 - val_loss: 0.6736 - val_accuracy: 0.5340\n",
            "Epoch 4/200\n",
            "394/394 [==============================] - 4s 11ms/step - loss: 0.7535 - accuracy: 0.6157 - val_loss: 0.8687 - val_accuracy: 0.6643\n",
            "Epoch 5/200\n",
            "394/394 [==============================] - 4s 11ms/step - loss: 0.8893 - accuracy: 0.6614 - val_loss: 0.8433 - val_accuracy: 0.6693\n",
            "Epoch 6/200\n",
            "394/394 [==============================] - 4s 11ms/step - loss: 0.8140 - accuracy: 0.6652 - val_loss: 0.5772 - val_accuracy: 0.6581\n",
            "Epoch 7/200\n",
            "394/394 [==============================] - 4s 11ms/step - loss: 0.5638 - accuracy: 0.6592 - val_loss: 0.7903 - val_accuracy: 0.6846\n",
            "Epoch 8/200\n",
            "394/394 [==============================] - 4s 11ms/step - loss: 0.5621 - accuracy: 0.6693 - val_loss: 0.5290 - val_accuracy: 0.6803\n",
            "Epoch 9/200\n",
            "394/394 [==============================] - 5s 12ms/step - loss: 0.5143 - accuracy: 0.7003 - val_loss: 0.5463 - val_accuracy: 0.6758\n",
            "Epoch 10/200\n",
            "394/394 [==============================] - 5s 12ms/step - loss: 0.6480 - accuracy: 0.6882 - val_loss: 0.6206 - val_accuracy: 0.6756\n",
            "Epoch 11/200\n",
            "394/394 [==============================] - 5s 12ms/step - loss: 0.6299 - accuracy: 0.6737 - val_loss: 0.5758 - val_accuracy: 0.6761\n",
            "Epoch 12/200\n",
            "394/394 [==============================] - 4s 11ms/step - loss: 0.5577 - accuracy: 0.6813 - val_loss: 0.9137 - val_accuracy: 0.7123\n",
            "Epoch 13/200\n",
            "394/394 [==============================] - 5s 11ms/step - loss: 0.9263 - accuracy: 0.6910 - val_loss: 0.9292 - val_accuracy: 0.6913\n",
            "Epoch 14/200\n",
            "394/394 [==============================] - 5s 12ms/step - loss: 0.8105 - accuracy: 0.6719 - val_loss: 1.2394 - val_accuracy: 0.5577\n",
            "Epoch 15/200\n",
            "394/394 [==============================] - 5s 12ms/step - loss: 0.5913 - accuracy: 0.6690 - val_loss: 0.6801 - val_accuracy: 0.5619\n",
            "Epoch 16/200\n",
            "394/394 [==============================] - 5s 12ms/step - loss: 0.5442 - accuracy: 0.6705 - val_loss: 0.4965 - val_accuracy: 0.7032\n",
            "Epoch 17/200\n",
            "394/394 [==============================] - 5s 12ms/step - loss: 0.6040 - accuracy: 0.6911 - val_loss: 0.5231 - val_accuracy: 0.6692\n",
            "Epoch 18/200\n",
            "394/394 [==============================] - 5s 11ms/step - loss: 0.5188 - accuracy: 0.6942 - val_loss: 0.5311 - val_accuracy: 0.7105\n",
            "Epoch 19/200\n",
            "394/394 [==============================] - 5s 11ms/step - loss: 0.5083 - accuracy: 0.7207 - val_loss: 0.4643 - val_accuracy: 0.7109\n",
            "Epoch 20/200\n",
            "394/394 [==============================] - 5s 12ms/step - loss: 0.5410 - accuracy: 0.6927 - val_loss: 1.1110 - val_accuracy: 0.6668\n",
            "Epoch 21/200\n",
            "394/394 [==============================] - 5s 11ms/step - loss: 1.0821 - accuracy: 0.6402 - val_loss: 0.8166 - val_accuracy: 0.7030\n",
            "Epoch 22/200\n",
            "394/394 [==============================] - 5s 12ms/step - loss: 0.8178 - accuracy: 0.7098 - val_loss: 0.6482 - val_accuracy: 0.7119\n",
            "Epoch 23/200\n",
            "394/394 [==============================] - 4s 11ms/step - loss: 0.4751 - accuracy: 0.7245 - val_loss: 0.6135 - val_accuracy: 0.7335\n",
            "Epoch 24/200\n",
            "394/394 [==============================] - 5s 12ms/step - loss: 0.6893 - accuracy: 0.7096 - val_loss: 0.7241 - val_accuracy: 0.7216\n",
            "Epoch 25/200\n",
            "394/394 [==============================] - 5s 11ms/step - loss: 0.7281 - accuracy: 0.7025 - val_loss: 0.7186 - val_accuracy: 0.6761\n",
            "Epoch 26/200\n",
            "394/394 [==============================] - 5s 12ms/step - loss: 0.8316 - accuracy: 0.6951 - val_loss: 1.2093 - val_accuracy: 0.6931\n",
            "Epoch 27/200\n",
            "394/394 [==============================] - 4s 11ms/step - loss: 0.6078 - accuracy: 0.7063 - val_loss: 0.7643 - val_accuracy: 0.6929\n",
            "Epoch 28/200\n",
            "394/394 [==============================] - 5s 12ms/step - loss: 1.2934 - accuracy: 0.6637 - val_loss: 0.6179 - val_accuracy: 0.5871\n",
            "Epoch 29/200\n",
            "394/394 [==============================] - 5s 12ms/step - loss: 0.5223 - accuracy: 0.6995 - val_loss: 0.6707 - val_accuracy: 0.6833\n",
            "Epoch 30/200\n",
            "394/394 [==============================] - 5s 12ms/step - loss: 0.6167 - accuracy: 0.7153 - val_loss: 0.6143 - val_accuracy: 0.7133\n",
            "Epoch 31/200\n",
            "394/394 [==============================] - 5s 12ms/step - loss: 0.6088 - accuracy: 0.7381 - val_loss: 0.7080 - val_accuracy: 0.7424\n",
            "Epoch 32/200\n",
            "394/394 [==============================] - 5s 12ms/step - loss: 0.6599 - accuracy: 0.7242 - val_loss: 0.7402 - val_accuracy: 0.7329\n",
            "Epoch 33/200\n",
            "394/394 [==============================] - 5s 12ms/step - loss: 0.6940 - accuracy: 0.7329 - val_loss: 0.7218 - val_accuracy: 0.7223\n",
            "Epoch 34/200\n",
            "394/394 [==============================] - 5s 12ms/step - loss: 0.7065 - accuracy: 0.7307 - val_loss: 1.1215 - val_accuracy: 0.6841\n",
            "Epoch 35/200\n",
            "394/394 [==============================] - 5s 12ms/step - loss: 1.2215 - accuracy: 0.6707 - val_loss: 0.8878 - val_accuracy: 0.6555\n",
            "Epoch 36/200\n",
            "394/394 [==============================] - 5s 12ms/step - loss: 0.6261 - accuracy: 0.6973 - val_loss: 0.5578 - val_accuracy: 0.6449\n",
            "Epoch 37/200\n",
            "394/394 [==============================] - 5s 12ms/step - loss: 0.5410 - accuracy: 0.6972 - val_loss: 0.4300 - val_accuracy: 0.7630\n",
            "Epoch 38/200\n",
            "394/394 [==============================] - 5s 12ms/step - loss: 0.4551 - accuracy: 0.7352 - val_loss: 0.4308 - val_accuracy: 0.7406\n",
            "Epoch 39/200\n",
            "394/394 [==============================] - 5s 12ms/step - loss: 0.5039 - accuracy: 0.7265 - val_loss: 0.4437 - val_accuracy: 0.7435\n",
            "Epoch 40/200\n",
            "394/394 [==============================] - 5s 12ms/step - loss: 0.7266 - accuracy: 0.7286 - val_loss: 0.4085 - val_accuracy: 0.7621\n",
            "Epoch 41/200\n",
            "394/394 [==============================] - 5s 12ms/step - loss: 0.5953 - accuracy: 0.7299 - val_loss: 0.4756 - val_accuracy: 0.7116\n",
            "Epoch 42/200\n",
            "394/394 [==============================] - 5s 11ms/step - loss: 0.4407 - accuracy: 0.7360 - val_loss: 0.4250 - val_accuracy: 0.7382\n",
            "Epoch 43/200\n",
            "394/394 [==============================] - 5s 11ms/step - loss: 0.4351 - accuracy: 0.7392 - val_loss: 0.5752 - val_accuracy: 0.6943\n",
            "Epoch 44/200\n",
            "394/394 [==============================] - 5s 12ms/step - loss: 0.5162 - accuracy: 0.7012 - val_loss: 0.7180 - val_accuracy: 0.7247\n",
            "Epoch 45/200\n",
            "394/394 [==============================] - 4s 11ms/step - loss: 0.8884 - accuracy: 0.7326 - val_loss: 0.7996 - val_accuracy: 0.6846\n",
            "Epoch 46/200\n",
            "394/394 [==============================] - 5s 12ms/step - loss: 0.5207 - accuracy: 0.6997 - val_loss: 0.4495 - val_accuracy: 0.7326\n",
            "Epoch 47/200\n",
            "394/394 [==============================] - 5s 12ms/step - loss: 0.4553 - accuracy: 0.7275 - val_loss: 0.4244 - val_accuracy: 0.7506\n",
            "Epoch 48/200\n",
            "394/394 [==============================] - 4s 11ms/step - loss: 0.5635 - accuracy: 0.7378 - val_loss: 0.4622 - val_accuracy: 0.6958\n",
            "Epoch 49/200\n",
            "394/394 [==============================] - 5s 12ms/step - loss: 0.4551 - accuracy: 0.7239 - val_loss: 0.5035 - val_accuracy: 0.7097\n",
            "Epoch 50/200\n",
            "394/394 [==============================] - 5s 12ms/step - loss: 0.4811 - accuracy: 0.7180 - val_loss: 0.4521 - val_accuracy: 0.7335\n",
            "Epoch 51/200\n",
            "394/394 [==============================] - 5s 12ms/step - loss: 0.4397 - accuracy: 0.7330 - val_loss: 0.4797 - val_accuracy: 0.7344\n",
            "Epoch 52/200\n",
            "394/394 [==============================] - 5s 11ms/step - loss: 0.4653 - accuracy: 0.7431 - val_loss: 0.4840 - val_accuracy: 0.7471\n",
            "Epoch 53/200\n",
            "394/394 [==============================] - 5s 12ms/step - loss: 0.5942 - accuracy: 0.7367 - val_loss: 0.8384 - val_accuracy: 0.7029\n",
            "Epoch 54/200\n",
            "394/394 [==============================] - 5s 12ms/step - loss: 0.8325 - accuracy: 0.7102 - val_loss: 0.8359 - val_accuracy: 0.6624\n",
            "Epoch 55/200\n",
            "394/394 [==============================] - 5s 12ms/step - loss: 0.6483 - accuracy: 0.6996 - val_loss: 0.6013 - val_accuracy: 0.7188\n",
            "Epoch 56/200\n",
            "394/394 [==============================] - 5s 12ms/step - loss: 0.6025 - accuracy: 0.7411 - val_loss: 0.4833 - val_accuracy: 0.7094\n",
            "Epoch 57/200\n",
            "394/394 [==============================] - 5s 12ms/step - loss: 0.5909 - accuracy: 0.7251 - val_loss: 0.5221 - val_accuracy: 0.6613\n",
            "Epoch 58/200\n",
            "394/394 [==============================] - 5s 12ms/step - loss: 0.5320 - accuracy: 0.6856 - val_loss: 0.6333 - val_accuracy: 0.6894\n",
            "Epoch 59/200\n",
            "394/394 [==============================] - 5s 12ms/step - loss: 0.8015 - accuracy: 0.7195 - val_loss: 0.9282 - val_accuracy: 0.7230\n",
            "Epoch 60/200\n",
            "394/394 [==============================] - 5s 12ms/step - loss: 0.9251 - accuracy: 0.7206 - val_loss: 1.0210 - val_accuracy: 0.7176\n",
            "Epoch 61/200\n",
            "394/394 [==============================] - 5s 12ms/step - loss: 0.9689 - accuracy: 0.7172 - val_loss: 1.1309 - val_accuracy: 0.7142\n",
            "Epoch 62/200\n",
            "394/394 [==============================] - 5s 12ms/step - loss: 1.0299 - accuracy: 0.7090 - val_loss: 0.9570 - val_accuracy: 0.6922\n",
            "Epoch 63/200\n",
            "394/394 [==============================] - 5s 12ms/step - loss: 0.9764 - accuracy: 0.7059 - val_loss: 0.9533 - val_accuracy: 0.7038\n",
            "Epoch 64/200\n",
            "394/394 [==============================] - 5s 11ms/step - loss: 0.9347 - accuracy: 0.7136 - val_loss: 0.8029 - val_accuracy: 0.7052\n",
            "Epoch 65/200\n",
            "394/394 [==============================] - 5s 12ms/step - loss: 0.8162 - accuracy: 0.7046 - val_loss: 0.9207 - val_accuracy: 0.6938\n"
          ],
          "name": "stdout"
        }
      ]
    },
    {
      "cell_type": "code",
      "metadata": {
        "id": "lGueWsYJcTDx"
      },
      "source": [
        "X_train, X_test, y_train, y_test = train_test_split(X, y, test_size=0.3, random_state=0)"
      ],
      "execution_count": 9,
      "outputs": []
    },
    {
      "cell_type": "code",
      "metadata": {
        "colab": {
          "base_uri": "https://localhost:8080/",
          "height": 265
        },
        "id": "tJOWHqHEvnSN",
        "outputId": "b0bba54d-c036-43af-dbf1-ac191afcc268"
      },
      "source": [
        "plt.plot(history.history[\"loss\"], label=\"Training Loss\")\n",
        "plt.plot(history.history[\"val_loss\"], label=\"Validation Loss\")\n",
        "plt.legend()\n",
        "plt.show()"
      ],
      "execution_count": 10,
      "outputs": [
        {
          "output_type": "display_data",
          "data": {
            "image/png": "[encoded data removed]",
            "text/plain": [
              "<Figure size 432x288 with 1 Axes>"
            ]
          },
          "metadata": {
            "tags": [],
            "needs_background": "light"
          }
        }
      ]
    },
    {
      "cell_type": "code",
      "metadata": {
        "colab": {
          "base_uri": "https://localhost:8080/",
          "height": 265
        },
        "id": "YnbUifM9Gnr9",
        "outputId": "a8a6f27d-0bc2-490c-a337-984141a0e829"
      },
      "source": [
        "plt.plot(history.history[\"accuracy\"],label=\"Training Accuracy\")\n",
        "plt.plot(history.history[\"val_accuracy\"],label=\"Testing Accuracy\")\n",
        "plt.legend()\n",
        "plt.show()"
      ],
      "execution_count": 11,
      "outputs": [
        {
          "output_type": "display_data",
          "data": {
            "image/png": "[encoded data removed]",
            "text/plain": [
              "<Figure size 432x288 with 1 Axes>"
            ]
          },
          "metadata": {
            "tags": [],
            "needs_background": "light"
          }
        }
      ]
    },
    {
      "cell_type": "markdown",
      "metadata": {
        "id": "BSkRbSaEIX7v"
      },
      "source": [
        "## Using DNN model for same data "
      ]
    },
    {
      "cell_type": "code",
      "metadata": {
        "id": "tbYGZ4GF-Lea"
      },
      "source": [
        "model = keras.Sequential([\n",
        "    keras.layers.Flatten(input_shape=(10,)),\n",
        "    #keras.layers.Dense(512, activation=tf.nn.relu),\n",
        "    keras.layers.Dense(256, activation=tf.nn.relu),\n",
        "\t  #keras.layers.Dense(256, activation=tf.nn.relu),\n",
        "    keras.layers.Dense(128, activation=tf.nn.relu),\n",
        "    #keras.layers.Dense(128, activation=tf.nn.relu),\n",
        "    keras.layers.Dense(64, activation=tf.nn.relu),\n",
        "    keras.layers.Dense(1, activation=tf.nn.sigmoid),\n",
        "])"
      ],
      "execution_count": 12,
      "outputs": []
    },
    {
      "cell_type": "code",
      "metadata": {
        "colab": {
          "base_uri": "https://localhost:8080/"
        },
        "id": "_uTlH7rZc8ot",
        "outputId": "a3093313-bfe8-4b7a-cde8-1cdf703929d7"
      },
      "source": [
        "model.compile(optimizer=keras.optimizers.Adam(learning_rate=0.001),\n",
        "              \n",
        "              loss='binary_crossentropy',\n",
        "              metrics=['accuracy'],\n",
        "              )\n",
        "\n",
        "history = model.fit(X_train, y_train, epochs=150, batch_size=128, validation_split=0.2)\n",
        "test_loss, test_acc = model.evaluate(X_test, y_test)"
      ],
      "execution_count": 13,
      "outputs": [
        {
          "output_type": "stream",
          "text": [
            "Epoch 1/150\n",
            "350/350 [==============================] - 1s 3ms/step - loss: 1.7083 - accuracy: 0.5743 - val_loss: 0.6085 - val_accuracy: 0.6342\n",
            "Epoch 2/150\n",
            "350/350 [==============================] - 1s 3ms/step - loss: 0.6423 - accuracy: 0.6469 - val_loss: 1.1163 - val_accuracy: 0.5647\n",
            "Epoch 3/150\n",
            "350/350 [==============================] - 1s 2ms/step - loss: 0.6620 - accuracy: 0.6543 - val_loss: 0.5213 - val_accuracy: 0.7053\n",
            "Epoch 4/150\n",
            "350/350 [==============================] - 1s 2ms/step - loss: 0.5629 - accuracy: 0.6867 - val_loss: 0.5415 - val_accuracy: 0.6710\n",
            "Epoch 5/150\n",
            "350/350 [==============================] - 1s 2ms/step - loss: 0.5377 - accuracy: 0.6964 - val_loss: 0.6136 - val_accuracy: 0.6575\n",
            "Epoch 6/150\n",
            "350/350 [==============================] - 1s 2ms/step - loss: 0.5567 - accuracy: 0.6908 - val_loss: 0.5230 - val_accuracy: 0.7204\n",
            "Epoch 7/150\n",
            "350/350 [==============================] - 1s 2ms/step - loss: 0.5023 - accuracy: 0.7141 - val_loss: 0.4654 - val_accuracy: 0.7217\n",
            "Epoch 8/150\n",
            "350/350 [==============================] - 1s 2ms/step - loss: 0.4859 - accuracy: 0.7216 - val_loss: 0.4753 - val_accuracy: 0.7304\n",
            "Epoch 9/150\n",
            "350/350 [==============================] - 1s 2ms/step - loss: 0.4670 - accuracy: 0.7289 - val_loss: 0.4744 - val_accuracy: 0.7088\n",
            "Epoch 10/150\n",
            "350/350 [==============================] - 1s 3ms/step - loss: 0.4488 - accuracy: 0.7354 - val_loss: 0.4603 - val_accuracy: 0.7222\n",
            "Epoch 11/150\n",
            "350/350 [==============================] - 1s 3ms/step - loss: 0.4331 - accuracy: 0.7385 - val_loss: 0.4732 - val_accuracy: 0.7187\n",
            "Epoch 12/150\n",
            "350/350 [==============================] - 1s 2ms/step - loss: 0.4500 - accuracy: 0.7315 - val_loss: 0.4078 - val_accuracy: 0.7496\n",
            "Epoch 13/150\n",
            "350/350 [==============================] - 1s 3ms/step - loss: 0.4248 - accuracy: 0.7428 - val_loss: 0.4198 - val_accuracy: 0.7520\n",
            "Epoch 14/150\n",
            "350/350 [==============================] - 1s 2ms/step - loss: 0.4184 - accuracy: 0.7486 - val_loss: 0.4151 - val_accuracy: 0.7429\n",
            "Epoch 15/150\n",
            "350/350 [==============================] - 1s 2ms/step - loss: 0.4173 - accuracy: 0.7466 - val_loss: 0.4278 - val_accuracy: 0.7361\n",
            "Epoch 16/150\n",
            "350/350 [==============================] - 1s 2ms/step - loss: 0.4113 - accuracy: 0.7482 - val_loss: 0.3997 - val_accuracy: 0.7525\n",
            "Epoch 17/150\n",
            "350/350 [==============================] - 1s 2ms/step - loss: 0.4110 - accuracy: 0.7485 - val_loss: 0.3939 - val_accuracy: 0.7496\n",
            "Epoch 18/150\n",
            "350/350 [==============================] - 1s 2ms/step - loss: 0.3974 - accuracy: 0.7530 - val_loss: 0.4816 - val_accuracy: 0.7343\n",
            "Epoch 19/150\n",
            "350/350 [==============================] - 1s 3ms/step - loss: 0.4180 - accuracy: 0.7457 - val_loss: 0.4238 - val_accuracy: 0.7406\n",
            "Epoch 20/150\n",
            "350/350 [==============================] - 1s 2ms/step - loss: 0.3845 - accuracy: 0.7627 - val_loss: 0.3813 - val_accuracy: 0.7612\n",
            "Epoch 21/150\n",
            "350/350 [==============================] - 1s 2ms/step - loss: 0.3981 - accuracy: 0.7532 - val_loss: 0.3943 - val_accuracy: 0.7495\n",
            "Epoch 22/150\n",
            "350/350 [==============================] - 1s 2ms/step - loss: 0.3964 - accuracy: 0.7550 - val_loss: 0.3908 - val_accuracy: 0.7539\n",
            "Epoch 23/150\n",
            "350/350 [==============================] - 1s 2ms/step - loss: 0.3927 - accuracy: 0.7555 - val_loss: 0.3882 - val_accuracy: 0.7538\n",
            "Epoch 24/150\n",
            "350/350 [==============================] - 1s 2ms/step - loss: 0.3851 - accuracy: 0.7608 - val_loss: 0.4041 - val_accuracy: 0.7442\n",
            "Epoch 25/150\n",
            "350/350 [==============================] - 1s 2ms/step - loss: 0.3891 - accuracy: 0.7588 - val_loss: 0.3700 - val_accuracy: 0.7660\n",
            "Epoch 26/150\n",
            "350/350 [==============================] - 1s 2ms/step - loss: 0.3849 - accuracy: 0.7590 - val_loss: 0.3756 - val_accuracy: 0.7640\n",
            "Epoch 27/150\n",
            "350/350 [==============================] - 1s 2ms/step - loss: 0.3760 - accuracy: 0.7643 - val_loss: 0.4135 - val_accuracy: 0.7486\n",
            "Epoch 28/150\n",
            "350/350 [==============================] - 1s 2ms/step - loss: 0.3916 - accuracy: 0.7574 - val_loss: 0.3785 - val_accuracy: 0.7558\n",
            "Epoch 29/150\n",
            "350/350 [==============================] - 1s 2ms/step - loss: 0.3647 - accuracy: 0.7705 - val_loss: 0.3571 - val_accuracy: 0.7650\n",
            "Epoch 30/150\n",
            "350/350 [==============================] - 1s 2ms/step - loss: 0.3709 - accuracy: 0.7630 - val_loss: 0.3689 - val_accuracy: 0.7667\n",
            "Epoch 31/150\n",
            "350/350 [==============================] - 1s 2ms/step - loss: 0.3717 - accuracy: 0.7608 - val_loss: 0.3509 - val_accuracy: 0.7711\n",
            "Epoch 32/150\n",
            "350/350 [==============================] - 1s 2ms/step - loss: 0.3667 - accuracy: 0.7690 - val_loss: 0.3715 - val_accuracy: 0.7602\n",
            "Epoch 33/150\n",
            "350/350 [==============================] - 1s 2ms/step - loss: 0.3676 - accuracy: 0.7663 - val_loss: 0.3571 - val_accuracy: 0.7690\n",
            "Epoch 34/150\n",
            "350/350 [==============================] - 1s 2ms/step - loss: 0.3879 - accuracy: 0.7628 - val_loss: 0.3877 - val_accuracy: 0.7509\n",
            "Epoch 35/150\n",
            "350/350 [==============================] - 1s 2ms/step - loss: 0.3733 - accuracy: 0.7614 - val_loss: 0.3590 - val_accuracy: 0.7699\n",
            "Epoch 36/150\n",
            "350/350 [==============================] - 1s 2ms/step - loss: 0.4011 - accuracy: 0.7636 - val_loss: 0.3663 - val_accuracy: 0.7662\n",
            "Epoch 37/150\n",
            "350/350 [==============================] - 1s 2ms/step - loss: 0.3596 - accuracy: 0.7678 - val_loss: 0.3643 - val_accuracy: 0.7690\n",
            "Epoch 38/150\n",
            "350/350 [==============================] - 1s 2ms/step - loss: 0.3602 - accuracy: 0.7741 - val_loss: 0.3708 - val_accuracy: 0.7702\n",
            "Epoch 39/150\n",
            "350/350 [==============================] - 1s 2ms/step - loss: 0.3595 - accuracy: 0.7708 - val_loss: 0.3627 - val_accuracy: 0.7615\n",
            "Epoch 40/150\n",
            "350/350 [==============================] - 1s 2ms/step - loss: 0.3632 - accuracy: 0.7682 - val_loss: 0.3616 - val_accuracy: 0.7571\n",
            "Epoch 41/150\n",
            "350/350 [==============================] - 1s 2ms/step - loss: 0.3509 - accuracy: 0.7742 - val_loss: 0.3598 - val_accuracy: 0.7643\n",
            "Epoch 42/150\n",
            "350/350 [==============================] - 1s 2ms/step - loss: 0.3604 - accuracy: 0.7670 - val_loss: 0.3640 - val_accuracy: 0.7620\n",
            "Epoch 43/150\n",
            "350/350 [==============================] - 1s 2ms/step - loss: 0.3612 - accuracy: 0.7686 - val_loss: 0.3426 - val_accuracy: 0.7669\n",
            "Epoch 44/150\n",
            "350/350 [==============================] - 1s 3ms/step - loss: 0.3504 - accuracy: 0.7746 - val_loss: 0.3482 - val_accuracy: 0.7714\n",
            "Epoch 45/150\n",
            "350/350 [==============================] - 1s 2ms/step - loss: 0.3597 - accuracy: 0.7721 - val_loss: 0.3684 - val_accuracy: 0.7716\n",
            "Epoch 46/150\n",
            "350/350 [==============================] - 1s 2ms/step - loss: 0.3519 - accuracy: 0.7774 - val_loss: 0.3579 - val_accuracy: 0.7725\n",
            "Epoch 47/150\n",
            "350/350 [==============================] - 1s 2ms/step - loss: 0.3530 - accuracy: 0.7746 - val_loss: 0.3486 - val_accuracy: 0.7718\n",
            "Epoch 48/150\n",
            "350/350 [==============================] - 1s 2ms/step - loss: 0.3457 - accuracy: 0.7806 - val_loss: 0.3733 - val_accuracy: 0.7642\n",
            "Epoch 49/150\n",
            "350/350 [==============================] - 1s 3ms/step - loss: 0.3501 - accuracy: 0.7750 - val_loss: 0.3586 - val_accuracy: 0.7628\n",
            "Epoch 50/150\n",
            "350/350 [==============================] - 1s 2ms/step - loss: 0.3531 - accuracy: 0.7730 - val_loss: 0.3486 - val_accuracy: 0.7701\n",
            "Epoch 51/150\n",
            "350/350 [==============================] - 1s 3ms/step - loss: 0.3440 - accuracy: 0.7808 - val_loss: 0.3409 - val_accuracy: 0.7780\n",
            "Epoch 52/150\n",
            "350/350 [==============================] - 1s 3ms/step - loss: 0.3414 - accuracy: 0.7780 - val_loss: 0.3459 - val_accuracy: 0.7785\n",
            "Epoch 53/150\n",
            "350/350 [==============================] - 1s 3ms/step - loss: 0.3521 - accuracy: 0.7748 - val_loss: 0.3515 - val_accuracy: 0.7684\n",
            "Epoch 54/150\n",
            "350/350 [==============================] - 1s 3ms/step - loss: 0.3516 - accuracy: 0.7806 - val_loss: 0.3492 - val_accuracy: 0.7696\n",
            "Epoch 55/150\n",
            "350/350 [==============================] - 1s 2ms/step - loss: 0.3408 - accuracy: 0.7816 - val_loss: 0.3345 - val_accuracy: 0.7744\n",
            "Epoch 56/150\n",
            "350/350 [==============================] - 1s 3ms/step - loss: 0.3357 - accuracy: 0.7812 - val_loss: 0.3594 - val_accuracy: 0.7668\n",
            "Epoch 57/150\n",
            "350/350 [==============================] - 1s 3ms/step - loss: 0.3441 - accuracy: 0.7755 - val_loss: 0.3461 - val_accuracy: 0.7693\n",
            "Epoch 58/150\n",
            "350/350 [==============================] - 1s 3ms/step - loss: 0.3527 - accuracy: 0.7766 - val_loss: 0.3440 - val_accuracy: 0.7843\n",
            "Epoch 59/150\n",
            "350/350 [==============================] - 1s 3ms/step - loss: 0.3374 - accuracy: 0.7842 - val_loss: 0.3421 - val_accuracy: 0.7897\n",
            "Epoch 60/150\n",
            "350/350 [==============================] - 1s 2ms/step - loss: 0.3404 - accuracy: 0.7830 - val_loss: 0.3346 - val_accuracy: 0.7828\n",
            "Epoch 61/150\n",
            "350/350 [==============================] - 1s 3ms/step - loss: 0.3521 - accuracy: 0.7815 - val_loss: 0.3542 - val_accuracy: 0.7710\n",
            "Epoch 62/150\n",
            "350/350 [==============================] - 1s 2ms/step - loss: 0.3413 - accuracy: 0.7858 - val_loss: 0.3304 - val_accuracy: 0.7879\n",
            "Epoch 63/150\n",
            "350/350 [==============================] - 1s 2ms/step - loss: 0.3358 - accuracy: 0.7850 - val_loss: 0.3788 - val_accuracy: 0.7621\n",
            "Epoch 64/150\n",
            "350/350 [==============================] - 1s 3ms/step - loss: 0.3583 - accuracy: 0.7761 - val_loss: 0.3380 - val_accuracy: 0.7778\n",
            "Epoch 65/150\n",
            "350/350 [==============================] - 1s 3ms/step - loss: 0.3358 - accuracy: 0.7892 - val_loss: 0.3397 - val_accuracy: 0.7761\n",
            "Epoch 66/150\n",
            "350/350 [==============================] - 1s 2ms/step - loss: 0.3352 - accuracy: 0.7856 - val_loss: 0.3518 - val_accuracy: 0.7734\n",
            "Epoch 67/150\n",
            "350/350 [==============================] - 1s 2ms/step - loss: 0.3460 - accuracy: 0.7823 - val_loss: 0.3273 - val_accuracy: 0.7948\n",
            "Epoch 68/150\n",
            "350/350 [==============================] - 1s 3ms/step - loss: 0.3543 - accuracy: 0.7775 - val_loss: 0.3424 - val_accuracy: 0.7831\n",
            "Epoch 69/150\n",
            "350/350 [==============================] - 1s 2ms/step - loss: 0.3388 - accuracy: 0.7839 - val_loss: 0.3456 - val_accuracy: 0.7827\n",
            "Epoch 70/150\n",
            "350/350 [==============================] - 1s 2ms/step - loss: 0.3458 - accuracy: 0.7817 - val_loss: 0.3513 - val_accuracy: 0.7726\n",
            "Epoch 71/150\n",
            "350/350 [==============================] - 1s 2ms/step - loss: 0.3388 - accuracy: 0.7831 - val_loss: 0.3430 - val_accuracy: 0.7752\n",
            "Epoch 72/150\n",
            "350/350 [==============================] - 1s 2ms/step - loss: 0.3308 - accuracy: 0.7914 - val_loss: 0.3207 - val_accuracy: 0.7963\n",
            "Epoch 73/150\n",
            "350/350 [==============================] - 1s 2ms/step - loss: 0.3301 - accuracy: 0.7884 - val_loss: 0.3186 - val_accuracy: 0.7911\n",
            "Epoch 74/150\n",
            "350/350 [==============================] - 1s 3ms/step - loss: 0.3327 - accuracy: 0.7873 - val_loss: 0.3414 - val_accuracy: 0.7829\n",
            "Epoch 75/150\n",
            "350/350 [==============================] - 1s 2ms/step - loss: 0.3314 - accuracy: 0.7899 - val_loss: 0.3164 - val_accuracy: 0.7871\n",
            "Epoch 76/150\n",
            "350/350 [==============================] - 1s 2ms/step - loss: 0.3202 - accuracy: 0.7926 - val_loss: 0.3152 - val_accuracy: 0.7952\n",
            "Epoch 77/150\n",
            "350/350 [==============================] - 1s 2ms/step - loss: 0.3238 - accuracy: 0.7938 - val_loss: 0.3635 - val_accuracy: 0.7739\n",
            "Epoch 78/150\n",
            "350/350 [==============================] - 1s 2ms/step - loss: 0.3254 - accuracy: 0.7922 - val_loss: 0.3630 - val_accuracy: 0.7779\n",
            "Epoch 79/150\n",
            "350/350 [==============================] - 1s 2ms/step - loss: 0.3332 - accuracy: 0.7902 - val_loss: 0.3426 - val_accuracy: 0.7843\n",
            "Epoch 80/150\n",
            "350/350 [==============================] - 1s 2ms/step - loss: 0.3347 - accuracy: 0.7913 - val_loss: 0.3630 - val_accuracy: 0.7748\n",
            "Epoch 81/150\n",
            "350/350 [==============================] - 1s 2ms/step - loss: 0.3340 - accuracy: 0.7909 - val_loss: 0.3201 - val_accuracy: 0.7944\n",
            "Epoch 82/150\n",
            "350/350 [==============================] - 1s 2ms/step - loss: 0.3206 - accuracy: 0.7930 - val_loss: 0.3318 - val_accuracy: 0.7890\n",
            "Epoch 83/150\n",
            "350/350 [==============================] - 1s 2ms/step - loss: 0.3167 - accuracy: 0.7938 - val_loss: 0.3150 - val_accuracy: 0.7934\n",
            "Epoch 84/150\n",
            "350/350 [==============================] - 1s 2ms/step - loss: 0.3173 - accuracy: 0.7984 - val_loss: 0.3448 - val_accuracy: 0.7846\n",
            "Epoch 85/150\n",
            "350/350 [==============================] - 1s 2ms/step - loss: 0.3236 - accuracy: 0.7909 - val_loss: 0.3397 - val_accuracy: 0.7911\n",
            "Epoch 86/150\n",
            "350/350 [==============================] - 1s 3ms/step - loss: 0.3208 - accuracy: 0.7925 - val_loss: 0.3695 - val_accuracy: 0.7673\n",
            "Epoch 87/150\n",
            "350/350 [==============================] - 1s 3ms/step - loss: 0.3295 - accuracy: 0.7912 - val_loss: 0.3158 - val_accuracy: 0.7909\n",
            "Epoch 88/150\n",
            "350/350 [==============================] - 1s 3ms/step - loss: 0.3185 - accuracy: 0.7969 - val_loss: 0.3351 - val_accuracy: 0.7835\n",
            "Epoch 89/150\n",
            "350/350 [==============================] - 1s 3ms/step - loss: 0.3269 - accuracy: 0.7931 - val_loss: 0.3192 - val_accuracy: 0.7907\n",
            "Epoch 90/150\n",
            "350/350 [==============================] - 1s 2ms/step - loss: 0.3310 - accuracy: 0.7912 - val_loss: 0.3515 - val_accuracy: 0.7671\n",
            "Epoch 91/150\n",
            "350/350 [==============================] - 1s 3ms/step - loss: 0.3339 - accuracy: 0.7859 - val_loss: 0.3242 - val_accuracy: 0.7867\n",
            "Epoch 92/150\n",
            "350/350 [==============================] - 1s 3ms/step - loss: 0.3194 - accuracy: 0.7965 - val_loss: 0.3263 - val_accuracy: 0.7881\n",
            "Epoch 93/150\n",
            "350/350 [==============================] - 1s 3ms/step - loss: 0.3288 - accuracy: 0.7883 - val_loss: 0.3193 - val_accuracy: 0.7935\n",
            "Epoch 94/150\n",
            "350/350 [==============================] - 1s 3ms/step - loss: 0.3109 - accuracy: 0.7996 - val_loss: 0.3156 - val_accuracy: 0.7937\n",
            "Epoch 95/150\n",
            "350/350 [==============================] - 1s 3ms/step - loss: 0.3243 - accuracy: 0.7947 - val_loss: 0.3129 - val_accuracy: 0.8014\n",
            "Epoch 96/150\n",
            "350/350 [==============================] - 1s 3ms/step - loss: 0.3250 - accuracy: 0.7928 - val_loss: 0.3218 - val_accuracy: 0.8005\n",
            "Epoch 97/150\n",
            "350/350 [==============================] - 1s 3ms/step - loss: 0.3167 - accuracy: 0.7971 - val_loss: 0.3148 - val_accuracy: 0.7974\n",
            "Epoch 98/150\n",
            "350/350 [==============================] - 1s 3ms/step - loss: 0.3240 - accuracy: 0.7954 - val_loss: 0.3198 - val_accuracy: 0.7989\n",
            "Epoch 99/150\n",
            "350/350 [==============================] - 1s 3ms/step - loss: 0.3186 - accuracy: 0.7948 - val_loss: 0.3137 - val_accuracy: 0.8015\n",
            "Epoch 100/150\n",
            "350/350 [==============================] - 1s 3ms/step - loss: 0.3193 - accuracy: 0.7965 - val_loss: 0.5726 - val_accuracy: 0.7710\n",
            "Epoch 101/150\n",
            "350/350 [==============================] - 1s 3ms/step - loss: 0.3502 - accuracy: 0.7863 - val_loss: 0.3208 - val_accuracy: 0.7921\n",
            "Epoch 102/150\n",
            "350/350 [==============================] - 1s 3ms/step - loss: 0.3181 - accuracy: 0.8011 - val_loss: 0.3300 - val_accuracy: 0.7903\n",
            "Epoch 103/150\n",
            "350/350 [==============================] - 1s 3ms/step - loss: 0.3303 - accuracy: 0.7938 - val_loss: 0.3261 - val_accuracy: 0.7998\n",
            "Epoch 104/150\n",
            "350/350 [==============================] - 1s 2ms/step - loss: 0.3166 - accuracy: 0.8001 - val_loss: 0.3239 - val_accuracy: 0.7941\n",
            "Epoch 105/150\n",
            "350/350 [==============================] - 1s 2ms/step - loss: 0.3177 - accuracy: 0.7984 - val_loss: 0.3314 - val_accuracy: 0.7827\n",
            "Epoch 106/150\n",
            "350/350 [==============================] - 1s 2ms/step - loss: 0.3175 - accuracy: 0.7989 - val_loss: 0.3217 - val_accuracy: 0.7919\n",
            "Epoch 107/150\n",
            "350/350 [==============================] - 1s 3ms/step - loss: 0.3223 - accuracy: 0.7939 - val_loss: 0.3450 - val_accuracy: 0.7781\n",
            "Epoch 108/150\n",
            "350/350 [==============================] - 1s 2ms/step - loss: 0.3230 - accuracy: 0.7947 - val_loss: 0.3162 - val_accuracy: 0.7955\n",
            "Epoch 109/150\n",
            "350/350 [==============================] - 1s 3ms/step - loss: 0.3159 - accuracy: 0.7952 - val_loss: 0.3301 - val_accuracy: 0.7999\n",
            "Epoch 110/150\n",
            "350/350 [==============================] - 1s 3ms/step - loss: 0.3244 - accuracy: 0.7979 - val_loss: 0.3118 - val_accuracy: 0.8050\n",
            "Epoch 111/150\n",
            "350/350 [==============================] - 1s 3ms/step - loss: 0.3166 - accuracy: 0.7977 - val_loss: 0.3130 - val_accuracy: 0.7959\n",
            "Epoch 112/150\n",
            "350/350 [==============================] - 1s 2ms/step - loss: 0.3181 - accuracy: 0.7986 - val_loss: 0.3195 - val_accuracy: 0.8000\n",
            "Epoch 113/150\n",
            "350/350 [==============================] - 1s 3ms/step - loss: 0.3106 - accuracy: 0.8001 - val_loss: 0.3184 - val_accuracy: 0.7987\n",
            "Epoch 114/150\n",
            "350/350 [==============================] - 1s 3ms/step - loss: 0.3186 - accuracy: 0.7946 - val_loss: 0.3402 - val_accuracy: 0.7789\n",
            "Epoch 115/150\n",
            "350/350 [==============================] - 1s 3ms/step - loss: 0.3251 - accuracy: 0.7938 - val_loss: 0.3301 - val_accuracy: 0.7872\n",
            "Epoch 116/150\n",
            "350/350 [==============================] - 1s 2ms/step - loss: 0.3186 - accuracy: 0.7962 - val_loss: 0.3360 - val_accuracy: 0.7830\n",
            "Epoch 117/150\n",
            "350/350 [==============================] - 1s 2ms/step - loss: 0.3174 - accuracy: 0.7967 - val_loss: 0.3964 - val_accuracy: 0.7604\n",
            "Epoch 118/150\n",
            "350/350 [==============================] - 1s 3ms/step - loss: 0.3325 - accuracy: 0.7886 - val_loss: 0.3334 - val_accuracy: 0.7843\n",
            "Epoch 119/150\n",
            "350/350 [==============================] - 1s 3ms/step - loss: 0.3174 - accuracy: 0.7939 - val_loss: 0.3345 - val_accuracy: 0.7918\n",
            "Epoch 120/150\n",
            "350/350 [==============================] - 1s 3ms/step - loss: 0.3184 - accuracy: 0.7957 - val_loss: 0.3250 - val_accuracy: 0.8010\n",
            "Epoch 121/150\n",
            "350/350 [==============================] - 1s 2ms/step - loss: 0.3155 - accuracy: 0.7982 - val_loss: 0.3376 - val_accuracy: 0.7855\n",
            "Epoch 122/150\n",
            "350/350 [==============================] - 1s 2ms/step - loss: 0.3171 - accuracy: 0.8005 - val_loss: 0.3112 - val_accuracy: 0.8022\n",
            "Epoch 123/150\n",
            "350/350 [==============================] - 1s 3ms/step - loss: 0.3204 - accuracy: 0.7941 - val_loss: 0.3244 - val_accuracy: 0.7985\n",
            "Epoch 124/150\n",
            "350/350 [==============================] - 1s 2ms/step - loss: 0.3179 - accuracy: 0.7983 - val_loss: 0.3211 - val_accuracy: 0.7910\n",
            "Epoch 125/150\n",
            "350/350 [==============================] - 1s 3ms/step - loss: 0.3123 - accuracy: 0.7979 - val_loss: 0.3245 - val_accuracy: 0.7882\n",
            "Epoch 126/150\n",
            "350/350 [==============================] - 1s 2ms/step - loss: 0.3192 - accuracy: 0.7987 - val_loss: 0.3253 - val_accuracy: 0.7916\n",
            "Epoch 127/150\n",
            "350/350 [==============================] - 1s 3ms/step - loss: 0.3160 - accuracy: 0.7974 - val_loss: 0.3102 - val_accuracy: 0.8035\n",
            "Epoch 128/150\n",
            "350/350 [==============================] - 1s 2ms/step - loss: 0.3106 - accuracy: 0.8001 - val_loss: 0.3316 - val_accuracy: 0.7911\n",
            "Epoch 129/150\n",
            "350/350 [==============================] - 1s 3ms/step - loss: 0.3522 - accuracy: 0.7899 - val_loss: 0.3159 - val_accuracy: 0.7968\n",
            "Epoch 130/150\n",
            "350/350 [==============================] - 1s 3ms/step - loss: 0.3149 - accuracy: 0.7995 - val_loss: 0.3173 - val_accuracy: 0.7919\n",
            "Epoch 131/150\n",
            "350/350 [==============================] - 1s 3ms/step - loss: 0.3178 - accuracy: 0.7953 - val_loss: 0.3216 - val_accuracy: 0.7917\n",
            "Epoch 132/150\n",
            "350/350 [==============================] - 1s 3ms/step - loss: 0.3215 - accuracy: 0.7979 - val_loss: 0.3115 - val_accuracy: 0.7956\n",
            "Epoch 133/150\n",
            "350/350 [==============================] - 1s 3ms/step - loss: 0.3157 - accuracy: 0.7968 - val_loss: 0.3132 - val_accuracy: 0.8017\n",
            "Epoch 134/150\n",
            "350/350 [==============================] - 1s 3ms/step - loss: 0.3145 - accuracy: 0.7999 - val_loss: 0.3243 - val_accuracy: 0.7960\n",
            "Epoch 135/150\n",
            "350/350 [==============================] - 1s 3ms/step - loss: 0.3144 - accuracy: 0.8000 - val_loss: 0.3172 - val_accuracy: 0.7995\n",
            "Epoch 136/150\n",
            "350/350 [==============================] - 1s 3ms/step - loss: 0.3144 - accuracy: 0.7983 - val_loss: 0.3182 - val_accuracy: 0.7942\n",
            "Epoch 137/150\n",
            "350/350 [==============================] - 1s 2ms/step - loss: 0.3109 - accuracy: 0.7993 - val_loss: 0.3343 - val_accuracy: 0.7879\n",
            "Epoch 138/150\n",
            "350/350 [==============================] - 1s 3ms/step - loss: 0.3221 - accuracy: 0.7942 - val_loss: 0.3220 - val_accuracy: 0.7969\n",
            "Epoch 139/150\n",
            "350/350 [==============================] - 1s 2ms/step - loss: 0.3129 - accuracy: 0.7996 - val_loss: 0.3367 - val_accuracy: 0.7932\n",
            "Epoch 140/150\n",
            "350/350 [==============================] - 1s 3ms/step - loss: 0.3143 - accuracy: 0.7989 - val_loss: 0.3225 - val_accuracy: 0.7956\n",
            "Epoch 141/150\n",
            "350/350 [==============================] - 1s 3ms/step - loss: 0.3232 - accuracy: 0.7975 - val_loss: 0.3129 - val_accuracy: 0.7990\n",
            "Epoch 142/150\n",
            "350/350 [==============================] - 1s 3ms/step - loss: 0.3199 - accuracy: 0.8001 - val_loss: 0.3210 - val_accuracy: 0.7962\n",
            "Epoch 143/150\n",
            "350/350 [==============================] - 1s 3ms/step - loss: 0.3208 - accuracy: 0.7986 - val_loss: 0.3259 - val_accuracy: 0.7919\n",
            "Epoch 144/150\n",
            "350/350 [==============================] - 1s 2ms/step - loss: 0.3145 - accuracy: 0.8004 - val_loss: 0.3135 - val_accuracy: 0.7979\n",
            "Epoch 145/150\n",
            "350/350 [==============================] - 1s 3ms/step - loss: 0.3132 - accuracy: 0.7943 - val_loss: 0.3096 - val_accuracy: 0.8004\n",
            "Epoch 146/150\n",
            "350/350 [==============================] - 1s 2ms/step - loss: 0.3115 - accuracy: 0.7958 - val_loss: 0.3182 - val_accuracy: 0.7982\n",
            "Epoch 147/150\n",
            "350/350 [==============================] - 1s 2ms/step - loss: 0.3186 - accuracy: 0.7984 - val_loss: 0.3133 - val_accuracy: 0.7979\n",
            "Epoch 148/150\n",
            "350/350 [==============================] - 1s 2ms/step - loss: 0.3133 - accuracy: 0.8012 - val_loss: 0.3553 - val_accuracy: 0.7714\n",
            "Epoch 149/150\n",
            "350/350 [==============================] - 1s 3ms/step - loss: 0.3228 - accuracy: 0.7963 - val_loss: 0.3102 - val_accuracy: 0.8035\n",
            "Epoch 150/150\n",
            "350/350 [==============================] - 1s 3ms/step - loss: 0.3135 - accuracy: 0.8006 - val_loss: 0.3099 - val_accuracy: 0.7910\n",
            "751/751 [==============================] - 1s 2ms/step - loss: 0.3041 - accuracy: 0.8022\n"
          ],
          "name": "stdout"
        }
      ]
    },
    {
      "cell_type": "code",
      "metadata": {
        "colab": {
          "base_uri": "https://localhost:8080/",
          "height": 265
        },
        "id": "KpSVbJNwanA9",
        "outputId": "14c37042-18f2-4ef0-e067-020cf80caa5d"
      },
      "source": [
        "plt.plot(history.history[\"loss\"], label=\"Training Loss\")\n",
        "plt.plot(history.history[\"val_loss\"], label=\"Validation Loss\")\n",
        "plt.legend()\n",
        "plt.show()"
      ],
      "execution_count": 16,
      "outputs": [
        {
          "output_type": "display_data",
          "data": {
            "image/png": "[encoded data removed]",
            "text/plain": [
              "<Figure size 432x288 with 1 Axes>"
            ]
          },
          "metadata": {
            "tags": [],
            "needs_background": "light"
          }
        }
      ]
    },
    {
      "cell_type": "code",
      "metadata": {
        "colab": {
          "base_uri": "https://localhost:8080/",
          "height": 265
        },
        "id": "d5JoyyUJbUAl",
        "outputId": "2c0e1105-25e5-476f-a26e-5892679404da"
      },
      "source": [
        "plt.plot(history.history[\"accuracy\"],label=\"Training Accuracy\")\n",
        "plt.plot(history.history[\"val_accuracy\"],label=\"Testing Accuracy\")\n",
        "plt.legend()\n",
        "plt.show()"
      ],
      "execution_count": 17,
      "outputs": [
        {
          "output_type": "display_data",
          "data": {
            "image/png": "[encoded data removed]",
            "text/plain": [
              "<Figure size 432x288 with 1 Axes>"
            ]
          },
          "metadata": {
            "tags": [],
            "needs_background": "light"
          }
        }
      ]
    }
  ]
}