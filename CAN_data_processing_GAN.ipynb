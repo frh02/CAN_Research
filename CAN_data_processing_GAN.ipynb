{
  "nbformat": 4,
  "nbformat_minor": 0,
  "metadata": {
    "colab": {
      "name": "CAN_data_processing_GAN.ipynb",
      "provenance": [],
      "authorship_tag": "ABX9TyNViNzw7h8MQ2TRouhdrv3J",
      "include_colab_link": true
    },
    "kernelspec": {
      "name": "python3",
      "display_name": "Python 3"
    },
    "language_info": {
      "name": "python"
    }
  },
  "cells": [
    {
      "cell_type": "markdown",
      "metadata": {
        "id": "view-in-github",
        "colab_type": "text"
      },
      "source": [
        "<a href=\"https://colab.research.google.com/github/frh02/CAN_Research/blob/main/CAN_data_processing_GAN.ipynb\" target=\"_parent\"><img src=\"https://colab.research.google.com/assets/colab-badge.svg\" alt=\"Open In Colab\"/></a>"
      ]
    },
    {
      "cell_type": "markdown",
      "metadata": {
        "id": "VlcxYgZeI378"
      },
      "source": [
        "# Pre process the data for generating data using GAN "
      ]
    },
    {
      "cell_type": "code",
      "metadata": {
        "id": "tdNgWHr5AcKx"
      },
      "source": [
        "import numpy as np\n",
        "import pandas as pd\n",
        "from numpy import save\n",
        "from sklearn.model_selection import train_test_split"
      ],
      "execution_count": null,
      "outputs": []
    },
    {
      "cell_type": "code",
      "metadata": {
        "colab": {
          "base_uri": "https://localhost:8080/"
        },
        "id": "PNdCKlbEG1PQ",
        "outputId": "b6f785d8-c89c-49a7-86a1-0a35d8154dc9"
      },
      "source": [
        "df1 = pd.read_csv('/content/Train.csv')\n",
        "df2= pd.read_csv('/content/Test.csv')\n",
        "#frames= [df1,df2]\n",
        "#df = pd.concat(frames)\n",
        "df1=df1.iloc[0:10000]\n",
        "df1 = df1.fillna(-1)\n",
        "df2 = df2.fillna(-1)\n",
        "df1.to_csv('benign.csv')\n",
        "df1.to_csv('malacious.csv')\n",
        "print(df1)\n",
        "print(df2)\n",
        "#print(df2)"
      ],
      "execution_count": null,
      "outputs": [
        {
          "output_type": "stream",
          "text": [
            "      Unnamed: 0        Time   seconds   ID  Value  ...  D5  D6  D7  D8 Target\n",
            "0              0  Timestamp:  0.000000  ID:    790  ...  20  1a  00  7f      0\n",
            "1              1  Timestamp:  0.000224  ID:    809  ...  11  2f  00  10      0\n",
            "2              2  Timestamp:  0.000462  ID:    128  ...  20  1a  20  43      0\n",
            "3              3  Timestamp:  0.000704  ID:    129  ...  00  00  00  53      0\n",
            "4              4  Timestamp:  0.000878  ID:    288  ...  -1  -1  -1  -1      0\n",
            "...          ...         ...       ...  ...    ...  ...  ..  ..  ..  ..    ...\n",
            "9995        9995  Timestamp:  4.379506  ID:   1266  ...  00  00  00  cd      0\n",
            "9996        9996  Timestamp:  4.379723  ID:   1200  ...  00  00  00  00      0\n",
            "9997        9997  Timestamp:  4.379968  ID:    356  ...  00  00  0a  02      0\n",
            "9998        9998  Timestamp:  4.380213  ID:    880  ...  ff  00  00  64      0\n",
            "9999        9999  Timestamp:  4.380450  ID:    790  ...  20  1a  00  7f      0\n",
            "\n",
            "[10000 rows x 17 columns]\n",
            "       Unnamed: 0        Time   seconds   ID  Value  ...  D5  D6  D7  D8 Target\n",
            "0               0  Timestamp:  0.000000  ID:      0  ...  00  00  00  00      1\n",
            "1               1  Timestamp:  0.000271  ID:    128  ...  16  11  16  bb      1\n",
            "2               2  Timestamp:  0.000495  ID:      0  ...  00  00  00  00      1\n",
            "3               3  Timestamp:  0.000736  ID:    129  ...  00  00  00  6b      1\n",
            "4               4  Timestamp:  0.000983  ID:      0  ...  00  00  00  00      1\n",
            "...           ...         ...       ...  ...    ...  ...  ..  ..  ..  ..    ...\n",
            "19995       19995  Timestamp:  7.114431  ID:    848  ...  86  00  00  c8      1\n",
            "19996       19996  Timestamp:  7.114927  ID:    880  ...  ff  00  00  ec      1\n",
            "19997       19997  Timestamp:  7.115429  ID:    898  ...  00  00  00  04      1\n",
            "19998       19998  Timestamp:  7.116169  ID:      0  ...  00  00  00  00      1\n",
            "19999       19999  Timestamp:  7.116921  ID:   1201  ...  00  00  00  01      1\n",
            "\n",
            "[20000 rows x 17 columns]\n"
          ],
          "name": "stdout"
        }
      ]
    },
    {
      "cell_type": "code",
      "metadata": {
        "colab": {
          "base_uri": "https://localhost:8080/"
        },
        "id": "83IDuZeiGIlo",
        "outputId": "3c987c74-135f-4675-8c8a-3a0afbd8d9c8"
      },
      "source": [
        "properties_ben = list(df1.columns.values)\n",
        "properties_ben.remove('Time')\n",
        "properties_ben.remove('seconds')\n",
        "properties_ben.remove('ID')\n",
        "properties_ben.remove('DLC')\n",
        "properties_ben.remove('App')\n",
        "properties_ben.remove('Unnamed: 0')\n",
        "properties_ben.remove('Target')\n",
        "df1['D1']=df1['D1'].apply(lambda x: int(str(x),16))\n",
        "df1['D2']=df1['D2'].apply(lambda x: int(str(x),16))\n",
        "df1['D3']=df1['D3'].apply(lambda x: int(str(x),16))\n",
        "df1['D4']=df1['D4'].apply(lambda x: int(str(x),16))\n",
        "df1['D5']=df1['D5'].apply(lambda x: int(str(x),16))\n",
        "df1['D6']=df1['D6'].apply(lambda x: int(str(x),16))\n",
        "df1['D7']=df1['D7'].apply(lambda x: int(str(x),16))\n",
        "df1['D8']=df1['D8'].apply(lambda x: int(str(x),16))\n",
        "#print(properties)\n",
        "xben = df1[properties_ben]\n",
        "\n",
        "#X = X.reshape(1,90000,10)\n",
        "#print(X.shape)\n",
        "yben = df1['Target']\n",
        "#print(y)\n",
        "print(yben.shape)\n",
        "#X = np.expand_dims(X, axis=2)\n",
        "#y = np.expand_dims(y, axis=1)\n",
        "print(xben.shape)\n",
        "\n",
        "\n",
        "#print(y.shape)\n",
        "#X_train, X_test, y_train, y_test = train_test_split(X, y, test_size=0.3, random_state=0)"
      ],
      "execution_count": null,
      "outputs": [
        {
          "output_type": "stream",
          "text": [
            "(10000,)\n",
            "(10000, 10)\n"
          ],
          "name": "stdout"
        }
      ]
    },
    {
      "cell_type": "code",
      "metadata": {
        "colab": {
          "base_uri": "https://localhost:8080/"
        },
        "id": "1oY8UXkxJjp7",
        "outputId": "beec65d1-62c5-42f7-ec19-c9c5cd1d0bdd"
      },
      "source": [
        "properties_mal = list(df2.columns.values)\n",
        "properties_mal.remove('Time')\n",
        "properties_mal.remove('seconds')\n",
        "properties_mal.remove('ID')\n",
        "properties_mal.remove('DLC')\n",
        "properties_mal.remove('App')\n",
        "properties_mal.remove('Unnamed: 0')\n",
        "properties_mal.remove('Target')\n",
        "df2['D1']=df2['D1'].apply(lambda x: int(str(x),16))\n",
        "df2['D2']=df2['D2'].apply(lambda x: int(str(x),16))\n",
        "df2['D3']=df2['D3'].apply(lambda x: int(str(x),16))\n",
        "df2['D4']=df2['D4'].apply(lambda x: int(str(x),16))\n",
        "df2['D5']=df2['D5'].apply(lambda x: int(str(x),16))\n",
        "df2['D6']=df2['D6'].apply(lambda x: int(str(x),16))\n",
        "df2['D7']=df2['D7'].apply(lambda x: int(str(x),16))\n",
        "df2['D8']=df2['D8'].apply(lambda x: int(str(x),16))\n",
        "#print(properties)\n",
        "xmal = df2[properties_mal]\n",
        "\n",
        "#X = X.reshape(1,90000,10)\n",
        "#print(X.shape)\n",
        "ymal = df2['Target']\n",
        "#print(y)\n",
        "print(ymal.shape)\n",
        "print(xmal.shape)"
      ],
      "execution_count": null,
      "outputs": [
        {
          "output_type": "stream",
          "text": [
            "(20000,)\n",
            "(20000, 10)\n"
          ],
          "name": "stdout"
        }
      ]
    },
    {
      "cell_type": "code",
      "metadata": {
        "id": "xNELw34ZMgog"
      },
      "source": [
        "save('xben.npy', xben)\n",
        "save('yben.npy', yben)\n",
        "save('xmal.npy', xmal)\n",
        "save('ymal.npy', ymal)\n",
        "np.savez('data.npz', xben=xben, yben= yben,xmal=xmal,ymal=ymal)"
      ],
      "execution_count": null,
      "outputs": []
    }
  ]
}