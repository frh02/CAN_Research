{
  "nbformat": 4,
  "nbformat_minor": 0,
  "metadata": {
    "colab": {
      "name": "LSTM_CAN_Binary_Classifier_Conf_Matrix.ipynb",
      "provenance": [],
      "collapsed_sections": [],
      "authorship_tag": "ABX9TyMPZv/0AkWP9bliEZdv2if9",
      "include_colab_link": true
    },
    "kernelspec": {
      "name": "python3",
      "display_name": "Python 3"
    },
    "language_info": {
      "name": "python"
    },
    "accelerator": "GPU"
  },
  "cells": [
    {
      "cell_type": "markdown",
      "metadata": {
        "id": "view-in-github",
        "colab_type": "text"
      },
      "source": [
        "<a href=\"https://colab.research.google.com/github/frh02/CAN_Research/blob/main/LSTM_CAN_Binary_Classifier_Conf_Matrix.ipynb\" target=\"_parent\"><img src=\"https://colab.research.google.com/assets/colab-badge.svg\" alt=\"Open In Colab\"/></a>"
      ]
    },
    {
      "cell_type": "markdown",
      "metadata": {
        "id": "J5LlNobKHy-O"
      },
      "source": [
        "# LSTM Model for Binary Classification"
      ]
    },
    {
      "cell_type": "markdown",
      "metadata": {
        "id": "vXjZBzQHICbs"
      },
      "source": [
        "## import libraries "
      ]
    },
    {
      "cell_type": "code",
      "metadata": {
        "id": "XoIiM1h-YNPi"
      },
      "source": [
        "import pandas as pd\n",
        "import tensorflow as tf\n",
        "import keras\n",
        "from sklearn.model_selection import train_test_split\n",
        "import keras.utils\n",
        "from sklearn.metrics import classification_report, confusion_matrix\n",
        "import itertools \n",
        "from keras import utils as np_utils\n",
        "import numpy as np\n",
        "import pandas as pd\n",
        "from tensorflow import keras\n",
        "from tensorflow.keras import layers\n",
        "from datetime import datetime\n",
        "from matplotlib import pyplot as plt\n",
        "from matplotlib import dates as md\n",
        "import pandas as pd\n",
        "import csv\n",
        "%matplotlib inline  \n",
        "from ast import literal_eval \n",
        "import array as array"
      ],
      "execution_count": 19,
      "outputs": []
    },
    {
      "cell_type": "markdown",
      "metadata": {
        "id": "Xmr90uqoIGTs"
      },
      "source": [
        "## load the data"
      ]
    },
    {
      "cell_type": "code",
      "metadata": {
        "colab": {
          "base_uri": "https://localhost:8080/"
        },
        "id": "c6rYE36KcmwL",
        "outputId": "b8ca5552-1e16-4df8-9890-878aba5471e1"
      },
      "source": [
        "df1 = pd.read_csv('/content/Train.csv')\n",
        "df2= pd.read_csv('/content/Test.csv')\n",
        "frames= [df1,df2]\n",
        "df = pd.concat(frames)\n",
        "df = df.fillna(-1)\n",
        "df.to_csv('input_train.csv')\n",
        "print(df)"
      ],
      "execution_count": 21,
      "outputs": [
        {
          "output_type": "stream",
          "text": [
            "       Unnamed: 0        Time   seconds   ID  Value  ...  D5  D6  D7  D8 Target\n",
            "0               0  Timestamp:  0.000000  ID:    790  ...  20  1a  00  7f      0\n",
            "1               1  Timestamp:  0.000224  ID:    809  ...  11  2f  00  10      0\n",
            "2               2  Timestamp:  0.000462  ID:    128  ...  20  1a  20  43      0\n",
            "3               3  Timestamp:  0.000704  ID:    129  ...  00  00  00  53      0\n",
            "4               4  Timestamp:  0.000878  ID:    288  ...  -1  -1  -1  -1      0\n",
            "...           ...         ...       ...  ...    ...  ...  ..  ..  ..  ..    ...\n",
            "19995       19995  Timestamp:  7.114431  ID:    848  ...  86   0   0  c8      1\n",
            "19996       19996  Timestamp:  7.114927  ID:    880  ...  ff   0   0  ec      1\n",
            "19997       19997  Timestamp:  7.115429  ID:    898  ...   0   0   0   4      1\n",
            "19998       19998  Timestamp:  7.116169  ID:      0  ...   0   0   0   0      1\n",
            "19999       19999  Timestamp:  7.116921  ID:   1201  ...   0   0   0   1      1\n",
            "\n",
            "[90000 rows x 17 columns]\n"
          ],
          "name": "stdout"
        }
      ]
    },
    {
      "cell_type": "markdown",
      "metadata": {
        "id": "bihLMaKSIKUH"
      },
      "source": [
        "## cleaning the data "
      ]
    },
    {
      "cell_type": "code",
      "metadata": {
        "colab": {
          "base_uri": "https://localhost:8080/"
        },
        "id": "CV0GY1goaQeL",
        "outputId": "de3ba923-45c0-4662-d310-a380310931e0"
      },
      "source": [
        "properties = list(df.columns.values)\n",
        "properties.remove('Time')\n",
        "properties.remove('seconds')\n",
        "properties.remove('ID')\n",
        "properties.remove('DLC')\n",
        "properties.remove('App')\n",
        "properties.remove('Unnamed: 0')\n",
        "properties.remove('Target')\n",
        "df['D1']=df['D1'].apply(lambda x: int(str(x),16))\n",
        "df['D2']=df['D2'].apply(lambda x: int(str(x),16))\n",
        "df['D3']=df['D3'].apply(lambda x: int(str(x),16))\n",
        "df['D4']=df['D4'].apply(lambda x: int(str(x),16))\n",
        "df['D5']=df['D5'].apply(lambda x: int(str(x),16))\n",
        "df['D6']=df['D6'].apply(lambda x: int(str(x),16))\n",
        "df['D7']=df['D7'].apply(lambda x: int(str(x),16))\n",
        "df['D8']=df['D8'].apply(lambda x: int(str(x),16))\n",
        "X = df[properties]\n",
        "y = df['Target']\n",
        "print(y.shape)\n",
        "X = np.expand_dims(X, axis=2)\n",
        "y = np.expand_dims(y, axis=1)\n",
        "print(X.shape)\n",
        "print(y.shape)\n"
      ],
      "execution_count": 22,
      "outputs": [
        {
          "output_type": "stream",
          "text": [
            "(90000,)\n",
            "(90000, 10, 1)\n",
            "(90000, 1)\n"
          ],
          "name": "stdout"
        }
      ]
    },
    {
      "cell_type": "markdown",
      "metadata": {
        "id": "gkVG0i0kINjb"
      },
      "source": [
        "## 2D To 3D array conversion"
      ]
    },
    {
      "cell_type": "code",
      "metadata": {
        "colab": {
          "base_uri": "https://localhost:8080/"
        },
        "id": "TgfBc0iqvpJg",
        "outputId": "70650eb8-f3b4-4bf8-af14-454b5b0c9811"
      },
      "source": [
        "TIME_STEPS = 288\n",
        "def create_sequences(values, time_steps=TIME_STEPS):\n",
        "    output = []\n",
        "    for i in range(len(values) - time_steps):\n",
        "        output.append(values[i : (i + time_steps)])\n",
        "    # Convert 2D sequences into 3D as we will be feeding this into\n",
        "    # a convolutional layer.\n",
        "    return np.expand_dims(output, axis=2)\n",
        "\n",
        "training_value = df \n",
        "x_train = create_sequences(training_value)\n",
        "print(\"Training input shape: \", x_train.shape)\n",
        "X_train, X_test, y_train, y_test = train_test_split(X, y, test_size=0.3, random_state=0)"
      ],
      "execution_count": 23,
      "outputs": [
        {
          "output_type": "stream",
          "text": [
            "Training input shape:  (89712, 288, 1, 17)\n"
          ],
          "name": "stdout"
        }
      ]
    },
    {
      "cell_type": "markdown",
      "metadata": {
        "id": "K3I3BkymISSD"
      },
      "source": [
        "## creating the LSTM model "
      ]
    },
    {
      "cell_type": "code",
      "metadata": {
        "colab": {
          "base_uri": "https://localhost:8080/"
        },
        "id": "BxUWO5pOwCL5",
        "outputId": "f9b5add6-8924-419d-cd6e-4eac52013113"
      },
      "source": [
        "n_steps = X_train.shape[1]\n",
        "n_features = X_train.shape[2]\n",
        "\n",
        "keras.backend.clear_session()\n",
        "model = keras.Sequential(\n",
        "    [\n",
        "        layers.Input(shape=(n_steps, n_features)),\n",
        "        layers.Conv1D(filters=32, kernel_size=15, padding='same', data_format='channels_last',\n",
        "            dilation_rate=1, activation=\"linear\"),\n",
        "        layers.LSTM(\n",
        "            units=256, activation=\"tanh\", name=\"lstm_1\", return_sequences=False\n",
        "        ),\n",
        "        layers.RepeatVector(n_steps),\n",
        "        layers.LSTM(\n",
        "            units=128, activation=\"tanh\", name=\"lstm_2\", return_sequences=True\n",
        "        ),\n",
        "        layers.LSTM(\n",
        "            units=128, activation=\"tanh\", name=\"lstm_3\", return_sequences=True\n",
        "        ),\n",
        "        layers.LSTM(\n",
        "            units=64, activation=\"tanh\", name=\"lstm_4\", return_sequences=True\n",
        "        ),\n",
        "        layers.Conv1D(filters=32, kernel_size=15, padding='same', data_format='channels_last',\n",
        "            dilation_rate=1, activation=\"linear\"),\n",
        "\n",
        "        layers.TimeDistributed(layers.Dense(1, activation='linear'))\n",
        "    ]\n",
        ")\n",
        "model.compile(optimizer=keras.optimizers.Adam(learning_rate=0.001), loss=\"binary_crossentropy\",metrics=['accuracy'])\n",
        "model.summary()"
      ],
      "execution_count": 24,
      "outputs": [
        {
          "output_type": "stream",
          "text": [
            "WARNING:tensorflow:Please add `keras.layers.InputLayer` instead of `keras.Input` to Sequential model. `keras.Input` is intended to be used by Functional model.\n",
            "Model: \"sequential\"\n",
            "_________________________________________________________________\n",
            "Layer (type)                 Output Shape              Param #   \n",
            "=================================================================\n",
            "conv1d (Conv1D)              (None, 10, 32)            512       \n",
            "_________________________________________________________________\n",
            "lstm_1 (LSTM)                (None, 256)               295936    \n",
            "_________________________________________________________________\n",
            "repeat_vector (RepeatVector) (None, 10, 256)           0         \n",
            "_________________________________________________________________\n",
            "lstm_2 (LSTM)                (None, 10, 128)           197120    \n",
            "_________________________________________________________________\n",
            "lstm_3 (LSTM)                (None, 10, 128)           131584    \n",
            "_________________________________________________________________\n",
            "lstm_4 (LSTM)                (None, 10, 64)            49408     \n",
            "_________________________________________________________________\n",
            "conv1d_1 (Conv1D)            (None, 10, 32)            30752     \n",
            "_________________________________________________________________\n",
            "time_distributed (TimeDistri (None, 10, 1)             33        \n",
            "=================================================================\n",
            "Total params: 705,345\n",
            "Trainable params: 705,345\n",
            "Non-trainable params: 0\n",
            "_________________________________________________________________\n"
          ],
          "name": "stdout"
        }
      ]
    },
    {
      "cell_type": "code",
      "metadata": {
        "colab": {
          "base_uri": "https://localhost:8080/"
        },
        "id": "8yf1RS6iwHGe",
        "outputId": "9f209a61-e2b8-4e24-cb9e-19c6598e0bb9"
      },
      "source": [
        "history = model.fit(\n",
        "    X_train,\n",
        "    y_train,\n",
        "    epochs=100,\n",
        "    batch_size=128,\n",
        "    validation_split=0.1,\n",
        "    callbacks=[\n",
        "        keras.callbacks.EarlyStopping(monitor=\"val_loss\", patience=25, mode=\"min\", restore_best_weights=True)\n",
        "    ],\n",
        ")"
      ],
      "execution_count": 25,
      "outputs": [
        {
          "output_type": "stream",
          "text": [
            "Epoch 1/100\n",
            "443/443 [==============================] - 42s 13ms/step - loss: 0.3178 - accuracy: 0.8848 - val_loss: 0.2128 - val_accuracy: 0.9283\n",
            "Epoch 2/100\n",
            "443/443 [==============================] - 5s 10ms/step - loss: 0.2247 - accuracy: 0.9351 - val_loss: 0.3048 - val_accuracy: 0.9305\n",
            "Epoch 3/100\n",
            "443/443 [==============================] - 5s 11ms/step - loss: 0.2447 - accuracy: 0.9331 - val_loss: 0.5297 - val_accuracy: 0.9187\n",
            "Epoch 4/100\n",
            "443/443 [==============================] - 5s 10ms/step - loss: 0.2707 - accuracy: 0.9277 - val_loss: 0.2358 - val_accuracy: 0.9206\n",
            "Epoch 5/100\n",
            "443/443 [==============================] - 5s 10ms/step - loss: 0.2452 - accuracy: 0.9316 - val_loss: 0.3237 - val_accuracy: 0.9077\n",
            "Epoch 6/100\n",
            "443/443 [==============================] - 5s 10ms/step - loss: 0.2284 - accuracy: 0.9257 - val_loss: 0.1975 - val_accuracy: 0.9345\n",
            "Epoch 7/100\n",
            "443/443 [==============================] - 5s 10ms/step - loss: 0.2527 - accuracy: 0.9196 - val_loss: 0.1904 - val_accuracy: 0.9396\n",
            "Epoch 8/100\n",
            "443/443 [==============================] - 5s 11ms/step - loss: 0.2234 - accuracy: 0.9302 - val_loss: 0.2341 - val_accuracy: 0.9267\n",
            "Epoch 9/100\n",
            "443/443 [==============================] - 5s 10ms/step - loss: 0.2090 - accuracy: 0.9360 - val_loss: 0.2018 - val_accuracy: 0.9314\n",
            "Epoch 10/100\n",
            "443/443 [==============================] - 5s 11ms/step - loss: 0.2158 - accuracy: 0.9336 - val_loss: 0.2086 - val_accuracy: 0.9312\n",
            "Epoch 11/100\n",
            "443/443 [==============================] - 5s 10ms/step - loss: 0.2222 - accuracy: 0.9379 - val_loss: 0.2287 - val_accuracy: 0.9284\n",
            "Epoch 12/100\n",
            "443/443 [==============================] - 5s 10ms/step - loss: 0.2021 - accuracy: 0.9396 - val_loss: 0.1950 - val_accuracy: 0.9410\n",
            "Epoch 13/100\n",
            "443/443 [==============================] - 5s 10ms/step - loss: 0.2565 - accuracy: 0.9327 - val_loss: 0.2003 - val_accuracy: 0.9236\n",
            "Epoch 14/100\n",
            "443/443 [==============================] - 5s 10ms/step - loss: 0.2082 - accuracy: 0.9348 - val_loss: 0.1764 - val_accuracy: 0.9396\n",
            "Epoch 15/100\n",
            "443/443 [==============================] - 5s 10ms/step - loss: 0.1825 - accuracy: 0.9429 - val_loss: 0.1912 - val_accuracy: 0.9408\n",
            "Epoch 16/100\n",
            "443/443 [==============================] - 5s 11ms/step - loss: 0.2389 - accuracy: 0.9306 - val_loss: 0.2764 - val_accuracy: 0.9128\n",
            "Epoch 17/100\n",
            "443/443 [==============================] - 5s 10ms/step - loss: 0.2239 - accuracy: 0.9296 - val_loss: 0.1918 - val_accuracy: 0.9359\n",
            "Epoch 18/100\n",
            "443/443 [==============================] - 5s 10ms/step - loss: 0.1889 - accuracy: 0.9430 - val_loss: 0.1797 - val_accuracy: 0.9437\n",
            "Epoch 19/100\n",
            "443/443 [==============================] - 5s 11ms/step - loss: 0.3120 - accuracy: 0.9239 - val_loss: 0.3217 - val_accuracy: 0.8929\n",
            "Epoch 20/100\n",
            "443/443 [==============================] - 5s 10ms/step - loss: 0.2573 - accuracy: 0.9166 - val_loss: 0.3231 - val_accuracy: 0.8924\n",
            "Epoch 21/100\n",
            "443/443 [==============================] - 5s 10ms/step - loss: 0.2420 - accuracy: 0.9215 - val_loss: 0.1811 - val_accuracy: 0.9354\n",
            "Epoch 22/100\n",
            "443/443 [==============================] - 5s 10ms/step - loss: 0.1692 - accuracy: 0.9465 - val_loss: 0.1555 - val_accuracy: 0.9512\n",
            "Epoch 23/100\n",
            "443/443 [==============================] - 5s 11ms/step - loss: 0.1616 - accuracy: 0.9501 - val_loss: 0.1668 - val_accuracy: 0.9459\n",
            "Epoch 24/100\n",
            "443/443 [==============================] - 5s 11ms/step - loss: 0.2035 - accuracy: 0.9406 - val_loss: 0.1904 - val_accuracy: 0.9384\n",
            "Epoch 25/100\n",
            "443/443 [==============================] - 5s 11ms/step - loss: 0.2499 - accuracy: 0.9214 - val_loss: 0.2046 - val_accuracy: 0.9356\n",
            "Epoch 26/100\n",
            "443/443 [==============================] - 5s 11ms/step - loss: 0.4265 - accuracy: 0.9277 - val_loss: 0.4201 - val_accuracy: 0.9339\n",
            "Epoch 27/100\n",
            "443/443 [==============================] - 5s 11ms/step - loss: 0.4298 - accuracy: 0.9337 - val_loss: 0.4114 - val_accuracy: 0.9371\n",
            "Epoch 28/100\n",
            "443/443 [==============================] - 5s 11ms/step - loss: 0.3332 - accuracy: 0.9428 - val_loss: 0.1525 - val_accuracy: 0.9507\n",
            "Epoch 29/100\n",
            "443/443 [==============================] - 5s 11ms/step - loss: 0.1801 - accuracy: 0.9517 - val_loss: 0.1713 - val_accuracy: 0.9453\n",
            "Epoch 30/100\n",
            "443/443 [==============================] - 5s 11ms/step - loss: 0.2328 - accuracy: 0.9273 - val_loss: 0.2015 - val_accuracy: 0.9462\n",
            "Epoch 31/100\n",
            "443/443 [==============================] - 5s 11ms/step - loss: 0.2020 - accuracy: 0.9427 - val_loss: 0.1958 - val_accuracy: 0.9397\n",
            "Epoch 32/100\n",
            "443/443 [==============================] - 5s 10ms/step - loss: 0.1570 - accuracy: 0.9533 - val_loss: 0.1452 - val_accuracy: 0.9528\n",
            "Epoch 33/100\n",
            "443/443 [==============================] - 5s 10ms/step - loss: 0.2301 - accuracy: 0.9444 - val_loss: 0.2679 - val_accuracy: 0.9393\n",
            "Epoch 34/100\n",
            "443/443 [==============================] - 5s 10ms/step - loss: 0.2680 - accuracy: 0.9362 - val_loss: 0.2561 - val_accuracy: 0.9409\n",
            "Epoch 35/100\n",
            "443/443 [==============================] - 5s 10ms/step - loss: 0.2664 - accuracy: 0.9364 - val_loss: 0.2132 - val_accuracy: 0.9376\n",
            "Epoch 36/100\n",
            "443/443 [==============================] - 5s 10ms/step - loss: 0.1980 - accuracy: 0.9451 - val_loss: 0.1881 - val_accuracy: 0.9354\n",
            "Epoch 37/100\n",
            "443/443 [==============================] - 5s 10ms/step - loss: 0.2077 - accuracy: 0.9450 - val_loss: 0.2659 - val_accuracy: 0.9363\n",
            "Epoch 38/100\n",
            "443/443 [==============================] - 5s 11ms/step - loss: 0.2293 - accuracy: 0.9393 - val_loss: 0.1645 - val_accuracy: 0.9421\n",
            "Epoch 39/100\n",
            "443/443 [==============================] - 5s 10ms/step - loss: 0.2264 - accuracy: 0.9455 - val_loss: 0.2989 - val_accuracy: 0.9430\n",
            "Epoch 40/100\n",
            "443/443 [==============================] - 5s 11ms/step - loss: 0.4049 - accuracy: 0.9375 - val_loss: 0.4077 - val_accuracy: 0.9337\n",
            "Epoch 41/100\n",
            "443/443 [==============================] - 5s 11ms/step - loss: 0.4163 - accuracy: 0.9374 - val_loss: 0.3939 - val_accuracy: 0.9392\n",
            "Epoch 42/100\n",
            "443/443 [==============================] - 5s 10ms/step - loss: 0.4335 - accuracy: 0.9378 - val_loss: 0.5943 - val_accuracy: 0.9221\n",
            "Epoch 43/100\n",
            "443/443 [==============================] - 5s 11ms/step - loss: 0.4205 - accuracy: 0.9355 - val_loss: 0.1533 - val_accuracy: 0.9507\n",
            "Epoch 44/100\n",
            "443/443 [==============================] - 5s 11ms/step - loss: 0.2211 - accuracy: 0.9416 - val_loss: 0.5986 - val_accuracy: 0.8942\n",
            "Epoch 45/100\n",
            "443/443 [==============================] - 5s 11ms/step - loss: 0.2269 - accuracy: 0.9255 - val_loss: 0.2167 - val_accuracy: 0.9442\n",
            "Epoch 46/100\n",
            "443/443 [==============================] - 5s 10ms/step - loss: 0.2141 - accuracy: 0.9388 - val_loss: 0.2363 - val_accuracy: 0.9266\n",
            "Epoch 47/100\n",
            "443/443 [==============================] - 5s 11ms/step - loss: 0.1970 - accuracy: 0.9393 - val_loss: 0.1778 - val_accuracy: 0.9448\n",
            "Epoch 48/100\n",
            "443/443 [==============================] - 5s 10ms/step - loss: 0.2023 - accuracy: 0.9382 - val_loss: 0.1970 - val_accuracy: 0.9382\n",
            "Epoch 49/100\n",
            "443/443 [==============================] - 5s 11ms/step - loss: 0.1924 - accuracy: 0.9431 - val_loss: 0.1725 - val_accuracy: 0.9483\n",
            "Epoch 50/100\n",
            "443/443 [==============================] - 5s 10ms/step - loss: 0.1660 - accuracy: 0.9502 - val_loss: 0.1819 - val_accuracy: 0.9442\n",
            "Epoch 51/100\n",
            "443/443 [==============================] - 5s 11ms/step - loss: 0.1731 - accuracy: 0.9473 - val_loss: 0.1504 - val_accuracy: 0.9523\n",
            "Epoch 52/100\n",
            "443/443 [==============================] - 5s 11ms/step - loss: 0.1703 - accuracy: 0.9518 - val_loss: 0.3619 - val_accuracy: 0.8876\n",
            "Epoch 53/100\n",
            "443/443 [==============================] - 5s 10ms/step - loss: 0.3351 - accuracy: 0.8972 - val_loss: 0.2998 - val_accuracy: 0.9135\n",
            "Epoch 54/100\n",
            "443/443 [==============================] - 5s 11ms/step - loss: 0.2459 - accuracy: 0.9273 - val_loss: 0.1943 - val_accuracy: 0.9324\n",
            "Epoch 55/100\n",
            "443/443 [==============================] - 5s 11ms/step - loss: 0.3826 - accuracy: 0.9287 - val_loss: 0.8096 - val_accuracy: 0.9041\n",
            "Epoch 56/100\n",
            "443/443 [==============================] - 5s 11ms/step - loss: 0.4743 - accuracy: 0.9119 - val_loss: 0.1976 - val_accuracy: 0.9373\n",
            "Epoch 57/100\n",
            "443/443 [==============================] - 5s 11ms/step - loss: 0.2087 - accuracy: 0.9382 - val_loss: 0.1873 - val_accuracy: 0.9429\n"
          ],
          "name": "stdout"
        }
      ]
    },
    {
      "cell_type": "code",
      "metadata": {
        "id": "lGueWsYJcTDx"
      },
      "source": [
        "X_train, X_test, y_train, y_test = train_test_split(X, y, test_size=0.3, random_state=0)"
      ],
      "execution_count": 26,
      "outputs": []
    },
    {
      "cell_type": "code",
      "metadata": {
        "colab": {
          "base_uri": "https://localhost:8080/",
          "height": 265
        },
        "id": "tJOWHqHEvnSN",
        "outputId": "3f7e05a0-1ddd-4a03-a7a7-77077f32f151"
      },
      "source": [
        "plt.plot(history.history[\"loss\"], label=\"Training Loss\")\n",
        "plt.plot(history.history[\"val_loss\"], label=\"Validation Loss\")\n",
        "plt.legend()\n",
        "plt.show()"
      ],
      "execution_count": 27,
      "outputs": [
        {
          "output_type": "display_data",
          "data": {
            "image/png": "[encoded data removed]",
            "text/plain": [
              "<Figure size 432x288 with 1 Axes>"
            ]
          },
          "metadata": {
            "tags": [],
            "needs_background": "light"
          }
        }
      ]
    },
    {
      "cell_type": "code",
      "metadata": {
        "colab": {
          "base_uri": "https://localhost:8080/",
          "height": 265
        },
        "id": "YnbUifM9Gnr9",
        "outputId": "5f5ff4fe-dfc3-43c2-ee29-9444bf980bc9"
      },
      "source": [
        "plt.plot(history.history[\"accuracy\"],label=\"Training Accuracy\")\n",
        "plt.plot(history.history[\"val_accuracy\"],label=\"Testing Accuracy\")\n",
        "plt.legend()\n",
        "plt.show()"
      ],
      "execution_count": 28,
      "outputs": [
        {
          "output_type": "display_data",
          "data": {
            "image/png": "[encoded data removed]",
            "text/plain": [
              "<Figure size 432x288 with 1 Axes>"
            ]
          },
          "metadata": {
            "tags": [],
            "needs_background": "light"
          }
        }
      ]
    },
    {
      "cell_type": "markdown",
      "metadata": {
        "id": "BSkRbSaEIX7v"
      },
      "source": [
        "## Using DNN model for same data "
      ]
    },
    {
      "cell_type": "code",
      "metadata": {
        "id": "tbYGZ4GF-Lea"
      },
      "source": [
        "model = keras.Sequential([\n",
        "    keras.layers.Flatten(input_shape=(10,)),\n",
        "    keras.layers.Dense(256, activation=tf.nn.relu),\n",
        "\t  keras.layers.Dense(256, activation=tf.nn.relu),\n",
        "    keras.layers.Dense(128, activation=tf.nn.relu),\n",
        "    keras.layers.Dense(64, activation=tf.nn.relu),\n",
        "    keras.layers.Dense(1, activation=tf.nn.sigmoid),\n",
        "])"
      ],
      "execution_count": 29,
      "outputs": []
    },
    {
      "cell_type": "code",
      "metadata": {
        "colab": {
          "base_uri": "https://localhost:8080/"
        },
        "id": "_uTlH7rZc8ot",
        "outputId": "5a03dad0-2a4c-45e4-d7a4-819d0e080b7d"
      },
      "source": [
        "model.compile(optimizer=keras.optimizers.Adam(learning_rate=0.001),\n",
        "              \n",
        "              loss='binary_crossentropy',\n",
        "              metrics=['accuracy'],\n",
        "              )\n",
        "\n",
        "history = model.fit(X_train, y_train, epochs=100, batch_size=128, validation_split=0.2)\n",
        "test_loss, test_acc = model.evaluate(X_test, y_test)"
      ],
      "execution_count": 30,
      "outputs": [
        {
          "output_type": "stream",
          "text": [
            "Epoch 1/100\n",
            "394/394 [==============================] - 2s 3ms/step - loss: 0.4347 - accuracy: 0.8946 - val_loss: 0.2909 - val_accuracy: 0.9041\n",
            "Epoch 2/100\n",
            "394/394 [==============================] - 1s 3ms/step - loss: 0.2370 - accuracy: 0.9258 - val_loss: 0.3037 - val_accuracy: 0.8704\n",
            "Epoch 3/100\n",
            "394/394 [==============================] - 1s 3ms/step - loss: 0.2127 - accuracy: 0.9354 - val_loss: 0.2010 - val_accuracy: 0.9399\n",
            "Epoch 4/100\n",
            "394/394 [==============================] - 1s 3ms/step - loss: 0.1904 - accuracy: 0.9427 - val_loss: 0.1802 - val_accuracy: 0.9374\n",
            "Epoch 5/100\n",
            "394/394 [==============================] - 1s 3ms/step - loss: 0.1774 - accuracy: 0.9459 - val_loss: 0.1710 - val_accuracy: 0.9451\n",
            "Epoch 6/100\n",
            "394/394 [==============================] - 1s 3ms/step - loss: 0.1673 - accuracy: 0.9485 - val_loss: 0.2103 - val_accuracy: 0.9102\n",
            "Epoch 7/100\n",
            "394/394 [==============================] - 1s 3ms/step - loss: 0.1640 - accuracy: 0.9497 - val_loss: 0.1712 - val_accuracy: 0.9452\n",
            "Epoch 8/100\n",
            "394/394 [==============================] - 1s 3ms/step - loss: 0.1544 - accuracy: 0.9517 - val_loss: 0.1658 - val_accuracy: 0.9456\n",
            "Epoch 9/100\n",
            "394/394 [==============================] - 1s 3ms/step - loss: 0.1617 - accuracy: 0.9491 - val_loss: 0.1621 - val_accuracy: 0.9471\n",
            "Epoch 10/100\n",
            "394/394 [==============================] - 1s 3ms/step - loss: 0.1567 - accuracy: 0.9501 - val_loss: 0.2022 - val_accuracy: 0.9411\n",
            "Epoch 11/100\n",
            "394/394 [==============================] - 1s 3ms/step - loss: 0.1639 - accuracy: 0.9491 - val_loss: 0.1933 - val_accuracy: 0.9401\n",
            "Epoch 12/100\n",
            "394/394 [==============================] - 1s 3ms/step - loss: 0.1541 - accuracy: 0.9509 - val_loss: 0.1829 - val_accuracy: 0.9424\n",
            "Epoch 13/100\n",
            "394/394 [==============================] - 1s 3ms/step - loss: 0.1579 - accuracy: 0.9493 - val_loss: 0.1553 - val_accuracy: 0.9478\n",
            "Epoch 14/100\n",
            "394/394 [==============================] - 1s 3ms/step - loss: 0.1548 - accuracy: 0.9504 - val_loss: 0.1756 - val_accuracy: 0.9417\n",
            "Epoch 15/100\n",
            "394/394 [==============================] - 1s 3ms/step - loss: 0.1477 - accuracy: 0.9519 - val_loss: 0.1539 - val_accuracy: 0.9481\n",
            "Epoch 16/100\n",
            "394/394 [==============================] - 1s 3ms/step - loss: 0.1527 - accuracy: 0.9506 - val_loss: 0.1544 - val_accuracy: 0.9471\n",
            "Epoch 17/100\n",
            "394/394 [==============================] - 1s 3ms/step - loss: 0.1450 - accuracy: 0.9524 - val_loss: 0.1502 - val_accuracy: 0.9479\n",
            "Epoch 18/100\n",
            "394/394 [==============================] - 1s 3ms/step - loss: 0.1476 - accuracy: 0.9519 - val_loss: 0.1531 - val_accuracy: 0.9476\n",
            "Epoch 19/100\n",
            "394/394 [==============================] - 1s 3ms/step - loss: 0.1425 - accuracy: 0.9530 - val_loss: 0.1506 - val_accuracy: 0.9466\n",
            "Epoch 20/100\n",
            "394/394 [==============================] - 1s 3ms/step - loss: 0.1560 - accuracy: 0.9508 - val_loss: 0.1510 - val_accuracy: 0.9487\n",
            "Epoch 21/100\n",
            "394/394 [==============================] - 1s 3ms/step - loss: 0.1487 - accuracy: 0.9513 - val_loss: 0.1873 - val_accuracy: 0.9375\n",
            "Epoch 22/100\n",
            "394/394 [==============================] - 1s 3ms/step - loss: 0.1480 - accuracy: 0.9512 - val_loss: 0.1494 - val_accuracy: 0.9491\n",
            "Epoch 23/100\n",
            "394/394 [==============================] - 1s 3ms/step - loss: 0.1408 - accuracy: 0.9535 - val_loss: 0.1537 - val_accuracy: 0.9475\n",
            "Epoch 24/100\n",
            "394/394 [==============================] - 1s 3ms/step - loss: 0.1540 - accuracy: 0.9500 - val_loss: 0.1579 - val_accuracy: 0.9440\n",
            "Epoch 25/100\n",
            "394/394 [==============================] - 1s 3ms/step - loss: 0.1517 - accuracy: 0.9507 - val_loss: 0.1554 - val_accuracy: 0.9460\n",
            "Epoch 26/100\n",
            "394/394 [==============================] - 1s 3ms/step - loss: 0.1406 - accuracy: 0.9539 - val_loss: 0.1469 - val_accuracy: 0.9494\n",
            "Epoch 27/100\n",
            "394/394 [==============================] - 1s 3ms/step - loss: 0.1402 - accuracy: 0.9537 - val_loss: 0.1562 - val_accuracy: 0.9495\n",
            "Epoch 28/100\n",
            "394/394 [==============================] - 1s 3ms/step - loss: 0.1518 - accuracy: 0.9502 - val_loss: 0.1477 - val_accuracy: 0.9486\n",
            "Epoch 29/100\n",
            "394/394 [==============================] - 1s 3ms/step - loss: 0.1380 - accuracy: 0.9541 - val_loss: 0.1455 - val_accuracy: 0.9493\n",
            "Epoch 30/100\n",
            "394/394 [==============================] - 1s 3ms/step - loss: 0.1370 - accuracy: 0.9543 - val_loss: 0.1454 - val_accuracy: 0.9494\n",
            "Epoch 31/100\n",
            "394/394 [==============================] - 1s 3ms/step - loss: 0.1372 - accuracy: 0.9543 - val_loss: 0.1461 - val_accuracy: 0.9492\n",
            "Epoch 32/100\n",
            "394/394 [==============================] - 1s 3ms/step - loss: 0.1708 - accuracy: 0.9448 - val_loss: 0.1661 - val_accuracy: 0.9443\n",
            "Epoch 33/100\n",
            "394/394 [==============================] - 1s 3ms/step - loss: 0.1432 - accuracy: 0.9529 - val_loss: 0.1468 - val_accuracy: 0.9493\n",
            "Epoch 34/100\n",
            "394/394 [==============================] - 1s 3ms/step - loss: 0.1392 - accuracy: 0.9538 - val_loss: 0.1509 - val_accuracy: 0.9490\n",
            "Epoch 35/100\n",
            "394/394 [==============================] - 1s 3ms/step - loss: 0.1377 - accuracy: 0.9543 - val_loss: 0.1473 - val_accuracy: 0.9493\n",
            "Epoch 36/100\n",
            "394/394 [==============================] - 1s 3ms/step - loss: 0.1386 - accuracy: 0.9540 - val_loss: 0.1465 - val_accuracy: 0.9494\n",
            "Epoch 37/100\n",
            "394/394 [==============================] - 1s 3ms/step - loss: 0.1378 - accuracy: 0.9544 - val_loss: 0.1472 - val_accuracy: 0.9494\n",
            "Epoch 38/100\n",
            "394/394 [==============================] - 1s 3ms/step - loss: 0.1453 - accuracy: 0.9524 - val_loss: 0.1519 - val_accuracy: 0.9454\n",
            "Epoch 39/100\n",
            "394/394 [==============================] - 1s 3ms/step - loss: 0.1376 - accuracy: 0.9539 - val_loss: 0.1448 - val_accuracy: 0.9495\n",
            "Epoch 40/100\n",
            "394/394 [==============================] - 1s 3ms/step - loss: 0.1371 - accuracy: 0.9543 - val_loss: 0.1502 - val_accuracy: 0.9486\n",
            "Epoch 41/100\n",
            "394/394 [==============================] - 1s 3ms/step - loss: 0.1375 - accuracy: 0.9540 - val_loss: 0.1464 - val_accuracy: 0.9487\n",
            "Epoch 42/100\n",
            "394/394 [==============================] - 1s 3ms/step - loss: 0.1374 - accuracy: 0.9544 - val_loss: 0.1451 - val_accuracy: 0.9495\n",
            "Epoch 43/100\n",
            "394/394 [==============================] - 1s 3ms/step - loss: 0.1518 - accuracy: 0.9505 - val_loss: 0.1483 - val_accuracy: 0.9491\n",
            "Epoch 44/100\n",
            "394/394 [==============================] - 1s 3ms/step - loss: 0.1367 - accuracy: 0.9542 - val_loss: 0.1449 - val_accuracy: 0.9495\n",
            "Epoch 45/100\n",
            "394/394 [==============================] - 1s 3ms/step - loss: 0.1363 - accuracy: 0.9545 - val_loss: 0.1446 - val_accuracy: 0.9496\n",
            "Epoch 46/100\n",
            "394/394 [==============================] - 1s 3ms/step - loss: 0.1359 - accuracy: 0.9546 - val_loss: 0.1445 - val_accuracy: 0.9496\n",
            "Epoch 47/100\n",
            "394/394 [==============================] - 1s 3ms/step - loss: 0.1369 - accuracy: 0.9543 - val_loss: 0.1638 - val_accuracy: 0.9470\n",
            "Epoch 48/100\n",
            "394/394 [==============================] - 1s 3ms/step - loss: 0.1449 - accuracy: 0.9530 - val_loss: 0.1477 - val_accuracy: 0.9483\n",
            "Epoch 49/100\n",
            "394/394 [==============================] - 1s 3ms/step - loss: 0.1402 - accuracy: 0.9532 - val_loss: 0.1488 - val_accuracy: 0.9494\n",
            "Epoch 50/100\n",
            "394/394 [==============================] - 1s 3ms/step - loss: 0.1367 - accuracy: 0.9544 - val_loss: 0.1468 - val_accuracy: 0.9494\n",
            "Epoch 51/100\n",
            "394/394 [==============================] - 1s 3ms/step - loss: 0.1440 - accuracy: 0.9529 - val_loss: 0.1642 - val_accuracy: 0.9435\n",
            "Epoch 52/100\n",
            "394/394 [==============================] - 1s 3ms/step - loss: 0.1402 - accuracy: 0.9530 - val_loss: 0.1477 - val_accuracy: 0.9486\n",
            "Epoch 53/100\n",
            "394/394 [==============================] - 1s 3ms/step - loss: 0.1360 - accuracy: 0.9545 - val_loss: 0.1438 - val_accuracy: 0.9495\n",
            "Epoch 54/100\n",
            "394/394 [==============================] - 1s 3ms/step - loss: 0.1352 - accuracy: 0.9546 - val_loss: 0.1442 - val_accuracy: 0.9495\n",
            "Epoch 55/100\n",
            "394/394 [==============================] - 1s 3ms/step - loss: 0.1355 - accuracy: 0.9546 - val_loss: 0.1446 - val_accuracy: 0.9494\n",
            "Epoch 56/100\n",
            "394/394 [==============================] - 1s 3ms/step - loss: 0.1352 - accuracy: 0.9545 - val_loss: 0.1438 - val_accuracy: 0.9494\n",
            "Epoch 57/100\n",
            "394/394 [==============================] - 1s 3ms/step - loss: 0.1432 - accuracy: 0.9524 - val_loss: 0.1551 - val_accuracy: 0.9475\n",
            "Epoch 58/100\n",
            "394/394 [==============================] - 1s 3ms/step - loss: 0.1413 - accuracy: 0.9529 - val_loss: 0.1454 - val_accuracy: 0.9494\n",
            "Epoch 59/100\n",
            "394/394 [==============================] - 1s 3ms/step - loss: 0.1373 - accuracy: 0.9541 - val_loss: 0.1448 - val_accuracy: 0.9494\n",
            "Epoch 60/100\n",
            "394/394 [==============================] - 1s 3ms/step - loss: 0.1355 - accuracy: 0.9545 - val_loss: 0.1434 - val_accuracy: 0.9494\n",
            "Epoch 61/100\n",
            "394/394 [==============================] - 1s 3ms/step - loss: 0.1349 - accuracy: 0.9547 - val_loss: 0.1437 - val_accuracy: 0.9495\n",
            "Epoch 62/100\n",
            "394/394 [==============================] - 1s 3ms/step - loss: 0.1419 - accuracy: 0.9526 - val_loss: 0.1469 - val_accuracy: 0.9486\n",
            "Epoch 63/100\n",
            "394/394 [==============================] - 1s 3ms/step - loss: 0.1417 - accuracy: 0.9529 - val_loss: 0.1628 - val_accuracy: 0.9409\n",
            "Epoch 64/100\n",
            "394/394 [==============================] - 1s 3ms/step - loss: 0.1367 - accuracy: 0.9542 - val_loss: 0.1434 - val_accuracy: 0.9495\n",
            "Epoch 65/100\n",
            "394/394 [==============================] - 1s 3ms/step - loss: 0.1359 - accuracy: 0.9544 - val_loss: 0.1441 - val_accuracy: 0.9494\n",
            "Epoch 66/100\n",
            "394/394 [==============================] - 1s 3ms/step - loss: 0.1346 - accuracy: 0.9545 - val_loss: 0.1448 - val_accuracy: 0.9494\n",
            "Epoch 67/100\n",
            "394/394 [==============================] - 1s 3ms/step - loss: 0.1352 - accuracy: 0.9546 - val_loss: 0.1463 - val_accuracy: 0.9495\n",
            "Epoch 68/100\n",
            "394/394 [==============================] - 1s 3ms/step - loss: 0.1384 - accuracy: 0.9537 - val_loss: 0.1436 - val_accuracy: 0.9496\n",
            "Epoch 69/100\n",
            "394/394 [==============================] - 1s 3ms/step - loss: 0.1346 - accuracy: 0.9545 - val_loss: 0.1436 - val_accuracy: 0.9496\n",
            "Epoch 70/100\n",
            "394/394 [==============================] - 1s 3ms/step - loss: 0.1346 - accuracy: 0.9546 - val_loss: 0.1439 - val_accuracy: 0.9495\n",
            "Epoch 71/100\n",
            "394/394 [==============================] - 1s 3ms/step - loss: 0.1343 - accuracy: 0.9546 - val_loss: 0.1457 - val_accuracy: 0.9495\n",
            "Epoch 72/100\n",
            "394/394 [==============================] - 1s 3ms/step - loss: 0.1353 - accuracy: 0.9543 - val_loss: 0.1434 - val_accuracy: 0.9495\n",
            "Epoch 73/100\n",
            "394/394 [==============================] - 1s 3ms/step - loss: 0.1421 - accuracy: 0.9530 - val_loss: 0.1638 - val_accuracy: 0.9438\n",
            "Epoch 74/100\n",
            "394/394 [==============================] - 1s 3ms/step - loss: 0.1453 - accuracy: 0.9509 - val_loss: 0.1485 - val_accuracy: 0.9475\n",
            "Epoch 75/100\n",
            "394/394 [==============================] - 1s 3ms/step - loss: 0.1353 - accuracy: 0.9543 - val_loss: 0.1436 - val_accuracy: 0.9496\n",
            "Epoch 76/100\n",
            "394/394 [==============================] - 1s 3ms/step - loss: 0.1349 - accuracy: 0.9546 - val_loss: 0.1440 - val_accuracy: 0.9493\n",
            "Epoch 77/100\n",
            "394/394 [==============================] - 1s 3ms/step - loss: 0.1345 - accuracy: 0.9545 - val_loss: 0.1459 - val_accuracy: 0.9494\n",
            "Epoch 78/100\n",
            "394/394 [==============================] - 1s 3ms/step - loss: 0.1346 - accuracy: 0.9546 - val_loss: 0.1441 - val_accuracy: 0.9496\n",
            "Epoch 79/100\n",
            "394/394 [==============================] - 1s 3ms/step - loss: 0.1347 - accuracy: 0.9545 - val_loss: 0.1429 - val_accuracy: 0.9495\n",
            "Epoch 80/100\n",
            "394/394 [==============================] - 1s 3ms/step - loss: 0.1354 - accuracy: 0.9545 - val_loss: 0.1431 - val_accuracy: 0.9494\n",
            "Epoch 81/100\n",
            "394/394 [==============================] - 1s 3ms/step - loss: 0.1366 - accuracy: 0.9544 - val_loss: 0.1610 - val_accuracy: 0.9439\n",
            "Epoch 82/100\n",
            "394/394 [==============================] - 1s 3ms/step - loss: 0.1425 - accuracy: 0.9530 - val_loss: 0.1508 - val_accuracy: 0.9487\n",
            "Epoch 83/100\n",
            "394/394 [==============================] - 1s 3ms/step - loss: 0.1362 - accuracy: 0.9540 - val_loss: 0.1459 - val_accuracy: 0.9495\n",
            "Epoch 84/100\n",
            "394/394 [==============================] - 1s 3ms/step - loss: 0.1358 - accuracy: 0.9544 - val_loss: 0.1444 - val_accuracy: 0.9494\n",
            "Epoch 85/100\n",
            "394/394 [==============================] - 1s 3ms/step - loss: 0.1353 - accuracy: 0.9546 - val_loss: 0.1453 - val_accuracy: 0.9496\n",
            "Epoch 86/100\n",
            "394/394 [==============================] - 1s 3ms/step - loss: 0.1373 - accuracy: 0.9541 - val_loss: 0.1438 - val_accuracy: 0.9496\n",
            "Epoch 87/100\n",
            "394/394 [==============================] - 1s 3ms/step - loss: 0.1350 - accuracy: 0.9545 - val_loss: 0.1454 - val_accuracy: 0.9487\n",
            "Epoch 88/100\n",
            "394/394 [==============================] - 1s 3ms/step - loss: 0.1393 - accuracy: 0.9534 - val_loss: 0.1469 - val_accuracy: 0.9486\n",
            "Epoch 89/100\n",
            "394/394 [==============================] - 1s 3ms/step - loss: 0.1365 - accuracy: 0.9539 - val_loss: 0.1458 - val_accuracy: 0.9487\n",
            "Epoch 90/100\n",
            "394/394 [==============================] - 1s 3ms/step - loss: 0.1360 - accuracy: 0.9540 - val_loss: 0.1473 - val_accuracy: 0.9487\n",
            "Epoch 91/100\n",
            "394/394 [==============================] - 1s 3ms/step - loss: 0.1357 - accuracy: 0.9541 - val_loss: 0.1463 - val_accuracy: 0.9486\n",
            "Epoch 92/100\n",
            "394/394 [==============================] - 1s 3ms/step - loss: 0.1359 - accuracy: 0.9540 - val_loss: 0.1460 - val_accuracy: 0.9486\n",
            "Epoch 93/100\n",
            "394/394 [==============================] - 1s 3ms/step - loss: 0.1363 - accuracy: 0.9540 - val_loss: 0.1467 - val_accuracy: 0.9487\n",
            "Epoch 94/100\n",
            "394/394 [==============================] - 1s 3ms/step - loss: 0.1359 - accuracy: 0.9541 - val_loss: 0.1475 - val_accuracy: 0.9486\n",
            "Epoch 95/100\n",
            "394/394 [==============================] - 1s 3ms/step - loss: 0.1364 - accuracy: 0.9540 - val_loss: 0.1466 - val_accuracy: 0.9487\n",
            "Epoch 96/100\n",
            "394/394 [==============================] - 1s 3ms/step - loss: 0.1503 - accuracy: 0.9503 - val_loss: 0.1490 - val_accuracy: 0.9480\n",
            "Epoch 97/100\n",
            "394/394 [==============================] - 1s 3ms/step - loss: 0.1380 - accuracy: 0.9535 - val_loss: 0.1470 - val_accuracy: 0.9485\n",
            "Epoch 98/100\n",
            "394/394 [==============================] - 1s 3ms/step - loss: 0.1359 - accuracy: 0.9540 - val_loss: 0.1462 - val_accuracy: 0.9487\n",
            "Epoch 99/100\n",
            "394/394 [==============================] - 1s 3ms/step - loss: 0.1361 - accuracy: 0.9541 - val_loss: 0.1464 - val_accuracy: 0.9487\n",
            "Epoch 100/100\n",
            "394/394 [==============================] - 1s 3ms/step - loss: 0.1372 - accuracy: 0.9541 - val_loss: 0.1469 - val_accuracy: 0.9487\n",
            "844/844 [==============================] - 2s 2ms/step - loss: 0.1416 - accuracy: 0.9515\n"
          ],
          "name": "stdout"
        }
      ]
    },
    {
      "cell_type": "code",
      "metadata": {
        "colab": {
          "base_uri": "https://localhost:8080/"
        },
        "id": "TNJBgtGFYheL",
        "outputId": "48ed2c82-5fdf-43d2-f0f7-50b36b6b55a5"
      },
      "source": [
        "history.history['accuracy']\n"
      ],
      "execution_count": 31,
      "outputs": [
        {
          "output_type": "execute_result",
          "data": {
            "text/plain": [
              "[0.8945833444595337,\n",
              " 0.9258134961128235,\n",
              " 0.9353770017623901,\n",
              " 0.9426785707473755,\n",
              " 0.945892870426178,\n",
              " 0.948452353477478,\n",
              " 0.9496825337409973,\n",
              " 0.9517063498497009,\n",
              " 0.9490873217582703,\n",
              " 0.9501388669013977,\n",
              " 0.9491269588470459,\n",
              " 0.9509127140045166,\n",
              " 0.9493253827095032,\n",
              " 0.9503968358039856,\n",
              " 0.9519047737121582,\n",
              " 0.9505555629730225,\n",
              " 0.9524206519126892,\n",
              " 0.951884925365448,\n",
              " 0.9530357122421265,\n",
              " 0.9507539868354797,\n",
              " 0.9512698650360107,\n",
              " 0.9511706233024597,\n",
              " 0.9535317420959473,\n",
              " 0.9500396847724915,\n",
              " 0.9506944417953491,\n",
              " 0.9538690447807312,\n",
              " 0.9536706209182739,\n",
              " 0.9501984119415283,\n",
              " 0.9541468024253845,\n",
              " 0.9543452262878418,\n",
              " 0.9543253779411316,\n",
              " 0.9448412656784058,\n",
              " 0.9529365301132202,\n",
              " 0.953769862651825,\n",
              " 0.9543055295944214,\n",
              " 0.9539880752563477,\n",
              " 0.9543849229812622,\n",
              " 0.9524206519126892,\n",
              " 0.9539087414741516,\n",
              " 0.954285740852356,\n",
              " 0.9540476202964783,\n",
              " 0.9543849229812622,\n",
              " 0.9504761695861816,\n",
              " 0.9542460441589355,\n",
              " 0.9544642567634583,\n",
              " 0.9545634984970093,\n",
              " 0.9543452262878418,\n",
              " 0.9530158638954163,\n",
              " 0.9531944394111633,\n",
              " 0.954365074634552,\n",
              " 0.9528968334197998,\n",
              " 0.9530158638954163,\n",
              " 0.9545436501502991,\n",
              " 0.9546031951904297,\n",
              " 0.9545634984970093,\n",
              " 0.9545238018035889,\n",
              " 0.952400803565979,\n",
              " 0.95291668176651,\n",
              " 0.9541071653366089,\n",
              " 0.9544841051101685,\n",
              " 0.9546626806259155,\n",
              " 0.9525595307350159,\n",
              " 0.9529365301132202,\n",
              " 0.9542460441589355,\n",
              " 0.9544246196746826,\n",
              " 0.9545436501502991,\n",
              " 0.9545634984970093,\n",
              " 0.9537301659584045,\n",
              " 0.9545238018035889,\n",
              " 0.9546031951904297,\n",
              " 0.9546230435371399,\n",
              " 0.954285740852356,\n",
              " 0.9530357122421265,\n",
              " 0.9509127140045166,\n",
              " 0.9542658925056458,\n",
              " 0.9546031951904297,\n",
              " 0.9545436501502991,\n",
              " 0.9546230435371399,\n",
              " 0.9545436501502991,\n",
              " 0.9545238018035889,\n",
              " 0.9544047713279724,\n",
              " 0.9530158638954163,\n",
              " 0.9539880752563477,\n",
              " 0.954365074634552,\n",
              " 0.9545833468437195,\n",
              " 0.9541468024253845,\n",
              " 0.9545436501502991,\n",
              " 0.9533730149269104,\n",
              " 0.9538690447807312,\n",
              " 0.9539880752563477,\n",
              " 0.9540873169898987,\n",
              " 0.9540079236030579,\n",
              " 0.9540079236030579,\n",
              " 0.9540674686431885,\n",
              " 0.9540277719497681,\n",
              " 0.9503174424171448,\n",
              " 0.9534721970558167,\n",
              " 0.9540079236030579,\n",
              " 0.9540873169898987,\n",
              " 0.9540674686431885]"
            ]
          },
          "metadata": {
            "tags": []
          },
          "execution_count": 31
        }
      ]
    },
    {
      "cell_type": "code",
      "metadata": {
        "id": "NGCxvOxLaiYk",
        "colab": {
          "base_uri": "https://localhost:8080/"
        },
        "outputId": "c4348f71-d986-477b-e485-ab5758d810da"
      },
      "source": [
        "history.history['val_accuracy']"
      ],
      "execution_count": 32,
      "outputs": [
        {
          "output_type": "execute_result",
          "data": {
            "text/plain": [
              "[0.9041270017623901,\n",
              " 0.8703968524932861,\n",
              " 0.9399206638336182,\n",
              " 0.9373809695243835,\n",
              " 0.9450793862342834,\n",
              " 0.9102380871772766,\n",
              " 0.9452381134033203,\n",
              " 0.9456349015235901,\n",
              " 0.9470635056495667,\n",
              " 0.9411110877990723,\n",
              " 0.940079391002655,\n",
              " 0.942380964756012,\n",
              " 0.9477777481079102,\n",
              " 0.9417460560798645,\n",
              " 0.9480952620506287,\n",
              " 0.9471428394317627,\n",
              " 0.9479365348815918,\n",
              " 0.9476190209388733,\n",
              " 0.946587324142456,\n",
              " 0.9487301707267761,\n",
              " 0.9374603033065796,\n",
              " 0.9491269588470459,\n",
              " 0.9474602937698364,\n",
              " 0.9439682364463806,\n",
              " 0.9459523558616638,\n",
              " 0.9494444727897644,\n",
              " 0.9495238065719604,\n",
              " 0.9485714435577393,\n",
              " 0.9492856860160828,\n",
              " 0.9493650794029236,\n",
              " 0.9492063522338867,\n",
              " 0.9442856907844543,\n",
              " 0.9492856860160828,\n",
              " 0.948968231678009,\n",
              " 0.9492856860160828,\n",
              " 0.9494444727897644,\n",
              " 0.9493650794029236,\n",
              " 0.9453968405723572,\n",
              " 0.9495238065719604,\n",
              " 0.9485714435577393,\n",
              " 0.9486507773399353,\n",
              " 0.9495238065719604,\n",
              " 0.9491269588470459,\n",
              " 0.9495238065719604,\n",
              " 0.9496031999588013,\n",
              " 0.9496031999588013,\n",
              " 0.9469841122627258,\n",
              " 0.9483333230018616,\n",
              " 0.9494444727897644,\n",
              " 0.9494444727897644,\n",
              " 0.94349205493927,\n",
              " 0.9485714435577393,\n",
              " 0.9495238065719604,\n",
              " 0.9495238065719604,\n",
              " 0.9493650794029236,\n",
              " 0.9494444727897644,\n",
              " 0.9474602937698364,\n",
              " 0.9494444727897644,\n",
              " 0.9493650794029236,\n",
              " 0.9494444727897644,\n",
              " 0.9495238065719604,\n",
              " 0.9485714435577393,\n",
              " 0.9408730268478394,\n",
              " 0.9495238065719604,\n",
              " 0.9493650794029236,\n",
              " 0.9494444727897644,\n",
              " 0.9495238065719604,\n",
              " 0.9496031999588013,\n",
              " 0.9496031999588013,\n",
              " 0.9495238065719604,\n",
              " 0.9495238065719604,\n",
              " 0.9495238065719604,\n",
              " 0.9438095092773438,\n",
              " 0.9474602937698364,\n",
              " 0.9496031999588013,\n",
              " 0.9492856860160828,\n",
              " 0.9494444727897644,\n",
              " 0.9496031999588013,\n",
              " 0.9495238065719604,\n",
              " 0.9494444727897644,\n",
              " 0.9438889026641846,\n",
              " 0.9486507773399353,\n",
              " 0.9495238065719604,\n",
              " 0.9494444727897644,\n",
              " 0.9496031999588013,\n",
              " 0.9496031999588013,\n",
              " 0.9486507773399353,\n",
              " 0.9485714435577393,\n",
              " 0.9486507773399353,\n",
              " 0.9486507773399353,\n",
              " 0.9485714435577393,\n",
              " 0.9485714435577393,\n",
              " 0.9486507773399353,\n",
              " 0.9485714435577393,\n",
              " 0.9486507773399353,\n",
              " 0.9480158686637878,\n",
              " 0.9484920501708984,\n",
              " 0.9487301707267761,\n",
              " 0.9486507773399353,\n",
              " 0.9486507773399353]"
            ]
          },
          "metadata": {
            "tags": []
          },
          "execution_count": 32
        }
      ]
    },
    {
      "cell_type": "code",
      "metadata": {
        "colab": {
          "base_uri": "https://localhost:8080/",
          "height": 265
        },
        "id": "KpSVbJNwanA9",
        "outputId": "416670d8-c901-4430-987a-5d08a35d6ec1"
      },
      "source": [
        "plt.plot(history.history[\"loss\"], label=\"Training Loss\")\n",
        "plt.plot(history.history[\"val_loss\"], label=\"Validation Loss\")\n",
        "plt.legend()\n",
        "plt.show()"
      ],
      "execution_count": 33,
      "outputs": [
        {
          "output_type": "display_data",
          "data": {
            "image/png": "[encoded data removed]",
            "text/plain": [
              "<Figure size 432x288 with 1 Axes>"
            ]
          },
          "metadata": {
            "tags": [],
            "needs_background": "light"
          }
        }
      ]
    },
    {
      "cell_type": "code",
      "metadata": {
        "colab": {
          "base_uri": "https://localhost:8080/",
          "height": 265
        },
        "id": "d5JoyyUJbUAl",
        "outputId": "78812504-9e10-46d0-f4ce-55d1094ae72b"
      },
      "source": [
        "plt.plot(history.history[\"accuracy\"],label=\"Training Accuracy\")\n",
        "plt.plot(history.history[\"val_accuracy\"],label=\"Testing Accuracy\")\n",
        "plt.legend()\n",
        "plt.show()"
      ],
      "execution_count": 34,
      "outputs": [
        {
          "output_type": "display_data",
          "data": {
            "image/png": "[encoded data removed]",
            "text/plain": [
              "<Figure size 432x288 with 1 Axes>"
            ]
          },
          "metadata": {
            "tags": [],
            "needs_background": "light"
          }
        }
      ]
    },
    {
      "cell_type": "markdown",
      "metadata": {
        "id": "uMh_1eYBW5E8"
      },
      "source": [
        "## Consfusion Matrix "
      ]
    },
    {
      "cell_type": "code",
      "metadata": {
        "id": "60alq0Lb_Mzk"
      },
      "source": [
        "import pandas as pd\n",
        "y_actu = pd.Series([3, 3, 0, 3, 1, 2, 0, 3, 2, 1, 3, 0, 0, 3, 1, 2, 1, 1, 3, 1, 2, 1, 3, 1, 3, 1, 2, 2, 1, 3, 1, 2, 3, 0, 3, 2, 0, 2, 0, 3, 1, 1, 0, 3, 2, 0, 2, 0, 3, 1, 0, 2, 3, 0, 2, 1, 2, 1, 0, 2, 0, 2, 0, 0], name='Actual')\n",
        "y_pred_new = pd.Series([0, 3, 0, 3, 1, 0, 3, 3, 0, 0, 3, 0, 0, 3, 1, 3, 1, 1, 1, 1, 2, 1, 3, 1, 3, 1, 2, 2, 1, 3, 1, 2, 3, 0, 3, 2, 0, 2, 0, 3, 1, 1, 0, 3, 2, 0, 2, 0, 3, 1, 0, 2, 3, 0, 2, 1, 2, 1, 0, 2, 0, 2, 0, 0], name='Predicted')\n",
        "df_confusion = pd.crosstab(y_actu, y_pred_new)\n",
        "df_conf_norm = df_confusion / df_confusion.sum(axis=1)\n",
        "print(df_conf_norm)"
      ],
      "execution_count": null,
      "outputs": []
    },
    {
      "cell_type": "code",
      "metadata": {
        "id": "mVJuaL_l_TXJ"
      },
      "source": [
        "df_confusion = pd.crosstab(y_actu, y_pred, rownames=['Actual'], colnames=['Predicted'], margins=True)\n"
      ],
      "execution_count": null,
      "outputs": []
    },
    {
      "cell_type": "code",
      "metadata": {
        "id": "Vt1Wg7DBUlyf"
      },
      "source": [
        "y_pred = model.predict(X_test) #prediction\n",
        "y_pred = (y_pred > 0.5)\n"
      ],
      "execution_count": 39,
      "outputs": []
    },
    {
      "cell_type": "code",
      "metadata": {
        "id": "13nYeNxMUYMD",
        "colab": {
          "base_uri": "https://localhost:8080/",
          "height": 348
        },
        "outputId": "aebe541e-7d2e-40f1-d2e3-bf31cc560099"
      },
      "source": [
        "#Evaluation of Model - Confusion Matrix Plot\n",
        "def plot_confusion_matrix(cm, classes,\n",
        "                          normalize=True,\n",
        "                          title='Confusion matrix',\n",
        "                          cmap=plt.cm.Blues):\n",
        "    \"\"\"\n",
        "    This function prints and plots the confusion matrix.\n",
        "    Normalization can be applied by setting `normalize=True`.\n",
        "    \"\"\"\n",
        "    if normalize:\n",
        "        cm = cm.astype('float') / cm.sum(axis=1)[:, np.newaxis]\n",
        "        print(\"Normalized confusion matrix\")\n",
        "    else:\n",
        "        print('Confusion matrix, without normalization')\n",
        "\n",
        "    print(cm)\n",
        "\n",
        "    plt.imshow(cm, interpolation='nearest', cmap=cmap)\n",
        "    plt.title(title)\n",
        "    plt.colorbar()\n",
        "    tick_marks = np.arange(len(classes))\n",
        "    plt.xticks(tick_marks, classes, rotation=45)\n",
        "    plt.yticks(tick_marks, classes)\n",
        "\n",
        "    fmt = '.2f' if normalize else 'd'\n",
        "    thresh = cm.max() / 2.\n",
        "    for i, j in itertools.product(range(cm.shape[0]), range(cm.shape[1])):\n",
        "        plt.text(j, i, format(cm[i, j], fmt),\n",
        "                 horizontalalignment=\"center\",\n",
        "                 color=\"white\" if cm[i, j] > thresh else \"black\")\n",
        "\n",
        "    plt.ylabel('True label')\n",
        "    plt.xlabel('Predicted label')\n",
        "    plt.tight_layout()\n",
        "\n",
        "\n",
        "# Compute confusion matrix\n",
        "cnf_matrix = confusion_matrix(y_test, y_pred)\n",
        "np.set_printoptions(precision=2)\n",
        "\n",
        "# Plot non-normalized confusion matrix\n",
        "plt.figure()\n",
        "plot_confusion_matrix(cnf_matrix, classes=['Normal','Attack'],\n",
        "                      title='Confusion matrix with normalization')"
      ],
      "execution_count": 44,
      "outputs": [
        {
          "output_type": "stream",
          "text": [
            "Normalized confusion matrix\n",
            "[[1.00e+00 1.43e-04]\n",
            " [2.16e-01 7.84e-01]]\n"
          ],
          "name": "stdout"
        },
        {
          "output_type": "display_data",
          "data": {
            "image/png": "[encoded data removed]",
            "text/plain": [
              "<Figure size 432x288 with 2 Axes>"
            ]
          },
          "metadata": {
            "tags": [],
            "needs_background": "light"
          }
        }
      ]
    },
    {
      "cell_type": "code",
      "metadata": {
        "id": "q5aW74jC9-cW"
      },
      "source": [
        "#Evaluation of Model - Confusion Matrix Plot\n",
        "def plot_confusion_matrix(cm, classes,\n",
        "                          normalize=True,\n",
        "                          title='Confusion matrix',\n",
        "                          cmap=plt.cm.Blues):\n",
        "    \"\"\"\n",
        "    This function prints and plots the confusion matrix.\n",
        "    Normalization can be applied by setting `normalize=True`.\n",
        "    \"\"\"\n",
        "    if normalize:\n",
        "        cm = cm.astype('float') / cm.sum(axis=1)[:, np.newaxis]\n",
        "        print(\"Normalized confusion matrix\")\n",
        "    else:\n",
        "        print('Confusion matrix, without normalization')\n",
        "\n",
        "    print(cm)\n",
        "\n",
        "    plt.imshow(cm, interpolation='nearest', cmap=cmap)\n",
        "    plt.title(title)\n",
        "    plt.colorbar()\n",
        "    tick_marks = np.arange(len(classes))\n",
        "    plt.xticks(tick_marks, classes, rotation=45)\n",
        "    plt.yticks(tick_marks, classes)\n",
        "\n",
        "    fmt = '.2f' if normalize else 'd'\n",
        "    thresh = cm.max() / 2.\n",
        "    for i, j in itertools.product(range(cm.shape[0]), range(cm.shape[1])):\n",
        "        plt.text(j, i, format(cm[i, j], fmt),\n",
        "                 horizontalalignment=\"center\",\n",
        "                 color=\"white\" if cm[i, j] > thresh else \"black\")\n",
        "\n",
        "    plt.ylabel('True label')\n",
        "    plt.xlabel('Predicted label')\n",
        "    plt.tight_layout()\n",
        "\n",
        "\n",
        "# Compute confusion matrix\n",
        "cnf_matrix = confusion_matrix(y_actu, y_pred_new)\n",
        "np.set_printoptions(precision=2)\n",
        "\n",
        "# Plot non-normalized confusion matrix\n",
        "plt.figure()\n",
        "plot_confusion_matrix(cnf_matrix, classes=['Normal','DoS', 'Fuzzing','Impersonation'],\n",
        "                      title='Confusion matrix with normalization')"
      ],
      "execution_count": null,
      "outputs": []
    }
  ]
}