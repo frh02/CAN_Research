{
  "nbformat": 4,
  "nbformat_minor": 0,
  "metadata": {
    "colab": {
      "name": "Fuzzy_Attack_LSTM_CAN_Binary_Classifier.ipynb",
      "provenance": [],
      "collapsed_sections": [],
      "authorship_tag": "ABX9TyNYkeQBYYMxZlJZh+70EMKS",
      "include_colab_link": true
    },
    "kernelspec": {
      "name": "python3",
      "display_name": "Python 3"
    },
    "language_info": {
      "name": "python"
    },
    "accelerator": "GPU"
  },
  "cells": [
    {
      "cell_type": "markdown",
      "metadata": {
        "id": "view-in-github",
        "colab_type": "text"
      },
      "source": [
        "<a href=\"https://colab.research.google.com/github/frh02/CAN_Research/blob/main/Fuzzy_Attack_LSTM_CAN_Binary_Classifier.ipynb\" target=\"_parent\"><img src=\"https://colab.research.google.com/assets/colab-badge.svg\" alt=\"Open In Colab\"/></a>"
      ]
    },
    {
      "cell_type": "markdown",
      "metadata": {
        "id": "J5LlNobKHy-O"
      },
      "source": [
        "# LSTM Model for Binary Classification"
      ]
    },
    {
      "cell_type": "markdown",
      "metadata": {
        "id": "vXjZBzQHICbs"
      },
      "source": [
        "## import libraries "
      ]
    },
    {
      "cell_type": "code",
      "metadata": {
        "id": "XoIiM1h-YNPi"
      },
      "source": [
        "import pandas as pd\n",
        "import tensorflow as tf\n",
        "import keras\n",
        "from sklearn.model_selection import train_test_split\n",
        "import keras.utils\n",
        "from keras import utils as np_utils\n",
        "import numpy as np\n",
        "import pandas as pd\n",
        "from tensorflow import keras\n",
        "from tensorflow.keras import layers\n",
        "from datetime import datetime\n",
        "from matplotlib import pyplot as plt\n",
        "from matplotlib import dates as md\n",
        "import pandas as pd\n",
        "import csv\n",
        "%matplotlib inline  \n",
        "from ast import literal_eval \n",
        "import array as array"
      ],
      "execution_count": 1,
      "outputs": []
    },
    {
      "cell_type": "markdown",
      "metadata": {
        "id": "Xmr90uqoIGTs"
      },
      "source": [
        "## load the data"
      ]
    },
    {
      "cell_type": "code",
      "metadata": {
        "colab": {
          "base_uri": "https://localhost:8080/"
        },
        "id": "oj6T6derZ79Z",
        "outputId": "e7e89d15-27ed-4773-c0e6-b2a9c22b7895"
      },
      "source": [
        "df1 = pd.read_fwf('/content/Attack_free_dataset_small.txt')\n",
        "df1[\"Target\"] = 0\n",
        "df1.rename(columns={'Id': 'ID'})\n",
        "print(df1)\n",
        "df1.to_csv('Attack_free.csv')"
      ],
      "execution_count": 2,
      "outputs": [
        {
          "output_type": "stream",
          "text": [
            "             Time   seconds   ID Value  App  ...   D5   D6   D7   D8 Target\n",
            "0      Timestamp:  0.000000  ID:  0316    0  ...   20   1a   00   7f      0\n",
            "1      Timestamp:  0.000224  ID:  0329    0  ...   11   2f   00   10      0\n",
            "2      Timestamp:  0.000462  ID:  0080    0  ...   20   1a   20   43      0\n",
            "3      Timestamp:  0.000704  ID:  0081    0  ...   00   00   00   53      0\n",
            "4      Timestamp:  0.000878  ID:  0120    0  ...  NaN  NaN  NaN  NaN      0\n",
            "...           ...       ...  ...   ...  ...  ...  ...  ...  ...  ...    ...\n",
            "39996  Timestamp:  7.513203  ID:  0545    0  ...   37   00   37   00      0\n",
            "39997  Timestamp:  7.515349  ID:  05a2  100  ...  NaN  NaN  NaN  NaN      0\n",
            "39998  Timestamp:  7.515502  ID:  05a2    0  ...  NaN  NaN  NaN  NaN      0\n",
            "39999  Timestamp:  7.515800  ID:  02b0    0  ...   77  NaN  NaN  NaN      0\n",
            "40000  Timestamp:  7.516036  ID:  0165    0  ...   00   00   07   80      0\n",
            "\n",
            "[40001 rows x 16 columns]\n"
          ],
          "name": "stdout"
        }
      ]
    },
    {
      "cell_type": "code",
      "metadata": {
        "colab": {
          "base_uri": "https://localhost:8080/"
        },
        "id": "2YQdBHZsZ9r-",
        "outputId": "cb71ea26-2e19-4492-a8c6-8ca467848b8e"
      },
      "source": [
        "df2 = pd.read_fwf('/content/Fuzzy_attack_small.txt')\n",
        "df2[\"Target\"] = 1\n",
        "df2.rename(columns={'Id': 'ID'})\n",
        "print(df2)\n",
        "df2.to_csv('Fuzzy_Attack.csv')"
      ],
      "execution_count": 5,
      "outputs": [
        {
          "output_type": "stream",
          "text": [
            "             Time   seconds   ID Value  App  ...  D5   D6   D7   D8 Target\n",
            "0      Timestamp:  0.000000  ID:  0220    0  ...  6a   67   02   5d      1\n",
            "1      Timestamp:  0.000868  ID:  04b1    0  ...  4c   99   aa   97      1\n",
            "2      Timestamp:  0.001212  ID:  02b0    0  ...  2c  NaN  NaN  NaN      1\n",
            "3      Timestamp:  0.001452  ID:  0165    0  ...  00   00   0c   86      1\n",
            "4      Timestamp:  0.001782  ID:  0220    0  ...  23   aa   d3   1f      1\n",
            "...           ...       ...  ...   ...  ...  ...  ..  ...  ...  ...    ...\n",
            "39995  Timestamp:  5.342509  ID:  04f0    0  ...  00   93   cd   04      1\n",
            "39996  Timestamp:  5.342753  ID:  05a0    0  ...  bd   6b   75   91      1\n",
            "39997  Timestamp:  5.343158  ID:  04b0    0  ...  8e   2e   d0   3a      1\n",
            "39998  Timestamp:  5.343549  ID:  0316    0  ...  18   18   00   7f      1\n",
            "39999  Timestamp:  5.343761  ID:  01f1    0  ...  55   d8   7e   65      1\n",
            "\n",
            "[40000 rows x 16 columns]\n"
          ],
          "name": "stdout"
        }
      ]
    },
    {
      "cell_type": "code",
      "metadata": {
        "colab": {
          "base_uri": "https://localhost:8080/"
        },
        "id": "c6rYE36KcmwL",
        "outputId": "2fff71f3-9ce4-434c-fe53-3ce4d58123ae"
      },
      "source": [
        "df1_n = pd.read_csv('/content/Fuzzy_Attack.csv')\n",
        "df2_n = pd.read_csv('/content/Attack_free.csv')\n",
        "frames= [df1_n,df2_n]\n",
        "df = pd.concat(frames)\n",
        "df = df.fillna(0)\n",
        "df.to_csv('input_train.csv')\n",
        "print(df)"
      ],
      "execution_count": 6,
      "outputs": [
        {
          "output_type": "stream",
          "text": [
            "       Unnamed: 0        Time   seconds   ID Value  ...  D5  D6  D7  D8 Target\n",
            "0               0  Timestamp:  0.000000  ID:  0220  ...  6a  67  02  5d      1\n",
            "1               1  Timestamp:  0.000868  ID:  04b1  ...  4c  99  aa  97      1\n",
            "2               2  Timestamp:  0.001212  ID:  02b0  ...  2c   0   0   0      1\n",
            "3               3  Timestamp:  0.001452  ID:  0165  ...  00  00  0c  86      1\n",
            "4               4  Timestamp:  0.001782  ID:  0220  ...  23  aa  d3  1f      1\n",
            "...           ...         ...       ...  ...   ...  ...  ..  ..  ..  ..    ...\n",
            "39996       39996  Timestamp:  7.513203  ID:  0545  ...  37  00  37  00      0\n",
            "39997       39997  Timestamp:  7.515349  ID:  05a2  ...   0   0   0   0      0\n",
            "39998       39998  Timestamp:  7.515502  ID:  05a2  ...   0   0   0   0      0\n",
            "39999       39999  Timestamp:  7.515800  ID:  02b0  ...  77   0   0   0      0\n",
            "40000       40000  Timestamp:  7.516036  ID:  0165  ...  00  00  07  80      0\n",
            "\n",
            "[80001 rows x 17 columns]\n"
          ],
          "name": "stdout"
        }
      ]
    },
    {
      "cell_type": "markdown",
      "metadata": {
        "id": "bihLMaKSIKUH"
      },
      "source": [
        "## cleaning the data "
      ]
    },
    {
      "cell_type": "code",
      "metadata": {
        "colab": {
          "base_uri": "https://localhost:8080/"
        },
        "id": "CV0GY1goaQeL",
        "outputId": "ff12fb4c-b59b-4f93-cc87-f8aa153eeac4"
      },
      "source": [
        "properties = list(df.columns.values)\n",
        "properties.remove('Time')\n",
        "properties.remove('seconds')\n",
        "properties.remove('ID')\n",
        "properties.remove('DLC')\n",
        "properties.remove('App')\n",
        "properties.remove('Unnamed: 0')\n",
        "properties.remove('Target')\n",
        "df['Value']=df['Value'].apply(lambda x: int(str(x),16))\n",
        "df['D1']=df['D1'].apply(lambda x: int(str(x),16))\n",
        "df['D2']=df['D2'].apply(lambda x: int(str(x),16))\n",
        "df['D3']=df['D3'].apply(lambda x: int(str(x),16))\n",
        "df['D4']=df['D4'].apply(lambda x: int(str(x),16))\n",
        "df['D5']=df['D5'].apply(lambda x: int(str(x),16))\n",
        "df['D6']=df['D6'].apply(lambda x: int(str(x),16))\n",
        "df['D7']=df['D7'].apply(lambda x: int(str(x),16))\n",
        "df['D8']=df['D8'].apply(lambda x: int(str(x),16))\n",
        "X = df[properties]\n",
        "y = df['Target']\n",
        "print(y.shape)\n",
        "print(df)\n",
        "X = np.expand_dims(X, axis=2)\n",
        "y = np.expand_dims(y, axis=1)\n",
        "print(X.shape)\n",
        "print(y.shape)\n"
      ],
      "execution_count": 7,
      "outputs": [
        {
          "output_type": "stream",
          "text": [
            "(80001,)\n",
            "       Unnamed: 0        Time   seconds   ID  Value  ...   D5   D6   D7   D8  Target\n",
            "0               0  Timestamp:  0.000000  ID:    544  ...  106  103    2   93       1\n",
            "1               1  Timestamp:  0.000868  ID:   1201  ...   76  153  170  151       1\n",
            "2               2  Timestamp:  0.001212  ID:    688  ...   44    0    0    0       1\n",
            "3               3  Timestamp:  0.001452  ID:    357  ...    0    0   12  134       1\n",
            "4               4  Timestamp:  0.001782  ID:    544  ...   35  170  211   31       1\n",
            "...           ...         ...       ...  ...    ...  ...  ...  ...  ...  ...     ...\n",
            "39996       39996  Timestamp:  7.513203  ID:   1349  ...   55    0   55    0       0\n",
            "39997       39997  Timestamp:  7.515349  ID:   1442  ...    0    0    0    0       0\n",
            "39998       39998  Timestamp:  7.515502  ID:   1442  ...    0    0    0    0       0\n",
            "39999       39999  Timestamp:  7.515800  ID:    688  ...  119    0    0    0       0\n",
            "40000       40000  Timestamp:  7.516036  ID:    357  ...    0    0    7  128       0\n",
            "\n",
            "[80001 rows x 17 columns]\n",
            "(80001, 10, 1)\n",
            "(80001, 1)\n"
          ],
          "name": "stdout"
        }
      ]
    },
    {
      "cell_type": "markdown",
      "metadata": {
        "id": "gkVG0i0kINjb"
      },
      "source": [
        "## 2D To 3D array conversion"
      ]
    },
    {
      "cell_type": "code",
      "metadata": {
        "colab": {
          "base_uri": "https://localhost:8080/"
        },
        "id": "TgfBc0iqvpJg",
        "outputId": "f7207083-a07f-459b-9f1b-08bd5d08a4f2"
      },
      "source": [
        "TIME_STEPS = 288\n",
        "def create_sequences(values, time_steps=TIME_STEPS):\n",
        "    output = []\n",
        "    for i in range(len(values) - time_steps):\n",
        "        output.append(values[i : (i + time_steps)])\n",
        "    # Convert 2D sequences into 3D as we will be feeding this into\n",
        "    # a convolutional layer.\n",
        "    return np.expand_dims(output, axis=2)\n",
        "\n",
        "training_value = df \n",
        "x_train = create_sequences(training_value)\n",
        "print(\"Training input shape: \", x_train.shape)\n",
        "X_train, X_test, y_train, y_test = train_test_split(X, y, test_size=0.3, random_state=0)"
      ],
      "execution_count": 8,
      "outputs": [
        {
          "output_type": "stream",
          "text": [
            "Training input shape:  (79713, 288, 1, 17)\n"
          ],
          "name": "stdout"
        }
      ]
    },
    {
      "cell_type": "markdown",
      "metadata": {
        "id": "K3I3BkymISSD"
      },
      "source": [
        "## creating the LSTM model "
      ]
    },
    {
      "cell_type": "code",
      "metadata": {
        "colab": {
          "base_uri": "https://localhost:8080/"
        },
        "id": "BxUWO5pOwCL5",
        "outputId": "36e3403a-c66d-4353-c629-c5402d3c4a24"
      },
      "source": [
        "n_steps = X_train.shape[1]\n",
        "n_features = X_train.shape[2]\n",
        "\n",
        "keras.backend.clear_session()\n",
        "model = keras.Sequential(\n",
        "    [\n",
        "        layers.Input(shape=(n_steps, n_features)),\n",
        "        layers.Conv1D(filters=32, kernel_size=15, padding='same', data_format='channels_last',\n",
        "            dilation_rate=1, activation=\"linear\"),\n",
        "        layers.LSTM(\n",
        "            units=512, activation=\"tanh\", name=\"lstm_1\", return_sequences=False\n",
        "        ),\n",
        "        layers.RepeatVector(n_steps),\n",
        "        layers.LSTM(\n",
        "            units=128, activation=\"tanh\", name=\"lstm_2\", return_sequences=True\n",
        "        ),\n",
        "        \n",
        "        layers.LSTM(\n",
        "            units=64, activation=\"tanh\", name=\"lstm_3\", return_sequences=True\n",
        "        ),\n",
        "        layers.LSTM(\n",
        "            units=128, activation=\"tanh\", name=\"lstm_4\", return_sequences=True\n",
        "        ),\n",
        "        layers.Conv1D(filters=32, kernel_size=15, padding='same', data_format='channels_last',\n",
        "            dilation_rate=1, activation=\"linear\"),\n",
        "\n",
        "        layers.TimeDistributed(layers.Dense(1, activation='linear'))\n",
        "    ]\n",
        ")\n",
        "model.compile(optimizer=keras.optimizers.Adam(learning_rate=0.001), loss=\"binary_crossentropy\",metrics=['accuracy'])\n",
        "model.summary()"
      ],
      "execution_count": 9,
      "outputs": [
        {
          "output_type": "stream",
          "text": [
            "Model: \"sequential\"\n",
            "_________________________________________________________________\n",
            "Layer (type)                 Output Shape              Param #   \n",
            "=================================================================\n",
            "conv1d (Conv1D)              (None, 10, 32)            512       \n",
            "_________________________________________________________________\n",
            "lstm_1 (LSTM)                (None, 512)               1116160   \n",
            "_________________________________________________________________\n",
            "repeat_vector (RepeatVector) (None, 10, 512)           0         \n",
            "_________________________________________________________________\n",
            "lstm_2 (LSTM)                (None, 10, 128)           328192    \n",
            "_________________________________________________________________\n",
            "lstm_3 (LSTM)                (None, 10, 64)            49408     \n",
            "_________________________________________________________________\n",
            "lstm_4 (LSTM)                (None, 10, 128)           98816     \n",
            "_________________________________________________________________\n",
            "conv1d_1 (Conv1D)            (None, 10, 32)            61472     \n",
            "_________________________________________________________________\n",
            "time_distributed (TimeDistri (None, 10, 1)             33        \n",
            "=================================================================\n",
            "Total params: 1,654,593\n",
            "Trainable params: 1,654,593\n",
            "Non-trainable params: 0\n",
            "_________________________________________________________________\n"
          ],
          "name": "stdout"
        }
      ]
    },
    {
      "cell_type": "code",
      "metadata": {
        "colab": {
          "base_uri": "https://localhost:8080/"
        },
        "id": "8yf1RS6iwHGe",
        "outputId": "b21d1fa3-3e50-43c1-a308-b83806d40bf1"
      },
      "source": [
        "history = model.fit(\n",
        "    X_train,\n",
        "    y_train,\n",
        "    epochs=200,\n",
        "    batch_size=128,\n",
        "    validation_split=0.1,\n",
        "    callbacks=[\n",
        "        keras.callbacks.EarlyStopping(monitor=\"val_loss\", patience=25, mode=\"min\", restore_best_weights=True)\n",
        "    ],\n",
        ")"
      ],
      "execution_count": 11,
      "outputs": [
        {
          "output_type": "stream",
          "text": [
            "Epoch 1/200\n",
            "394/394 [==============================] - 5s 13ms/step - loss: 0.4304 - accuracy: 0.8811 - val_loss: 0.3356 - val_accuracy: 0.8872\n",
            "Epoch 2/200\n",
            "394/394 [==============================] - 5s 12ms/step - loss: 0.4461 - accuracy: 0.8551 - val_loss: 0.2562 - val_accuracy: 0.8853\n",
            "Epoch 3/200\n",
            "394/394 [==============================] - 5s 12ms/step - loss: 0.3878 - accuracy: 0.8853 - val_loss: 0.4243 - val_accuracy: 0.8824\n",
            "Epoch 4/200\n",
            "394/394 [==============================] - 5s 12ms/step - loss: 0.4731 - accuracy: 0.8864 - val_loss: 0.4479 - val_accuracy: 0.8827\n",
            "Epoch 5/200\n",
            "394/394 [==============================] - 5s 12ms/step - loss: 0.4234 - accuracy: 0.8869 - val_loss: 0.4614 - val_accuracy: 0.8860\n",
            "Epoch 6/200\n",
            "394/394 [==============================] - 5s 13ms/step - loss: 0.4940 - accuracy: 0.8863 - val_loss: 0.5671 - val_accuracy: 0.8191\n",
            "Epoch 7/200\n",
            "394/394 [==============================] - 5s 12ms/step - loss: 0.5194 - accuracy: 0.8735 - val_loss: 0.6973 - val_accuracy: 0.8645\n",
            "Epoch 8/200\n",
            "394/394 [==============================] - 5s 12ms/step - loss: 0.4849 - accuracy: 0.8540 - val_loss: 0.3491 - val_accuracy: 0.8855\n",
            "Epoch 9/200\n",
            "394/394 [==============================] - 5s 12ms/step - loss: 0.2861 - accuracy: 0.8814 - val_loss: 0.2327 - val_accuracy: 0.8630\n",
            "Epoch 10/200\n",
            "394/394 [==============================] - 5s 13ms/step - loss: 0.9826 - accuracy: 0.8583 - val_loss: 2.3994 - val_accuracy: 0.7970\n",
            "Epoch 11/200\n",
            "394/394 [==============================] - 5s 12ms/step - loss: 1.4468 - accuracy: 0.7983 - val_loss: 0.3583 - val_accuracy: 0.8101\n",
            "Epoch 12/200\n",
            "394/394 [==============================] - 5s 13ms/step - loss: 0.4135 - accuracy: 0.8684 - val_loss: 0.4456 - val_accuracy: 0.8601\n",
            "Epoch 13/200\n",
            "394/394 [==============================] - 5s 13ms/step - loss: 0.3669 - accuracy: 0.8645 - val_loss: 0.2248 - val_accuracy: 0.8847\n",
            "Epoch 14/200\n",
            "394/394 [==============================] - 5s 12ms/step - loss: 0.4097 - accuracy: 0.8750 - val_loss: 0.2227 - val_accuracy: 0.8849\n",
            "Epoch 15/200\n",
            "394/394 [==============================] - 5s 12ms/step - loss: 0.4645 - accuracy: 0.8803 - val_loss: 0.5979 - val_accuracy: 0.8706\n",
            "Epoch 16/200\n",
            "394/394 [==============================] - 5s 12ms/step - loss: 0.5980 - accuracy: 0.8785 - val_loss: 1.3693 - val_accuracy: 0.8027\n",
            "Epoch 17/200\n",
            "394/394 [==============================] - 5s 13ms/step - loss: 0.2939 - accuracy: 0.8834 - val_loss: 0.1967 - val_accuracy: 0.8946\n",
            "Epoch 18/200\n",
            "394/394 [==============================] - 5s 13ms/step - loss: 0.2373 - accuracy: 0.8918 - val_loss: 0.2188 - val_accuracy: 0.8891\n",
            "Epoch 19/200\n",
            "394/394 [==============================] - 5s 13ms/step - loss: 0.2302 - accuracy: 0.8951 - val_loss: 0.2741 - val_accuracy: 0.8850\n",
            "Epoch 20/200\n",
            "394/394 [==============================] - 5s 13ms/step - loss: 0.3068 - accuracy: 0.8909 - val_loss: 0.2279 - val_accuracy: 0.8761\n",
            "Epoch 21/200\n",
            "394/394 [==============================] - 5s 12ms/step - loss: 0.3226 - accuracy: 0.8709 - val_loss: 0.3081 - val_accuracy: 0.8440\n",
            "Epoch 22/200\n",
            "394/394 [==============================] - 5s 13ms/step - loss: 0.5063 - accuracy: 0.8597 - val_loss: 0.2558 - val_accuracy: 0.8706\n",
            "Epoch 23/200\n",
            "394/394 [==============================] - 5s 12ms/step - loss: 0.2295 - accuracy: 0.8838 - val_loss: 0.2276 - val_accuracy: 0.8651\n",
            "Epoch 24/200\n",
            "394/394 [==============================] - 5s 13ms/step - loss: 0.4770 - accuracy: 0.8535 - val_loss: 0.2491 - val_accuracy: 0.8584\n",
            "Epoch 25/200\n",
            "394/394 [==============================] - 5s 13ms/step - loss: 0.2751 - accuracy: 0.8692 - val_loss: 0.2352 - val_accuracy: 0.8772\n",
            "Epoch 26/200\n",
            "394/394 [==============================] - 5s 13ms/step - loss: 0.2690 - accuracy: 0.8716 - val_loss: 0.2379 - val_accuracy: 0.8684\n",
            "Epoch 27/200\n",
            "394/394 [==============================] - 5s 12ms/step - loss: 0.2294 - accuracy: 0.8823 - val_loss: 0.2358 - val_accuracy: 0.8797\n",
            "Epoch 28/200\n",
            "394/394 [==============================] - 5s 13ms/step - loss: 0.3370 - accuracy: 0.8496 - val_loss: 0.2357 - val_accuracy: 0.8749\n",
            "Epoch 29/200\n",
            "394/394 [==============================] - 5s 13ms/step - loss: 0.4720 - accuracy: 0.8727 - val_loss: 0.4013 - val_accuracy: 0.8874\n",
            "Epoch 30/200\n",
            "394/394 [==============================] - 5s 13ms/step - loss: 0.4987 - accuracy: 0.8770 - val_loss: 0.2546 - val_accuracy: 0.8704\n",
            "Epoch 31/200\n",
            "394/394 [==============================] - 5s 13ms/step - loss: 0.1971 - accuracy: 0.9025 - val_loss: 0.1878 - val_accuracy: 0.9000\n",
            "Epoch 32/200\n",
            "394/394 [==============================] - 5s 13ms/step - loss: 0.1983 - accuracy: 0.9028 - val_loss: 0.2291 - val_accuracy: 0.8752\n",
            "Epoch 33/200\n",
            "394/394 [==============================] - 5s 13ms/step - loss: 0.2107 - accuracy: 0.8986 - val_loss: 0.2085 - val_accuracy: 0.8977\n",
            "Epoch 34/200\n",
            "394/394 [==============================] - 5s 13ms/step - loss: 0.2509 - accuracy: 0.8793 - val_loss: 0.2053 - val_accuracy: 0.8911\n",
            "Epoch 35/200\n",
            "394/394 [==============================] - 5s 13ms/step - loss: 0.1948 - accuracy: 0.9045 - val_loss: 0.3279 - val_accuracy: 0.8882\n",
            "Epoch 36/200\n",
            "394/394 [==============================] - 5s 13ms/step - loss: 0.2400 - accuracy: 0.8944 - val_loss: 0.2560 - val_accuracy: 0.8694\n",
            "Epoch 37/200\n",
            "394/394 [==============================] - 5s 13ms/step - loss: 0.5571 - accuracy: 0.8718 - val_loss: 0.5955 - val_accuracy: 0.8672\n",
            "Epoch 38/200\n",
            "394/394 [==============================] - 5s 13ms/step - loss: 0.6886 - accuracy: 0.8614 - val_loss: 0.6828 - val_accuracy: 0.8671\n",
            "Epoch 39/200\n",
            "394/394 [==============================] - 5s 13ms/step - loss: 0.7773 - accuracy: 0.8653 - val_loss: 0.6827 - val_accuracy: 0.8673\n",
            "Epoch 40/200\n",
            "394/394 [==============================] - 5s 13ms/step - loss: 0.6225 - accuracy: 0.8614 - val_loss: 0.2415 - val_accuracy: 0.8894\n",
            "Epoch 41/200\n",
            "394/394 [==============================] - 5s 13ms/step - loss: 0.2377 - accuracy: 0.8991 - val_loss: 0.1813 - val_accuracy: 0.9013\n",
            "Epoch 42/200\n",
            "394/394 [==============================] - 5s 13ms/step - loss: 0.5061 - accuracy: 0.8841 - val_loss: 0.7467 - val_accuracy: 0.8634\n",
            "Epoch 43/200\n",
            "394/394 [==============================] - 5s 13ms/step - loss: 0.6206 - accuracy: 0.8793 - val_loss: 0.5884 - val_accuracy: 0.8747\n",
            "Epoch 44/200\n",
            "394/394 [==============================] - 5s 13ms/step - loss: 0.6312 - accuracy: 0.8778 - val_loss: 0.8781 - val_accuracy: 0.8571\n",
            "Epoch 45/200\n",
            "394/394 [==============================] - 5s 13ms/step - loss: 0.5254 - accuracy: 0.8773 - val_loss: 0.2200 - val_accuracy: 0.8895\n",
            "Epoch 46/200\n",
            "394/394 [==============================] - 5s 13ms/step - loss: 0.2819 - accuracy: 0.8860 - val_loss: 0.5863 - val_accuracy: 0.8655\n",
            "Epoch 47/200\n",
            "394/394 [==============================] - 5s 13ms/step - loss: 0.5431 - accuracy: 0.8683 - val_loss: 0.2410 - val_accuracy: 0.8902\n",
            "Epoch 48/200\n",
            "394/394 [==============================] - 5s 13ms/step - loss: 0.2230 - accuracy: 0.8966 - val_loss: 0.1990 - val_accuracy: 0.8970\n",
            "Epoch 49/200\n",
            "394/394 [==============================] - 5s 13ms/step - loss: 0.3208 - accuracy: 0.8750 - val_loss: 0.3034 - val_accuracy: 0.8847\n",
            "Epoch 50/200\n",
            "394/394 [==============================] - 5s 13ms/step - loss: 0.3360 - accuracy: 0.8969 - val_loss: 0.4412 - val_accuracy: 0.8845\n",
            "Epoch 51/200\n",
            "394/394 [==============================] - 5s 12ms/step - loss: 0.2981 - accuracy: 0.8960 - val_loss: 0.3015 - val_accuracy: 0.8918\n",
            "Epoch 52/200\n",
            "394/394 [==============================] - 5s 13ms/step - loss: 0.3648 - accuracy: 0.8850 - val_loss: 0.4059 - val_accuracy: 0.8808\n",
            "Epoch 53/200\n",
            "394/394 [==============================] - 5s 12ms/step - loss: 0.5982 - accuracy: 0.8732 - val_loss: 0.8487 - val_accuracy: 0.8451\n",
            "Epoch 54/200\n",
            "394/394 [==============================] - 5s 13ms/step - loss: 0.5643 - accuracy: 0.8767 - val_loss: 0.1809 - val_accuracy: 0.9004\n",
            "Epoch 55/200\n",
            "394/394 [==============================] - 5s 12ms/step - loss: 0.2571 - accuracy: 0.8869 - val_loss: 0.2529 - val_accuracy: 0.8896\n",
            "Epoch 56/200\n",
            "394/394 [==============================] - 5s 12ms/step - loss: 0.2208 - accuracy: 0.8986 - val_loss: 0.1838 - val_accuracy: 0.9016\n",
            "Epoch 57/200\n",
            "394/394 [==============================] - 5s 12ms/step - loss: 0.3826 - accuracy: 0.8647 - val_loss: 0.2641 - val_accuracy: 0.8723\n",
            "Epoch 58/200\n",
            "394/394 [==============================] - 5s 13ms/step - loss: 0.2349 - accuracy: 0.8875 - val_loss: 0.1977 - val_accuracy: 0.8901\n",
            "Epoch 59/200\n",
            "394/394 [==============================] - 5s 13ms/step - loss: 0.2059 - accuracy: 0.9012 - val_loss: 0.1848 - val_accuracy: 0.8949\n",
            "Epoch 60/200\n",
            "394/394 [==============================] - 5s 12ms/step - loss: 0.1952 - accuracy: 0.9027 - val_loss: 0.1928 - val_accuracy: 0.8808\n",
            "Epoch 61/200\n",
            "394/394 [==============================] - 5s 13ms/step - loss: 0.3654 - accuracy: 0.8935 - val_loss: 0.4399 - val_accuracy: 0.8793\n",
            "Epoch 62/200\n",
            "394/394 [==============================] - 5s 12ms/step - loss: 0.2030 - accuracy: 0.9031 - val_loss: 0.1909 - val_accuracy: 0.8929\n",
            "Epoch 63/200\n",
            "394/394 [==============================] - 5s 13ms/step - loss: 0.1759 - accuracy: 0.9043 - val_loss: 0.1816 - val_accuracy: 0.8950\n",
            "Epoch 64/200\n",
            "394/394 [==============================] - 5s 13ms/step - loss: 0.1748 - accuracy: 0.9052 - val_loss: 0.2381 - val_accuracy: 0.8756\n",
            "Epoch 65/200\n",
            "394/394 [==============================] - 5s 13ms/step - loss: 0.2572 - accuracy: 0.8989 - val_loss: 0.4016 - val_accuracy: 0.8836\n",
            "Epoch 66/200\n",
            "394/394 [==============================] - 5s 12ms/step - loss: 0.3516 - accuracy: 0.8857 - val_loss: 0.2079 - val_accuracy: 0.8914\n",
            "Epoch 67/200\n",
            "394/394 [==============================] - 5s 12ms/step - loss: 0.2065 - accuracy: 0.9021 - val_loss: 0.2007 - val_accuracy: 0.8953\n",
            "Epoch 68/200\n",
            "394/394 [==============================] - 5s 12ms/step - loss: 0.1862 - accuracy: 0.9032 - val_loss: 0.2411 - val_accuracy: 0.8825\n",
            "Epoch 69/200\n",
            "394/394 [==============================] - 5s 13ms/step - loss: 0.1964 - accuracy: 0.9055 - val_loss: 0.2050 - val_accuracy: 0.8843\n",
            "Epoch 70/200\n",
            "394/394 [==============================] - 5s 13ms/step - loss: 0.2695 - accuracy: 0.8970 - val_loss: 0.2685 - val_accuracy: 0.8959\n",
            "Epoch 71/200\n",
            "394/394 [==============================] - 5s 13ms/step - loss: 0.2206 - accuracy: 0.9032 - val_loss: 0.1914 - val_accuracy: 0.8897\n",
            "Epoch 72/200\n",
            "394/394 [==============================] - 5s 12ms/step - loss: 0.2455 - accuracy: 0.9053 - val_loss: 0.2180 - val_accuracy: 0.8949\n",
            "Epoch 73/200\n",
            "394/394 [==============================] - 5s 13ms/step - loss: 0.2666 - accuracy: 0.9002 - val_loss: 0.5170 - val_accuracy: 0.8781\n",
            "Epoch 74/200\n",
            "394/394 [==============================] - 5s 13ms/step - loss: 0.3604 - accuracy: 0.8898 - val_loss: 0.4275 - val_accuracy: 0.8767\n",
            "Epoch 75/200\n",
            "394/394 [==============================] - 5s 12ms/step - loss: 0.4230 - accuracy: 0.8902 - val_loss: 0.3869 - val_accuracy: 0.8836\n",
            "Epoch 76/200\n",
            "394/394 [==============================] - 5s 13ms/step - loss: 0.4128 - accuracy: 0.8858 - val_loss: 0.3178 - val_accuracy: 0.8713\n",
            "Epoch 77/200\n",
            "394/394 [==============================] - 5s 13ms/step - loss: 0.4565 - accuracy: 0.8811 - val_loss: 0.4019 - val_accuracy: 0.8929\n",
            "Epoch 78/200\n",
            "394/394 [==============================] - 5s 13ms/step - loss: 0.3408 - accuracy: 0.8872 - val_loss: 0.7277 - val_accuracy: 0.8541\n",
            "Epoch 79/200\n",
            "394/394 [==============================] - 5s 13ms/step - loss: 0.6640 - accuracy: 0.8551 - val_loss: 0.2859 - val_accuracy: 0.8676\n"
          ],
          "name": "stdout"
        }
      ]
    },
    {
      "cell_type": "code",
      "metadata": {
        "id": "lGueWsYJcTDx"
      },
      "source": [
        "X_train, X_test, y_train, y_test = train_test_split(X, y, test_size=0.3, random_state=0)"
      ],
      "execution_count": null,
      "outputs": []
    },
    {
      "cell_type": "code",
      "metadata": {
        "colab": {
          "base_uri": "https://localhost:8080/",
          "height": 268
        },
        "id": "tJOWHqHEvnSN",
        "outputId": "cf9b7d4a-f9ce-4567-b502-6367aea95b93"
      },
      "source": [
        "plt.plot(history.history[\"loss\"], label=\"Training Loss\")\n",
        "plt.plot(history.history[\"val_loss\"], label=\"Validation Loss\")\n",
        "plt.legend()\n",
        "plt.show()"
      ],
      "execution_count": 12,
      "outputs": [
        {
          "output_type": "display_data",
          "data": {
            "image/png": "[encoded data removed]",
            "text/plain": [
              "<Figure size 432x288 with 1 Axes>"
            ]
          },
          "metadata": {
            "tags": [],
            "needs_background": "light"
          }
        }
      ]
    },
    {
      "cell_type": "code",
      "metadata": {
        "colab": {
          "base_uri": "https://localhost:8080/",
          "height": 265
        },
        "id": "YnbUifM9Gnr9",
        "outputId": "ead20adc-94d7-460b-8e65-41ff1ca3d5a4"
      },
      "source": [
        "plt.plot(history.history[\"accuracy\"],label=\"Training Accuracy\")\n",
        "plt.plot(history.history[\"val_accuracy\"],label=\"Testing Accuracy\")\n",
        "plt.legend()\n",
        "plt.show()"
      ],
      "execution_count": 13,
      "outputs": [
        {
          "output_type": "display_data",
          "data": {
            "image/png": "[encoded data removed]",
            "text/plain": [
              "<Figure size 432x288 with 1 Axes>"
            ]
          },
          "metadata": {
            "tags": [],
            "needs_background": "light"
          }
        }
      ]
    },
    {
      "cell_type": "markdown",
      "metadata": {
        "id": "BSkRbSaEIX7v"
      },
      "source": [
        "## Using DNN model for same data "
      ]
    },
    {
      "cell_type": "code",
      "metadata": {
        "id": "tbYGZ4GF-Lea"
      },
      "source": [
        "model = keras.Sequential([\n",
        "    keras.layers.Flatten(input_shape=(10,)),\n",
        "    keras.layers.Dense(512, activation=tf.nn.relu),\n",
        "    keras.layers.Dense(256, activation=tf.nn.relu),\n",
        "\t  #keras.layers.Dense(256, activation=tf.nn.relu),\n",
        "    keras.layers.Dense(128, activation=tf.nn.relu),\n",
        "    #keras.layers.Dense(128, activation=tf.nn.relu),\n",
        "    keras.layers.Dense(64, activation=tf.nn.relu),\n",
        "    keras.layers.Dense(1, activation=tf.nn.sigmoid),\n",
        "])"
      ],
      "execution_count": 14,
      "outputs": []
    },
    {
      "cell_type": "code",
      "metadata": {
        "colab": {
          "base_uri": "https://localhost:8080/"
        },
        "id": "_uTlH7rZc8ot",
        "outputId": "28e4013b-e48e-4791-a6d1-596cc2ec9da7"
      },
      "source": [
        "model.compile(optimizer=keras.optimizers.Adam(learning_rate=0.001),\n",
        "              \n",
        "              loss='binary_crossentropy',\n",
        "              metrics=['accuracy'],\n",
        "              )\n",
        "\n",
        "history = model.fit(X_train, y_train, epochs=70, batch_size=128, validation_split=0.2)\n",
        "test_loss, test_acc = model.evaluate(X_test, y_test)"
      ],
      "execution_count": 15,
      "outputs": [
        {
          "output_type": "stream",
          "text": [
            "Epoch 1/70\n",
            "350/350 [==============================] - 2s 3ms/step - loss: 1.3400 - accuracy: 0.6919 - val_loss: 0.3799 - val_accuracy: 0.8138\n",
            "Epoch 2/70\n",
            "350/350 [==============================] - 1s 3ms/step - loss: 0.3775 - accuracy: 0.8064 - val_loss: 0.3244 - val_accuracy: 0.8432\n",
            "Epoch 3/70\n",
            "350/350 [==============================] - 1s 3ms/step - loss: 0.3246 - accuracy: 0.8301 - val_loss: 0.2931 - val_accuracy: 0.8469\n",
            "Epoch 4/70\n",
            "350/350 [==============================] - 1s 3ms/step - loss: 0.2834 - accuracy: 0.8464 - val_loss: 0.2601 - val_accuracy: 0.8621\n",
            "Epoch 5/70\n",
            "350/350 [==============================] - 1s 3ms/step - loss: 0.2724 - accuracy: 0.8553 - val_loss: 0.2427 - val_accuracy: 0.8687\n",
            "Epoch 6/70\n",
            "350/350 [==============================] - 1s 3ms/step - loss: 0.2589 - accuracy: 0.8589 - val_loss: 0.2331 - val_accuracy: 0.8721\n",
            "Epoch 7/70\n",
            "350/350 [==============================] - 1s 3ms/step - loss: 0.2439 - accuracy: 0.8664 - val_loss: 0.2525 - val_accuracy: 0.8629\n",
            "Epoch 8/70\n",
            "350/350 [==============================] - 1s 3ms/step - loss: 0.2334 - accuracy: 0.8700 - val_loss: 0.2249 - val_accuracy: 0.8792\n",
            "Epoch 9/70\n",
            "350/350 [==============================] - 1s 3ms/step - loss: 0.2256 - accuracy: 0.8768 - val_loss: 0.2790 - val_accuracy: 0.8540\n",
            "Epoch 10/70\n",
            "350/350 [==============================] - 1s 3ms/step - loss: 0.2292 - accuracy: 0.8782 - val_loss: 0.3198 - val_accuracy: 0.8479\n",
            "Epoch 11/70\n",
            "350/350 [==============================] - 1s 3ms/step - loss: 0.2322 - accuracy: 0.8717 - val_loss: 0.2054 - val_accuracy: 0.8861\n",
            "Epoch 12/70\n",
            "350/350 [==============================] - 1s 3ms/step - loss: 0.2111 - accuracy: 0.8840 - val_loss: 0.2145 - val_accuracy: 0.8836\n",
            "Epoch 13/70\n",
            "350/350 [==============================] - 1s 3ms/step - loss: 0.2120 - accuracy: 0.8820 - val_loss: 0.2063 - val_accuracy: 0.8822\n",
            "Epoch 14/70\n",
            "350/350 [==============================] - 1s 3ms/step - loss: 0.2028 - accuracy: 0.8857 - val_loss: 0.2043 - val_accuracy: 0.8815\n",
            "Epoch 15/70\n",
            "350/350 [==============================] - 1s 3ms/step - loss: 0.2034 - accuracy: 0.8869 - val_loss: 0.2000 - val_accuracy: 0.8863\n",
            "Epoch 16/70\n",
            "350/350 [==============================] - 1s 3ms/step - loss: 0.1974 - accuracy: 0.8906 - val_loss: 0.2099 - val_accuracy: 0.8854\n",
            "Epoch 17/70\n",
            "350/350 [==============================] - 1s 3ms/step - loss: 0.2008 - accuracy: 0.8880 - val_loss: 0.2321 - val_accuracy: 0.8809\n",
            "Epoch 18/70\n",
            "350/350 [==============================] - 1s 3ms/step - loss: 0.2147 - accuracy: 0.8840 - val_loss: 0.2142 - val_accuracy: 0.8856\n",
            "Epoch 19/70\n",
            "350/350 [==============================] - 1s 3ms/step - loss: 0.2115 - accuracy: 0.8850 - val_loss: 0.2276 - val_accuracy: 0.8714\n",
            "Epoch 20/70\n",
            "350/350 [==============================] - 1s 3ms/step - loss: 0.2114 - accuracy: 0.8856 - val_loss: 0.2022 - val_accuracy: 0.8879\n",
            "Epoch 21/70\n",
            "350/350 [==============================] - 1s 3ms/step - loss: 0.2011 - accuracy: 0.8871 - val_loss: 0.1969 - val_accuracy: 0.8879\n",
            "Epoch 22/70\n",
            "350/350 [==============================] - 1s 3ms/step - loss: 0.1942 - accuracy: 0.8894 - val_loss: 0.2040 - val_accuracy: 0.8840\n",
            "Epoch 23/70\n",
            "350/350 [==============================] - 1s 3ms/step - loss: 0.2120 - accuracy: 0.8821 - val_loss: 0.2031 - val_accuracy: 0.8890\n",
            "Epoch 24/70\n",
            "350/350 [==============================] - 1s 3ms/step - loss: 0.1925 - accuracy: 0.8911 - val_loss: 0.2101 - val_accuracy: 0.8880\n",
            "Epoch 25/70\n",
            "350/350 [==============================] - 1s 3ms/step - loss: 0.2034 - accuracy: 0.8884 - val_loss: 0.1998 - val_accuracy: 0.8873\n",
            "Epoch 26/70\n",
            "350/350 [==============================] - 1s 3ms/step - loss: 0.1872 - accuracy: 0.8943 - val_loss: 0.2145 - val_accuracy: 0.8874\n",
            "Epoch 27/70\n",
            "350/350 [==============================] - 1s 3ms/step - loss: 0.2080 - accuracy: 0.8875 - val_loss: 0.2029 - val_accuracy: 0.8901\n",
            "Epoch 28/70\n",
            "350/350 [==============================] - 1s 3ms/step - loss: 0.1999 - accuracy: 0.8897 - val_loss: 0.1988 - val_accuracy: 0.8892\n",
            "Epoch 29/70\n",
            "350/350 [==============================] - 1s 3ms/step - loss: 0.1895 - accuracy: 0.8954 - val_loss: 0.1894 - val_accuracy: 0.8881\n",
            "Epoch 30/70\n",
            "350/350 [==============================] - 1s 3ms/step - loss: 0.1911 - accuracy: 0.8918 - val_loss: 0.1884 - val_accuracy: 0.8901\n",
            "Epoch 31/70\n",
            "350/350 [==============================] - 1s 3ms/step - loss: 0.1886 - accuracy: 0.8922 - val_loss: 0.1949 - val_accuracy: 0.8890\n",
            "Epoch 32/70\n",
            "350/350 [==============================] - 1s 3ms/step - loss: 0.1879 - accuracy: 0.8924 - val_loss: 0.1934 - val_accuracy: 0.8886\n",
            "Epoch 33/70\n",
            "350/350 [==============================] - 1s 3ms/step - loss: 0.1970 - accuracy: 0.8912 - val_loss: 0.1939 - val_accuracy: 0.8841\n",
            "Epoch 34/70\n",
            "350/350 [==============================] - 1s 3ms/step - loss: 0.1958 - accuracy: 0.8877 - val_loss: 0.2058 - val_accuracy: 0.8854\n",
            "Epoch 35/70\n",
            "350/350 [==============================] - 1s 3ms/step - loss: 0.2137 - accuracy: 0.8834 - val_loss: 0.1989 - val_accuracy: 0.8853\n",
            "Epoch 36/70\n",
            "350/350 [==============================] - 1s 3ms/step - loss: 0.1893 - accuracy: 0.8907 - val_loss: 0.1783 - val_accuracy: 0.8921\n",
            "Epoch 37/70\n",
            "350/350 [==============================] - 1s 3ms/step - loss: 0.1826 - accuracy: 0.8940 - val_loss: 0.1864 - val_accuracy: 0.8767\n",
            "Epoch 38/70\n",
            "350/350 [==============================] - 1s 3ms/step - loss: 0.1911 - accuracy: 0.8928 - val_loss: 0.1713 - val_accuracy: 0.9057\n",
            "Epoch 39/70\n",
            "350/350 [==============================] - 1s 3ms/step - loss: 0.1724 - accuracy: 0.9053 - val_loss: 0.1584 - val_accuracy: 0.9078\n",
            "Epoch 40/70\n",
            "350/350 [==============================] - 1s 3ms/step - loss: 0.1550 - accuracy: 0.9117 - val_loss: 0.1551 - val_accuracy: 0.9088\n",
            "Epoch 41/70\n",
            "350/350 [==============================] - 1s 3ms/step - loss: 0.1586 - accuracy: 0.9120 - val_loss: 0.1757 - val_accuracy: 0.9067\n",
            "Epoch 42/70\n",
            "350/350 [==============================] - 1s 3ms/step - loss: 0.1680 - accuracy: 0.9107 - val_loss: 0.1966 - val_accuracy: 0.8885\n",
            "Epoch 43/70\n",
            "350/350 [==============================] - 1s 3ms/step - loss: 0.1926 - accuracy: 0.8923 - val_loss: 0.1930 - val_accuracy: 0.8888\n",
            "Epoch 44/70\n",
            "350/350 [==============================] - 1s 3ms/step - loss: 0.1784 - accuracy: 0.8947 - val_loss: 0.1726 - val_accuracy: 0.8902\n",
            "Epoch 45/70\n",
            "350/350 [==============================] - 1s 3ms/step - loss: 0.1688 - accuracy: 0.8964 - val_loss: 0.1622 - val_accuracy: 0.9074\n",
            "Epoch 46/70\n",
            "350/350 [==============================] - 1s 3ms/step - loss: 0.1755 - accuracy: 0.9056 - val_loss: 0.1575 - val_accuracy: 0.9081\n",
            "Epoch 47/70\n",
            "350/350 [==============================] - 1s 3ms/step - loss: 0.1549 - accuracy: 0.9140 - val_loss: 0.1576 - val_accuracy: 0.9085\n",
            "Epoch 48/70\n",
            "350/350 [==============================] - 1s 3ms/step - loss: 0.1572 - accuracy: 0.9107 - val_loss: 0.1667 - val_accuracy: 0.9015\n",
            "Epoch 49/70\n",
            "350/350 [==============================] - 1s 3ms/step - loss: 0.1542 - accuracy: 0.9131 - val_loss: 0.1581 - val_accuracy: 0.9089\n",
            "Epoch 50/70\n",
            "350/350 [==============================] - 1s 3ms/step - loss: 0.1530 - accuracy: 0.9142 - val_loss: 0.1634 - val_accuracy: 0.9068\n",
            "Epoch 51/70\n",
            "350/350 [==============================] - 1s 3ms/step - loss: 0.1585 - accuracy: 0.9099 - val_loss: 0.2110 - val_accuracy: 0.8821\n",
            "Epoch 52/70\n",
            "350/350 [==============================] - 1s 3ms/step - loss: 0.1775 - accuracy: 0.8939 - val_loss: 0.1713 - val_accuracy: 0.8915\n",
            "Epoch 53/70\n",
            "350/350 [==============================] - 1s 3ms/step - loss: 0.1698 - accuracy: 0.8998 - val_loss: 0.2135 - val_accuracy: 0.8843\n",
            "Epoch 54/70\n",
            "350/350 [==============================] - 1s 3ms/step - loss: 0.1853 - accuracy: 0.9020 - val_loss: 0.1806 - val_accuracy: 0.9067\n",
            "Epoch 55/70\n",
            "350/350 [==============================] - 1s 3ms/step - loss: 0.1711 - accuracy: 0.9124 - val_loss: 0.1735 - val_accuracy: 0.9079\n",
            "Epoch 56/70\n",
            "350/350 [==============================] - 1s 3ms/step - loss: 0.1641 - accuracy: 0.9123 - val_loss: 0.1655 - val_accuracy: 0.9076\n",
            "Epoch 57/70\n",
            "350/350 [==============================] - 1s 3ms/step - loss: 0.1632 - accuracy: 0.9123 - val_loss: 0.1676 - val_accuracy: 0.9086\n",
            "Epoch 58/70\n",
            "350/350 [==============================] - 1s 3ms/step - loss: 0.1607 - accuracy: 0.9138 - val_loss: 0.1717 - val_accuracy: 0.9071\n",
            "Epoch 59/70\n",
            "350/350 [==============================] - 1s 3ms/step - loss: 0.1599 - accuracy: 0.9141 - val_loss: 0.1651 - val_accuracy: 0.9082\n",
            "Epoch 60/70\n",
            "350/350 [==============================] - 1s 3ms/step - loss: 0.1669 - accuracy: 0.9116 - val_loss: 0.1596 - val_accuracy: 0.9087\n",
            "Epoch 61/70\n",
            "350/350 [==============================] - 1s 3ms/step - loss: 0.1597 - accuracy: 0.9090 - val_loss: 0.1543 - val_accuracy: 0.9081\n",
            "Epoch 62/70\n",
            "350/350 [==============================] - 1s 3ms/step - loss: 0.1499 - accuracy: 0.9143 - val_loss: 0.1539 - val_accuracy: 0.9094\n",
            "Epoch 63/70\n",
            "350/350 [==============================] - 1s 3ms/step - loss: 0.1511 - accuracy: 0.9130 - val_loss: 0.1545 - val_accuracy: 0.9089\n",
            "Epoch 64/70\n",
            "350/350 [==============================] - 1s 3ms/step - loss: 0.1511 - accuracy: 0.9129 - val_loss: 0.1557 - val_accuracy: 0.9082\n",
            "Epoch 65/70\n",
            "350/350 [==============================] - 1s 3ms/step - loss: 0.1516 - accuracy: 0.9131 - val_loss: 0.1547 - val_accuracy: 0.9088\n",
            "Epoch 66/70\n",
            "350/350 [==============================] - 1s 3ms/step - loss: 0.1519 - accuracy: 0.9132 - val_loss: 0.1685 - val_accuracy: 0.9044\n",
            "Epoch 67/70\n",
            "350/350 [==============================] - 1s 3ms/step - loss: 0.1521 - accuracy: 0.9124 - val_loss: 0.1639 - val_accuracy: 0.9083\n",
            "Epoch 68/70\n",
            "350/350 [==============================] - 1s 3ms/step - loss: 0.1566 - accuracy: 0.9119 - val_loss: 0.1601 - val_accuracy: 0.9061\n",
            "Epoch 69/70\n",
            "350/350 [==============================] - 1s 3ms/step - loss: 0.1697 - accuracy: 0.9080 - val_loss: 0.1567 - val_accuracy: 0.9096\n",
            "Epoch 70/70\n",
            "350/350 [==============================] - 1s 3ms/step - loss: 0.1556 - accuracy: 0.9125 - val_loss: 0.1560 - val_accuracy: 0.9084\n",
            "751/751 [==============================] - 1s 2ms/step - loss: 0.1505 - accuracy: 0.9170\n"
          ],
          "name": "stdout"
        }
      ]
    },
    {
      "cell_type": "code",
      "metadata": {
        "colab": {
          "base_uri": "https://localhost:8080/",
          "height": 265
        },
        "id": "KpSVbJNwanA9",
        "outputId": "a83cc65c-21b4-4727-d9e7-425eac324085"
      },
      "source": [
        "plt.plot(history.history[\"loss\"], label=\"Training Loss\")\n",
        "plt.plot(history.history[\"val_loss\"], label=\"Validation Loss\")\n",
        "plt.legend()\n",
        "plt.show()"
      ],
      "execution_count": 16,
      "outputs": [
        {
          "output_type": "display_data",
          "data": {
            "image/png": "[encoded data removed]",
            "text/plain": [
              "<Figure size 432x288 with 1 Axes>"
            ]
          },
          "metadata": {
            "tags": [],
            "needs_background": "light"
          }
        }
      ]
    },
    {
      "cell_type": "code",
      "metadata": {
        "colab": {
          "base_uri": "https://localhost:8080/",
          "height": 265
        },
        "id": "d5JoyyUJbUAl",
        "outputId": "30f6296e-e4dc-475b-a0c2-a05938200b24"
      },
      "source": [
        "plt.plot(history.history[\"accuracy\"],label=\"Training Accuracy\")\n",
        "plt.plot(history.history[\"val_accuracy\"],label=\"Testing Accuracy\")\n",
        "plt.legend()\n",
        "plt.show()"
      ],
      "execution_count": 17,
      "outputs": [
        {
          "output_type": "display_data",
          "data": {
            "image/png": "[encoded data removed]",
            "text/plain": [
              "<Figure size 432x288 with 1 Axes>"
            ]
          },
          "metadata": {
            "tags": [],
            "needs_background": "light"
          }
        }
      ]
    }
  ]
}